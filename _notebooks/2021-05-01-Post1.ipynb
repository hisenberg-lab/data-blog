{
 "cells": [
  {
   "cell_type": "markdown",
   "id": "a725561e",
   "metadata": {},
   "source": [
    "# Covid-19 Data Visualisation with Altair\n",
    "> An introduction to Altair package\n",
    "\n",
    "- toc: true\n",
    "- badges: true\n",
    "- comments: true\n",
    "- categories: [altair, visualization]"
   ]
  },
  {
   "cell_type": "markdown",
   "id": "40f9fa0b",
   "metadata": {},
   "source": [
    "Data visualisation is a vital step in data analysis process since it gives a quick intuition about the data. It can reveal insights which cannot be easily conveyed by numbers.\n",
    "\n",
    "I got to know about Altair package when I was searching the web on how to plot a choropleth map of India for my simple covid dashboard. The syntax was a bit different as I was only familiar with matplotlib and seaborn for visualization."
   ]
  },
  {
   "cell_type": "markdown",
   "id": "ee84a778",
   "metadata": {},
   "source": [
    "## Need for Altair"
   ]
  },
  {
   "cell_type": "markdown",
   "id": "06db78ba",
   "metadata": {},
   "source": [
    "The few well known visulaization packages in Python often have **imperative APIs**. This means the user has to focus more on the mechanics of visualization rather than the important relationships within data.\n",
    "\n",
    "| Imperative | Declarative |\n",
    "| ---------- | ----------- |\n",
    "| - Specify *How* something should be done | - Specify *What* should be done |\n",
    "| - Must *manually* specify ploting steps | - Details determined *automatically* |\n",
    "| - Specification and Execution are *intertwined* | - *Separates* Specification from Execution |\n",
    "\n",
    "[![altair logo](data:image/png;base64,iVBORw0KGgoAAAANSUhEUgAAAMgAAADICAMAAACahl6sAAAANlBMVEX///8DqfT7wC1Pw/ez5fz92Hz8yEf957D+9+T80GL+78r+89f835X8zFT81G//+/L7xDr+670VEwJXAAACrElEQVR4nO3ajUoDQRADYF29u7Zqte//sooiam9/ZhbRJCRP0A82ZCh3c+M4juM4juM4juM4juM4DnsebjP571/byaICWUUgWxGBHEUghyICeVSBrCKQUxGBLCKQt6prQDYVyJMI5P1lKUAWFcgqAnmvugLkLAL5qLoAZFOBrCKQUxGBLCKQ5xcRyGfV6SFHEcihiEAWFcgqArkUEchZBPKt6tyQTQWyikBORQSyiEC+7kVyyI+qM0OOIpBDEYEsKpBVBHIpIpDrl8UKua46LWRTgVxXnRXysHOQQnZVZ4XsXxYnZF/1EOQukz+BHEUg+xEhhTyqQCpVp4Scag5GSGVEKCHVqjNCaiNCCXkSgVTuRU5IveqEkOqIEEIaVeeD1O5FRkhjRPgg1XuREdKqOhukfi8SQlojwgZpV50M0hwRNkjjXqSD9F4WFaRTdS5Ie0S4IL2qU0HOIpBu1Zkg/ZdFBOlWnQjSuRe5IN0RIYJcfdTECxlUnQfS/NOBDDIYER7IqOo0kMGI0EB2HzWxQvr3Ig9kXHUSyHBEWCDjqnNARvciDWQ8IhyQ4b3IAolUnQIyvBdJIJERoYCEqv5bkPtMkpDIiDBAAvciByT4suAhwarjQ2IjQgAJVh0e0vqoiQ4SrTo8JPyywCHhqqNDYvciPiQ8IuiQ9kdNZJB41bEhoT8dGCDxEcGGZKoODUmMCDak91ETEyR+L4JDUlVHhmRGBBmSqzowJHEvQkNyIwIMydyL0JBk1WEhqXsRGZIcEVhIuuqokOyIwEJy9yIuZOJlYULyVQeFpEcEFDJRdUxI4KMmCshM1SEhUy8LETJTdURI/l4EhcyMCCIk9lETAWSu6oCQ7J8OqJC5EQGETFYdDzI3IniQ6EdN8BDHcRzHcRzHcRzHcRzHcf40r0X9jscbUnZZAAAAAElFTkSuQmCC)](https://altair-viz.github.io/)\n",
    "\n",
    "Altair feautres **declarative API** for exploratory visualization in Python allowing us to focus more on the data than incidental details. It is based on [Vega](https://vega.github.io/vega/) and [Vega-Lite](http://vega.github.io/vega-lite/) visulaization grammars.\n",
    "\n",
    "Visit the [installation page](https://altair-viz.github.io/getting_started/installation.html) for instructions to install the Altair package.\n",
    "\n",
    "> Important: Dont forget to import altair in you notebook after the installation."
   ]
  },
  {
   "cell_type": "code",
   "execution_count": 1,
   "id": "a148b15c",
   "metadata": {},
   "outputs": [],
   "source": [
    "import altair as alt\n",
    "# run this line if you are having trouble displaying charts \n",
    "#alt.renderers.enable('default')"
   ]
  },
  {
   "cell_type": "code",
   "execution_count": 2,
   "id": "e3c15c09",
   "metadata": {},
   "outputs": [
    {
     "data": {
      "text/plain": [
       "ThemeRegistry.enable('dark')"
      ]
     },
     "execution_count": 2,
     "metadata": {},
     "output_type": "execute_result"
    }
   ],
   "source": [
    "#hide\n",
    "import numpy as np\n",
    "import pandas as pd\n",
    "alt.themes.enable('dark')"
   ]
  },
  {
   "cell_type": "code",
   "execution_count": 3,
   "id": "bb8ba375",
   "metadata": {},
   "outputs": [],
   "source": [
    "#hide\n",
    "country_df = pd.read_csv('https://api.covid19india.org/csv/latest/case_time_series.csv')\n",
    "latest_df = pd.read_csv('https://api.covid19india.org/csv/latest/state_wise.csv')\n",
    "vaccine_df = pd.read_csv('http://api.covid19india.org/csv/latest/cowin_vaccine_data_statewise.csv')\n",
    "\n",
    "country_df.drop(['Date'], axis = 1,inplace=True)\n",
    "\n",
    "country_df.rename(columns={'Date_YMD':'Date'},inplace=True)\n",
    "\n",
    "country_df[\"Date\"]= pd.to_datetime(country_df[\"Date\"])\n",
    "# country_df.set_index('Date')\n",
    "\n",
    "latest_30_df = country_df.tail(30).drop(['Total Confirmed','Total Recovered','Total Deceased'], axis=1)\n",
    "\n",
    "latest_30_df.columns = ['Date','Confirmed','Recovered','Deceased']\n",
    "\n",
    "latest_30_df = pd.melt(latest_30_df, id_vars='Date', var_name='Cases',value_name='Count')\n"
   ]
  },
  {
   "cell_type": "markdown",
   "id": "b98333be",
   "metadata": {},
   "source": [
    "## Fundamentals"
   ]
  },
  {
   "cell_type": "markdown",
   "id": "f32cf33d",
   "metadata": {},
   "source": [
    "Data in Altair is built around Pandas Dataframe. I have already imported Pandas and cleaned my dataset for visualization. There are many example dataset in [vega datasets package](https://github.com/altair-viz/vega_datasets), you can try creating interactive charts on them."
   ]
  },
  {
   "cell_type": "markdown",
   "id": "d71a43aa",
   "metadata": {},
   "source": [
    "In addition to Altair's documentaion there are good number of Altair tutorials, I recommend you go throuh them prior to this walkthrogh.\n",
    "\n",
    "> Tip: One of the best Altair tutorial I used to get started is [Altair notebooks](https://github.com/altair-viz/altair_notebooks) check out the link and launch binder to run the notebooks and experiment on them. "
   ]
  },
  {
   "cell_type": "markdown",
   "id": "07485277",
   "metadata": {},
   "source": [
    "## Fundamentals"
   ]
  },
  {
   "cell_type": "markdown",
   "id": "31460456",
   "metadata": {},
   "source": [
    "### Chart Object"
   ]
  },
  {
   "cell_type": "markdown",
   "id": "1bd4c435",
   "metadata": {},
   "source": [
    "The fundamental object in Altair is the `Chart` object which takes a dataframe as a single argument. By itself, a chart has no meaning, it is used in conjuction with **data**, **marks**, and **encodings**, which are the core pieces in an Altair chart.\n",
    "\n",
    "`alt.Chart(data)`"
   ]
  },
  {
   "cell_type": "markdown",
   "id": "3b20b73a",
   "metadata": {},
   "source": [
    "### Marks"
   ]
  },
  {
   "cell_type": "markdown",
   "id": "02e19efb",
   "metadata": {},
   "source": [
    "`mark` attribute of the chart object is used to specify how we would like the data to be visualized. There are many available marks that can be used like point, circle, square, etc.\n",
    "\n",
    "`alt.Chart(data).mark_point()`\n"
   ]
  },
  {
   "cell_type": "markdown",
   "id": "80c71ece",
   "metadata": {},
   "source": [
    "### Encodings"
   ]
  },
  {
   "cell_type": "markdown",
   "id": "5e8ffe63",
   "metadata": {},
   "source": [
    "TO visually seperate the points, we can map various encoding channels, to columns in the dataset. There are many encoding channels such as `x`, `y`, `color`, `shape`, `size`, etc. The `encode()` method builds a key-value mapping between encoding channels to the columns in the dataset.\n",
    "\n",
    "`alt.Chart(data).mark_point().encode(x='a', y='b')`"
   ]
  },
  {
   "cell_type": "markdown",
   "id": "1232caa3",
   "metadata": {},
   "source": [
    "### Layered Charts"
   ]
  },
  {
   "cell_type": "markdown",
   "id": "f8d6b5b8",
   "metadata": {},
   "source": [
    "Layered charts allow us to overlay two or more different charts on the same set of axes. They can be used to draw mutiple marks for the same data.\n",
    "\n",
    "We can use `+` operator to create a layered chart, alternatively we could use the `alt.layer` function which accepts any number or charts. The order of layers is determined from the order in which they are specified. You can adjust the opacity of the layers to you liking if you dont want the upper layer to obscure the marks of lower layer.\n",
    "\n",
    "`layer1 + layer2` or `alt.layer(layer1, layer2)`"
   ]
  },
  {
   "cell_type": "markdown",
   "id": "1d64b383",
   "metadata": {},
   "source": [
    "> Note: If you pretty much get a basic idea on these fundamentals you're good to go and can create really cool interactive plots."
   ]
  },
  {
   "cell_type": "markdown",
   "id": "5c5547b8",
   "metadata": {},
   "source": [
    "## Covid-19 Plots"
   ]
  },
  {
   "cell_type": "markdown",
   "id": "bc175c0b",
   "metadata": {},
   "source": [
    "After learning to create an choropleth map in Altair, I actually decided to redo all my other plots for my dashboard in Altair :upside_down_face:\n",
    "Checkout the charts I ended up creating with the code from below, and if you are interested to see the complete dashboard you can launch this binder (be patient :turtle:). [![Binder](https://mybinder.org/badge_logo.svg)](https://mybinder.org/v2/gh/hisenberg-lab/covid/HEAD?urlpath=%2Fvoila%2Frender%2Fcovid_dashboard.ipynb)\n"
   ]
  },
  {
   "cell_type": "markdown",
   "id": "65bebe93",
   "metadata": {},
   "source": [
    "### Line Chart"
   ]
  },
  {
   "cell_type": "code",
   "execution_count": 4,
   "id": "7e1bec2d",
   "metadata": {},
   "outputs": [
    {
     "data": {
      "text/html": [
       "<div>\n",
       "<style scoped>\n",
       "    .dataframe tbody tr th:only-of-type {\n",
       "        vertical-align: middle;\n",
       "    }\n",
       "\n",
       "    .dataframe tbody tr th {\n",
       "        vertical-align: top;\n",
       "    }\n",
       "\n",
       "    .dataframe thead th {\n",
       "        text-align: right;\n",
       "    }\n",
       "</style>\n",
       "<table border=\"1\" class=\"dataframe\">\n",
       "  <thead>\n",
       "    <tr style=\"text-align: right;\">\n",
       "      <th></th>\n",
       "      <th>Date</th>\n",
       "      <th>Cases</th>\n",
       "      <th>Count</th>\n",
       "    </tr>\n",
       "  </thead>\n",
       "  <tbody>\n",
       "    <tr>\n",
       "      <th>0</th>\n",
       "      <td>2021-04-02</td>\n",
       "      <td>Confirmed</td>\n",
       "      <td>89023</td>\n",
       "    </tr>\n",
       "    <tr>\n",
       "      <th>1</th>\n",
       "      <td>2021-04-03</td>\n",
       "      <td>Confirmed</td>\n",
       "      <td>92994</td>\n",
       "    </tr>\n",
       "    <tr>\n",
       "      <th>2</th>\n",
       "      <td>2021-04-04</td>\n",
       "      <td>Confirmed</td>\n",
       "      <td>103794</td>\n",
       "    </tr>\n",
       "    <tr>\n",
       "      <th>3</th>\n",
       "      <td>2021-04-05</td>\n",
       "      <td>Confirmed</td>\n",
       "      <td>96563</td>\n",
       "    </tr>\n",
       "    <tr>\n",
       "      <th>4</th>\n",
       "      <td>2021-04-06</td>\n",
       "      <td>Confirmed</td>\n",
       "      <td>115312</td>\n",
       "    </tr>\n",
       "  </tbody>\n",
       "</table>\n",
       "</div>"
      ],
      "text/plain": [
       "        Date      Cases   Count\n",
       "0 2021-04-02  Confirmed   89023\n",
       "1 2021-04-03  Confirmed   92994\n",
       "2 2021-04-04  Confirmed  103794\n",
       "3 2021-04-05  Confirmed   96563\n",
       "4 2021-04-06  Confirmed  115312"
      ]
     },
     "execution_count": 4,
     "metadata": {},
     "output_type": "execute_result"
    }
   ],
   "source": [
    "latest_30_df.head()"
   ]
  },
  {
   "cell_type": "code",
   "execution_count": 5,
   "id": "a6a8d522",
   "metadata": {},
   "outputs": [],
   "source": [
    "hover = alt.selection_single(on='mouseover')\n",
    "scale = alt.Scale(domain=['Confirmed', 'Recovered', 'Deceased'],\n",
    "                  range=['red', 'green', 'purple'])\n",
    "line = alt.Chart(latest_30_df).mark_line(point=True, strokeWidth=3).encode(\n",
    "    x=alt.X('Date:T', axis=alt.Axis(offset=3)),\n",
    "    y='Count:Q',color=alt.Color('Cases:N',scale=scale),\n",
    "    opacity=alt.condition(hover, alt.value(1.0), alt.value(0.5))\n",
    ").properties(width=550,height=250,selection=hover)\n",
    "text = alt.Chart(latest_30_df.query(\"Date == Date.max()\")).mark_text(\n",
    "    dx=-25,dy=-12, fontSize=25).encode(x='Date:T',\n",
    "                                       y='Count:Q',\n",
    "                                       text='Count:Q',color=alt.Color('Cases:N',scale=scale))\n",
    "# alt.layer(line,text,data = latest_30_df).configure(background='black').configure_axis(grid=False).configure_view(strokeWidth=0)"
   ]
  },
  {
   "cell_type": "code",
   "execution_count": 6,
   "id": "d24c8df8",
   "metadata": {},
   "outputs": [
    {
     "data": {
      "text/html": [
       "<div>\n",
       "<style scoped>\n",
       "    .dataframe tbody tr th:only-of-type {\n",
       "        vertical-align: middle;\n",
       "    }\n",
       "\n",
       "    .dataframe tbody tr th {\n",
       "        vertical-align: top;\n",
       "    }\n",
       "\n",
       "    .dataframe thead th {\n",
       "        text-align: right;\n",
       "    }\n",
       "</style>\n",
       "<table border=\"1\" class=\"dataframe\">\n",
       "  <thead>\n",
       "    <tr style=\"text-align: right;\">\n",
       "      <th></th>\n",
       "      <th>Date</th>\n",
       "      <th>Daily Confirmed</th>\n",
       "      <th>Total Confirmed</th>\n",
       "      <th>Daily Recovered</th>\n",
       "      <th>Total Recovered</th>\n",
       "      <th>Daily Deceased</th>\n",
       "      <th>Total Deceased</th>\n",
       "    </tr>\n",
       "  </thead>\n",
       "  <tbody>\n",
       "    <tr>\n",
       "      <th>0</th>\n",
       "      <td>2020-01-30</td>\n",
       "      <td>1</td>\n",
       "      <td>1</td>\n",
       "      <td>0</td>\n",
       "      <td>0</td>\n",
       "      <td>0</td>\n",
       "      <td>0</td>\n",
       "    </tr>\n",
       "    <tr>\n",
       "      <th>1</th>\n",
       "      <td>2020-01-31</td>\n",
       "      <td>0</td>\n",
       "      <td>1</td>\n",
       "      <td>0</td>\n",
       "      <td>0</td>\n",
       "      <td>0</td>\n",
       "      <td>0</td>\n",
       "    </tr>\n",
       "    <tr>\n",
       "      <th>2</th>\n",
       "      <td>2020-02-01</td>\n",
       "      <td>0</td>\n",
       "      <td>1</td>\n",
       "      <td>0</td>\n",
       "      <td>0</td>\n",
       "      <td>0</td>\n",
       "      <td>0</td>\n",
       "    </tr>\n",
       "    <tr>\n",
       "      <th>3</th>\n",
       "      <td>2020-02-02</td>\n",
       "      <td>1</td>\n",
       "      <td>2</td>\n",
       "      <td>0</td>\n",
       "      <td>0</td>\n",
       "      <td>0</td>\n",
       "      <td>0</td>\n",
       "    </tr>\n",
       "    <tr>\n",
       "      <th>4</th>\n",
       "      <td>2020-02-03</td>\n",
       "      <td>1</td>\n",
       "      <td>3</td>\n",
       "      <td>0</td>\n",
       "      <td>0</td>\n",
       "      <td>0</td>\n",
       "      <td>0</td>\n",
       "    </tr>\n",
       "  </tbody>\n",
       "</table>\n",
       "</div>"
      ],
      "text/plain": [
       "        Date  Daily Confirmed  Total Confirmed  Daily Recovered  \\\n",
       "0 2020-01-30                1                1                0   \n",
       "1 2020-01-31                0                1                0   \n",
       "2 2020-02-01                0                1                0   \n",
       "3 2020-02-02                1                2                0   \n",
       "4 2020-02-03                1                3                0   \n",
       "\n",
       "   Total Recovered  Daily Deceased  Total Deceased  \n",
       "0                0               0               0  \n",
       "1                0               0               0  \n",
       "2                0               0               0  \n",
       "3                0               0               0  \n",
       "4                0               0               0  "
      ]
     },
     "execution_count": 6,
     "metadata": {},
     "output_type": "execute_result"
    }
   ],
   "source": [
    "country_df.head()"
   ]
  },
  {
   "cell_type": "code",
   "execution_count": 7,
   "id": "bcbe9e65",
   "metadata": {},
   "outputs": [],
   "source": [
    "hover = alt.selection_single(on='mouseover',nearest=True, fields=['Date'])\n",
    "\n",
    "line = alt.Chart(title=\"Confirmed Cases\").mark_line().encode(\n",
    "    x=alt.X('Date:T', axis=alt.Axis(offset=2)),\n",
    "    y=\"Daily Confirmed\",color=alt.value(\"red\")\n",
    ").properties(width=680, height=370).interactive()\n",
    "\n",
    "point = line.mark_point().encode(opacity=alt.value(0.0)).properties(selection=hover)\n",
    "\n",
    "text = alt.Chart().mark_text(align='right', dy=-2, fontSize=20).encode(\n",
    "    x='Date:T',\n",
    "    y=\"Daily Confirmed\",\n",
    "    text=\"Daily Confirmed\",\n",
    "    detail=\"Daily Confirmed\",\n",
    "    color=alt.value('white'),opacity=alt.condition(hover,alt.value(0.8), alt.value(0.0)))\n",
    "\n",
    "# alt.layer(line,point,text,data=country_df).configure(\n",
    "#     background='black').interactive().configure_axis(grid=False).configure_view(\n",
    "#     strokeWidth=0)"
   ]
  },
  {
   "cell_type": "markdown",
   "id": "5f482ae9",
   "metadata": {},
   "source": [
    "### Normalized Stacked Area Chart"
   ]
  },
  {
   "cell_type": "code",
   "execution_count": 8,
   "id": "60e43f51",
   "metadata": {},
   "outputs": [],
   "source": [
    "#hide\n",
    "stack = country_df[['Date','Daily Confirmed','Daily Recovered', 'Daily Deceased']]\n",
    "\n",
    "stack.set_index('Date',inplace=True)\n",
    "\n",
    "stack.columns = ['Confirmed','Recovered','Deceased']\n",
    "\n",
    "stack = stack.reset_index()\n",
    "stack = pd.melt(stack, id_vars='Date', var_name='Cases', value_name= 'Count' )"
   ]
  },
  {
   "cell_type": "code",
   "execution_count": 9,
   "id": "d59d6fdc",
   "metadata": {},
   "outputs": [
    {
     "data": {
      "text/html": [
       "<div>\n",
       "<style scoped>\n",
       "    .dataframe tbody tr th:only-of-type {\n",
       "        vertical-align: middle;\n",
       "    }\n",
       "\n",
       "    .dataframe tbody tr th {\n",
       "        vertical-align: top;\n",
       "    }\n",
       "\n",
       "    .dataframe thead th {\n",
       "        text-align: right;\n",
       "    }\n",
       "</style>\n",
       "<table border=\"1\" class=\"dataframe\">\n",
       "  <thead>\n",
       "    <tr style=\"text-align: right;\">\n",
       "      <th></th>\n",
       "      <th>Date</th>\n",
       "      <th>Cases</th>\n",
       "      <th>Count</th>\n",
       "    </tr>\n",
       "  </thead>\n",
       "  <tbody>\n",
       "    <tr>\n",
       "      <th>0</th>\n",
       "      <td>2020-01-30</td>\n",
       "      <td>Confirmed</td>\n",
       "      <td>1</td>\n",
       "    </tr>\n",
       "    <tr>\n",
       "      <th>1</th>\n",
       "      <td>2020-01-31</td>\n",
       "      <td>Confirmed</td>\n",
       "      <td>0</td>\n",
       "    </tr>\n",
       "    <tr>\n",
       "      <th>2</th>\n",
       "      <td>2020-02-01</td>\n",
       "      <td>Confirmed</td>\n",
       "      <td>0</td>\n",
       "    </tr>\n",
       "    <tr>\n",
       "      <th>3</th>\n",
       "      <td>2020-02-02</td>\n",
       "      <td>Confirmed</td>\n",
       "      <td>1</td>\n",
       "    </tr>\n",
       "    <tr>\n",
       "      <th>4</th>\n",
       "      <td>2020-02-03</td>\n",
       "      <td>Confirmed</td>\n",
       "      <td>1</td>\n",
       "    </tr>\n",
       "  </tbody>\n",
       "</table>\n",
       "</div>"
      ],
      "text/plain": [
       "        Date      Cases  Count\n",
       "0 2020-01-30  Confirmed      1\n",
       "1 2020-01-31  Confirmed      0\n",
       "2 2020-02-01  Confirmed      0\n",
       "3 2020-02-02  Confirmed      1\n",
       "4 2020-02-03  Confirmed      1"
      ]
     },
     "execution_count": 9,
     "metadata": {},
     "output_type": "execute_result"
    }
   ],
   "source": [
    "stack.head()"
   ]
  },
  {
   "cell_type": "code",
   "execution_count": 12,
   "id": "636f8ee0",
   "metadata": {},
   "outputs": [],
   "source": [
    "hover = alt.selection_single(on='mouseover')\n",
    "scale = alt.Scale(domain=['Confirmed', 'Recovered', 'Deceased'],\n",
    "                  range=['#17c8cf', '#20c730', 'red'])\n",
    "# alt.Chart(stack).mark_area().encode(\n",
    "# alt.X('Date:T'),\n",
    "# alt.Y('sum(Count):Q', stack='normalize'),\n",
    "# color=alt.Color('Cases:N',scale = scale),\n",
    "# opacity=alt.condition(hover, alt.value(0.8), alt.value(0.4))\n",
    "# ).properties(\n",
    "#     width=800,\n",
    "#     height=400,\n",
    "#     selection=hover\n",
    "# ).configure(background='black').configure_legend(\n",
    "#   orient='bottom'\n",
    "# )"
   ]
  },
  {
   "cell_type": "markdown",
   "id": "978c7dbe",
   "metadata": {},
   "source": [
    "### Choropleth map"
   ]
  },
  {
   "cell_type": "code",
   "execution_count": 13,
   "id": "c14956af",
   "metadata": {},
   "outputs": [],
   "source": [
    "#head\n",
    "latest_df = latest_df[['State','Confirmed','Recovered','Deaths','Active']]\n",
    "\n",
    "latest_df.set_index('State',inplace=True)\n",
    "latest_df.drop('Total', inplace=True)\n",
    "\n",
    "state_list = latest_df.index.tolist()\n",
    "idx = state_list.index('Jammu and Kashmir')\n",
    "state_list[idx] = 'Jammu & Kashmir'\n",
    "latest_df.index = state_list\n",
    "\n",
    "latest_df.reset_index(inplace=True)\n",
    "\n",
    "latest_df.rename({'index':'State'},axis=1,inplace=True)\n",
    "\n",
    "latest_df['Recovery_rate'] = latest_df['Recovered']/latest_df['Confirmed']\n",
    "latest_df['Death_rate'] = latest_df['Deaths']/latest_df['Confirmed']"
   ]
  },
  {
   "cell_type": "code",
   "execution_count": 14,
   "id": "85b038db",
   "metadata": {},
   "outputs": [
    {
     "data": {
      "text/html": [
       "<div>\n",
       "<style scoped>\n",
       "    .dataframe tbody tr th:only-of-type {\n",
       "        vertical-align: middle;\n",
       "    }\n",
       "\n",
       "    .dataframe tbody tr th {\n",
       "        vertical-align: top;\n",
       "    }\n",
       "\n",
       "    .dataframe thead th {\n",
       "        text-align: right;\n",
       "    }\n",
       "</style>\n",
       "<table border=\"1\" class=\"dataframe\">\n",
       "  <thead>\n",
       "    <tr style=\"text-align: right;\">\n",
       "      <th></th>\n",
       "      <th>State</th>\n",
       "      <th>Confirmed</th>\n",
       "      <th>Recovered</th>\n",
       "      <th>Deaths</th>\n",
       "      <th>Active</th>\n",
       "      <th>Recovery_rate</th>\n",
       "      <th>Death_rate</th>\n",
       "    </tr>\n",
       "  </thead>\n",
       "  <tbody>\n",
       "    <tr>\n",
       "      <th>0</th>\n",
       "      <td>Maharashtra</td>\n",
       "      <td>4665754</td>\n",
       "      <td>3930302</td>\n",
       "      <td>69615</td>\n",
       "      <td>663758</td>\n",
       "      <td>0.842372</td>\n",
       "      <td>0.014920</td>\n",
       "    </tr>\n",
       "    <tr>\n",
       "      <th>1</th>\n",
       "      <td>Kerala</td>\n",
       "      <td>1606820</td>\n",
       "      <td>1277294</td>\n",
       "      <td>5357</td>\n",
       "      <td>323827</td>\n",
       "      <td>0.794920</td>\n",
       "      <td>0.003334</td>\n",
       "    </tr>\n",
       "    <tr>\n",
       "      <th>2</th>\n",
       "      <td>Karnataka</td>\n",
       "      <td>1564132</td>\n",
       "      <td>1143250</td>\n",
       "      <td>15794</td>\n",
       "      <td>405068</td>\n",
       "      <td>0.730917</td>\n",
       "      <td>0.010098</td>\n",
       "    </tr>\n",
       "    <tr>\n",
       "      <th>3</th>\n",
       "      <td>Andhra Pradesh</td>\n",
       "      <td>1121102</td>\n",
       "      <td>982297</td>\n",
       "      <td>8053</td>\n",
       "      <td>130752</td>\n",
       "      <td>0.876189</td>\n",
       "      <td>0.007183</td>\n",
       "    </tr>\n",
       "    <tr>\n",
       "      <th>4</th>\n",
       "      <td>Tamil Nadu</td>\n",
       "      <td>1186344</td>\n",
       "      <td>1054746</td>\n",
       "      <td>14193</td>\n",
       "      <td>117405</td>\n",
       "      <td>0.889073</td>\n",
       "      <td>0.011964</td>\n",
       "    </tr>\n",
       "  </tbody>\n",
       "</table>\n",
       "</div>"
      ],
      "text/plain": [
       "            State  Confirmed  Recovered  Deaths  Active  Recovery_rate  \\\n",
       "0     Maharashtra    4665754    3930302   69615  663758       0.842372   \n",
       "1          Kerala    1606820    1277294    5357  323827       0.794920   \n",
       "2       Karnataka    1564132    1143250   15794  405068       0.730917   \n",
       "3  Andhra Pradesh    1121102     982297    8053  130752       0.876189   \n",
       "4      Tamil Nadu    1186344    1054746   14193  117405       0.889073   \n",
       "\n",
       "   Death_rate  \n",
       "0    0.014920  \n",
       "1    0.003334  \n",
       "2    0.010098  \n",
       "3    0.007183  \n",
       "4    0.011964  "
      ]
     },
     "execution_count": 14,
     "metadata": {},
     "output_type": "execute_result"
    }
   ],
   "source": [
    "latest_df.head()"
   ]
  },
  {
   "cell_type": "markdown",
   "id": "d0280344",
   "metadata": {},
   "source": [
    "I have used shapaefile of India map to create the outline and map the data, you can also use GeoJSON data file by convering it to a Geopandas dataframe in order to join on the covid data.\n",
    "Geopandas dataframes function exactly like standard Pandas dataframe, except they have additional functionality for geographic geometry like points and polygons."
   ]
  },
  {
   "cell_type": "code",
   "execution_count": 15,
   "id": "ee30680b",
   "metadata": {},
   "outputs": [],
   "source": [
    "import geopandas as gpd\n",
    "import json"
   ]
  },
  {
   "cell_type": "code",
   "execution_count": 17,
   "id": "dd2ddf87",
   "metadata": {},
   "outputs": [],
   "source": [
    "gdf = gpd.read_file('Admin2.shp')\n",
    "\n",
    "gdf = gdf.merge(latest_df,left_on='ST_NM', right_on='State', how='left')"
   ]
  },
  {
   "cell_type": "code",
   "execution_count": 18,
   "id": "0106aa52",
   "metadata": {},
   "outputs": [
    {
     "data": {
      "text/html": [
       "<div>\n",
       "<style scoped>\n",
       "    .dataframe tbody tr th:only-of-type {\n",
       "        vertical-align: middle;\n",
       "    }\n",
       "\n",
       "    .dataframe tbody tr th {\n",
       "        vertical-align: top;\n",
       "    }\n",
       "\n",
       "    .dataframe thead th {\n",
       "        text-align: right;\n",
       "    }\n",
       "</style>\n",
       "<table border=\"1\" class=\"dataframe\">\n",
       "  <thead>\n",
       "    <tr style=\"text-align: right;\">\n",
       "      <th></th>\n",
       "      <th>ST_NM</th>\n",
       "      <th>geometry</th>\n",
       "      <th>State</th>\n",
       "      <th>Confirmed</th>\n",
       "      <th>Recovered</th>\n",
       "      <th>Deaths</th>\n",
       "      <th>Active</th>\n",
       "      <th>Recovery_rate</th>\n",
       "      <th>Death_rate</th>\n",
       "    </tr>\n",
       "  </thead>\n",
       "  <tbody>\n",
       "    <tr>\n",
       "      <th>0</th>\n",
       "      <td>Arunachal Pradesh</td>\n",
       "      <td>POLYGON ((96.08866 29.45997, 96.09428 29.45477...</td>\n",
       "      <td>Arunachal Pradesh</td>\n",
       "      <td>18637.0</td>\n",
       "      <td>17190.0</td>\n",
       "      <td>59.0</td>\n",
       "      <td>1388.0</td>\n",
       "      <td>0.922359</td>\n",
       "      <td>0.003166</td>\n",
       "    </tr>\n",
       "    <tr>\n",
       "      <th>1</th>\n",
       "      <td>Assam</td>\n",
       "      <td>POLYGON ((95.97166 27.96254, 95.97174 27.96227...</td>\n",
       "      <td>Assam</td>\n",
       "      <td>256576.0</td>\n",
       "      <td>228872.0</td>\n",
       "      <td>1330.0</td>\n",
       "      <td>25027.0</td>\n",
       "      <td>0.892024</td>\n",
       "      <td>0.005184</td>\n",
       "    </tr>\n",
       "    <tr>\n",
       "      <th>2</th>\n",
       "      <td>Chandigarh</td>\n",
       "      <td>POLYGON ((76.77175 30.79498, 76.77231 30.79420...</td>\n",
       "      <td>Chandigarh</td>\n",
       "      <td>43446.0</td>\n",
       "      <td>35735.0</td>\n",
       "      <td>489.0</td>\n",
       "      <td>7222.0</td>\n",
       "      <td>0.822515</td>\n",
       "      <td>0.011255</td>\n",
       "    </tr>\n",
       "    <tr>\n",
       "      <th>3</th>\n",
       "      <td>Karnataka</td>\n",
       "      <td>POLYGON ((77.32647 18.45884, 77.32648 18.45803...</td>\n",
       "      <td>Karnataka</td>\n",
       "      <td>1564132.0</td>\n",
       "      <td>1143250.0</td>\n",
       "      <td>15794.0</td>\n",
       "      <td>405068.0</td>\n",
       "      <td>0.730917</td>\n",
       "      <td>0.010098</td>\n",
       "    </tr>\n",
       "    <tr>\n",
       "      <th>4</th>\n",
       "      <td>Manipur</td>\n",
       "      <td>POLYGON ((94.57315 25.69156, 94.57522 25.69094...</td>\n",
       "      <td>Manipur</td>\n",
       "      <td>31905.0</td>\n",
       "      <td>29843.0</td>\n",
       "      <td>410.0</td>\n",
       "      <td>1652.0</td>\n",
       "      <td>0.935371</td>\n",
       "      <td>0.012851</td>\n",
       "    </tr>\n",
       "  </tbody>\n",
       "</table>\n",
       "</div>"
      ],
      "text/plain": [
       "               ST_NM                                           geometry  \\\n",
       "0  Arunachal Pradesh  POLYGON ((96.08866 29.45997, 96.09428 29.45477...   \n",
       "1              Assam  POLYGON ((95.97166 27.96254, 95.97174 27.96227...   \n",
       "2         Chandigarh  POLYGON ((76.77175 30.79498, 76.77231 30.79420...   \n",
       "3          Karnataka  POLYGON ((77.32647 18.45884, 77.32648 18.45803...   \n",
       "4            Manipur  POLYGON ((94.57315 25.69156, 94.57522 25.69094...   \n",
       "\n",
       "               State  Confirmed  Recovered   Deaths    Active  Recovery_rate  \\\n",
       "0  Arunachal Pradesh    18637.0    17190.0     59.0    1388.0       0.922359   \n",
       "1              Assam   256576.0   228872.0   1330.0   25027.0       0.892024   \n",
       "2         Chandigarh    43446.0    35735.0    489.0    7222.0       0.822515   \n",
       "3          Karnataka  1564132.0  1143250.0  15794.0  405068.0       0.730917   \n",
       "4            Manipur    31905.0    29843.0    410.0    1652.0       0.935371   \n",
       "\n",
       "   Death_rate  \n",
       "0    0.003166  \n",
       "1    0.005184  \n",
       "2    0.011255  \n",
       "3    0.010098  \n",
       "4    0.012851  "
      ]
     },
     "execution_count": 18,
     "metadata": {},
     "output_type": "execute_result"
    }
   ],
   "source": [
    "gdf.head()"
   ]
  },
  {
   "cell_type": "markdown",
   "id": "71070047",
   "metadata": {},
   "source": [
    "Now we convert Geopandas dataframe back to a GeoJSON as Altair requires a JSON to render the features on the map."
   ]
  },
  {
   "cell_type": "code",
   "execution_count": 19,
   "id": "4ae0786c",
   "metadata": {},
   "outputs": [],
   "source": [
    "choro_json = json.loads(gdf.to_json())\n",
    "choro_data = alt.Data(values = choro_json['features'])"
   ]
  },
  {
   "cell_type": "markdown",
   "id": "5ccbf170",
   "metadata": {},
   "source": [
    "Having all the data we need, we can create a `gen_map` function to add the two layers to our map:\n",
    "- Base\n",
    "- Choropeth\n",
    "\n",
    "In the tooltip attribute you might notice the data types are explicitly defined as quantitative ':Q\" and nominal \":N\". This is necessary because we're passing a JSON and not a dataframe into Altair `Chart`, so the data types are not communicated to Altair."
   ]
  },
  {
   "cell_type": "code",
   "execution_count": 20,
   "id": "2385caeb",
   "metadata": {},
   "outputs": [],
   "source": [
    "def gen_map(geodata, color_column, title, tooltip, color_scheme ,scheme_title):\n",
    "    base = alt.Chart(geodata, title = title).mark_geoshape(stroke='black',strokeWidth=1).encode().properties(width=685,height=800)\n",
    "    choro = alt.Chart(geodata).mark_geoshape(stroke='white').encode(alt.Color(color_column, type='quantitative',scale=alt.Scale(scheme=color_scheme),title=scheme_title), tooltip=tooltip)\n",
    "    return base+choro"
   ]
  },
  {
   "cell_type": "code",
   "execution_count": 21,
   "id": "dfe4c66b",
   "metadata": {},
   "outputs": [],
   "source": [
    "# gen_map(geodata=choro_data, color_column='properties.Active',\n",
    "#                     title = \"Covid-19 cases\",\n",
    "#                     tooltip=['properties.ST_NM:N','properties.Active:Q'],\n",
    "#                     color_scheme='lighttealblue',scheme_title='Active cases'\n",
    "#                    ).configure(background='black')"
   ]
  },
  {
   "cell_type": "markdown",
   "id": "a019229d",
   "metadata": {},
   "source": [
    "![](ghtop_images/choro_map_altair.gif)"
   ]
  },
  {
   "cell_type": "code",
   "execution_count": 22,
   "id": "eb4313cf",
   "metadata": {},
   "outputs": [
    {
     "name": "stderr",
     "output_type": "stream",
     "text": [
      "C:\\ProgramData\\Anaconda3\\lib\\site-packages\\pandas\\core\\indexing.py:1676: SettingWithCopyWarning: \n",
      "A value is trying to be set on a copy of a slice from a DataFrame.\n",
      "Try using .loc[row_indexer,col_indexer] = value instead\n",
      "\n",
      "See the caveats in the documentation: https://pandas.pydata.org/pandas-docs/stable/user_guide/indexing.html#returning-a-view-versus-a-copy\n",
      "  self._setitem_single_column(ilocs[0], value, pi)\n"
     ]
    }
   ],
   "source": [
    "#hide\n",
    "country_vaccine_df = vaccine_df[vaccine_df['State']=='India']\n",
    "country_vaccine_df.iloc[:,0] = pd.to_datetime(country_vaccine_df.iloc[:,0], format=\"%d/%m/%Y\")\n",
    "# country_vaccine_df['Updated On'] = pd.to_datetime(country_vaccine_df['Updated On'])\n",
    "\n",
    "# country_vaccine_df.head()\n",
    "\n",
    "india_vaccine_df = country_vaccine_df[country_vaccine_df['State'] == 'India']\n",
    "\n",
    "dose_df = india_vaccine_df[['Updated On', 'First Dose Administered', 'Second Dose Administered']]\n",
    "\n",
    "dose_df = pd.melt(dose_df, id_vars = 'Updated On', var_name = 'Dose')"
   ]
  },
  {
   "cell_type": "markdown",
   "id": "804a0c0e",
   "metadata": {},
   "source": [
    "### Area Chart"
   ]
  },
  {
   "cell_type": "code",
   "execution_count": 23,
   "id": "80f86516",
   "metadata": {},
   "outputs": [
    {
     "data": {
      "text/html": [
       "<div>\n",
       "<style scoped>\n",
       "    .dataframe tbody tr th:only-of-type {\n",
       "        vertical-align: middle;\n",
       "    }\n",
       "\n",
       "    .dataframe tbody tr th {\n",
       "        vertical-align: top;\n",
       "    }\n",
       "\n",
       "    .dataframe thead th {\n",
       "        text-align: right;\n",
       "    }\n",
       "</style>\n",
       "<table border=\"1\" class=\"dataframe\">\n",
       "  <thead>\n",
       "    <tr style=\"text-align: right;\">\n",
       "      <th></th>\n",
       "      <th>Updated On</th>\n",
       "      <th>Dose</th>\n",
       "      <th>value</th>\n",
       "    </tr>\n",
       "  </thead>\n",
       "  <tbody>\n",
       "    <tr>\n",
       "      <th>0</th>\n",
       "      <td>2021-01-16</td>\n",
       "      <td>First Dose Administered</td>\n",
       "      <td>48276.0</td>\n",
       "    </tr>\n",
       "    <tr>\n",
       "      <th>1</th>\n",
       "      <td>2021-01-17</td>\n",
       "      <td>First Dose Administered</td>\n",
       "      <td>58604.0</td>\n",
       "    </tr>\n",
       "    <tr>\n",
       "      <th>2</th>\n",
       "      <td>2021-01-18</td>\n",
       "      <td>First Dose Administered</td>\n",
       "      <td>99449.0</td>\n",
       "    </tr>\n",
       "    <tr>\n",
       "      <th>3</th>\n",
       "      <td>2021-01-19</td>\n",
       "      <td>First Dose Administered</td>\n",
       "      <td>195525.0</td>\n",
       "    </tr>\n",
       "    <tr>\n",
       "      <th>4</th>\n",
       "      <td>2021-01-20</td>\n",
       "      <td>First Dose Administered</td>\n",
       "      <td>251280.0</td>\n",
       "    </tr>\n",
       "  </tbody>\n",
       "</table>\n",
       "</div>"
      ],
      "text/plain": [
       "  Updated On                     Dose     value\n",
       "0 2021-01-16  First Dose Administered   48276.0\n",
       "1 2021-01-17  First Dose Administered   58604.0\n",
       "2 2021-01-18  First Dose Administered   99449.0\n",
       "3 2021-01-19  First Dose Administered  195525.0\n",
       "4 2021-01-20  First Dose Administered  251280.0"
      ]
     },
     "execution_count": 23,
     "metadata": {},
     "output_type": "execute_result"
    }
   ],
   "source": [
    "dose_df.head()"
   ]
  },
  {
   "cell_type": "code",
   "execution_count": 25,
   "id": "b715c5a3",
   "metadata": {},
   "outputs": [],
   "source": [
    "hover = alt.selection_single(on='mouseover')\n",
    "\n",
    "# alt.Chart(dose_df).mark_area().encode(\n",
    "# alt.X('Updated On:T'),\n",
    "# alt.Y('sum(value):Q', axis=alt.Axis(title='vaccine dose')),\n",
    "# color=alt.Color('Dose:N',scale = alt.Scale(scheme='dark2')),\n",
    "#     opacity=alt.condition(hover, alt.value(1.0), alt.value(0.5))\n",
    "# ).properties(\n",
    "#     width=600,\n",
    "#     height=400,\n",
    "#     selection=hover\n",
    "# ).configure(background='black')"
   ]
  },
  {
   "cell_type": "code",
   "execution_count": 26,
   "id": "00bb4c76",
   "metadata": {},
   "outputs": [],
   "source": [
    "#head\n",
    "gender_vaccine_df = india_vaccine_df[['Male(Individuals Vaccinated)','Female(Individuals Vaccinated)', 'Transgender(Individuals Vaccinated)','Total Covaxin Administered','Total CoviShield Administered']]\n",
    "\n",
    "gender_vaccine_df.columns = ['Male','Female','Transgender','Covaxin','CoviShield']\n",
    "\n",
    "vaccine_total_df = gender_vaccine_df.sum(axis=0)\n",
    "\n",
    "vaccine_type_df= vaccine_total_df[['Covaxin','CoviShield']]\n",
    "\n",
    "vaccine_type_df =pd.DataFrame(vaccine_type_df)\n",
    "vaccine_type_df.reset_index(inplace=True)\n",
    "\n",
    "vaccine_type_df.columns = ['Vaccine','Doses']"
   ]
  },
  {
   "cell_type": "markdown",
   "id": "2a94e0fb",
   "metadata": {},
   "source": [
    "### Bart Chart"
   ]
  },
  {
   "cell_type": "code",
   "execution_count": 27,
   "id": "f593661b",
   "metadata": {},
   "outputs": [
    {
     "data": {
      "text/html": [
       "<div>\n",
       "<style scoped>\n",
       "    .dataframe tbody tr th:only-of-type {\n",
       "        vertical-align: middle;\n",
       "    }\n",
       "\n",
       "    .dataframe tbody tr th {\n",
       "        vertical-align: top;\n",
       "    }\n",
       "\n",
       "    .dataframe thead th {\n",
       "        text-align: right;\n",
       "    }\n",
       "</style>\n",
       "<table border=\"1\" class=\"dataframe\">\n",
       "  <thead>\n",
       "    <tr style=\"text-align: right;\">\n",
       "      <th></th>\n",
       "      <th>Vaccine</th>\n",
       "      <th>Doses</th>\n",
       "    </tr>\n",
       "  </thead>\n",
       "  <tbody>\n",
       "    <tr>\n",
       "      <th>0</th>\n",
       "      <td>Covaxin</td>\n",
       "      <td>4.120687e+08</td>\n",
       "    </tr>\n",
       "    <tr>\n",
       "      <th>1</th>\n",
       "      <td>CoviShield</td>\n",
       "      <td>4.197468e+09</td>\n",
       "    </tr>\n",
       "  </tbody>\n",
       "</table>\n",
       "</div>"
      ],
      "text/plain": [
       "      Vaccine         Doses\n",
       "0     Covaxin  4.120687e+08\n",
       "1  CoviShield  4.197468e+09"
      ]
     },
     "execution_count": 27,
     "metadata": {},
     "output_type": "execute_result"
    }
   ],
   "source": [
    "vaccine_type_df.head()"
   ]
  },
  {
   "cell_type": "code",
   "execution_count": 28,
   "id": "9fbdabc1",
   "metadata": {},
   "outputs": [],
   "source": [
    "# alt.Chart(vaccine_type_df).mark_bar().encode(\n",
    "#     x='Doses:Q',y='Vaccine:N',\n",
    "#     color=alt.Color('Vaccine',scale=alt.Scale(scheme='set2'))\n",
    "# ).properties(height=100,width=600).configure(background='black')"
   ]
  },
  {
   "cell_type": "markdown",
   "id": "a16c2e92",
   "metadata": {},
   "source": [
    "I hope this walkthrough has piqued your interest as well in Altair to experiment on many other features present in Altair. :wink:"
   ]
  }
 ],
 "metadata": {
  "kernelspec": {
   "display_name": "Python 3",
   "language": "python",
   "name": "python3"
  },
  "language_info": {
   "codemirror_mode": {
    "name": "ipython",
    "version": 3
   },
   "file_extension": ".py",
   "mimetype": "text/x-python",
   "name": "python",
   "nbconvert_exporter": "python",
   "pygments_lexer": "ipython3",
   "version": "3.8.8"
  }
 },
 "nbformat": 4,
 "nbformat_minor": 5
}
