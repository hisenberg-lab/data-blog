{
 "cells": [
  {
   "cell_type": "markdown",
   "id": "a725561e",
   "metadata": {},
   "source": [
    "# Covid-19 Data Visualisation with Altair\n",
    "> An introduction to Altair package\n",
    "\n",
    "- toc: true\n",
    "- badges: true\n",
    "- comments: true\n",
    "- categories: [altair, visualization]\n",
    "- image: images/covid_visual.png"
   ]
  },
  {
   "cell_type": "markdown",
   "id": "40f9fa0b",
   "metadata": {},
   "source": [
    "Data visualisation is a vital step in data analysis process since it gives a quick intuition about the data. It can reveal insights which cannot be easily conveyed by numbers.\n",
    "\n",
    "I got to know about Altair package when I was searching the web on how to plot a choropleth map of India for my simple covid dashboard. The syntax was a bit different as I was only familiar with matplotlib and seaborn for visualization."
   ]
  },
  {
   "cell_type": "markdown",
   "id": "ee84a778",
   "metadata": {},
   "source": [
    "## Need for Altair"
   ]
  },
  {
   "cell_type": "markdown",
   "id": "06db78ba",
   "metadata": {},
   "source": [
    "The few well known visulaization packages in Python often have **imperative APIs**. This means the user has to focus more on the mechanics of visualization rather than the important relationships within data.\n",
    "\n",
    "| Imperative | Declarative |\n",
    "| ---------- | ----------- |\n",
    "| - Specify *How* something should be done | - Specify *What* should be done |\n",
    "| - Must *manually* specify ploting steps | - Details determined *automatically* |\n",
    "| - Specification and Execution are *intertwined* | - *Separates* Specification from Execution |\n",
    "\n",
    "[![altair logo](data:image/png;base64,iVBORw0KGgoAAAANSUhEUgAAAMgAAADICAMAAACahl6sAAAANlBMVEX///8DqfT7wC1Pw/ez5fz92Hz8yEf957D+9+T80GL+78r+89f835X8zFT81G//+/L7xDr+670VEwJXAAACrElEQVR4nO3ajUoDQRADYF29u7Zqte//sooiam9/ZhbRJCRP0A82ZCh3c+M4juM4juM4juM4juM4DnsebjP571/byaICWUUgWxGBHEUghyICeVSBrCKQUxGBLCKQt6prQDYVyJMI5P1lKUAWFcgqAnmvugLkLAL5qLoAZFOBrCKQUxGBLCKQ5xcRyGfV6SFHEcihiEAWFcgqArkUEchZBPKt6tyQTQWyikBORQSyiEC+7kVyyI+qM0OOIpBDEYEsKpBVBHIpIpDrl8UKua46LWRTgVxXnRXysHOQQnZVZ4XsXxYnZF/1EOQukz+BHEUg+xEhhTyqQCpVp4Scag5GSGVEKCHVqjNCaiNCCXkSgVTuRU5IveqEkOqIEEIaVeeD1O5FRkhjRPgg1XuREdKqOhukfi8SQlojwgZpV50M0hwRNkjjXqSD9F4WFaRTdS5Ie0S4IL2qU0HOIpBu1Zkg/ZdFBOlWnQjSuRe5IN0RIYJcfdTECxlUnQfS/NOBDDIYER7IqOo0kMGI0EB2HzWxQvr3Ig9kXHUSyHBEWCDjqnNARvciDWQ8IhyQ4b3IAolUnQIyvBdJIJERoYCEqv5bkPtMkpDIiDBAAvciByT4suAhwarjQ2IjQgAJVh0e0vqoiQ4SrTo8JPyywCHhqqNDYvciPiQ8IuiQ9kdNZJB41bEhoT8dGCDxEcGGZKoODUmMCDak91ETEyR+L4JDUlVHhmRGBBmSqzowJHEvQkNyIwIMydyL0JBk1WEhqXsRGZIcEVhIuuqokOyIwEJy9yIuZOJlYULyVQeFpEcEFDJRdUxI4KMmCshM1SEhUy8LETJTdURI/l4EhcyMCCIk9lETAWSu6oCQ7J8OqJC5EQGETFYdDzI3IniQ6EdN8BDHcRzHcRzHcRzHcRzHcf40r0X9jscbUnZZAAAAAElFTkSuQmCC)](https://altair-viz.github.io/)\n",
    "\n",
    "Altair feautres **declarative API** for exploratory visualization in Python allowing us to focus more on the data than incidental details. It is based on [Vega](https://vega.github.io/vega/) and [Vega-Lite](http://vega.github.io/vega-lite/) visulaization grammars.\n",
    "\n",
    "Visit the [installation page](https://altair-viz.github.io/getting_started/installation.html) for instructions to install the Altair package.\n",
    "\n",
    "> Important: Dont forget to import altair in you notebook after the installation."
   ]
  },
  {
   "cell_type": "code",
   "execution_count": 1,
   "id": "a148b15c",
   "metadata": {},
   "outputs": [],
   "source": [
    "import altair as alt\n",
    "# run this line if you are having trouble displaying charts \n",
    "#alt.renderers.enable('default')"
   ]
  },
  {
   "cell_type": "code",
   "execution_count": 2,
   "id": "e3c15c09",
   "metadata": {},
   "outputs": [
    {
     "data": {
      "text/plain": [
       "ThemeRegistry.enable('dark')"
      ]
     },
     "execution_count": 2,
     "metadata": {},
     "output_type": "execute_result"
    }
   ],
   "source": [
    "#hide\n",
    "import numpy as np\n",
    "import pandas as pd\n",
    "alt.themes.enable('dark')"
   ]
  },
  {
   "cell_type": "code",
   "execution_count": 3,
   "id": "bb8ba375",
   "metadata": {},
   "outputs": [],
   "source": [
    "#hide\n",
    "country_df = pd.read_csv('https://api.covid19india.org/csv/latest/case_time_series.csv')\n",
    "latest_df = pd.read_csv('https://api.covid19india.org/csv/latest/state_wise.csv')\n",
    "vaccine_df = pd.read_csv('http://api.covid19india.org/csv/latest/cowin_vaccine_data_statewise.csv')\n",
    "\n",
    "country_df.drop(['Date'], axis = 1,inplace=True)\n",
    "\n",
    "country_df.rename(columns={'Date_YMD':'Date'},inplace=True)\n",
    "\n",
    "country_df[\"Date\"]= pd.to_datetime(country_df[\"Date\"])\n",
    "# country_df.set_index('Date')\n",
    "\n",
    "latest_30_df = country_df.tail(30).drop(['Total Confirmed','Total Recovered','Total Deceased'], axis=1)\n",
    "\n",
    "latest_30_df.columns = ['Date','Confirmed','Recovered','Deceased']\n",
    "\n",
    "latest_30_df = pd.melt(latest_30_df, id_vars='Date', var_name='Cases',value_name='Count')\n"
   ]
  },
  {
   "cell_type": "markdown",
   "id": "b98333be",
   "metadata": {},
   "source": [
    "## Fundamentals"
   ]
  },
  {
   "cell_type": "markdown",
   "id": "f32cf33d",
   "metadata": {},
   "source": [
    "Data in Altair is built around Pandas Dataframe. I have already imported Pandas and cleaned my dataset for visualization. There are many example dataset in [vega datasets package](https://github.com/altair-viz/vega_datasets), you can try creating interactive charts on them."
   ]
  },
  {
   "cell_type": "markdown",
   "id": "d71a43aa",
   "metadata": {},
   "source": [
    "In addition to Altair's documentaion there are good number of Altair tutorials, I recommend you go throuh them prior to this walkthrogh.\n",
    "\n",
    "> Tip: One of the best Altair tutorial I used to get started is [Altair notebooks](https://github.com/altair-viz/altair_notebooks) check out the link and launch binder to run the notebooks and experiment on them. "
   ]
  },
  {
   "cell_type": "markdown",
   "id": "07485277",
   "metadata": {},
   "source": [
    "## Fundamentals"
   ]
  },
  {
   "cell_type": "markdown",
   "id": "31460456",
   "metadata": {},
   "source": [
    "### Chart Object"
   ]
  },
  {
   "cell_type": "markdown",
   "id": "1bd4c435",
   "metadata": {},
   "source": [
    "The fundamental object in Altair is the `Chart` object which takes a dataframe as a single argument. By itself, a chart has no meaning, it is used in conjuction with **data**, **marks**, and **encodings**, which are the core pieces in an Altair chart.\n",
    "\n",
    "`alt.Chart(data)`"
   ]
  },
  {
   "cell_type": "markdown",
   "id": "3b20b73a",
   "metadata": {},
   "source": [
    "### Marks"
   ]
  },
  {
   "cell_type": "markdown",
   "id": "02e19efb",
   "metadata": {},
   "source": [
    "`mark` attribute of the chart object is used to specify how we would like the data to be visualized. There are many available marks that can be used like point, circle, square, etc.\n",
    "\n",
    "`alt.Chart(data).mark_point()`\n"
   ]
  },
  {
   "cell_type": "markdown",
   "id": "80c71ece",
   "metadata": {},
   "source": [
    "### Encodings"
   ]
  },
  {
   "cell_type": "markdown",
   "id": "5e8ffe63",
   "metadata": {},
   "source": [
    "TO visually seperate the points, we can map various encoding channels, to columns in the dataset. There are many encoding channels such as `x`, `y`, `color`, `shape`, `size`, etc. The `encode()` method builds a key-value mapping between encoding channels to the columns in the dataset.\n",
    "\n",
    "`alt.Chart(data).mark_point().encode(x='a', y='b')`"
   ]
  },
  {
   "cell_type": "markdown",
   "id": "1232caa3",
   "metadata": {},
   "source": [
    "### Layered Charts"
   ]
  },
  {
   "cell_type": "markdown",
   "id": "f8d6b5b8",
   "metadata": {},
   "source": [
    "Layered charts allow us to overlay two or more different charts on the same set of axes. They can be used to draw mutiple marks for the same data.\n",
    "\n",
    "We can use `+` operator to create a layered chart, alternatively we could use the `alt.layer` function which accepts any number or charts. The order of layers is determined from the order in which they are specified. You can adjust the opacity of the layers to you liking if you dont want the upper layer to obscure the marks of lower layer.\n",
    "\n",
    "`layer1 + layer2` or `alt.layer(layer1, layer2)`"
   ]
  },
  {
   "cell_type": "markdown",
   "id": "1d64b383",
   "metadata": {},
   "source": [
    "> Note: If you pretty much get a basic idea on these fundamentals you're good to go and can create really cool interactive plots."
   ]
  },
  {
   "cell_type": "markdown",
   "id": "5c5547b8",
   "metadata": {},
   "source": [
    "## Covid-19 Plots"
   ]
  },
  {
   "cell_type": "markdown",
   "id": "bc175c0b",
   "metadata": {},
   "source": [
    "After learning to create an choropleth map in Altair, I actually decided to redo all my other plots for my dashboard in Altair :upside_down_face:\n",
    "Checkout the charts I ended up creating with the code from below, and if you are interested to see the complete dashboard you can launch this binder (be patient :turtle:). [![Binder](https://mybinder.org/badge_logo.svg)](https://mybinder.org/v2/gh/hisenberg-lab/covid/HEAD?urlpath=%2Fvoila%2Frender%2Fcovid_dashboard.ipynb)\n"
   ]
  },
  {
   "cell_type": "markdown",
   "id": "65bebe93",
   "metadata": {},
   "source": [
    "### Line Chart"
   ]
  },
  {
   "cell_type": "code",
   "execution_count": 4,
   "id": "7e1bec2d",
   "metadata": {},
   "outputs": [
    {
     "data": {
      "text/html": [
       "<div>\n",
       "<style scoped>\n",
       "    .dataframe tbody tr th:only-of-type {\n",
       "        vertical-align: middle;\n",
       "    }\n",
       "\n",
       "    .dataframe tbody tr th {\n",
       "        vertical-align: top;\n",
       "    }\n",
       "\n",
       "    .dataframe thead th {\n",
       "        text-align: right;\n",
       "    }\n",
       "</style>\n",
       "<table border=\"1\" class=\"dataframe\">\n",
       "  <thead>\n",
       "    <tr style=\"text-align: right;\">\n",
       "      <th></th>\n",
       "      <th>Date</th>\n",
       "      <th>Cases</th>\n",
       "      <th>Count</th>\n",
       "    </tr>\n",
       "  </thead>\n",
       "  <tbody>\n",
       "    <tr>\n",
       "      <th>0</th>\n",
       "      <td>2021-04-01</td>\n",
       "      <td>Confirmed</td>\n",
       "      <td>81398</td>\n",
       "    </tr>\n",
       "    <tr>\n",
       "      <th>1</th>\n",
       "      <td>2021-04-02</td>\n",
       "      <td>Confirmed</td>\n",
       "      <td>89023</td>\n",
       "    </tr>\n",
       "    <tr>\n",
       "      <th>2</th>\n",
       "      <td>2021-04-03</td>\n",
       "      <td>Confirmed</td>\n",
       "      <td>92994</td>\n",
       "    </tr>\n",
       "    <tr>\n",
       "      <th>3</th>\n",
       "      <td>2021-04-04</td>\n",
       "      <td>Confirmed</td>\n",
       "      <td>103794</td>\n",
       "    </tr>\n",
       "    <tr>\n",
       "      <th>4</th>\n",
       "      <td>2021-04-05</td>\n",
       "      <td>Confirmed</td>\n",
       "      <td>96563</td>\n",
       "    </tr>\n",
       "  </tbody>\n",
       "</table>\n",
       "</div>"
      ],
      "text/plain": [
       "        Date      Cases   Count\n",
       "0 2021-04-01  Confirmed   81398\n",
       "1 2021-04-02  Confirmed   89023\n",
       "2 2021-04-03  Confirmed   92994\n",
       "3 2021-04-04  Confirmed  103794\n",
       "4 2021-04-05  Confirmed   96563"
      ]
     },
     "execution_count": 4,
     "metadata": {},
     "output_type": "execute_result"
    }
   ],
   "source": [
    "latest_30_df.head()"
   ]
  },
  {
   "cell_type": "code",
   "execution_count": 5,
   "id": "a6a8d522",
   "metadata": {},
   "outputs": [
    {
     "data": {
      "text/html": [
       "\n",
       "<div id=\"altair-viz-83ea72190b9e4dd994b009e75c3222e4\"></div>\n",
       "<script type=\"text/javascript\">\n",
       "  (function(spec, embedOpt){\n",
       "    let outputDiv = document.currentScript.previousElementSibling;\n",
       "    if (outputDiv.id !== \"altair-viz-83ea72190b9e4dd994b009e75c3222e4\") {\n",
       "      outputDiv = document.getElementById(\"altair-viz-83ea72190b9e4dd994b009e75c3222e4\");\n",
       "    }\n",
       "    const paths = {\n",
       "      \"vega\": \"https://cdn.jsdelivr.net/npm//vega@5?noext\",\n",
       "      \"vega-lib\": \"https://cdn.jsdelivr.net/npm//vega-lib?noext\",\n",
       "      \"vega-lite\": \"https://cdn.jsdelivr.net/npm//vega-lite@4.8.1?noext\",\n",
       "      \"vega-embed\": \"https://cdn.jsdelivr.net/npm//vega-embed@6?noext\",\n",
       "    };\n",
       "\n",
       "    function loadScript(lib) {\n",
       "      return new Promise(function(resolve, reject) {\n",
       "        var s = document.createElement('script');\n",
       "        s.src = paths[lib];\n",
       "        s.async = true;\n",
       "        s.onload = () => resolve(paths[lib]);\n",
       "        s.onerror = () => reject(`Error loading script: ${paths[lib]}`);\n",
       "        document.getElementsByTagName(\"head\")[0].appendChild(s);\n",
       "      });\n",
       "    }\n",
       "\n",
       "    function showError(err) {\n",
       "      outputDiv.innerHTML = `<div class=\"error\" style=\"color:red;\">${err}</div>`;\n",
       "      throw err;\n",
       "    }\n",
       "\n",
       "    function displayChart(vegaEmbed) {\n",
       "      vegaEmbed(outputDiv, spec, embedOpt)\n",
       "        .catch(err => showError(`Javascript Error: ${err.message}<br>This usually means there's a typo in your chart specification. See the javascript console for the full traceback.`));\n",
       "    }\n",
       "\n",
       "    if(typeof define === \"function\" && define.amd) {\n",
       "      requirejs.config({paths});\n",
       "      require([\"vega-embed\"], displayChart, err => showError(`Error loading script: ${err.message}`));\n",
       "    } else if (typeof vegaEmbed === \"function\") {\n",
       "      displayChart(vegaEmbed);\n",
       "    } else {\n",
       "      loadScript(\"vega\")\n",
       "        .then(() => loadScript(\"vega-lite\"))\n",
       "        .then(() => loadScript(\"vega-embed\"))\n",
       "        .catch(showError)\n",
       "        .then(() => displayChart(vegaEmbed));\n",
       "    }\n",
       "  })({\"usermeta\": {\"embedOptions\": {\"theme\": \"dark\"}}, \"config\": {\"view\": {\"continuousWidth\": 400, \"continuousHeight\": 300, \"strokeWidth\": 0}, \"axis\": {\"grid\": false}, \"background\": \"black\"}, \"layer\": [{\"data\": {\"name\": \"data-419eb602e430b322c1a767a226438998\"}, \"mark\": {\"type\": \"line\", \"point\": true, \"strokeWidth\": 3}, \"encoding\": {\"color\": {\"type\": \"nominal\", \"field\": \"Cases\", \"scale\": {\"domain\": [\"Confirmed\", \"Recovered\", \"Deceased\"], \"range\": [\"red\", \"green\", \"purple\"]}}, \"opacity\": {\"condition\": {\"value\": 1.0, \"selection\": \"selector001\"}, \"value\": 0.5}, \"x\": {\"type\": \"temporal\", \"axis\": {\"offset\": 3}, \"field\": \"Date\"}, \"y\": {\"type\": \"quantitative\", \"field\": \"Count\"}}, \"height\": 250, \"selection\": {\"selector001\": {\"type\": \"single\", \"on\": \"mouseover\"}}, \"width\": 550}, {\"data\": {\"name\": \"data-0976897e996e4be08ab34c37eb294235\"}, \"mark\": {\"type\": \"text\", \"dx\": -25, \"dy\": -12, \"fontSize\": 25}, \"encoding\": {\"color\": {\"type\": \"nominal\", \"field\": \"Cases\", \"scale\": {\"domain\": [\"Confirmed\", \"Recovered\", \"Deceased\"], \"range\": [\"red\", \"green\", \"purple\"]}}, \"text\": {\"type\": \"quantitative\", \"field\": \"Count\"}, \"x\": {\"type\": \"temporal\", \"field\": \"Date\"}, \"y\": {\"type\": \"quantitative\", \"field\": \"Count\"}}}], \"data\": {\"name\": \"data-419eb602e430b322c1a767a226438998\"}, \"$schema\": \"https://vega.github.io/schema/vega-lite/v4.8.1.json\", \"datasets\": {\"data-419eb602e430b322c1a767a226438998\": [{\"Date\": \"2021-04-01T00:00:00\", \"Cases\": \"Confirmed\", \"Count\": 81398}, {\"Date\": \"2021-04-02T00:00:00\", \"Cases\": \"Confirmed\", \"Count\": 89023}, {\"Date\": \"2021-04-03T00:00:00\", \"Cases\": \"Confirmed\", \"Count\": 92994}, {\"Date\": \"2021-04-04T00:00:00\", \"Cases\": \"Confirmed\", \"Count\": 103794}, {\"Date\": \"2021-04-05T00:00:00\", \"Cases\": \"Confirmed\", \"Count\": 96563}, {\"Date\": \"2021-04-06T00:00:00\", \"Cases\": \"Confirmed\", \"Count\": 115312}, {\"Date\": \"2021-04-07T00:00:00\", \"Cases\": \"Confirmed\", \"Count\": 126276}, {\"Date\": \"2021-04-08T00:00:00\", \"Cases\": \"Confirmed\", \"Count\": 131878}, {\"Date\": \"2021-04-09T00:00:00\", \"Cases\": \"Confirmed\", \"Count\": 144945}, {\"Date\": \"2021-04-10T00:00:00\", \"Cases\": \"Confirmed\", \"Count\": 152565}, {\"Date\": \"2021-04-11T00:00:00\", \"Cases\": \"Confirmed\", \"Count\": 169914}, {\"Date\": \"2021-04-12T00:00:00\", \"Cases\": \"Confirmed\", \"Count\": 160838}, {\"Date\": \"2021-04-13T00:00:00\", \"Cases\": \"Confirmed\", \"Count\": 185297}, {\"Date\": \"2021-04-14T00:00:00\", \"Cases\": \"Confirmed\", \"Count\": 199584}, {\"Date\": \"2021-04-15T00:00:00\", \"Cases\": \"Confirmed\", \"Count\": 216828}, {\"Date\": \"2021-04-16T00:00:00\", \"Cases\": \"Confirmed\", \"Count\": 234002}, {\"Date\": \"2021-04-17T00:00:00\", \"Cases\": \"Confirmed\", \"Count\": 260895}, {\"Date\": \"2021-04-18T00:00:00\", \"Cases\": \"Confirmed\", \"Count\": 275063}, {\"Date\": \"2021-04-19T00:00:00\", \"Cases\": \"Confirmed\", \"Count\": 257003}, {\"Date\": \"2021-04-20T00:00:00\", \"Cases\": \"Confirmed\", \"Count\": 294365}, {\"Date\": \"2021-04-21T00:00:00\", \"Cases\": \"Confirmed\", \"Count\": 315752}, {\"Date\": \"2021-04-22T00:00:00\", \"Cases\": \"Confirmed\", \"Count\": 332531}, {\"Date\": \"2021-04-23T00:00:00\", \"Cases\": \"Confirmed\", \"Count\": 345296}, {\"Date\": \"2021-04-24T00:00:00\", \"Cases\": \"Confirmed\", \"Count\": 348996}, {\"Date\": \"2021-04-25T00:00:00\", \"Cases\": \"Confirmed\", \"Count\": 354658}, {\"Date\": \"2021-04-26T00:00:00\", \"Cases\": \"Confirmed\", \"Count\": 319471}, {\"Date\": \"2021-04-27T00:00:00\", \"Cases\": \"Confirmed\", \"Count\": 362913}, {\"Date\": \"2021-04-28T00:00:00\", \"Cases\": \"Confirmed\", \"Count\": 379404}, {\"Date\": \"2021-04-29T00:00:00\", \"Cases\": \"Confirmed\", \"Count\": 386773}, {\"Date\": \"2021-04-30T00:00:00\", \"Cases\": \"Confirmed\", \"Count\": 402014}, {\"Date\": \"2021-04-01T00:00:00\", \"Cases\": \"Recovered\", \"Count\": 50384}, {\"Date\": \"2021-04-02T00:00:00\", \"Cases\": \"Recovered\", \"Count\": 44179}, {\"Date\": \"2021-04-03T00:00:00\", \"Cases\": \"Recovered\", \"Count\": 60059}, {\"Date\": \"2021-04-04T00:00:00\", \"Cases\": \"Recovered\", \"Count\": 52840}, {\"Date\": \"2021-04-05T00:00:00\", \"Cases\": \"Recovered\", \"Count\": 50100}, {\"Date\": \"2021-04-06T00:00:00\", \"Cases\": \"Recovered\", \"Count\": 59714}, {\"Date\": \"2021-04-07T00:00:00\", \"Cases\": \"Recovered\", \"Count\": 59137}, {\"Date\": \"2021-04-08T00:00:00\", \"Cases\": \"Recovered\", \"Count\": 61829}, {\"Date\": \"2021-04-09T00:00:00\", \"Cases\": \"Recovered\", \"Count\": 77263}, {\"Date\": \"2021-04-10T00:00:00\", \"Cases\": \"Recovered\", \"Count\": 90328}, {\"Date\": \"2021-04-11T00:00:00\", \"Cases\": \"Recovered\", \"Count\": 75380}, {\"Date\": \"2021-04-12T00:00:00\", \"Cases\": \"Recovered\", \"Count\": 96746}, {\"Date\": \"2021-04-13T00:00:00\", \"Cases\": \"Recovered\", \"Count\": 82271}, {\"Date\": \"2021-04-14T00:00:00\", \"Cases\": \"Recovered\", \"Count\": 93425}, {\"Date\": \"2021-04-15T00:00:00\", \"Cases\": \"Recovered\", \"Count\": 117897}, {\"Date\": \"2021-04-16T00:00:00\", \"Cases\": \"Recovered\", \"Count\": 122886}, {\"Date\": \"2021-04-17T00:00:00\", \"Cases\": \"Recovered\", \"Count\": 138209}, {\"Date\": \"2021-04-18T00:00:00\", \"Cases\": \"Recovered\", \"Count\": 143839}, {\"Date\": \"2021-04-19T00:00:00\", \"Cases\": \"Recovered\", \"Count\": 154357}, {\"Date\": \"2021-04-20T00:00:00\", \"Cases\": \"Recovered\", \"Count\": 166656}, {\"Date\": \"2021-04-21T00:00:00\", \"Cases\": \"Recovered\", \"Count\": 179434}, {\"Date\": \"2021-04-22T00:00:00\", \"Cases\": \"Recovered\", \"Count\": 192317}, {\"Date\": \"2021-04-23T00:00:00\", \"Cases\": \"Recovered\", \"Count\": 220545}, {\"Date\": \"2021-04-24T00:00:00\", \"Cases\": \"Recovered\", \"Count\": 215809}, {\"Date\": \"2021-04-25T00:00:00\", \"Cases\": \"Recovered\", \"Count\": 218626}, {\"Date\": \"2021-04-26T00:00:00\", \"Cases\": \"Recovered\", \"Count\": 249009}, {\"Date\": \"2021-04-27T00:00:00\", \"Cases\": \"Recovered\", \"Count\": 262349}, {\"Date\": \"2021-04-28T00:00:00\", \"Cases\": \"Recovered\", \"Count\": 274171}, {\"Date\": \"2021-04-29T00:00:00\", \"Cases\": \"Recovered\", \"Count\": 291727}, {\"Date\": \"2021-04-30T00:00:00\", \"Cases\": \"Recovered\", \"Count\": 299198}, {\"Date\": \"2021-04-01T00:00:00\", \"Cases\": \"Deceased\", \"Count\": 468}, {\"Date\": \"2021-04-02T00:00:00\", \"Cases\": \"Deceased\", \"Count\": 713}, {\"Date\": \"2021-04-03T00:00:00\", \"Cases\": \"Deceased\", \"Count\": 514}, {\"Date\": \"2021-04-04T00:00:00\", \"Cases\": \"Deceased\", \"Count\": 477}, {\"Date\": \"2021-04-05T00:00:00\", \"Cases\": \"Deceased\", \"Count\": 446}, {\"Date\": \"2021-04-06T00:00:00\", \"Cases\": \"Deceased\", \"Count\": 630}, {\"Date\": \"2021-04-07T00:00:00\", \"Cases\": \"Deceased\", \"Count\": 684}, {\"Date\": \"2021-04-08T00:00:00\", \"Cases\": \"Deceased\", \"Count\": 802}, {\"Date\": \"2021-04-09T00:00:00\", \"Cases\": \"Deceased\", \"Count\": 773}, {\"Date\": \"2021-04-10T00:00:00\", \"Cases\": \"Deceased\", \"Count\": 838}, {\"Date\": \"2021-04-11T00:00:00\", \"Cases\": \"Deceased\", \"Count\": 904}, {\"Date\": \"2021-04-12T00:00:00\", \"Cases\": \"Deceased\", \"Count\": 880}, {\"Date\": \"2021-04-13T00:00:00\", \"Cases\": \"Deceased\", \"Count\": 1026}, {\"Date\": \"2021-04-14T00:00:00\", \"Cases\": \"Deceased\", \"Count\": 1038}, {\"Date\": \"2021-04-15T00:00:00\", \"Cases\": \"Deceased\", \"Count\": 1184}, {\"Date\": \"2021-04-16T00:00:00\", \"Cases\": \"Deceased\", \"Count\": 1338}, {\"Date\": \"2021-04-17T00:00:00\", \"Cases\": \"Deceased\", \"Count\": 1498}, {\"Date\": \"2021-04-18T00:00:00\", \"Cases\": \"Deceased\", \"Count\": 1620}, {\"Date\": \"2021-04-19T00:00:00\", \"Cases\": \"Deceased\", \"Count\": 1757}, {\"Date\": \"2021-04-20T00:00:00\", \"Cases\": \"Deceased\", \"Count\": 2021}, {\"Date\": \"2021-04-21T00:00:00\", \"Cases\": \"Deceased\", \"Count\": 2101}, {\"Date\": \"2021-04-22T00:00:00\", \"Cases\": \"Deceased\", \"Count\": 2257}, {\"Date\": \"2021-04-23T00:00:00\", \"Cases\": \"Deceased\", \"Count\": 2620}, {\"Date\": \"2021-04-24T00:00:00\", \"Cases\": \"Deceased\", \"Count\": 2761}, {\"Date\": \"2021-04-25T00:00:00\", \"Cases\": \"Deceased\", \"Count\": 2808}, {\"Date\": \"2021-04-26T00:00:00\", \"Cases\": \"Deceased\", \"Count\": 2762}, {\"Date\": \"2021-04-27T00:00:00\", \"Cases\": \"Deceased\", \"Count\": 3286}, {\"Date\": \"2021-04-28T00:00:00\", \"Cases\": \"Deceased\", \"Count\": 3646}, {\"Date\": \"2021-04-29T00:00:00\", \"Cases\": \"Deceased\", \"Count\": 3502}, {\"Date\": \"2021-04-30T00:00:00\", \"Cases\": \"Deceased\", \"Count\": 3525}], \"data-0976897e996e4be08ab34c37eb294235\": [{\"Date\": \"2021-04-30T00:00:00\", \"Cases\": \"Confirmed\", \"Count\": 402014}, {\"Date\": \"2021-04-30T00:00:00\", \"Cases\": \"Recovered\", \"Count\": 299198}, {\"Date\": \"2021-04-30T00:00:00\", \"Cases\": \"Deceased\", \"Count\": 3525}]}}, {\"mode\": \"vega-lite\"});\n",
       "</script>"
      ],
      "text/plain": [
       "alt.LayerChart(...)"
      ]
     },
     "execution_count": 5,
     "metadata": {},
     "output_type": "execute_result"
    }
   ],
   "source": [
    "hover = alt.selection_single(on='mouseover')\n",
    "scale = alt.Scale(domain=['Confirmed', 'Recovered', 'Deceased'],\n",
    "                  range=['red', 'green', 'purple'])\n",
    "line = alt.Chart(latest_30_df).mark_line(point=True, strokeWidth=3).encode(\n",
    "    x=alt.X('Date:T', axis=alt.Axis(offset=3)),\n",
    "    y='Count:Q',color=alt.Color('Cases:N',scale=scale),\n",
    "    opacity=alt.condition(hover, alt.value(1.0), alt.value(0.5))\n",
    ").properties(width=550,height=250,selection=hover)\n",
    "text = alt.Chart(latest_30_df.query(\"Date == Date.max()\")).mark_text(\n",
    "    dx=-25,dy=-12, fontSize=25).encode(x='Date:T',\n",
    "                                       y='Count:Q',\n",
    "                                       text='Count:Q',color=alt.Color('Cases:N',scale=scale))\n",
    "alt.layer(line,text,data = latest_30_df).configure(background='black').configure_axis(grid=False).configure_view(strokeWidth=0)"
   ]
  },
  {
   "cell_type": "code",
   "execution_count": 6,
   "id": "d24c8df8",
   "metadata": {},
   "outputs": [
    {
     "data": {
      "text/html": [
       "<div>\n",
       "<style scoped>\n",
       "    .dataframe tbody tr th:only-of-type {\n",
       "        vertical-align: middle;\n",
       "    }\n",
       "\n",
       "    .dataframe tbody tr th {\n",
       "        vertical-align: top;\n",
       "    }\n",
       "\n",
       "    .dataframe thead th {\n",
       "        text-align: right;\n",
       "    }\n",
       "</style>\n",
       "<table border=\"1\" class=\"dataframe\">\n",
       "  <thead>\n",
       "    <tr style=\"text-align: right;\">\n",
       "      <th></th>\n",
       "      <th>Date</th>\n",
       "      <th>Daily Confirmed</th>\n",
       "      <th>Total Confirmed</th>\n",
       "      <th>Daily Recovered</th>\n",
       "      <th>Total Recovered</th>\n",
       "      <th>Daily Deceased</th>\n",
       "      <th>Total Deceased</th>\n",
       "    </tr>\n",
       "  </thead>\n",
       "  <tbody>\n",
       "    <tr>\n",
       "      <th>0</th>\n",
       "      <td>2020-01-30</td>\n",
       "      <td>1</td>\n",
       "      <td>1</td>\n",
       "      <td>0</td>\n",
       "      <td>0</td>\n",
       "      <td>0</td>\n",
       "      <td>0</td>\n",
       "    </tr>\n",
       "    <tr>\n",
       "      <th>1</th>\n",
       "      <td>2020-01-31</td>\n",
       "      <td>0</td>\n",
       "      <td>1</td>\n",
       "      <td>0</td>\n",
       "      <td>0</td>\n",
       "      <td>0</td>\n",
       "      <td>0</td>\n",
       "    </tr>\n",
       "    <tr>\n",
       "      <th>2</th>\n",
       "      <td>2020-02-01</td>\n",
       "      <td>0</td>\n",
       "      <td>1</td>\n",
       "      <td>0</td>\n",
       "      <td>0</td>\n",
       "      <td>0</td>\n",
       "      <td>0</td>\n",
       "    </tr>\n",
       "    <tr>\n",
       "      <th>3</th>\n",
       "      <td>2020-02-02</td>\n",
       "      <td>1</td>\n",
       "      <td>2</td>\n",
       "      <td>0</td>\n",
       "      <td>0</td>\n",
       "      <td>0</td>\n",
       "      <td>0</td>\n",
       "    </tr>\n",
       "    <tr>\n",
       "      <th>4</th>\n",
       "      <td>2020-02-03</td>\n",
       "      <td>1</td>\n",
       "      <td>3</td>\n",
       "      <td>0</td>\n",
       "      <td>0</td>\n",
       "      <td>0</td>\n",
       "      <td>0</td>\n",
       "    </tr>\n",
       "  </tbody>\n",
       "</table>\n",
       "</div>"
      ],
      "text/plain": [
       "        Date  Daily Confirmed  Total Confirmed  Daily Recovered  \\\n",
       "0 2020-01-30                1                1                0   \n",
       "1 2020-01-31                0                1                0   \n",
       "2 2020-02-01                0                1                0   \n",
       "3 2020-02-02                1                2                0   \n",
       "4 2020-02-03                1                3                0   \n",
       "\n",
       "   Total Recovered  Daily Deceased  Total Deceased  \n",
       "0                0               0               0  \n",
       "1                0               0               0  \n",
       "2                0               0               0  \n",
       "3                0               0               0  \n",
       "4                0               0               0  "
      ]
     },
     "execution_count": 6,
     "metadata": {},
     "output_type": "execute_result"
    }
   ],
   "source": [
    "country_df.head()"
   ]
  },
  {
   "cell_type": "code",
   "execution_count": 7,
   "id": "bcbe9e65",
   "metadata": {},
   "outputs": [
    {
     "data": {
      "text/html": [
       "\n",
       "<div id=\"altair-viz-58b23beef2db4bed9f51951047375506\"></div>\n",
       "<script type=\"text/javascript\">\n",
       "  (function(spec, embedOpt){\n",
       "    let outputDiv = document.currentScript.previousElementSibling;\n",
       "    if (outputDiv.id !== \"altair-viz-58b23beef2db4bed9f51951047375506\") {\n",
       "      outputDiv = document.getElementById(\"altair-viz-58b23beef2db4bed9f51951047375506\");\n",
       "    }\n",
       "    const paths = {\n",
       "      \"vega\": \"https://cdn.jsdelivr.net/npm//vega@5?noext\",\n",
       "      \"vega-lib\": \"https://cdn.jsdelivr.net/npm//vega-lib?noext\",\n",
       "      \"vega-lite\": \"https://cdn.jsdelivr.net/npm//vega-lite@4.8.1?noext\",\n",
       "      \"vega-embed\": \"https://cdn.jsdelivr.net/npm//vega-embed@6?noext\",\n",
       "    };\n",
       "\n",
       "    function loadScript(lib) {\n",
       "      return new Promise(function(resolve, reject) {\n",
       "        var s = document.createElement('script');\n",
       "        s.src = paths[lib];\n",
       "        s.async = true;\n",
       "        s.onload = () => resolve(paths[lib]);\n",
       "        s.onerror = () => reject(`Error loading script: ${paths[lib]}`);\n",
       "        document.getElementsByTagName(\"head\")[0].appendChild(s);\n",
       "      });\n",
       "    }\n",
       "\n",
       "    function showError(err) {\n",
       "      outputDiv.innerHTML = `<div class=\"error\" style=\"color:red;\">${err}</div>`;\n",
       "      throw err;\n",
       "    }\n",
       "\n",
       "    function displayChart(vegaEmbed) {\n",
       "      vegaEmbed(outputDiv, spec, embedOpt)\n",
       "        .catch(err => showError(`Javascript Error: ${err.message}<br>This usually means there's a typo in your chart specification. See the javascript console for the full traceback.`));\n",
       "    }\n",
       "\n",
       "    if(typeof define === \"function\" && define.amd) {\n",
       "      requirejs.config({paths});\n",
       "      require([\"vega-embed\"], displayChart, err => showError(`Error loading script: ${err.message}`));\n",
       "    } else if (typeof vegaEmbed === \"function\") {\n",
       "      displayChart(vegaEmbed);\n",
       "    } else {\n",
       "      loadScript(\"vega\")\n",
       "        .then(() => loadScript(\"vega-lite\"))\n",
       "        .then(() => loadScript(\"vega-embed\"))\n",
       "        .catch(showError)\n",
       "        .then(() => displayChart(vegaEmbed));\n",
       "    }\n",
       "  })({\"usermeta\": {\"embedOptions\": {\"theme\": \"dark\"}}, \"config\": {\"view\": {\"continuousWidth\": 400, \"continuousHeight\": 300, \"strokeWidth\": 0}, \"axis\": {\"grid\": false}, \"background\": \"black\"}, \"layer\": [{\"mark\": \"line\", \"encoding\": {\"color\": {\"value\": \"red\"}, \"x\": {\"type\": \"temporal\", \"axis\": {\"offset\": 2}, \"field\": \"Date\"}, \"y\": {\"type\": \"quantitative\", \"field\": \"Daily Confirmed\"}}, \"height\": 370, \"selection\": {\"selector003\": {\"type\": \"interval\", \"bind\": \"scales\", \"encodings\": [\"x\", \"y\"]}, \"selector004\": {\"type\": \"interval\", \"bind\": \"scales\", \"encodings\": [\"x\", \"y\"]}}, \"title\": \"Confirmed Cases\", \"width\": 680}, {\"mark\": \"point\", \"encoding\": {\"color\": {\"value\": \"red\"}, \"opacity\": {\"value\": 0.0}, \"x\": {\"type\": \"temporal\", \"axis\": {\"offset\": 2}, \"field\": \"Date\"}, \"y\": {\"type\": \"quantitative\", \"field\": \"Daily Confirmed\"}}, \"height\": 370, \"selection\": {\"selector002\": {\"type\": \"single\", \"on\": \"mouseover\", \"nearest\": true, \"fields\": [\"Date\"]}}, \"title\": \"Confirmed Cases\", \"width\": 680}, {\"mark\": {\"type\": \"text\", \"align\": \"right\", \"dy\": -2, \"fontSize\": 20}, \"encoding\": {\"color\": {\"value\": \"white\"}, \"detail\": {\"type\": \"quantitative\", \"field\": \"Daily Confirmed\"}, \"opacity\": {\"condition\": {\"value\": 0.8, \"selection\": \"selector002\"}, \"value\": 0.0}, \"text\": {\"type\": \"quantitative\", \"field\": \"Daily Confirmed\"}, \"x\": {\"type\": \"temporal\", \"field\": \"Date\"}, \"y\": {\"type\": \"quantitative\", \"field\": \"Daily Confirmed\"}}}], \"data\": {\"name\": \"data-0271ca5197d76ab69871c716213a641b\"}, \"$schema\": \"https://vega.github.io/schema/vega-lite/v4.8.1.json\", \"datasets\": {\"data-0271ca5197d76ab69871c716213a641b\": [{\"Date\": \"2020-01-30T00:00:00\", \"Daily Confirmed\": 1, \"Total Confirmed\": 1, \"Daily Recovered\": 0, \"Total Recovered\": 0, \"Daily Deceased\": 0, \"Total Deceased\": 0}, {\"Date\": \"2020-01-31T00:00:00\", \"Daily Confirmed\": 0, \"Total Confirmed\": 1, \"Daily Recovered\": 0, \"Total Recovered\": 0, \"Daily Deceased\": 0, \"Total Deceased\": 0}, {\"Date\": \"2020-02-01T00:00:00\", \"Daily Confirmed\": 0, \"Total Confirmed\": 1, \"Daily Recovered\": 0, \"Total Recovered\": 0, \"Daily Deceased\": 0, \"Total Deceased\": 0}, {\"Date\": \"2020-02-02T00:00:00\", \"Daily Confirmed\": 1, \"Total Confirmed\": 2, \"Daily Recovered\": 0, \"Total Recovered\": 0, \"Daily Deceased\": 0, \"Total Deceased\": 0}, {\"Date\": \"2020-02-03T00:00:00\", \"Daily Confirmed\": 1, \"Total Confirmed\": 3, \"Daily Recovered\": 0, \"Total Recovered\": 0, \"Daily Deceased\": 0, \"Total Deceased\": 0}, {\"Date\": \"2020-02-04T00:00:00\", \"Daily Confirmed\": 0, \"Total Confirmed\": 3, \"Daily Recovered\": 0, \"Total Recovered\": 0, \"Daily Deceased\": 0, \"Total Deceased\": 0}, {\"Date\": \"2020-02-05T00:00:00\", \"Daily Confirmed\": 0, \"Total Confirmed\": 3, \"Daily Recovered\": 0, \"Total Recovered\": 0, \"Daily Deceased\": 0, \"Total Deceased\": 0}, {\"Date\": \"2020-02-06T00:00:00\", \"Daily Confirmed\": 0, \"Total Confirmed\": 3, \"Daily Recovered\": 0, \"Total Recovered\": 0, \"Daily Deceased\": 0, \"Total Deceased\": 0}, {\"Date\": \"2020-02-07T00:00:00\", \"Daily Confirmed\": 0, \"Total Confirmed\": 3, \"Daily Recovered\": 0, \"Total Recovered\": 0, \"Daily Deceased\": 0, \"Total Deceased\": 0}, {\"Date\": \"2020-02-08T00:00:00\", \"Daily Confirmed\": 0, \"Total Confirmed\": 3, \"Daily Recovered\": 0, \"Total Recovered\": 0, \"Daily Deceased\": 0, \"Total Deceased\": 0}, {\"Date\": \"2020-02-09T00:00:00\", \"Daily Confirmed\": 0, \"Total Confirmed\": 3, \"Daily Recovered\": 0, \"Total Recovered\": 0, \"Daily Deceased\": 0, \"Total Deceased\": 0}, {\"Date\": \"2020-02-10T00:00:00\", \"Daily Confirmed\": 0, \"Total Confirmed\": 3, \"Daily Recovered\": 0, \"Total Recovered\": 0, \"Daily Deceased\": 0, \"Total Deceased\": 0}, {\"Date\": \"2020-02-11T00:00:00\", \"Daily Confirmed\": 0, \"Total Confirmed\": 3, \"Daily Recovered\": 0, \"Total Recovered\": 0, \"Daily Deceased\": 0, \"Total Deceased\": 0}, {\"Date\": \"2020-02-12T00:00:00\", \"Daily Confirmed\": 0, \"Total Confirmed\": 3, \"Daily Recovered\": 0, \"Total Recovered\": 0, \"Daily Deceased\": 0, \"Total Deceased\": 0}, {\"Date\": \"2020-02-13T00:00:00\", \"Daily Confirmed\": 0, \"Total Confirmed\": 3, \"Daily Recovered\": 1, \"Total Recovered\": 1, \"Daily Deceased\": 0, \"Total Deceased\": 0}, {\"Date\": \"2020-02-14T00:00:00\", \"Daily Confirmed\": 0, \"Total Confirmed\": 3, \"Daily Recovered\": 0, \"Total Recovered\": 1, \"Daily Deceased\": 0, \"Total Deceased\": 0}, {\"Date\": \"2020-02-15T00:00:00\", \"Daily Confirmed\": 0, \"Total Confirmed\": 3, \"Daily Recovered\": 0, \"Total Recovered\": 1, \"Daily Deceased\": 0, \"Total Deceased\": 0}, {\"Date\": \"2020-02-16T00:00:00\", \"Daily Confirmed\": 0, \"Total Confirmed\": 3, \"Daily Recovered\": 1, \"Total Recovered\": 2, \"Daily Deceased\": 0, \"Total Deceased\": 0}, {\"Date\": \"2020-02-17T00:00:00\", \"Daily Confirmed\": 0, \"Total Confirmed\": 3, \"Daily Recovered\": 0, \"Total Recovered\": 2, \"Daily Deceased\": 0, \"Total Deceased\": 0}, {\"Date\": \"2020-02-18T00:00:00\", \"Daily Confirmed\": 0, \"Total Confirmed\": 3, \"Daily Recovered\": 0, \"Total Recovered\": 2, \"Daily Deceased\": 0, \"Total Deceased\": 0}, {\"Date\": \"2020-02-19T00:00:00\", \"Daily Confirmed\": 0, \"Total Confirmed\": 3, \"Daily Recovered\": 0, \"Total Recovered\": 2, \"Daily Deceased\": 0, \"Total Deceased\": 0}, {\"Date\": \"2020-02-20T00:00:00\", \"Daily Confirmed\": 0, \"Total Confirmed\": 3, \"Daily Recovered\": 1, \"Total Recovered\": 3, \"Daily Deceased\": 0, \"Total Deceased\": 0}, {\"Date\": \"2020-02-21T00:00:00\", \"Daily Confirmed\": 0, \"Total Confirmed\": 3, \"Daily Recovered\": 0, \"Total Recovered\": 3, \"Daily Deceased\": 0, \"Total Deceased\": 0}, {\"Date\": \"2020-02-22T00:00:00\", \"Daily Confirmed\": 0, \"Total Confirmed\": 3, \"Daily Recovered\": 0, \"Total Recovered\": 3, \"Daily Deceased\": 0, \"Total Deceased\": 0}, {\"Date\": \"2020-02-23T00:00:00\", \"Daily Confirmed\": 0, \"Total Confirmed\": 3, \"Daily Recovered\": 0, \"Total Recovered\": 3, \"Daily Deceased\": 0, \"Total Deceased\": 0}, {\"Date\": \"2020-02-24T00:00:00\", \"Daily Confirmed\": 0, \"Total Confirmed\": 3, \"Daily Recovered\": 0, \"Total Recovered\": 3, \"Daily Deceased\": 0, \"Total Deceased\": 0}, {\"Date\": \"2020-02-25T00:00:00\", \"Daily Confirmed\": 0, \"Total Confirmed\": 3, \"Daily Recovered\": 0, \"Total Recovered\": 3, \"Daily Deceased\": 0, \"Total Deceased\": 0}, {\"Date\": \"2020-02-26T00:00:00\", \"Daily Confirmed\": 0, \"Total Confirmed\": 3, \"Daily Recovered\": 0, \"Total Recovered\": 3, \"Daily Deceased\": 0, \"Total Deceased\": 0}, {\"Date\": \"2020-02-27T00:00:00\", \"Daily Confirmed\": 0, \"Total Confirmed\": 3, \"Daily Recovered\": 0, \"Total Recovered\": 3, \"Daily Deceased\": 0, \"Total Deceased\": 0}, {\"Date\": \"2020-02-28T00:00:00\", \"Daily Confirmed\": 0, \"Total Confirmed\": 3, \"Daily Recovered\": 0, \"Total Recovered\": 3, \"Daily Deceased\": 0, \"Total Deceased\": 0}, {\"Date\": \"2020-02-29T00:00:00\", \"Daily Confirmed\": 0, \"Total Confirmed\": 3, \"Daily Recovered\": 0, \"Total Recovered\": 3, \"Daily Deceased\": 0, \"Total Deceased\": 0}, {\"Date\": \"2020-03-01T00:00:00\", \"Daily Confirmed\": 0, \"Total Confirmed\": 3, \"Daily Recovered\": 0, \"Total Recovered\": 3, \"Daily Deceased\": 0, \"Total Deceased\": 0}, {\"Date\": \"2020-03-02T00:00:00\", \"Daily Confirmed\": 2, \"Total Confirmed\": 5, \"Daily Recovered\": 0, \"Total Recovered\": 3, \"Daily Deceased\": 0, \"Total Deceased\": 0}, {\"Date\": \"2020-03-03T00:00:00\", \"Daily Confirmed\": 1, \"Total Confirmed\": 6, \"Daily Recovered\": 0, \"Total Recovered\": 3, \"Daily Deceased\": 0, \"Total Deceased\": 0}, {\"Date\": \"2020-03-04T00:00:00\", \"Daily Confirmed\": 22, \"Total Confirmed\": 28, \"Daily Recovered\": 0, \"Total Recovered\": 3, \"Daily Deceased\": 0, \"Total Deceased\": 0}, {\"Date\": \"2020-03-05T00:00:00\", \"Daily Confirmed\": 2, \"Total Confirmed\": 30, \"Daily Recovered\": 0, \"Total Recovered\": 3, \"Daily Deceased\": 0, \"Total Deceased\": 0}, {\"Date\": \"2020-03-06T00:00:00\", \"Daily Confirmed\": 1, \"Total Confirmed\": 31, \"Daily Recovered\": 0, \"Total Recovered\": 3, \"Daily Deceased\": 0, \"Total Deceased\": 0}, {\"Date\": \"2020-03-07T00:00:00\", \"Daily Confirmed\": 3, \"Total Confirmed\": 34, \"Daily Recovered\": 0, \"Total Recovered\": 3, \"Daily Deceased\": 0, \"Total Deceased\": 0}, {\"Date\": \"2020-03-08T00:00:00\", \"Daily Confirmed\": 5, \"Total Confirmed\": 39, \"Daily Recovered\": 0, \"Total Recovered\": 3, \"Daily Deceased\": 0, \"Total Deceased\": 0}, {\"Date\": \"2020-03-09T00:00:00\", \"Daily Confirmed\": 9, \"Total Confirmed\": 48, \"Daily Recovered\": 0, \"Total Recovered\": 3, \"Daily Deceased\": 0, \"Total Deceased\": 0}, {\"Date\": \"2020-03-10T00:00:00\", \"Daily Confirmed\": 15, \"Total Confirmed\": 63, \"Daily Recovered\": 1, \"Total Recovered\": 4, \"Daily Deceased\": 0, \"Total Deceased\": 0}, {\"Date\": \"2020-03-11T00:00:00\", \"Daily Confirmed\": 8, \"Total Confirmed\": 71, \"Daily Recovered\": 0, \"Total Recovered\": 4, \"Daily Deceased\": 0, \"Total Deceased\": 0}, {\"Date\": \"2020-03-12T00:00:00\", \"Daily Confirmed\": 10, \"Total Confirmed\": 81, \"Daily Recovered\": 0, \"Total Recovered\": 4, \"Daily Deceased\": 1, \"Total Deceased\": 1}, {\"Date\": \"2020-03-13T00:00:00\", \"Daily Confirmed\": 10, \"Total Confirmed\": 91, \"Daily Recovered\": 6, \"Total Recovered\": 10, \"Daily Deceased\": 0, \"Total Deceased\": 1}, {\"Date\": \"2020-03-14T00:00:00\", \"Daily Confirmed\": 11, \"Total Confirmed\": 102, \"Daily Recovered\": 0, \"Total Recovered\": 10, \"Daily Deceased\": 1, \"Total Deceased\": 2}, {\"Date\": \"2020-03-15T00:00:00\", \"Daily Confirmed\": 10, \"Total Confirmed\": 112, \"Daily Recovered\": 3, \"Total Recovered\": 13, \"Daily Deceased\": 0, \"Total Deceased\": 2}, {\"Date\": \"2020-03-16T00:00:00\", \"Daily Confirmed\": 14, \"Total Confirmed\": 126, \"Daily Recovered\": 1, \"Total Recovered\": 14, \"Daily Deceased\": 0, \"Total Deceased\": 2}, {\"Date\": \"2020-03-17T00:00:00\", \"Daily Confirmed\": 20, \"Total Confirmed\": 146, \"Daily Recovered\": 1, \"Total Recovered\": 15, \"Daily Deceased\": 1, \"Total Deceased\": 3}, {\"Date\": \"2020-03-18T00:00:00\", \"Daily Confirmed\": 25, \"Total Confirmed\": 171, \"Daily Recovered\": 0, \"Total Recovered\": 15, \"Daily Deceased\": 0, \"Total Deceased\": 3}, {\"Date\": \"2020-03-19T00:00:00\", \"Daily Confirmed\": 27, \"Total Confirmed\": 198, \"Daily Recovered\": 5, \"Total Recovered\": 20, \"Daily Deceased\": 1, \"Total Deceased\": 4}, {\"Date\": \"2020-03-20T00:00:00\", \"Daily Confirmed\": 58, \"Total Confirmed\": 256, \"Daily Recovered\": 3, \"Total Recovered\": 23, \"Daily Deceased\": 0, \"Total Deceased\": 4}, {\"Date\": \"2020-03-21T00:00:00\", \"Daily Confirmed\": 78, \"Total Confirmed\": 334, \"Daily Recovered\": 0, \"Total Recovered\": 23, \"Daily Deceased\": 0, \"Total Deceased\": 4}, {\"Date\": \"2020-03-22T00:00:00\", \"Daily Confirmed\": 69, \"Total Confirmed\": 403, \"Daily Recovered\": 0, \"Total Recovered\": 23, \"Daily Deceased\": 3, \"Total Deceased\": 7}, {\"Date\": \"2020-03-23T00:00:00\", \"Daily Confirmed\": 94, \"Total Confirmed\": 497, \"Daily Recovered\": 2, \"Total Recovered\": 25, \"Daily Deceased\": 2, \"Total Deceased\": 9}, {\"Date\": \"2020-03-24T00:00:00\", \"Daily Confirmed\": 74, \"Total Confirmed\": 571, \"Daily Recovered\": 15, \"Total Recovered\": 40, \"Daily Deceased\": 1, \"Total Deceased\": 10}, {\"Date\": \"2020-03-25T00:00:00\", \"Daily Confirmed\": 86, \"Total Confirmed\": 657, \"Daily Recovered\": 3, \"Total Recovered\": 43, \"Daily Deceased\": 1, \"Total Deceased\": 11}, {\"Date\": \"2020-03-26T00:00:00\", \"Daily Confirmed\": 73, \"Total Confirmed\": 730, \"Daily Recovered\": 7, \"Total Recovered\": 50, \"Daily Deceased\": 5, \"Total Deceased\": 16}, {\"Date\": \"2020-03-27T00:00:00\", \"Daily Confirmed\": 153, \"Total Confirmed\": 883, \"Daily Recovered\": 25, \"Total Recovered\": 75, \"Daily Deceased\": 3, \"Total Deceased\": 19}, {\"Date\": \"2020-03-28T00:00:00\", \"Daily Confirmed\": 136, \"Total Confirmed\": 1019, \"Daily Recovered\": 10, \"Total Recovered\": 85, \"Daily Deceased\": 5, \"Total Deceased\": 24}, {\"Date\": \"2020-03-29T00:00:00\", \"Daily Confirmed\": 120, \"Total Confirmed\": 1139, \"Daily Recovered\": 17, \"Total Recovered\": 102, \"Daily Deceased\": 3, \"Total Deceased\": 27}, {\"Date\": \"2020-03-30T00:00:00\", \"Daily Confirmed\": 187, \"Total Confirmed\": 1326, \"Daily Recovered\": 35, \"Total Recovered\": 137, \"Daily Deceased\": 14, \"Total Deceased\": 41}, {\"Date\": \"2020-03-31T00:00:00\", \"Daily Confirmed\": 309, \"Total Confirmed\": 1635, \"Daily Recovered\": 13, \"Total Recovered\": 150, \"Daily Deceased\": 6, \"Total Deceased\": 47}, {\"Date\": \"2020-04-01T00:00:00\", \"Daily Confirmed\": 424, \"Total Confirmed\": 2059, \"Daily Recovered\": 19, \"Total Recovered\": 169, \"Daily Deceased\": 6, \"Total Deceased\": 53}, {\"Date\": \"2020-04-02T00:00:00\", \"Daily Confirmed\": 486, \"Total Confirmed\": 2545, \"Daily Recovered\": 22, \"Total Recovered\": 191, \"Daily Deceased\": 16, \"Total Deceased\": 69}, {\"Date\": \"2020-04-03T00:00:00\", \"Daily Confirmed\": 560, \"Total Confirmed\": 3105, \"Daily Recovered\": 39, \"Total Recovered\": 230, \"Daily Deceased\": 14, \"Total Deceased\": 83}, {\"Date\": \"2020-04-04T00:00:00\", \"Daily Confirmed\": 579, \"Total Confirmed\": 3684, \"Daily Recovered\": 56, \"Total Recovered\": 286, \"Daily Deceased\": 13, \"Total Deceased\": 96}, {\"Date\": \"2020-04-05T00:00:00\", \"Daily Confirmed\": 609, \"Total Confirmed\": 4293, \"Daily Recovered\": 43, \"Total Recovered\": 329, \"Daily Deceased\": 22, \"Total Deceased\": 118}, {\"Date\": \"2020-04-06T00:00:00\", \"Daily Confirmed\": 484, \"Total Confirmed\": 4777, \"Daily Recovered\": 65, \"Total Recovered\": 394, \"Daily Deceased\": 16, \"Total Deceased\": 134}, {\"Date\": \"2020-04-07T00:00:00\", \"Daily Confirmed\": 573, \"Total Confirmed\": 5350, \"Daily Recovered\": 75, \"Total Recovered\": 469, \"Daily Deceased\": 27, \"Total Deceased\": 161}, {\"Date\": \"2020-04-08T00:00:00\", \"Daily Confirmed\": 565, \"Total Confirmed\": 5915, \"Daily Recovered\": 96, \"Total Recovered\": 565, \"Daily Deceased\": 20, \"Total Deceased\": 181}, {\"Date\": \"2020-04-09T00:00:00\", \"Daily Confirmed\": 813, \"Total Confirmed\": 6728, \"Daily Recovered\": 70, \"Total Recovered\": 635, \"Daily Deceased\": 46, \"Total Deceased\": 227}, {\"Date\": \"2020-04-10T00:00:00\", \"Daily Confirmed\": 871, \"Total Confirmed\": 7599, \"Daily Recovered\": 151, \"Total Recovered\": 786, \"Daily Deceased\": 22, \"Total Deceased\": 249}, {\"Date\": \"2020-04-11T00:00:00\", \"Daily Confirmed\": 854, \"Total Confirmed\": 8453, \"Daily Recovered\": 186, \"Total Recovered\": 972, \"Daily Deceased\": 41, \"Total Deceased\": 290}, {\"Date\": \"2020-04-12T00:00:00\", \"Daily Confirmed\": 758, \"Total Confirmed\": 9211, \"Daily Recovered\": 114, \"Total Recovered\": 1086, \"Daily Deceased\": 42, \"Total Deceased\": 332}, {\"Date\": \"2020-04-13T00:00:00\", \"Daily Confirmed\": 1243, \"Total Confirmed\": 10454, \"Daily Recovered\": 112, \"Total Recovered\": 1198, \"Daily Deceased\": 27, \"Total Deceased\": 359}, {\"Date\": \"2020-04-14T00:00:00\", \"Daily Confirmed\": 1031, \"Total Confirmed\": 11485, \"Daily Recovered\": 167, \"Total Recovered\": 1365, \"Daily Deceased\": 37, \"Total Deceased\": 396}, {\"Date\": \"2020-04-15T00:00:00\", \"Daily Confirmed\": 886, \"Total Confirmed\": 12371, \"Daily Recovered\": 144, \"Total Recovered\": 1509, \"Daily Deceased\": 27, \"Total Deceased\": 423}, {\"Date\": \"2020-04-16T00:00:00\", \"Daily Confirmed\": 1061, \"Total Confirmed\": 13432, \"Daily Recovered\": 258, \"Total Recovered\": 1767, \"Daily Deceased\": 26, \"Total Deceased\": 449}, {\"Date\": \"2020-04-17T00:00:00\", \"Daily Confirmed\": 922, \"Total Confirmed\": 14354, \"Daily Recovered\": 273, \"Total Recovered\": 2040, \"Daily Deceased\": 38, \"Total Deceased\": 487}, {\"Date\": \"2020-04-18T00:00:00\", \"Daily Confirmed\": 1371, \"Total Confirmed\": 15725, \"Daily Recovered\": 426, \"Total Recovered\": 2466, \"Daily Deceased\": 35, \"Total Deceased\": 522}, {\"Date\": \"2020-04-19T00:00:00\", \"Daily Confirmed\": 1580, \"Total Confirmed\": 17305, \"Daily Recovered\": 388, \"Total Recovered\": 2854, \"Daily Deceased\": 38, \"Total Deceased\": 560}, {\"Date\": \"2020-04-20T00:00:00\", \"Daily Confirmed\": 1239, \"Total Confirmed\": 18544, \"Daily Recovered\": 419, \"Total Recovered\": 3273, \"Daily Deceased\": 33, \"Total Deceased\": 593}, {\"Date\": \"2020-04-21T00:00:00\", \"Daily Confirmed\": 1537, \"Total Confirmed\": 20081, \"Daily Recovered\": 703, \"Total Recovered\": 3976, \"Daily Deceased\": 53, \"Total Deceased\": 646}, {\"Date\": \"2020-04-22T00:00:00\", \"Daily Confirmed\": 1292, \"Total Confirmed\": 21373, \"Daily Recovered\": 394, \"Total Recovered\": 4370, \"Daily Deceased\": 36, \"Total Deceased\": 682}, {\"Date\": \"2020-04-23T00:00:00\", \"Daily Confirmed\": 1667, \"Total Confirmed\": 23040, \"Daily Recovered\": 642, \"Total Recovered\": 5012, \"Daily Deceased\": 40, \"Total Deceased\": 722}, {\"Date\": \"2020-04-24T00:00:00\", \"Daily Confirmed\": 1408, \"Total Confirmed\": 24448, \"Daily Recovered\": 484, \"Total Recovered\": 5496, \"Daily Deceased\": 59, \"Total Deceased\": 781}, {\"Date\": \"2020-04-25T00:00:00\", \"Daily Confirmed\": 1835, \"Total Confirmed\": 26283, \"Daily Recovered\": 442, \"Total Recovered\": 5938, \"Daily Deceased\": 44, \"Total Deceased\": 825}, {\"Date\": \"2020-04-26T00:00:00\", \"Daily Confirmed\": 1607, \"Total Confirmed\": 27890, \"Daily Recovered\": 585, \"Total Recovered\": 6523, \"Daily Deceased\": 56, \"Total Deceased\": 881}, {\"Date\": \"2020-04-27T00:00:00\", \"Daily Confirmed\": 1568, \"Total Confirmed\": 29458, \"Daily Recovered\": 580, \"Total Recovered\": 7103, \"Daily Deceased\": 58, \"Total Deceased\": 939}, {\"Date\": \"2020-04-28T00:00:00\", \"Daily Confirmed\": 1902, \"Total Confirmed\": 31360, \"Daily Recovered\": 636, \"Total Recovered\": 7739, \"Daily Deceased\": 69, \"Total Deceased\": 1008}, {\"Date\": \"2020-04-29T00:00:00\", \"Daily Confirmed\": 1705, \"Total Confirmed\": 33065, \"Daily Recovered\": 690, \"Total Recovered\": 8429, \"Daily Deceased\": 71, \"Total Deceased\": 1079}, {\"Date\": \"2020-04-30T00:00:00\", \"Daily Confirmed\": 1801, \"Total Confirmed\": 34866, \"Daily Recovered\": 630, \"Total Recovered\": 9059, \"Daily Deceased\": 75, \"Total Deceased\": 1154}, {\"Date\": \"2020-05-01T00:00:00\", \"Daily Confirmed\": 2396, \"Total Confirmed\": 37262, \"Daily Recovered\": 962, \"Total Recovered\": 10021, \"Daily Deceased\": 77, \"Total Deceased\": 1231}, {\"Date\": \"2020-05-02T00:00:00\", \"Daily Confirmed\": 2564, \"Total Confirmed\": 39826, \"Daily Recovered\": 831, \"Total Recovered\": 10852, \"Daily Deceased\": 92, \"Total Deceased\": 1323}, {\"Date\": \"2020-05-03T00:00:00\", \"Daily Confirmed\": 2952, \"Total Confirmed\": 42778, \"Daily Recovered\": 911, \"Total Recovered\": 11763, \"Daily Deceased\": 140, \"Total Deceased\": 1463}, {\"Date\": \"2020-05-04T00:00:00\", \"Daily Confirmed\": 3656, \"Total Confirmed\": 46434, \"Daily Recovered\": 1082, \"Total Recovered\": 12845, \"Daily Deceased\": 103, \"Total Deceased\": 1566}, {\"Date\": \"2020-05-05T00:00:00\", \"Daily Confirmed\": 2971, \"Total Confirmed\": 49405, \"Daily Recovered\": 1295, \"Total Recovered\": 14140, \"Daily Deceased\": 128, \"Total Deceased\": 1694}, {\"Date\": \"2020-05-06T00:00:00\", \"Daily Confirmed\": 3602, \"Total Confirmed\": 53007, \"Daily Recovered\": 1161, \"Total Recovered\": 15301, \"Daily Deceased\": 91, \"Total Deceased\": 1785}, {\"Date\": \"2020-05-07T00:00:00\", \"Daily Confirmed\": 3344, \"Total Confirmed\": 56351, \"Daily Recovered\": 1475, \"Total Recovered\": 16776, \"Daily Deceased\": 104, \"Total Deceased\": 1889}, {\"Date\": \"2020-05-08T00:00:00\", \"Daily Confirmed\": 3339, \"Total Confirmed\": 59690, \"Daily Recovered\": 1111, \"Total Recovered\": 17887, \"Daily Deceased\": 97, \"Total Deceased\": 1986}, {\"Date\": \"2020-05-09T00:00:00\", \"Daily Confirmed\": 3175, \"Total Confirmed\": 62865, \"Daily Recovered\": 1414, \"Total Recovered\": 19301, \"Daily Deceased\": 115, \"Total Deceased\": 2101}, {\"Date\": \"2020-05-10T00:00:00\", \"Daily Confirmed\": 4311, \"Total Confirmed\": 67176, \"Daily Recovered\": 1669, \"Total Recovered\": 20970, \"Daily Deceased\": 112, \"Total Deceased\": 2213}, {\"Date\": \"2020-05-11T00:00:00\", \"Daily Confirmed\": 3592, \"Total Confirmed\": 70768, \"Daily Recovered\": 1579, \"Total Recovered\": 22549, \"Daily Deceased\": 81, \"Total Deceased\": 2294}, {\"Date\": \"2020-05-12T00:00:00\", \"Daily Confirmed\": 3562, \"Total Confirmed\": 74330, \"Daily Recovered\": 1905, \"Total Recovered\": 24454, \"Daily Deceased\": 120, \"Total Deceased\": 2414}, {\"Date\": \"2020-05-13T00:00:00\", \"Daily Confirmed\": 3726, \"Total Confirmed\": 78056, \"Daily Recovered\": 1963, \"Total Recovered\": 26417, \"Daily Deceased\": 137, \"Total Deceased\": 2551}, {\"Date\": \"2020-05-14T00:00:00\", \"Daily Confirmed\": 3991, \"Total Confirmed\": 82047, \"Daily Recovered\": 1594, \"Total Recovered\": 28011, \"Daily Deceased\": 97, \"Total Deceased\": 2648}, {\"Date\": \"2020-05-15T00:00:00\", \"Daily Confirmed\": 3808, \"Total Confirmed\": 85855, \"Daily Recovered\": 2234, \"Total Recovered\": 30245, \"Daily Deceased\": 104, \"Total Deceased\": 2752}, {\"Date\": \"2020-05-16T00:00:00\", \"Daily Confirmed\": 4794, \"Total Confirmed\": 90649, \"Daily Recovered\": 4012, \"Total Recovered\": 34257, \"Daily Deceased\": 120, \"Total Deceased\": 2872}, {\"Date\": \"2020-05-17T00:00:00\", \"Daily Confirmed\": 5049, \"Total Confirmed\": 95698, \"Daily Recovered\": 2538, \"Total Recovered\": 36795, \"Daily Deceased\": 152, \"Total Deceased\": 3024}, {\"Date\": \"2020-05-18T00:00:00\", \"Daily Confirmed\": 4628, \"Total Confirmed\": 100326, \"Daily Recovered\": 2482, \"Total Recovered\": 39277, \"Daily Deceased\": 131, \"Total Deceased\": 3155}, {\"Date\": \"2020-05-19T00:00:00\", \"Daily Confirmed\": 6154, \"Total Confirmed\": 106480, \"Daily Recovered\": 3032, \"Total Recovered\": 42309, \"Daily Deceased\": 146, \"Total Deceased\": 3301}, {\"Date\": \"2020-05-20T00:00:00\", \"Daily Confirmed\": 5720, \"Total Confirmed\": 112200, \"Daily Recovered\": 3113, \"Total Recovered\": 45422, \"Daily Deceased\": 134, \"Total Deceased\": 3435}, {\"Date\": \"2020-05-21T00:00:00\", \"Daily Confirmed\": 6023, \"Total Confirmed\": 118223, \"Daily Recovered\": 3131, \"Total Recovered\": 48553, \"Daily Deceased\": 148, \"Total Deceased\": 3583}, {\"Date\": \"2020-05-22T00:00:00\", \"Daily Confirmed\": 6536, \"Total Confirmed\": 124759, \"Daily Recovered\": 3280, \"Total Recovered\": 51833, \"Daily Deceased\": 142, \"Total Deceased\": 3725}, {\"Date\": \"2020-05-23T00:00:00\", \"Daily Confirmed\": 6667, \"Total Confirmed\": 131424, \"Daily Recovered\": 2576, \"Total Recovered\": 54409, \"Daily Deceased\": 142, \"Total Deceased\": 3867}, {\"Date\": \"2020-05-24T00:00:00\", \"Daily Confirmed\": 7111, \"Total Confirmed\": 138537, \"Daily Recovered\": 3285, \"Total Recovered\": 57694, \"Daily Deceased\": 156, \"Total Deceased\": 4023}, {\"Date\": \"2020-05-25T00:00:00\", \"Daily Confirmed\": 6414, \"Total Confirmed\": 144951, \"Daily Recovered\": 3012, \"Total Recovered\": 60706, \"Daily Deceased\": 150, \"Total Deceased\": 4173}, {\"Date\": \"2020-05-26T00:00:00\", \"Daily Confirmed\": 5907, \"Total Confirmed\": 150858, \"Daily Recovered\": 3585, \"Total Recovered\": 64291, \"Daily Deceased\": 173, \"Total Deceased\": 4346}, {\"Date\": \"2020-05-27T00:00:00\", \"Daily Confirmed\": 7246, \"Total Confirmed\": 158104, \"Daily Recovered\": 3434, \"Total Recovered\": 67725, \"Daily Deceased\": 188, \"Total Deceased\": 4534}, {\"Date\": \"2020-05-28T00:00:00\", \"Daily Confirmed\": 7254, \"Total Confirmed\": 165358, \"Daily Recovered\": 3171, \"Total Recovered\": 70896, \"Daily Deceased\": 176, \"Total Deceased\": 4710}, {\"Date\": \"2020-05-29T00:00:00\", \"Daily Confirmed\": 8138, \"Total Confirmed\": 173496, \"Daily Recovered\": 11735, \"Total Recovered\": 82631, \"Daily Deceased\": 269, \"Total Deceased\": 4979}, {\"Date\": \"2020-05-30T00:00:00\", \"Daily Confirmed\": 8364, \"Total Confirmed\": 181860, \"Daily Recovered\": 4303, \"Total Recovered\": 86934, \"Daily Deceased\": 205, \"Total Deceased\": 5184}, {\"Date\": \"2020-05-31T00:00:00\", \"Daily Confirmed\": 8789, \"Total Confirmed\": 190649, \"Daily Recovered\": 4928, \"Total Recovered\": 91862, \"Daily Deceased\": 222, \"Total Deceased\": 5406}, {\"Date\": \"2020-06-01T00:00:00\", \"Daily Confirmed\": 7723, \"Total Confirmed\": 198372, \"Daily Recovered\": 3882, \"Total Recovered\": 95744, \"Daily Deceased\": 201, \"Total Deceased\": 5607}, {\"Date\": \"2020-06-02T00:00:00\", \"Daily Confirmed\": 8812, \"Total Confirmed\": 207187, \"Daily Recovered\": 4531, \"Total Recovered\": 100275, \"Daily Deceased\": 222, \"Total Deceased\": 5829}, {\"Date\": \"2020-06-03T00:00:00\", \"Daily Confirmed\": 9689, \"Total Confirmed\": 216876, \"Daily Recovered\": 3789, \"Total Recovered\": 104064, \"Daily Deceased\": 259, \"Total Deceased\": 6088}, {\"Date\": \"2020-06-04T00:00:00\", \"Daily Confirmed\": 9847, \"Total Confirmed\": 226723, \"Daily Recovered\": 4390, \"Total Recovered\": 108454, \"Daily Deceased\": 274, \"Total Deceased\": 6362}, {\"Date\": \"2020-06-05T00:00:00\", \"Daily Confirmed\": 9472, \"Total Confirmed\": 236195, \"Daily Recovered\": 4770, \"Total Recovered\": 113224, \"Daily Deceased\": 286, \"Total Deceased\": 6648}, {\"Date\": \"2020-06-06T00:00:00\", \"Daily Confirmed\": 10408, \"Total Confirmed\": 246603, \"Daily Recovered\": 5433, \"Total Recovered\": 118657, \"Daily Deceased\": 297, \"Total Deceased\": 6945}, {\"Date\": \"2020-06-07T00:00:00\", \"Daily Confirmed\": 10882, \"Total Confirmed\": 257485, \"Daily Recovered\": 5191, \"Total Recovered\": 123848, \"Daily Deceased\": 261, \"Total Deceased\": 7206}, {\"Date\": \"2020-06-08T00:00:00\", \"Daily Confirmed\": 8536, \"Total Confirmed\": 266021, \"Daily Recovered\": 5171, \"Total Recovered\": 129019, \"Daily Deceased\": 271, \"Total Deceased\": 7477}, {\"Date\": \"2020-06-09T00:00:00\", \"Daily Confirmed\": 9981, \"Total Confirmed\": 276002, \"Daily Recovered\": 5634, \"Total Recovered\": 134653, \"Daily Deceased\": 272, \"Total Deceased\": 7749}, {\"Date\": \"2020-06-10T00:00:00\", \"Daily Confirmed\": 11156, \"Total Confirmed\": 287158, \"Daily Recovered\": 6275, \"Total Recovered\": 140928, \"Daily Deceased\": 358, \"Total Deceased\": 8107}, {\"Date\": \"2020-06-11T00:00:00\", \"Daily Confirmed\": 11135, \"Total Confirmed\": 298293, \"Daily Recovered\": 6044, \"Total Recovered\": 146972, \"Daily Deceased\": 394, \"Total Deceased\": 8501}, {\"Date\": \"2020-06-12T00:00:00\", \"Daily Confirmed\": 11306, \"Total Confirmed\": 309599, \"Daily Recovered\": 7263, \"Total Recovered\": 154235, \"Daily Deceased\": 388, \"Total Deceased\": 8889}, {\"Date\": \"2020-06-13T00:00:00\", \"Daily Confirmed\": 12039, \"Total Confirmed\": 321638, \"Daily Recovered\": 8092, \"Total Recovered\": 162327, \"Daily Deceased\": 309, \"Total Deceased\": 9198}, {\"Date\": \"2020-06-14T00:00:00\", \"Daily Confirmed\": 11405, \"Total Confirmed\": 333043, \"Daily Recovered\": 7358, \"Total Recovered\": 169685, \"Daily Deceased\": 324, \"Total Deceased\": 9522}, {\"Date\": \"2020-06-15T00:00:00\", \"Daily Confirmed\": 10032, \"Total Confirmed\": 343075, \"Daily Recovered\": 10639, \"Total Recovered\": 180324, \"Daily Deceased\": 396, \"Total Deceased\": 9918}, {\"Date\": \"2020-06-16T00:00:00\", \"Daily Confirmed\": 11086, \"Total Confirmed\": 354161, \"Daily Recovered\": 7226, \"Total Recovered\": 187550, \"Daily Deceased\": 2004, \"Total Deceased\": 11922}, {\"Date\": \"2020-06-17T00:00:00\", \"Daily Confirmed\": 13108, \"Total Confirmed\": 367269, \"Daily Recovered\": 6890, \"Total Recovered\": 194440, \"Daily Deceased\": 341, \"Total Deceased\": 12263}, {\"Date\": \"2020-06-18T00:00:00\", \"Daily Confirmed\": 13829, \"Total Confirmed\": 381098, \"Daily Recovered\": 10741, \"Total Recovered\": 205181, \"Daily Deceased\": 343, \"Total Deceased\": 12606}, {\"Date\": \"2020-06-19T00:00:00\", \"Daily Confirmed\": 14740, \"Total Confirmed\": 395838, \"Daily Recovered\": 9029, \"Total Recovered\": 214210, \"Daily Deceased\": 364, \"Total Deceased\": 12970}, {\"Date\": \"2020-06-20T00:00:00\", \"Daily Confirmed\": 15918, \"Total Confirmed\": 411753, \"Daily Recovered\": 13974, \"Total Recovered\": 228184, \"Daily Deceased\": 308, \"Total Deceased\": 13278}, {\"Date\": \"2020-06-21T00:00:00\", \"Daily Confirmed\": 15151, \"Total Confirmed\": 426904, \"Daily Recovered\": 9075, \"Total Recovered\": 237259, \"Daily Deceased\": 426, \"Total Deceased\": 13704}, {\"Date\": \"2020-06-22T00:00:00\", \"Daily Confirmed\": 13560, \"Total Confirmed\": 440464, \"Daily Recovered\": 10879, \"Total Recovered\": 248138, \"Daily Deceased\": 312, \"Total Deceased\": 14016}, {\"Date\": \"2020-06-23T00:00:00\", \"Daily Confirmed\": 15656, \"Total Confirmed\": 456120, \"Daily Recovered\": 10462, \"Total Recovered\": 258600, \"Daily Deceased\": 468, \"Total Deceased\": 14484}, {\"Date\": \"2020-06-24T00:00:00\", \"Daily Confirmed\": 16868, \"Total Confirmed\": 472988, \"Daily Recovered\": 13089, \"Total Recovered\": 271689, \"Daily Deceased\": 424, \"Total Deceased\": 14908}, {\"Date\": \"2020-06-25T00:00:00\", \"Daily Confirmed\": 18205, \"Total Confirmed\": 491193, \"Daily Recovered\": 13983, \"Total Recovered\": 285672, \"Daily Deceased\": 401, \"Total Deceased\": 15309}, {\"Date\": \"2020-06-26T00:00:00\", \"Daily Confirmed\": 18255, \"Total Confirmed\": 509448, \"Daily Recovered\": 10246, \"Total Recovered\": 295918, \"Daily Deceased\": 381, \"Total Deceased\": 15690}, {\"Date\": \"2020-06-27T00:00:00\", \"Daily Confirmed\": 20142, \"Total Confirmed\": 529590, \"Daily Recovered\": 14229, \"Total Recovered\": 310147, \"Daily Deceased\": 414, \"Total Deceased\": 16104}, {\"Date\": \"2020-06-28T00:00:00\", \"Daily Confirmed\": 19610, \"Total Confirmed\": 549200, \"Daily Recovered\": 11631, \"Total Recovered\": 321778, \"Daily Deceased\": 384, \"Total Deceased\": 16488}, {\"Date\": \"2020-06-29T00:00:00\", \"Daily Confirmed\": 18339, \"Total Confirmed\": 567539, \"Daily Recovered\": 13497, \"Total Recovered\": 335275, \"Daily Deceased\": 417, \"Total Deceased\": 16905}, {\"Date\": \"2020-06-30T00:00:00\", \"Daily Confirmed\": 18256, \"Total Confirmed\": 585795, \"Daily Recovered\": 12565, \"Total Recovered\": 347840, \"Daily Deceased\": 506, \"Total Deceased\": 17411}, {\"Date\": \"2020-07-01T00:00:00\", \"Daily Confirmed\": 19429, \"Total Confirmed\": 605224, \"Daily Recovered\": 12064, \"Total Recovered\": 359904, \"Daily Deceased\": 438, \"Total Deceased\": 17849}, {\"Date\": \"2020-07-02T00:00:00\", \"Daily Confirmed\": 21947, \"Total Confirmed\": 627171, \"Daily Recovered\": 19999, \"Total Recovered\": 379903, \"Daily Deceased\": 378, \"Total Deceased\": 18227}, {\"Date\": \"2020-07-03T00:00:00\", \"Daily Confirmed\": 22718, \"Total Confirmed\": 649889, \"Daily Recovered\": 14417, \"Total Recovered\": 394320, \"Daily Deceased\": 444, \"Total Deceased\": 18671}, {\"Date\": \"2020-07-04T00:00:00\", \"Daily Confirmed\": 24018, \"Total Confirmed\": 673907, \"Daily Recovered\": 14746, \"Total Recovered\": 409066, \"Daily Deceased\": 611, \"Total Deceased\": 19282}, {\"Date\": \"2020-07-05T00:00:00\", \"Daily Confirmed\": 23942, \"Total Confirmed\": 697849, \"Daily Recovered\": 15829, \"Total Recovered\": 424895, \"Daily Deceased\": 421, \"Total Deceased\": 19703}, {\"Date\": \"2020-07-06T00:00:00\", \"Daily Confirmed\": 22500, \"Total Confirmed\": 720349, \"Daily Recovered\": 15315, \"Total Recovered\": 440210, \"Daily Deceased\": 473, \"Total Deceased\": 20176}, {\"Date\": \"2020-07-07T00:00:00\", \"Daily Confirmed\": 23147, \"Total Confirmed\": 743496, \"Daily Recovered\": 16836, \"Total Recovered\": 457046, \"Daily Deceased\": 479, \"Total Deceased\": 20655}, {\"Date\": \"2020-07-08T00:00:00\", \"Daily Confirmed\": 25561, \"Total Confirmed\": 769057, \"Daily Recovered\": 19508, \"Total Recovered\": 476554, \"Daily Deceased\": 492, \"Total Deceased\": 21147}, {\"Date\": \"2020-07-09T00:00:00\", \"Daily Confirmed\": 25790, \"Total Confirmed\": 794847, \"Daily Recovered\": 19408, \"Total Recovered\": 495962, \"Daily Deceased\": 479, \"Total Deceased\": 21626}, {\"Date\": \"2020-07-10T00:00:00\", \"Daily Confirmed\": 27762, \"Total Confirmed\": 822609, \"Daily Recovered\": 20289, \"Total Recovered\": 516251, \"Daily Deceased\": 520, \"Total Deceased\": 22146}, {\"Date\": \"2020-07-11T00:00:00\", \"Daily Confirmed\": 27757, \"Total Confirmed\": 850366, \"Daily Recovered\": 19981, \"Total Recovered\": 536232, \"Daily Deceased\": 543, \"Total Deceased\": 22689}, {\"Date\": \"2020-07-12T00:00:00\", \"Daily Confirmed\": 29106, \"Total Confirmed\": 879472, \"Daily Recovered\": 18198, \"Total Recovered\": 554430, \"Daily Deceased\": 500, \"Total Deceased\": 23189}, {\"Date\": \"2020-07-13T00:00:00\", \"Daily Confirmed\": 28178, \"Total Confirmed\": 907650, \"Daily Recovered\": 17683, \"Total Recovered\": 572113, \"Daily Deceased\": 541, \"Total Deceased\": 23730}, {\"Date\": \"2020-07-14T00:00:00\", \"Daily Confirmed\": 29917, \"Total Confirmed\": 937567, \"Daily Recovered\": 20977, \"Total Recovered\": 593090, \"Daily Deceased\": 587, \"Total Deceased\": 24317}, {\"Date\": \"2020-07-15T00:00:00\", \"Daily Confirmed\": 32607, \"Total Confirmed\": 970174, \"Daily Recovered\": 20646, \"Total Recovered\": 613736, \"Daily Deceased\": 614, \"Total Deceased\": 24931}, {\"Date\": \"2020-07-16T00:00:00\", \"Daily Confirmed\": 35468, \"Total Confirmed\": 1005642, \"Daily Recovered\": 22867, \"Total Recovered\": 636603, \"Daily Deceased\": 680, \"Total Deceased\": 25611}, {\"Date\": \"2020-07-17T00:00:00\", \"Daily Confirmed\": 34820, \"Total Confirmed\": 1040462, \"Daily Recovered\": 17476, \"Total Recovered\": 654079, \"Daily Deceased\": 676, \"Total Deceased\": 26287}, {\"Date\": \"2020-07-18T00:00:00\", \"Daily Confirmed\": 37411, \"Total Confirmed\": 1077873, \"Daily Recovered\": 23583, \"Total Recovered\": 677662, \"Daily Deceased\": 543, \"Total Deceased\": 26830}, {\"Date\": \"2020-07-19T00:00:00\", \"Daily Confirmed\": 40235, \"Total Confirmed\": 1118108, \"Daily Recovered\": 22730, \"Total Recovered\": 700392, \"Daily Deceased\": 675, \"Total Deceased\": 27505}, {\"Date\": \"2020-07-20T00:00:00\", \"Daily Confirmed\": 36806, \"Total Confirmed\": 1154914, \"Daily Recovered\": 24303, \"Total Recovered\": 724695, \"Daily Deceased\": 596, \"Total Deceased\": 28101}, {\"Date\": \"2020-07-21T00:00:00\", \"Daily Confirmed\": 39170, \"Total Confirmed\": 1194084, \"Daily Recovered\": 27589, \"Total Recovered\": 752284, \"Daily Deceased\": 671, \"Total Deceased\": 28772}, {\"Date\": \"2020-07-22T00:00:00\", \"Daily Confirmed\": 45601, \"Total Confirmed\": 1239685, \"Daily Recovered\": 31875, \"Total Recovered\": 784159, \"Daily Deceased\": 1130, \"Total Deceased\": 29902}, {\"Date\": \"2020-07-23T00:00:00\", \"Daily Confirmed\": 48443, \"Total Confirmed\": 1288128, \"Daily Recovered\": 33326, \"Total Recovered\": 817485, \"Daily Deceased\": 755, \"Total Deceased\": 30657}, {\"Date\": \"2020-07-24T00:00:00\", \"Daily Confirmed\": 48888, \"Total Confirmed\": 1337016, \"Daily Recovered\": 32514, \"Total Recovered\": 849999, \"Daily Deceased\": 763, \"Total Deceased\": 31420}, {\"Date\": \"2020-07-25T00:00:00\", \"Daily Confirmed\": 50072, \"Total Confirmed\": 1387088, \"Daily Recovered\": 37125, \"Total Recovered\": 887124, \"Daily Deceased\": 703, \"Total Deceased\": 32123}, {\"Date\": \"2020-07-26T00:00:00\", \"Daily Confirmed\": 48932, \"Total Confirmed\": 1436020, \"Daily Recovered\": 31512, \"Total Recovered\": 918636, \"Daily Deceased\": 704, \"Total Deceased\": 32827}, {\"Date\": \"2020-07-27T00:00:00\", \"Daily Confirmed\": 46484, \"Total Confirmed\": 1482504, \"Daily Recovered\": 34354, \"Total Recovered\": 952990, \"Daily Deceased\": 642, \"Total Deceased\": 33469}, {\"Date\": \"2020-07-28T00:00:00\", \"Daily Confirmed\": 49631, \"Total Confirmed\": 1532135, \"Daily Recovered\": 35683, \"Total Recovered\": 988673, \"Daily Deceased\": 774, \"Total Deceased\": 34243}, {\"Date\": \"2020-07-29T00:00:00\", \"Daily Confirmed\": 52479, \"Total Confirmed\": 1584614, \"Daily Recovered\": 32886, \"Total Recovered\": 1021559, \"Daily Deceased\": 775, \"Total Deceased\": 35018}, {\"Date\": \"2020-07-30T00:00:00\", \"Daily Confirmed\": 54968, \"Total Confirmed\": 1639582, \"Daily Recovered\": 37425, \"Total Recovered\": 1058984, \"Daily Deceased\": 784, \"Total Deceased\": 35802}, {\"Date\": \"2020-07-31T00:00:00\", \"Daily Confirmed\": 57486, \"Total Confirmed\": 1697068, \"Daily Recovered\": 36554, \"Total Recovered\": 1095538, \"Daily Deceased\": 764, \"Total Deceased\": 36566}, {\"Date\": \"2020-08-01T00:00:00\", \"Daily Confirmed\": 55117, \"Total Confirmed\": 1752185, \"Daily Recovered\": 51368, \"Total Recovered\": 1146906, \"Daily Deceased\": 854, \"Total Deceased\": 37420}, {\"Date\": \"2020-08-02T00:00:00\", \"Daily Confirmed\": 52672, \"Total Confirmed\": 1804857, \"Daily Recovered\": 40355, \"Total Recovered\": 1187261, \"Daily Deceased\": 760, \"Total Deceased\": 38180}, {\"Date\": \"2020-08-03T00:00:00\", \"Daily Confirmed\": 50488, \"Total Confirmed\": 1855345, \"Daily Recovered\": 43070, \"Total Recovered\": 1230331, \"Daily Deceased\": 806, \"Total Deceased\": 38986}, {\"Date\": \"2020-08-04T00:00:00\", \"Daily Confirmed\": 51282, \"Total Confirmed\": 1906627, \"Daily Recovered\": 51220, \"Total Recovered\": 1281551, \"Daily Deceased\": 849, \"Total Deceased\": 39835}, {\"Date\": \"2020-08-05T00:00:00\", \"Daily Confirmed\": 56626, \"Total Confirmed\": 1963253, \"Daily Recovered\": 45583, \"Total Recovered\": 1327134, \"Daily Deceased\": 919, \"Total Deceased\": 40754}, {\"Date\": \"2020-08-06T00:00:00\", \"Daily Confirmed\": 62170, \"Total Confirmed\": 2025423, \"Daily Recovered\": 50141, \"Total Recovered\": 1377275, \"Daily Deceased\": 899, \"Total Deceased\": 41653}, {\"Date\": \"2020-08-07T00:00:00\", \"Daily Confirmed\": 61455, \"Total Confirmed\": 2086878, \"Daily Recovered\": 50387, \"Total Recovered\": 1427662, \"Daily Deceased\": 936, \"Total Deceased\": 42589}, {\"Date\": \"2020-08-08T00:00:00\", \"Daily Confirmed\": 65156, \"Total Confirmed\": 2152034, \"Daily Recovered\": 52135, \"Total Recovered\": 1479797, \"Daily Deceased\": 875, \"Total Deceased\": 43464}, {\"Date\": \"2020-08-09T00:00:00\", \"Daily Confirmed\": 62117, \"Total Confirmed\": 2214151, \"Daily Recovered\": 54474, \"Total Recovered\": 1534271, \"Daily Deceased\": 1013, \"Total Deceased\": 44477}, {\"Date\": \"2020-08-10T00:00:00\", \"Daily Confirmed\": 53016, \"Total Confirmed\": 2267167, \"Daily Recovered\": 47362, \"Total Recovered\": 1581633, \"Daily Deceased\": 887, \"Total Deceased\": 45364}, {\"Date\": \"2020-08-11T00:00:00\", \"Daily Confirmed\": 61252, \"Total Confirmed\": 2328419, \"Daily Recovered\": 56461, \"Total Recovered\": 1638094, \"Daily Deceased\": 835, \"Total Deceased\": 46199}, {\"Date\": \"2020-08-12T00:00:00\", \"Daily Confirmed\": 67066, \"Total Confirmed\": 2395485, \"Daily Recovered\": 57759, \"Total Recovered\": 1695853, \"Daily Deceased\": 950, \"Total Deceased\": 47149}, {\"Date\": \"2020-08-13T00:00:00\", \"Daily Confirmed\": 64141, \"Total Confirmed\": 2459626, \"Daily Recovered\": 54776, \"Total Recovered\": 1750629, \"Daily Deceased\": 1006, \"Total Deceased\": 48155}, {\"Date\": \"2020-08-14T00:00:00\", \"Daily Confirmed\": 65610, \"Total Confirmed\": 2525236, \"Daily Recovered\": 56920, \"Total Recovered\": 1807549, \"Daily Deceased\": 989, \"Total Deceased\": 49144}, {\"Date\": \"2020-08-15T00:00:00\", \"Daily Confirmed\": 63986, \"Total Confirmed\": 2589222, \"Daily Recovered\": 53116, \"Total Recovered\": 1860665, \"Daily Deceased\": 952, \"Total Deceased\": 50096}, {\"Date\": \"2020-08-16T00:00:00\", \"Daily Confirmed\": 58096, \"Total Confirmed\": 2647318, \"Daily Recovered\": 57404, \"Total Recovered\": 1918069, \"Daily Deceased\": 952, \"Total Deceased\": 51048}, {\"Date\": \"2020-08-17T00:00:00\", \"Daily Confirmed\": 54298, \"Total Confirmed\": 2701616, \"Daily Recovered\": 58172, \"Total Recovered\": 1976241, \"Daily Deceased\": 880, \"Total Deceased\": 51928}, {\"Date\": \"2020-08-18T00:00:00\", \"Daily Confirmed\": 65024, \"Total Confirmed\": 2766640, \"Daily Recovered\": 60455, \"Total Recovered\": 2036696, \"Daily Deceased\": 1099, \"Total Deceased\": 53027}, {\"Date\": \"2020-08-19T00:00:00\", \"Daily Confirmed\": 69196, \"Total Confirmed\": 2835836, \"Daily Recovered\": 59365, \"Total Recovered\": 2096061, \"Daily Deceased\": 979, \"Total Deceased\": 54006}, {\"Date\": \"2020-08-20T00:00:00\", \"Daily Confirmed\": 68518, \"Total Confirmed\": 2904354, \"Daily Recovered\": 61873, \"Total Recovered\": 2157934, \"Daily Deceased\": 981, \"Total Deceased\": 54987}, {\"Date\": \"2020-08-21T00:00:00\", \"Daily Confirmed\": 69029, \"Total Confirmed\": 2973383, \"Daily Recovered\": 62858, \"Total Recovered\": 2220792, \"Daily Deceased\": 953, \"Total Deceased\": 55940}, {\"Date\": \"2020-08-22T00:00:00\", \"Daily Confirmed\": 70067, \"Total Confirmed\": 3043450, \"Daily Recovered\": 59101, \"Total Recovered\": 2279893, \"Daily Deceased\": 918, \"Total Deceased\": 56858}, {\"Date\": \"2020-08-23T00:00:00\", \"Daily Confirmed\": 61749, \"Total Confirmed\": 3105199, \"Daily Recovered\": 56896, \"Total Recovered\": 2336789, \"Daily Deceased\": 846, \"Total Deceased\": 57704}, {\"Date\": \"2020-08-24T00:00:00\", \"Daily Confirmed\": 59696, \"Total Confirmed\": 3164895, \"Daily Recovered\": 66305, \"Total Recovered\": 2403094, \"Daily Deceased\": 854, \"Total Deceased\": 58558}, {\"Date\": \"2020-08-25T00:00:00\", \"Daily Confirmed\": 66873, \"Total Confirmed\": 3231768, \"Daily Recovered\": 64151, \"Total Recovered\": 2467245, \"Daily Deceased\": 1066, \"Total Deceased\": 59624}, {\"Date\": \"2020-08-26T00:00:00\", \"Daily Confirmed\": 75995, \"Total Confirmed\": 3307763, \"Daily Recovered\": 56191, \"Total Recovered\": 2523436, \"Daily Deceased\": 1017, \"Total Deceased\": 60641}, {\"Date\": \"2020-08-27T00:00:00\", \"Daily Confirmed\": 76827, \"Total Confirmed\": 3384590, \"Daily Recovered\": 59620, \"Total Recovered\": 2583056, \"Daily Deceased\": 1066, \"Total Deceased\": 61707}, {\"Date\": \"2020-08-28T00:00:00\", \"Daily Confirmed\": 76657, \"Total Confirmed\": 3461247, \"Daily Recovered\": 64475, \"Total Recovered\": 2647531, \"Daily Deceased\": 1019, \"Total Deceased\": 62726}, {\"Date\": \"2020-08-29T00:00:00\", \"Daily Confirmed\": 78479, \"Total Confirmed\": 3539726, \"Daily Recovered\": 64982, \"Total Recovered\": 2712513, \"Daily Deceased\": 943, \"Total Deceased\": 63669}, {\"Date\": \"2020-08-30T00:00:00\", \"Daily Confirmed\": 79461, \"Total Confirmed\": 3619187, \"Daily Recovered\": 60422, \"Total Recovered\": 2772935, \"Daily Deceased\": 960, \"Total Deceased\": 64629}, {\"Date\": \"2020-08-31T00:00:00\", \"Daily Confirmed\": 68766, \"Total Confirmed\": 3687953, \"Daily Recovered\": 64435, \"Total Recovered\": 2837370, \"Daily Deceased\": 816, \"Total Deceased\": 65445}, {\"Date\": \"2020-09-01T00:00:00\", \"Daily Confirmed\": 78168, \"Total Confirmed\": 3766121, \"Daily Recovered\": 62145, \"Total Recovered\": 2899515, \"Daily Deceased\": 892, \"Total Deceased\": 66337}, {\"Date\": \"2020-09-02T00:00:00\", \"Daily Confirmed\": 82860, \"Total Confirmed\": 3848981, \"Daily Recovered\": 67874, \"Total Recovered\": 2967389, \"Daily Deceased\": 913, \"Total Deceased\": 67250}, {\"Date\": \"2020-09-03T00:00:00\", \"Daily Confirmed\": 84156, \"Total Confirmed\": 3933137, \"Daily Recovered\": 67491, \"Total Recovered\": 3034880, \"Daily Deceased\": 979, \"Total Deceased\": 68229}, {\"Date\": \"2020-09-04T00:00:00\", \"Daily Confirmed\": 87115, \"Total Confirmed\": 4020252, \"Daily Recovered\": 69625, \"Total Recovered\": 3104505, \"Daily Deceased\": 950, \"Total Deceased\": 69179}, {\"Date\": \"2020-09-05T00:00:00\", \"Daily Confirmed\": 90600, \"Total Confirmed\": 4110852, \"Daily Recovered\": 73161, \"Total Recovered\": 3177666, \"Daily Deceased\": 916, \"Total Deceased\": 70095}, {\"Date\": \"2020-09-06T00:00:00\", \"Daily Confirmed\": 91725, \"Total Confirmed\": 4202577, \"Daily Recovered\": 69630, \"Total Recovered\": 3247296, \"Daily Deceased\": 1005, \"Total Deceased\": 71100}, {\"Date\": \"2020-09-07T00:00:00\", \"Daily Confirmed\": 75015, \"Total Confirmed\": 4277592, \"Daily Recovered\": 74116, \"Total Recovered\": 3321412, \"Daily Deceased\": 1129, \"Total Deceased\": 72229}, {\"Date\": \"2020-09-08T00:00:00\", \"Daily Confirmed\": 89855, \"Total Confirmed\": 4367447, \"Daily Recovered\": 74608, \"Total Recovered\": 3396020, \"Daily Deceased\": 1107, \"Total Deceased\": 73336}, {\"Date\": \"2020-09-09T00:00:00\", \"Daily Confirmed\": 95536, \"Total Confirmed\": 4462983, \"Daily Recovered\": 73062, \"Total Recovered\": 3469082, \"Daily Deceased\": 1168, \"Total Deceased\": 74504}, {\"Date\": \"2020-09-10T00:00:00\", \"Daily Confirmed\": 96762, \"Total Confirmed\": 4559745, \"Daily Recovered\": 70904, \"Total Recovered\": 3539986, \"Daily Deceased\": 1213, \"Total Deceased\": 75717}, {\"Date\": \"2020-09-11T00:00:00\", \"Daily Confirmed\": 97655, \"Total Confirmed\": 4657400, \"Daily Recovered\": 81456, \"Total Recovered\": 3621442, \"Daily Deceased\": 1202, \"Total Deceased\": 76919}, {\"Date\": \"2020-09-12T00:00:00\", \"Daily Confirmed\": 94414, \"Total Confirmed\": 4751814, \"Daily Recovered\": 77862, \"Total Recovered\": 3699304, \"Daily Deceased\": 1111, \"Total Deceased\": 78030}, {\"Date\": \"2020-09-13T00:00:00\", \"Daily Confirmed\": 93220, \"Total Confirmed\": 4845034, \"Daily Recovered\": 77748, \"Total Recovered\": 3777052, \"Daily Deceased\": 1140, \"Total Deceased\": 79170}, {\"Date\": \"2020-09-14T00:00:00\", \"Daily Confirmed\": 81913, \"Total Confirmed\": 4926947, \"Daily Recovered\": 79213, \"Total Recovered\": 3856265, \"Daily Deceased\": 1054, \"Total Deceased\": 80224}, {\"Date\": \"2020-09-15T00:00:00\", \"Daily Confirmed\": 91098, \"Total Confirmed\": 5018045, \"Daily Recovered\": 82849, \"Total Recovered\": 3939114, \"Daily Deceased\": 1281, \"Total Deceased\": 81505}, {\"Date\": \"2020-09-16T00:00:00\", \"Daily Confirmed\": 97860, \"Total Confirmed\": 5115905, \"Daily Recovered\": 82924, \"Total Recovered\": 4022038, \"Daily Deceased\": 1140, \"Total Deceased\": 82645}, {\"Date\": \"2020-09-17T00:00:00\", \"Daily Confirmed\": 96787, \"Total Confirmed\": 5212692, \"Daily Recovered\": 87788, \"Total Recovered\": 4109826, \"Daily Deceased\": 1175, \"Total Deceased\": 83820}, {\"Date\": \"2020-09-18T00:00:00\", \"Daily Confirmed\": 92973, \"Total Confirmed\": 5305665, \"Daily Recovered\": 95515, \"Total Recovered\": 4205341, \"Daily Deceased\": 1221, \"Total Deceased\": 85041}, {\"Date\": \"2020-09-19T00:00:00\", \"Daily Confirmed\": 92574, \"Total Confirmed\": 5398239, \"Daily Recovered\": 94389, \"Total Recovered\": 4299730, \"Daily Deceased\": 1149, \"Total Deceased\": 86190}, {\"Date\": \"2020-09-20T00:00:00\", \"Daily Confirmed\": 87395, \"Total Confirmed\": 5485634, \"Daily Recovered\": 92926, \"Total Recovered\": 4392656, \"Daily Deceased\": 1135, \"Total Deceased\": 87325}, {\"Date\": \"2020-09-21T00:00:00\", \"Daily Confirmed\": 74493, \"Total Confirmed\": 5560127, \"Daily Recovered\": 102070, \"Total Recovered\": 4494726, \"Daily Deceased\": 1056, \"Total Deceased\": 88381}, {\"Date\": \"2020-09-22T00:00:00\", \"Daily Confirmed\": 83362, \"Total Confirmed\": 5643489, \"Daily Recovered\": 89657, \"Total Recovered\": 4584383, \"Daily Deceased\": 1085, \"Total Deceased\": 89466}, {\"Date\": \"2020-09-23T00:00:00\", \"Daily Confirmed\": 86703, \"Total Confirmed\": 5730192, \"Daily Recovered\": 87459, \"Total Recovered\": 4671842, \"Daily Deceased\": 1123, \"Total Deceased\": 90589}, {\"Date\": \"2020-09-24T00:00:00\", \"Daily Confirmed\": 85921, \"Total Confirmed\": 5816113, \"Daily Recovered\": 81142, \"Total Recovered\": 4752984, \"Daily Deceased\": 1144, \"Total Deceased\": 91733}, {\"Date\": \"2020-09-25T00:00:00\", \"Daily Confirmed\": 85717, \"Total Confirmed\": 5901830, \"Daily Recovered\": 93331, \"Total Recovered\": 4846315, \"Daily Deceased\": 1093, \"Total Deceased\": 92826}, {\"Date\": \"2020-09-26T00:00:00\", \"Daily Confirmed\": 88759, \"Total Confirmed\": 5990589, \"Daily Recovered\": 92365, \"Total Recovered\": 4938680, \"Daily Deceased\": 1124, \"Total Deceased\": 93950}, {\"Date\": \"2020-09-27T00:00:00\", \"Daily Confirmed\": 82770, \"Total Confirmed\": 6073359, \"Daily Recovered\": 74691, \"Total Recovered\": 5013371, \"Daily Deceased\": 1040, \"Total Deceased\": 94990}, {\"Date\": \"2020-09-28T00:00:00\", \"Daily Confirmed\": 69669, \"Total Confirmed\": 6143028, \"Daily Recovered\": 85198, \"Total Recovered\": 5098569, \"Daily Deceased\": 775, \"Total Deceased\": 95765}, {\"Date\": \"2020-09-29T00:00:00\", \"Daily Confirmed\": 80500, \"Total Confirmed\": 6223528, \"Daily Recovered\": 86150, \"Total Recovered\": 5184719, \"Daily Deceased\": 1178, \"Total Deceased\": 96943}, {\"Date\": \"2020-09-30T00:00:00\", \"Daily Confirmed\": 86748, \"Total Confirmed\": 6310276, \"Daily Recovered\": 85274, \"Total Recovered\": 5269993, \"Daily Deceased\": 1179, \"Total Deceased\": 98122}, {\"Date\": \"2020-10-01T00:00:00\", \"Daily Confirmed\": 81784, \"Total Confirmed\": 6392060, \"Daily Recovered\": 78731, \"Total Recovered\": 5348724, \"Daily Deceased\": 1099, \"Total Deceased\": 99221}, {\"Date\": \"2020-10-02T00:00:00\", \"Daily Confirmed\": 79883, \"Total Confirmed\": 6471943, \"Daily Recovered\": 76339, \"Total Recovered\": 5425063, \"Daily Deceased\": 1068, \"Total Deceased\": 100289}, {\"Date\": \"2020-10-03T00:00:00\", \"Daily Confirmed\": 75479, \"Total Confirmed\": 6547422, \"Daily Recovered\": 81655, \"Total Recovered\": 5506718, \"Daily Deceased\": 937, \"Total Deceased\": 101226}, {\"Date\": \"2020-10-04T00:00:00\", \"Daily Confirmed\": 74770, \"Total Confirmed\": 6622192, \"Daily Recovered\": 76713, \"Total Recovered\": 5583431, \"Daily Deceased\": 903, \"Total Deceased\": 102129}, {\"Date\": \"2020-10-05T00:00:00\", \"Daily Confirmed\": 60130, \"Total Confirmed\": 6682322, \"Daily Recovered\": 75855, \"Total Recovered\": 5659286, \"Daily Deceased\": 886, \"Total Deceased\": 103015}, {\"Date\": \"2020-10-06T00:00:00\", \"Daily Confirmed\": 71869, \"Total Confirmed\": 6754191, \"Daily Recovered\": 81945, \"Total Recovered\": 5741231, \"Daily Deceased\": 990, \"Total Deceased\": 104005}, {\"Date\": \"2020-10-07T00:00:00\", \"Daily Confirmed\": 78809, \"Total Confirmed\": 6833000, \"Daily Recovered\": 83209, \"Total Recovered\": 5824440, \"Daily Deceased\": 963, \"Total Deceased\": 104968}, {\"Date\": \"2020-10-08T00:00:00\", \"Daily Confirmed\": 70797, \"Total Confirmed\": 6903797, \"Daily Recovered\": 78745, \"Total Recovered\": 5903185, \"Daily Deceased\": 967, \"Total Deceased\": 105935}, {\"Date\": \"2020-10-09T00:00:00\", \"Daily Confirmed\": 73305, \"Total Confirmed\": 6977102, \"Daily Recovered\": 82628, \"Total Recovered\": 5985813, \"Daily Deceased\": 929, \"Total Deceased\": 106864}, {\"Date\": \"2020-10-10T00:00:00\", \"Daily Confirmed\": 74418, \"Total Confirmed\": 7051520, \"Daily Recovered\": 89024, \"Total Recovered\": 6074837, \"Daily Deceased\": 921, \"Total Deceased\": 107785}, {\"Date\": \"2020-10-11T00:00:00\", \"Daily Confirmed\": 67789, \"Total Confirmed\": 7119309, \"Daily Recovered\": 71565, \"Total Recovered\": 6146402, \"Daily Deceased\": 813, \"Total Deceased\": 108598}, {\"Date\": \"2020-10-12T00:00:00\", \"Daily Confirmed\": 54262, \"Total Confirmed\": 7173571, \"Daily Recovered\": 78365, \"Total Recovered\": 6224767, \"Daily Deceased\": 710, \"Total Deceased\": 109308}, {\"Date\": \"2020-10-13T00:00:00\", \"Daily Confirmed\": 63717, \"Total Confirmed\": 7237288, \"Daily Recovered\": 74079, \"Total Recovered\": 6298846, \"Daily Deceased\": 727, \"Total Deceased\": 110035}, {\"Date\": \"2020-10-14T00:00:00\", \"Daily Confirmed\": 67811, \"Total Confirmed\": 7305099, \"Daily Recovered\": 81582, \"Total Recovered\": 6380428, \"Daily Deceased\": 690, \"Total Deceased\": 110725}, {\"Date\": \"2020-10-15T00:00:00\", \"Daily Confirmed\": 63441, \"Total Confirmed\": 7368540, \"Daily Recovered\": 70792, \"Total Recovered\": 6451220, \"Daily Deceased\": 882, \"Total Deceased\": 111607}, {\"Date\": \"2020-10-16T00:00:00\", \"Daily Confirmed\": 62304, \"Total Confirmed\": 7430844, \"Daily Recovered\": 70568, \"Total Recovered\": 6521788, \"Daily Deceased\": 840, \"Total Deceased\": 112447}, {\"Date\": \"2020-10-17T00:00:00\", \"Daily Confirmed\": 61893, \"Total Confirmed\": 7492737, \"Daily Recovered\": 72583, \"Total Recovered\": 6594371, \"Daily Deceased\": 1032, \"Total Deceased\": 113479}, {\"Date\": \"2020-10-18T00:00:00\", \"Daily Confirmed\": 56519, \"Total Confirmed\": 7549256, \"Daily Recovered\": 66418, \"Total Recovered\": 6660789, \"Daily Deceased\": 582, \"Total Deceased\": 114061}, {\"Date\": \"2020-10-19T00:00:00\", \"Daily Confirmed\": 45506, \"Total Confirmed\": 7594762, \"Daily Recovered\": 69800, \"Total Recovered\": 6730589, \"Daily Deceased\": 589, \"Total Deceased\": 114650}, {\"Date\": \"2020-10-20T00:00:00\", \"Daily Confirmed\": 54348, \"Total Confirmed\": 7649110, \"Daily Recovered\": 61828, \"Total Recovered\": 6792417, \"Daily Deceased\": 714, \"Total Deceased\": 115364}, {\"Date\": \"2020-10-21T00:00:00\", \"Daily Confirmed\": 56264, \"Total Confirmed\": 7705374, \"Daily Recovered\": 79561, \"Total Recovered\": 6871978, \"Daily Deceased\": 701, \"Total Deceased\": 116065}, {\"Date\": \"2020-10-22T00:00:00\", \"Daily Confirmed\": 54371, \"Total Confirmed\": 7759745, \"Daily Recovered\": 74569, \"Total Recovered\": 6946547, \"Daily Deceased\": 686, \"Total Deceased\": 116751}, {\"Date\": \"2020-10-23T00:00:00\", \"Daily Confirmed\": 53931, \"Total Confirmed\": 7813676, \"Daily Recovered\": 66994, \"Total Recovered\": 7013541, \"Daily Deceased\": 655, \"Total Deceased\": 117406}, {\"Date\": \"2020-10-24T00:00:00\", \"Daily Confirmed\": 50366, \"Total Confirmed\": 7864042, \"Daily Recovered\": 62270, \"Total Recovered\": 7075811, \"Daily Deceased\": 578, \"Total Deceased\": 117984}, {\"Date\": \"2020-10-25T00:00:00\", \"Daily Confirmed\": 45922, \"Total Confirmed\": 7909964, \"Daily Recovered\": 59304, \"Total Recovered\": 7135115, \"Daily Deceased\": 483, \"Total Deceased\": 118467}, {\"Date\": \"2020-10-26T00:00:00\", \"Daily Confirmed\": 36019, \"Total Confirmed\": 7945983, \"Daily Recovered\": 63734, \"Total Recovered\": 7198849, \"Daily Deceased\": 485, \"Total Deceased\": 118952}, {\"Date\": \"2020-10-27T00:00:00\", \"Daily Confirmed\": 43036, \"Total Confirmed\": 7989019, \"Daily Recovered\": 58429, \"Total Recovered\": 7257278, \"Daily Deceased\": 511, \"Total Deceased\": 119463}, {\"Date\": \"2020-10-28T00:00:00\", \"Daily Confirmed\": 50188, \"Total Confirmed\": 8039207, \"Daily Recovered\": 56594, \"Total Recovered\": 7313872, \"Daily Deceased\": 515, \"Total Deceased\": 119978}, {\"Date\": \"2020-10-29T00:00:00\", \"Daily Confirmed\": 48765, \"Total Confirmed\": 8087972, \"Daily Recovered\": 57867, \"Total Recovered\": 7371739, \"Daily Deceased\": 562, \"Total Deceased\": 120540}, {\"Date\": \"2020-10-30T00:00:00\", \"Daily Confirmed\": 48117, \"Total Confirmed\": 8136089, \"Daily Recovered\": 59005, \"Total Recovered\": 7430744, \"Daily Deceased\": 550, \"Total Deceased\": 121090}, {\"Date\": \"2020-10-31T00:00:00\", \"Daily Confirmed\": 47228, \"Total Confirmed\": 8183317, \"Daily Recovered\": 58682, \"Total Recovered\": 7489426, \"Daily Deceased\": 469, \"Total Deceased\": 121559}, {\"Date\": \"2020-11-01T00:00:00\", \"Daily Confirmed\": 45928, \"Total Confirmed\": 8229245, \"Daily Recovered\": 53312, \"Total Recovered\": 7542738, \"Daily Deceased\": 491, \"Total Deceased\": 122050}, {\"Date\": \"2020-11-02T00:00:00\", \"Daily Confirmed\": 37592, \"Total Confirmed\": 8266837, \"Daily Recovered\": 58524, \"Total Recovered\": 7601262, \"Daily Deceased\": 498, \"Total Deceased\": 122548}, {\"Date\": \"2020-11-03T00:00:00\", \"Daily Confirmed\": 46027, \"Total Confirmed\": 8312864, \"Daily Recovered\": 53328, \"Total Recovered\": 7654590, \"Daily Deceased\": 510, \"Total Deceased\": 123058}, {\"Date\": \"2020-11-04T00:00:00\", \"Daily Confirmed\": 50465, \"Total Confirmed\": 8363329, \"Daily Recovered\": 55873, \"Total Recovered\": 7710463, \"Daily Deceased\": 707, \"Total Deceased\": 123765}, {\"Date\": \"2020-11-05T00:00:00\", \"Daily Confirmed\": 47628, \"Total Confirmed\": 8410957, \"Daily Recovered\": 54133, \"Total Recovered\": 7764596, \"Daily Deceased\": 672, \"Total Deceased\": 124437}, {\"Date\": \"2020-11-06T00:00:00\", \"Daily Confirmed\": 50017, \"Total Confirmed\": 8460974, \"Daily Recovered\": 53946, \"Total Recovered\": 7818542, \"Daily Deceased\": 577, \"Total Deceased\": 125014}, {\"Date\": \"2020-11-07T00:00:00\", \"Daily Confirmed\": 46153, \"Total Confirmed\": 8507127, \"Daily Recovered\": 48582, \"Total Recovered\": 7867124, \"Daily Deceased\": 557, \"Total Deceased\": 125571}, {\"Date\": \"2020-11-08T00:00:00\", \"Daily Confirmed\": 46707, \"Total Confirmed\": 8553834, \"Daily Recovered\": 48465, \"Total Recovered\": 7915589, \"Daily Deceased\": 491, \"Total Deceased\": 126062}, {\"Date\": \"2020-11-09T00:00:00\", \"Daily Confirmed\": 37119, \"Total Confirmed\": 8590953, \"Daily Recovered\": 41449, \"Total Recovered\": 7957038, \"Daily Deceased\": 450, \"Total Deceased\": 126512}, {\"Date\": \"2020-11-10T00:00:00\", \"Daily Confirmed\": 44724, \"Total Confirmed\": 8635677, \"Daily Recovered\": 54639, \"Total Recovered\": 8011677, \"Daily Deceased\": 511, \"Total Deceased\": 127023}, {\"Date\": \"2020-11-11T00:00:00\", \"Daily Confirmed\": 48285, \"Total Confirmed\": 8683962, \"Daily Recovered\": 52704, \"Total Recovered\": 8064381, \"Daily Deceased\": 550, \"Total Deceased\": 127573}, {\"Date\": \"2020-11-12T00:00:00\", \"Daily Confirmed\": 44585, \"Total Confirmed\": 8728547, \"Daily Recovered\": 49354, \"Total Recovered\": 8113735, \"Daily Deceased\": 544, \"Total Deceased\": 128117}, {\"Date\": \"2020-11-13T00:00:00\", \"Daily Confirmed\": 44620, \"Total Confirmed\": 8773167, \"Daily Recovered\": 47620, \"Total Recovered\": 8161355, \"Daily Deceased\": 517, \"Total Deceased\": 128634}, {\"Date\": \"2020-11-14T00:00:00\", \"Daily Confirmed\": 41692, \"Total Confirmed\": 8814859, \"Daily Recovered\": 42317, \"Total Recovered\": 8203672, \"Daily Deceased\": 450, \"Total Deceased\": 129084}, {\"Date\": \"2020-11-15T00:00:00\", \"Daily Confirmed\": 30681, \"Total Confirmed\": 8845540, \"Daily Recovered\": 44111, \"Total Recovered\": 8247783, \"Daily Deceased\": 434, \"Total Deceased\": 129518}, {\"Date\": \"2020-11-16T00:00:00\", \"Daily Confirmed\": 28609, \"Total Confirmed\": 8874149, \"Daily Recovered\": 40392, \"Total Recovered\": 8288175, \"Daily Deceased\": 451, \"Total Deceased\": 129969}, {\"Date\": \"2020-11-17T00:00:00\", \"Daily Confirmed\": 38548, \"Total Confirmed\": 8912697, \"Daily Recovered\": 44753, \"Total Recovered\": 8332928, \"Daily Deceased\": 472, \"Total Deceased\": 130441}, {\"Date\": \"2020-11-18T00:00:00\", \"Daily Confirmed\": 45366, \"Total Confirmed\": 8958063, \"Daily Recovered\": 48675, \"Total Recovered\": 8381603, \"Daily Deceased\": 586, \"Total Deceased\": 131027}, {\"Date\": \"2020-11-19T00:00:00\", \"Daily Confirmed\": 46185, \"Total Confirmed\": 9004248, \"Daily Recovered\": 45246, \"Total Recovered\": 8426849, \"Daily Deceased\": 582, \"Total Deceased\": 131609}, {\"Date\": \"2020-11-20T00:00:00\", \"Daily Confirmed\": 46283, \"Total Confirmed\": 9050531, \"Daily Recovered\": 48968, \"Total Recovered\": 8475817, \"Daily Deceased\": 564, \"Total Deceased\": 132173}, {\"Date\": \"2020-11-21T00:00:00\", \"Daily Confirmed\": 45301, \"Total Confirmed\": 9095832, \"Daily Recovered\": 44055, \"Total Recovered\": 8519872, \"Daily Deceased\": 499, \"Total Deceased\": 132672}, {\"Date\": \"2020-11-22T00:00:00\", \"Daily Confirmed\": 44404, \"Total Confirmed\": 9140236, \"Daily Recovered\": 41405, \"Total Recovered\": 8561277, \"Daily Deceased\": 510, \"Total Deceased\": 133182}, {\"Date\": \"2020-11-23T00:00:00\", \"Daily Confirmed\": 37441, \"Total Confirmed\": 9177677, \"Daily Recovered\": 42195, \"Total Recovered\": 8603472, \"Daily Deceased\": 481, \"Total Deceased\": 133663}, {\"Date\": \"2020-11-24T00:00:00\", \"Daily Confirmed\": 44245, \"Total Confirmed\": 9221922, \"Daily Recovered\": 37765, \"Total Recovered\": 8641237, \"Daily Deceased\": 489, \"Total Deceased\": 134152}, {\"Date\": \"2020-11-25T00:00:00\", \"Daily Confirmed\": 44699, \"Total Confirmed\": 9266621, \"Daily Recovered\": 36582, \"Total Recovered\": 8677819, \"Daily Deceased\": 518, \"Total Deceased\": 134670}, {\"Date\": \"2020-11-26T00:00:00\", \"Daily Confirmed\": 43174, \"Total Confirmed\": 9309795, \"Daily Recovered\": 39723, \"Total Recovered\": 8717542, \"Daily Deceased\": 491, \"Total Deceased\": 135161}, {\"Date\": \"2020-11-27T00:00:00\", \"Daily Confirmed\": 41353, \"Total Confirmed\": 9351148, \"Daily Recovered\": 41177, \"Total Recovered\": 8758719, \"Daily Deceased\": 486, \"Total Deceased\": 135647}, {\"Date\": \"2020-11-28T00:00:00\", \"Daily Confirmed\": 41815, \"Total Confirmed\": 9392963, \"Daily Recovered\": 42275, \"Total Recovered\": 8800994, \"Daily Deceased\": 495, \"Total Deceased\": 136142}, {\"Date\": \"2020-11-29T00:00:00\", \"Daily Confirmed\": 39036, \"Total Confirmed\": 9431999, \"Daily Recovered\": 45152, \"Total Recovered\": 8846146, \"Daily Deceased\": 444, \"Total Deceased\": 136586}, {\"Date\": \"2020-11-30T00:00:00\", \"Daily Confirmed\": 31179, \"Total Confirmed\": 9463178, \"Daily Recovered\": 42282, \"Total Recovered\": 8888428, \"Daily Deceased\": 482, \"Total Deceased\": 137068}, {\"Date\": \"2020-12-01T00:00:00\", \"Daily Confirmed\": 36474, \"Total Confirmed\": 9499652, \"Daily Recovered\": 43208, \"Total Recovered\": 8931636, \"Daily Deceased\": 501, \"Total Deceased\": 137569}, {\"Date\": \"2020-12-02T00:00:00\", \"Daily Confirmed\": 35506, \"Total Confirmed\": 9535158, \"Daily Recovered\": 40908, \"Total Recovered\": 8972544, \"Daily Deceased\": 526, \"Total Deceased\": 138095}, {\"Date\": \"2020-12-03T00:00:00\", \"Daily Confirmed\": 36574, \"Total Confirmed\": 9571732, \"Daily Recovered\": 42991, \"Total Recovered\": 9015535, \"Daily Deceased\": 541, \"Total Deceased\": 138636}, {\"Date\": \"2020-12-04T00:00:00\", \"Daily Confirmed\": 36711, \"Total Confirmed\": 9608443, \"Daily Recovered\": 42359, \"Total Recovered\": 9057894, \"Daily Deceased\": 511, \"Total Deceased\": 139147}, {\"Date\": \"2020-12-05T00:00:00\", \"Daily Confirmed\": 36010, \"Total Confirmed\": 9644453, \"Daily Recovered\": 41885, \"Total Recovered\": 9099779, \"Daily Deceased\": 482, \"Total Deceased\": 139629}, {\"Date\": \"2020-12-06T00:00:00\", \"Daily Confirmed\": 33178, \"Total Confirmed\": 9677631, \"Daily Recovered\": 39078, \"Total Recovered\": 9138857, \"Daily Deceased\": 390, \"Total Deceased\": 140019}, {\"Date\": \"2020-12-07T00:00:00\", \"Daily Confirmed\": 26227, \"Total Confirmed\": 9703858, \"Daily Recovered\": 39293, \"Total Recovered\": 9178150, \"Daily Deceased\": 386, \"Total Deceased\": 140405}, {\"Date\": \"2020-12-08T00:00:00\", \"Daily Confirmed\": 32083, \"Total Confirmed\": 9735941, \"Daily Recovered\": 36583, \"Total Recovered\": 9214733, \"Daily Deceased\": 402, \"Total Deceased\": 140807}, {\"Date\": \"2020-12-09T00:00:00\", \"Daily Confirmed\": 31637, \"Total Confirmed\": 9767578, \"Daily Recovered\": 37693, \"Total Recovered\": 9252426, \"Daily Deceased\": 413, \"Total Deceased\": 141220}, {\"Date\": \"2020-12-10T00:00:00\", \"Daily Confirmed\": 29411, \"Total Confirmed\": 9796989, \"Daily Recovered\": 37707, \"Total Recovered\": 9290133, \"Daily Deceased\": 411, \"Total Deceased\": 141631}, {\"Date\": \"2020-12-11T00:00:00\", \"Daily Confirmed\": 29961, \"Total Confirmed\": 9826950, \"Daily Recovered\": 33492, \"Total Recovered\": 9323625, \"Daily Deceased\": 442, \"Total Deceased\": 142073}, {\"Date\": \"2020-12-12T00:00:00\", \"Daily Confirmed\": 30354, \"Total Confirmed\": 9857304, \"Daily Recovered\": 33087, \"Total Recovered\": 9356712, \"Daily Deceased\": 391, \"Total Deceased\": 142464}, {\"Date\": \"2020-12-13T00:00:00\", \"Daily Confirmed\": 27336, \"Total Confirmed\": 9884640, \"Daily Recovered\": 30640, \"Total Recovered\": 9387352, \"Daily Deceased\": 338, \"Total Deceased\": 142802}, {\"Date\": \"2020-12-14T00:00:00\", \"Daily Confirmed\": 21941, \"Total Confirmed\": 9906581, \"Daily Recovered\": 34421, \"Total Recovered\": 9421773, \"Daily Deceased\": 354, \"Total Deceased\": 143156}, {\"Date\": \"2020-12-15T00:00:00\", \"Daily Confirmed\": 26251, \"Total Confirmed\": 9932832, \"Daily Recovered\": 33853, \"Total Recovered\": 9455626, \"Daily Deceased\": 384, \"Total Deceased\": 143540}, {\"Date\": \"2020-12-16T00:00:00\", \"Daily Confirmed\": 18172, \"Total Confirmed\": 9951004, \"Daily Recovered\": 33360, \"Total Recovered\": 9488986, \"Daily Deceased\": 356, \"Total Deceased\": 143896}, {\"Date\": \"2020-12-17T00:00:00\", \"Daily Confirmed\": 26754, \"Total Confirmed\": 9977758, \"Daily Recovered\": 30891, \"Total Recovered\": 9519877, \"Daily Deceased\": 342, \"Total Deceased\": 144238}, {\"Date\": \"2020-12-18T00:00:00\", \"Daily Confirmed\": 26991, \"Total Confirmed\": 10004749, \"Daily Recovered\": 29879, \"Total Recovered\": 9549756, \"Daily Deceased\": 342, \"Total Deceased\": 144580}, {\"Date\": \"2020-12-19T00:00:00\", \"Daily Confirmed\": 26834, \"Total Confirmed\": 10031583, \"Daily Recovered\": 29758, \"Total Recovered\": 9579514, \"Daily Deceased\": 342, \"Total Deceased\": 144922}, {\"Date\": \"2020-12-20T00:00:00\", \"Daily Confirmed\": 24622, \"Total Confirmed\": 10056205, \"Daily Recovered\": 25734, \"Total Recovered\": 9605248, \"Daily Deceased\": 332, \"Total Deceased\": 145254}, {\"Date\": \"2020-12-21T00:00:00\", \"Daily Confirmed\": 19147, \"Total Confirmed\": 10075352, \"Daily Recovered\": 30250, \"Total Recovered\": 9635498, \"Daily Deceased\": 302, \"Total Deceased\": 145556}, {\"Date\": \"2020-12-22T00:00:00\", \"Daily Confirmed\": 23880, \"Total Confirmed\": 10099232, \"Daily Recovered\": 27032, \"Total Recovered\": 9662530, \"Daily Deceased\": 329, \"Total Deceased\": 145885}, {\"Date\": \"2020-12-23T00:00:00\", \"Daily Confirmed\": 24716, \"Total Confirmed\": 10123948, \"Daily Recovered\": 29946, \"Total Recovered\": 9692476, \"Daily Deceased\": 315, \"Total Deceased\": 146200}, {\"Date\": \"2020-12-24T00:00:00\", \"Daily Confirmed\": 23444, \"Total Confirmed\": 10147392, \"Daily Recovered\": 24555, \"Total Recovered\": 9717031, \"Daily Deceased\": 337, \"Total Deceased\": 146537}, {\"Date\": \"2020-12-25T00:00:00\", \"Daily Confirmed\": 22349, \"Total Confirmed\": 10169741, \"Daily Recovered\": 22184, \"Total Recovered\": 9739215, \"Daily Deceased\": 251, \"Total Deceased\": 146788}, {\"Date\": \"2020-12-26T00:00:00\", \"Daily Confirmed\": 18575, \"Total Confirmed\": 10188316, \"Daily Recovered\": 21466, \"Total Recovered\": 9760681, \"Daily Deceased\": 280, \"Total Deceased\": 147068}, {\"Date\": \"2020-12-27T00:00:00\", \"Daily Confirmed\": 20333, \"Total Confirmed\": 10208649, \"Daily Recovered\": 21097, \"Total Recovered\": 9781778, \"Daily Deceased\": 281, \"Total Deceased\": 147349}, {\"Date\": \"2020-12-28T00:00:00\", \"Daily Confirmed\": 16072, \"Total Confirmed\": 10224721, \"Daily Recovered\": 24822, \"Total Recovered\": 9806600, \"Daily Deceased\": 250, \"Total Deceased\": 147599}, {\"Date\": \"2020-12-29T00:00:00\", \"Daily Confirmed\": 20542, \"Total Confirmed\": 10245263, \"Daily Recovered\": 26589, \"Total Recovered\": 9833189, \"Daily Deceased\": 285, \"Total Deceased\": 147884}, {\"Date\": \"2020-12-30T00:00:00\", \"Daily Confirmed\": 21945, \"Total Confirmed\": 10267208, \"Daily Recovered\": 26407, \"Total Recovered\": 9859596, \"Daily Deceased\": 299, \"Total Deceased\": 148183}, {\"Date\": \"2020-12-31T00:00:00\", \"Daily Confirmed\": 19026, \"Total Confirmed\": 10286234, \"Daily Recovered\": 21969, \"Total Recovered\": 9881565, \"Daily Deceased\": 244, \"Total Deceased\": 148427}, {\"Date\": \"2021-01-01T00:00:00\", \"Daily Confirmed\": 20159, \"Total Confirmed\": 10306393, \"Daily Recovered\": 23838, \"Total Recovered\": 9905403, \"Daily Deceased\": 237, \"Total Deceased\": 148664}, {\"Date\": \"2021-01-02T00:00:00\", \"Daily Confirmed\": 18144, \"Total Confirmed\": 10324537, \"Daily Recovered\": 20903, \"Total Recovered\": 9926306, \"Daily Deceased\": 216, \"Total Deceased\": 148880}, {\"Date\": \"2021-01-03T00:00:00\", \"Daily Confirmed\": 16678, \"Total Confirmed\": 10341215, \"Daily Recovered\": 19658, \"Total Recovered\": 9945964, \"Daily Deceased\": 215, \"Total Deceased\": 149095}, {\"Date\": \"2021-01-04T00:00:00\", \"Daily Confirmed\": 16278, \"Total Confirmed\": 10357493, \"Daily Recovered\": 29209, \"Total Recovered\": 9975173, \"Daily Deceased\": 200, \"Total Deceased\": 149295}, {\"Date\": \"2021-01-05T00:00:00\", \"Daily Confirmed\": 17909, \"Total Confirmed\": 10375402, \"Daily Recovered\": 21161, \"Total Recovered\": 9996334, \"Daily Deceased\": 265, \"Total Deceased\": 149560}, {\"Date\": \"2021-01-06T00:00:00\", \"Daily Confirmed\": 20472, \"Total Confirmed\": 10395874, \"Daily Recovered\": 19689, \"Total Recovered\": 10016023, \"Daily Deceased\": 222, \"Total Deceased\": 149782}, {\"Date\": \"2021-01-07T00:00:00\", \"Daily Confirmed\": 18123, \"Total Confirmed\": 10413997, \"Daily Recovered\": 20503, \"Total Recovered\": 10036526, \"Daily Deceased\": 233, \"Total Deceased\": 150015}, {\"Date\": \"2021-01-08T00:00:00\", \"Daily Confirmed\": 18453, \"Total Confirmed\": 10432450, \"Daily Recovered\": 19242, \"Total Recovered\": 10055768, \"Daily Deceased\": 229, \"Total Deceased\": 150244}, {\"Date\": \"2021-01-09T00:00:00\", \"Daily Confirmed\": 18820, \"Total Confirmed\": 10451270, \"Daily Recovered\": 19460, \"Total Recovered\": 10075228, \"Daily Deceased\": 213, \"Total Deceased\": 150457}, {\"Date\": \"2021-01-10T00:00:00\", \"Daily Confirmed\": 16086, \"Total Confirmed\": 10467356, \"Daily Recovered\": 16737, \"Total Recovered\": 10091965, \"Daily Deceased\": 150, \"Total Deceased\": 150607}, {\"Date\": \"2021-01-11T00:00:00\", \"Daily Confirmed\": 12481, \"Total Confirmed\": 10479837, \"Daily Recovered\": 18578, \"Total Recovered\": 10110543, \"Daily Deceased\": 166, \"Total Deceased\": 150773}, {\"Date\": \"2021-01-12T00:00:00\", \"Daily Confirmed\": 15903, \"Total Confirmed\": 10495740, \"Daily Recovered\": 17762, \"Total Recovered\": 10128305, \"Daily Deceased\": 200, \"Total Deceased\": 150973}, {\"Date\": \"2021-01-13T00:00:00\", \"Daily Confirmed\": 17015, \"Total Confirmed\": 10512755, \"Daily Recovered\": 17797, \"Total Recovered\": 10146102, \"Daily Deceased\": 201, \"Total Deceased\": 151174}, {\"Date\": \"2021-01-14T00:00:00\", \"Daily Confirmed\": 15677, \"Total Confirmed\": 10528432, \"Daily Recovered\": 15943, \"Total Recovered\": 10162045, \"Daily Deceased\": 189, \"Total Deceased\": 151363}, {\"Date\": \"2021-01-15T00:00:00\", \"Daily Confirmed\": 15155, \"Total Confirmed\": 10543587, \"Daily Recovered\": 16809, \"Total Recovered\": 10178854, \"Daily Deceased\": 176, \"Total Deceased\": 151539}, {\"Date\": \"2021-01-16T00:00:00\", \"Daily Confirmed\": 15050, \"Total Confirmed\": 10558637, \"Daily Recovered\": 17202, \"Total Recovered\": 10196056, \"Daily Deceased\": 181, \"Total Deceased\": 151720}, {\"Date\": \"2021-01-17T00:00:00\", \"Daily Confirmed\": 13962, \"Total Confirmed\": 10572599, \"Daily Recovered\": 14513, \"Total Recovered\": 10210569, \"Daily Deceased\": 145, \"Total Deceased\": 151865}, {\"Date\": \"2021-01-18T00:00:00\", \"Daily Confirmed\": 9987, \"Total Confirmed\": 10582586, \"Daily Recovered\": 17127, \"Total Recovered\": 10227696, \"Daily Deceased\": 137, \"Total Deceased\": 152002}, {\"Date\": \"2021-01-19T00:00:00\", \"Daily Confirmed\": 13787, \"Total Confirmed\": 10596373, \"Daily Recovered\": 17229, \"Total Recovered\": 10244925, \"Daily Deceased\": 162, \"Total Deceased\": 152164}, {\"Date\": \"2021-01-20T00:00:00\", \"Daily Confirmed\": 15279, \"Total Confirmed\": 10611652, \"Daily Recovered\": 20071, \"Total Recovered\": 10264996, \"Daily Deceased\": 152, \"Total Deceased\": 152316}, {\"Date\": \"2021-01-21T00:00:00\", \"Daily Confirmed\": 14495, \"Total Confirmed\": 10626147, \"Daily Recovered\": 17734, \"Total Recovered\": 10282730, \"Daily Deceased\": 161, \"Total Deceased\": 152477}, {\"Date\": \"2021-01-22T00:00:00\", \"Daily Confirmed\": 14323, \"Total Confirmed\": 10640470, \"Daily Recovered\": 17166, \"Total Recovered\": 10299896, \"Daily Deceased\": 153, \"Total Deceased\": 152630}, {\"Date\": \"2021-01-23T00:00:00\", \"Daily Confirmed\": 14896, \"Total Confirmed\": 10655366, \"Daily Recovered\": 16033, \"Total Recovered\": 10315929, \"Daily Deceased\": 156, \"Total Deceased\": 152786}, {\"Date\": \"2021-01-24T00:00:00\", \"Daily Confirmed\": 13232, \"Total Confirmed\": 10668598, \"Daily Recovered\": 13148, \"Total Recovered\": 10329077, \"Daily Deceased\": 131, \"Total Deceased\": 152917}, {\"Date\": \"2021-01-25T00:00:00\", \"Daily Confirmed\": 9098, \"Total Confirmed\": 10677696, \"Daily Recovered\": 16092, \"Total Recovered\": 10345169, \"Daily Deceased\": 116, \"Total Deceased\": 153033}, {\"Date\": \"2021-01-26T00:00:00\", \"Daily Confirmed\": 12733, \"Total Confirmed\": 10690429, \"Daily Recovered\": 13250, \"Total Recovered\": 10358419, \"Daily Deceased\": 138, \"Total Deceased\": 153171}, {\"Date\": \"2021-01-27T00:00:00\", \"Daily Confirmed\": 11556, \"Total Confirmed\": 10701985, \"Daily Recovered\": 14261, \"Total Recovered\": 10372680, \"Daily Deceased\": 123, \"Total Deceased\": 153294}, {\"Date\": \"2021-01-28T00:00:00\", \"Daily Confirmed\": 18912, \"Total Confirmed\": 10720897, \"Daily Recovered\": 20315, \"Total Recovered\": 10392995, \"Daily Deceased\": 162, \"Total Deceased\": 153456}, {\"Date\": \"2021-01-29T00:00:00\", \"Daily Confirmed\": 13054, \"Total Confirmed\": 10733951, \"Daily Recovered\": 14886, \"Total Recovered\": 10407881, \"Daily Deceased\": 137, \"Total Deceased\": 153593}, {\"Date\": \"2021-01-30T00:00:00\", \"Daily Confirmed\": 13073, \"Total Confirmed\": 10747024, \"Daily Recovered\": 14077, \"Total Recovered\": 10421958, \"Daily Deceased\": 128, \"Total Deceased\": 153721}, {\"Date\": \"2021-01-31T00:00:00\", \"Daily Confirmed\": 11527, \"Total Confirmed\": 10758551, \"Daily Recovered\": 11882, \"Total Recovered\": 10433840, \"Daily Deceased\": 116, \"Total Deceased\": 153837}, {\"Date\": \"2021-02-01T00:00:00\", \"Daily Confirmed\": 8579, \"Total Confirmed\": 10767130, \"Daily Recovered\": 13443, \"Total Recovered\": 10447283, \"Daily Deceased\": 94, \"Total Deceased\": 153931}, {\"Date\": \"2021-02-02T00:00:00\", \"Daily Confirmed\": 11001, \"Total Confirmed\": 10778131, \"Daily Recovered\": 14250, \"Total Recovered\": 10461533, \"Daily Deceased\": 113, \"Total Deceased\": 154044}, {\"Date\": \"2021-02-03T00:00:00\", \"Daily Confirmed\": 12925, \"Total Confirmed\": 10791056, \"Daily Recovered\": 17813, \"Total Recovered\": 10479346, \"Daily Deceased\": 107, \"Total Deceased\": 154151}, {\"Date\": \"2021-02-04T00:00:00\", \"Daily Confirmed\": 12401, \"Total Confirmed\": 10803457, \"Daily Recovered\": 15788, \"Total Recovered\": 10495134, \"Daily Deceased\": 120, \"Total Deceased\": 154271}, {\"Date\": \"2021-02-05T00:00:00\", \"Daily Confirmed\": 11711, \"Total Confirmed\": 10815168, \"Daily Recovered\": 14512, \"Total Recovered\": 10509646, \"Daily Deceased\": 95, \"Total Deceased\": 154366}, {\"Date\": \"2021-02-06T00:00:00\", \"Daily Confirmed\": 12069, \"Total Confirmed\": 10827237, \"Daily Recovered\": 11761, \"Total Recovered\": 10521407, \"Daily Deceased\": 75, \"Total Deceased\": 154441}, {\"Date\": \"2021-02-07T00:00:00\", \"Daily Confirmed\": 11786, \"Total Confirmed\": 10839023, \"Daily Recovered\": 11756, \"Total Recovered\": 10533163, \"Daily Deceased\": 86, \"Total Deceased\": 154527}, {\"Date\": \"2021-02-08T00:00:00\", \"Daily Confirmed\": 8715, \"Total Confirmed\": 10847738, \"Daily Recovered\": 13600, \"Total Recovered\": 10546763, \"Daily Deceased\": 78, \"Total Deceased\": 154605}, {\"Date\": \"2021-02-09T00:00:00\", \"Daily Confirmed\": 10731, \"Total Confirmed\": 10858469, \"Daily Recovered\": 12928, \"Total Recovered\": 10559691, \"Daily Deceased\": 94, \"Total Deceased\": 154699}, {\"Date\": \"2021-02-10T00:00:00\", \"Daily Confirmed\": 12539, \"Total Confirmed\": 10871008, \"Daily Recovered\": 11796, \"Total Recovered\": 10571487, \"Daily Deceased\": 110, \"Total Deceased\": 154809}, {\"Date\": \"2021-02-11T00:00:00\", \"Daily Confirmed\": 9353, \"Total Confirmed\": 10880361, \"Daily Recovered\": 15722, \"Total Recovered\": 10587209, \"Daily Deceased\": 85, \"Total Deceased\": 154894}, {\"Date\": \"2021-02-12T00:00:00\", \"Daily Confirmed\": 12137, \"Total Confirmed\": 10892498, \"Daily Recovered\": 11358, \"Total Recovered\": 10598567, \"Daily Deceased\": 104, \"Total Deceased\": 154998}, {\"Date\": \"2021-02-13T00:00:00\", \"Daily Confirmed\": 12198, \"Total Confirmed\": 10904696, \"Daily Recovered\": 11107, \"Total Recovered\": 10609674, \"Daily Deceased\": 89, \"Total Deceased\": 155087}, {\"Date\": \"2021-02-14T00:00:00\", \"Daily Confirmed\": 11706, \"Total Confirmed\": 10916402, \"Daily Recovered\": 9500, \"Total Recovered\": 10619174, \"Daily Deceased\": 91, \"Total Deceased\": 155178}, {\"Date\": \"2021-02-15T00:00:00\", \"Daily Confirmed\": 9086, \"Total Confirmed\": 10925488, \"Daily Recovered\": 11793, \"Total Recovered\": 10630967, \"Daily Deceased\": 82, \"Total Deceased\": 155260}, {\"Date\": \"2021-02-16T00:00:00\", \"Daily Confirmed\": 11592, \"Total Confirmed\": 10937080, \"Daily Recovered\": 11836, \"Total Recovered\": 10642803, \"Daily Deceased\": 99, \"Total Deceased\": 155359}, {\"Date\": \"2021-02-17T00:00:00\", \"Daily Confirmed\": 12862, \"Total Confirmed\": 10949942, \"Daily Recovered\": 12028, \"Total Recovered\": 10654831, \"Daily Deceased\": 100, \"Total Deceased\": 155459}, {\"Date\": \"2021-02-18T00:00:00\", \"Daily Confirmed\": 13237, \"Total Confirmed\": 10963179, \"Daily Recovered\": 10914, \"Total Recovered\": 10665745, \"Daily Deceased\": 100, \"Total Deceased\": 155559}, {\"Date\": \"2021-02-19T00:00:00\", \"Daily Confirmed\": 13916, \"Total Confirmed\": 10977095, \"Daily Recovered\": 10214, \"Total Recovered\": 10675959, \"Daily Deceased\": 100, \"Total Deceased\": 155659}, {\"Date\": \"2021-02-20T00:00:00\", \"Daily Confirmed\": 13919, \"Total Confirmed\": 10991014, \"Daily Recovered\": 11413, \"Total Recovered\": 10687372, \"Daily Deceased\": 89, \"Total Deceased\": 155748}, {\"Date\": \"2021-02-21T00:00:00\", \"Daily Confirmed\": 14278, \"Total Confirmed\": 11005292, \"Daily Recovered\": 9715, \"Total Recovered\": 10697087, \"Daily Deceased\": 83, \"Total Deceased\": 155831}, {\"Date\": \"2021-02-22T00:00:00\", \"Daily Confirmed\": 10494, \"Total Confirmed\": 11015786, \"Daily Recovered\": 13233, \"Total Recovered\": 10710320, \"Daily Deceased\": 76, \"Total Deceased\": 155907}, {\"Date\": \"2021-02-23T00:00:00\", \"Daily Confirmed\": 13682, \"Total Confirmed\": 11029468, \"Daily Recovered\": 13969, \"Total Recovered\": 10724289, \"Daily Deceased\": 103, \"Total Deceased\": 156010}, {\"Date\": \"2021-02-24T00:00:00\", \"Daily Confirmed\": 16930, \"Total Confirmed\": 11046398, \"Daily Recovered\": 12100, \"Total Recovered\": 10736389, \"Daily Deceased\": 141, \"Total Deceased\": 156151}, {\"Date\": \"2021-02-25T00:00:00\", \"Daily Confirmed\": 16599, \"Total Confirmed\": 11062997, \"Daily Recovered\": 12222, \"Total Recovered\": 10748611, \"Daily Deceased\": 119, \"Total Deceased\": 156270}, {\"Date\": \"2021-02-26T00:00:00\", \"Daily Confirmed\": 16562, \"Total Confirmed\": 11079559, \"Daily Recovered\": 12790, \"Total Recovered\": 10761401, \"Daily Deceased\": 114, \"Total Deceased\": 156384}, {\"Date\": \"2021-02-27T00:00:00\", \"Daily Confirmed\": 16805, \"Total Confirmed\": 11096364, \"Daily Recovered\": 11709, \"Total Recovered\": 10773110, \"Daily Deceased\": 111, \"Total Deceased\": 156495}, {\"Date\": \"2021-02-28T00:00:00\", \"Daily Confirmed\": 15614, \"Total Confirmed\": 11111978, \"Daily Recovered\": 11291, \"Total Recovered\": 10784401, \"Daily Deceased\": 108, \"Total Deceased\": 156603}, {\"Date\": \"2021-03-01T00:00:00\", \"Daily Confirmed\": 12270, \"Total Confirmed\": 11124248, \"Daily Recovered\": 12472, \"Total Recovered\": 10796873, \"Daily Deceased\": 92, \"Total Deceased\": 156695}, {\"Date\": \"2021-03-02T00:00:00\", \"Daily Confirmed\": 14998, \"Total Confirmed\": 11139246, \"Daily Recovered\": 13113, \"Total Recovered\": 10809986, \"Daily Deceased\": 98, \"Total Deceased\": 156793}, {\"Date\": \"2021-03-03T00:00:00\", \"Daily Confirmed\": 17425, \"Total Confirmed\": 11156671, \"Daily Recovered\": 14071, \"Total Recovered\": 10824057, \"Daily Deceased\": 87, \"Total Deceased\": 156880}, {\"Date\": \"2021-03-04T00:00:00\", \"Daily Confirmed\": 16824, \"Total Confirmed\": 11173495, \"Daily Recovered\": 13788, \"Total Recovered\": 10837845, \"Daily Deceased\": 113, \"Total Deceased\": 156993}, {\"Date\": \"2021-03-05T00:00:00\", \"Daily Confirmed\": 18324, \"Total Confirmed\": 11191819, \"Daily Recovered\": 14186, \"Total Recovered\": 10852031, \"Daily Deceased\": 109, \"Total Deceased\": 157102}, {\"Date\": \"2021-03-06T00:00:00\", \"Daily Confirmed\": 18724, \"Total Confirmed\": 11210543, \"Daily Recovered\": 14379, \"Total Recovered\": 10866410, \"Daily Deceased\": 100, \"Total Deceased\": 157202}, {\"Date\": \"2021-03-07T00:00:00\", \"Daily Confirmed\": 18650, \"Total Confirmed\": 11229193, \"Daily Recovered\": 14303, \"Total Recovered\": 10880713, \"Daily Deceased\": 97, \"Total Deceased\": 157299}, {\"Date\": \"2021-03-08T00:00:00\", \"Daily Confirmed\": 15353, \"Total Confirmed\": 11244546, \"Daily Recovered\": 16606, \"Total Recovered\": 10897319, \"Daily Deceased\": 76, \"Total Deceased\": 157375}, {\"Date\": \"2021-03-09T00:00:00\", \"Daily Confirmed\": 17873, \"Total Confirmed\": 11262419, \"Daily Recovered\": 20643, \"Total Recovered\": 10917962, \"Daily Deceased\": 133, \"Total Deceased\": 157508}, {\"Date\": \"2021-03-10T00:00:00\", \"Daily Confirmed\": 22851, \"Total Confirmed\": 11285270, \"Daily Recovered\": 18154, \"Total Recovered\": 10936116, \"Daily Deceased\": 125, \"Total Deceased\": 157633}, {\"Date\": \"2021-03-11T00:00:00\", \"Daily Confirmed\": 23298, \"Total Confirmed\": 11308568, \"Daily Recovered\": 15092, \"Total Recovered\": 10951208, \"Daily Deceased\": 119, \"Total Deceased\": 157752}, {\"Date\": \"2021-03-12T00:00:00\", \"Daily Confirmed\": 24845, \"Total Confirmed\": 11333413, \"Daily Recovered\": 19972, \"Total Recovered\": 10971180, \"Daily Deceased\": 140, \"Total Deceased\": 157892}, {\"Date\": \"2021-03-13T00:00:00\", \"Daily Confirmed\": 25154, \"Total Confirmed\": 11358567, \"Daily Recovered\": 16508, \"Total Recovered\": 10987688, \"Daily Deceased\": 159, \"Total Deceased\": 158051}, {\"Date\": \"2021-03-14T00:00:00\", \"Daily Confirmed\": 26513, \"Total Confirmed\": 11385080, \"Daily Recovered\": 17590, \"Total Recovered\": 11005278, \"Daily Deceased\": 120, \"Total Deceased\": 158171}, {\"Date\": \"2021-03-15T00:00:00\", \"Daily Confirmed\": 24437, \"Total Confirmed\": 11409517, \"Daily Recovered\": 20186, \"Total Recovered\": 11025464, \"Daily Deceased\": 130, \"Total Deceased\": 158301}, {\"Date\": \"2021-03-16T00:00:00\", \"Daily Confirmed\": 28869, \"Total Confirmed\": 11438386, \"Daily Recovered\": 17746, \"Total Recovered\": 11043210, \"Daily Deceased\": 187, \"Total Deceased\": 158488}, {\"Date\": \"2021-03-17T00:00:00\", \"Daily Confirmed\": 35838, \"Total Confirmed\": 11474224, \"Daily Recovered\": 17793, \"Total Recovered\": 11061003, \"Daily Deceased\": 171, \"Total Deceased\": 158659}, {\"Date\": \"2021-03-18T00:00:00\", \"Daily Confirmed\": 39687, \"Total Confirmed\": 11513911, \"Daily Recovered\": 20356, \"Total Recovered\": 11081359, \"Daily Deceased\": 156, \"Total Deceased\": 158815}, {\"Date\": \"2021-03-19T00:00:00\", \"Daily Confirmed\": 40906, \"Total Confirmed\": 11554817, \"Daily Recovered\": 23623, \"Total Recovered\": 11104982, \"Daily Deceased\": 188, \"Total Deceased\": 159003}, {\"Date\": \"2021-03-20T00:00:00\", \"Daily Confirmed\": 43815, \"Total Confirmed\": 11598632, \"Daily Recovered\": 22971, \"Total Recovered\": 11127953, \"Daily Deceased\": 196, \"Total Deceased\": 159199}, {\"Date\": \"2021-03-21T00:00:00\", \"Daily Confirmed\": 47009, \"Total Confirmed\": 11645641, \"Daily Recovered\": 21205, \"Total Recovered\": 11149158, \"Daily Deceased\": 213, \"Total Deceased\": 159412}, {\"Date\": \"2021-03-22T00:00:00\", \"Daily Confirmed\": 40636, \"Total Confirmed\": 11686277, \"Daily Recovered\": 29779, \"Total Recovered\": 11178937, \"Daily Deceased\": 197, \"Total Deceased\": 159609}, {\"Date\": \"2021-03-23T00:00:00\", \"Daily Confirmed\": 47239, \"Total Confirmed\": 11733516, \"Daily Recovered\": 23913, \"Total Recovered\": 11202850, \"Daily Deceased\": 277, \"Total Deceased\": 159886}, {\"Date\": \"2021-03-24T00:00:00\", \"Daily Confirmed\": 53419, \"Total Confirmed\": 11786935, \"Daily Recovered\": 26575, \"Total Recovered\": 11229425, \"Daily Deceased\": 249, \"Total Deceased\": 160135}, {\"Date\": \"2021-03-25T00:00:00\", \"Daily Confirmed\": 59083, \"Total Confirmed\": 11846018, \"Daily Recovered\": 32917, \"Total Recovered\": 11262342, \"Daily Deceased\": 257, \"Total Deceased\": 160392}, {\"Date\": \"2021-03-26T00:00:00\", \"Daily Confirmed\": 62276, \"Total Confirmed\": 11908294, \"Daily Recovered\": 30341, \"Total Recovered\": 11292683, \"Daily Deceased\": 292, \"Total Deceased\": 160684}, {\"Date\": \"2021-03-27T00:00:00\", \"Daily Confirmed\": 62632, \"Total Confirmed\": 11970926, \"Daily Recovered\": 28728, \"Total Recovered\": 11321411, \"Daily Deceased\": 311, \"Total Deceased\": 160995}, {\"Date\": \"2021-03-28T00:00:00\", \"Daily Confirmed\": 68206, \"Total Confirmed\": 12039132, \"Daily Recovered\": 32269, \"Total Recovered\": 11353680, \"Daily Deceased\": 295, \"Total Deceased\": 161290}, {\"Date\": \"2021-03-29T00:00:00\", \"Daily Confirmed\": 56152, \"Total Confirmed\": 12095284, \"Daily Recovered\": 36989, \"Total Recovered\": 11390669, \"Daily Deceased\": 266, \"Total Deceased\": 161556}, {\"Date\": \"2021-03-30T00:00:00\", \"Daily Confirmed\": 53237, \"Total Confirmed\": 12148521, \"Daily Recovered\": 41242, \"Total Recovered\": 11431911, \"Daily Deceased\": 355, \"Total Deceased\": 161911}, {\"Date\": \"2021-03-31T00:00:00\", \"Daily Confirmed\": 72113, \"Total Confirmed\": 12220634, \"Daily Recovered\": 40423, \"Total Recovered\": 11472334, \"Daily Deceased\": 458, \"Total Deceased\": 162369}, {\"Date\": \"2021-04-01T00:00:00\", \"Daily Confirmed\": 81398, \"Total Confirmed\": 12302032, \"Daily Recovered\": 50384, \"Total Recovered\": 11522718, \"Daily Deceased\": 468, \"Total Deceased\": 162837}, {\"Date\": \"2021-04-02T00:00:00\", \"Daily Confirmed\": 89023, \"Total Confirmed\": 12391055, \"Daily Recovered\": 44179, \"Total Recovered\": 11566897, \"Daily Deceased\": 713, \"Total Deceased\": 163550}, {\"Date\": \"2021-04-03T00:00:00\", \"Daily Confirmed\": 92994, \"Total Confirmed\": 12484049, \"Daily Recovered\": 60059, \"Total Recovered\": 11626956, \"Daily Deceased\": 514, \"Total Deceased\": 164064}, {\"Date\": \"2021-04-04T00:00:00\", \"Daily Confirmed\": 103794, \"Total Confirmed\": 12587843, \"Daily Recovered\": 52840, \"Total Recovered\": 11679796, \"Daily Deceased\": 477, \"Total Deceased\": 164541}, {\"Date\": \"2021-04-05T00:00:00\", \"Daily Confirmed\": 96563, \"Total Confirmed\": 12684406, \"Daily Recovered\": 50100, \"Total Recovered\": 11729896, \"Daily Deceased\": 446, \"Total Deceased\": 164987}, {\"Date\": \"2021-04-06T00:00:00\", \"Daily Confirmed\": 115312, \"Total Confirmed\": 12799718, \"Daily Recovered\": 59714, \"Total Recovered\": 11789610, \"Daily Deceased\": 630, \"Total Deceased\": 165617}, {\"Date\": \"2021-04-07T00:00:00\", \"Daily Confirmed\": 126276, \"Total Confirmed\": 12925994, \"Daily Recovered\": 59137, \"Total Recovered\": 11848747, \"Daily Deceased\": 684, \"Total Deceased\": 166301}, {\"Date\": \"2021-04-08T00:00:00\", \"Daily Confirmed\": 131878, \"Total Confirmed\": 13057872, \"Daily Recovered\": 61829, \"Total Recovered\": 11910576, \"Daily Deceased\": 802, \"Total Deceased\": 167103}, {\"Date\": \"2021-04-09T00:00:00\", \"Daily Confirmed\": 144945, \"Total Confirmed\": 13202817, \"Daily Recovered\": 77263, \"Total Recovered\": 11987839, \"Daily Deceased\": 773, \"Total Deceased\": 167876}, {\"Date\": \"2021-04-10T00:00:00\", \"Daily Confirmed\": 152565, \"Total Confirmed\": 13355382, \"Daily Recovered\": 90328, \"Total Recovered\": 12078167, \"Daily Deceased\": 838, \"Total Deceased\": 168714}, {\"Date\": \"2021-04-11T00:00:00\", \"Daily Confirmed\": 169914, \"Total Confirmed\": 13525296, \"Daily Recovered\": 75380, \"Total Recovered\": 12153547, \"Daily Deceased\": 904, \"Total Deceased\": 169618}, {\"Date\": \"2021-04-12T00:00:00\", \"Daily Confirmed\": 160838, \"Total Confirmed\": 13686134, \"Daily Recovered\": 96746, \"Total Recovered\": 12250293, \"Daily Deceased\": 880, \"Total Deceased\": 170498}, {\"Date\": \"2021-04-13T00:00:00\", \"Daily Confirmed\": 185297, \"Total Confirmed\": 13871431, \"Daily Recovered\": 82271, \"Total Recovered\": 12332564, \"Daily Deceased\": 1026, \"Total Deceased\": 171524}, {\"Date\": \"2021-04-14T00:00:00\", \"Daily Confirmed\": 199584, \"Total Confirmed\": 14071015, \"Daily Recovered\": 93425, \"Total Recovered\": 12425989, \"Daily Deceased\": 1038, \"Total Deceased\": 172562}, {\"Date\": \"2021-04-15T00:00:00\", \"Daily Confirmed\": 216828, \"Total Confirmed\": 14287843, \"Daily Recovered\": 117897, \"Total Recovered\": 12543886, \"Daily Deceased\": 1184, \"Total Deceased\": 173746}, {\"Date\": \"2021-04-16T00:00:00\", \"Daily Confirmed\": 234002, \"Total Confirmed\": 14521845, \"Daily Recovered\": 122886, \"Total Recovered\": 12666772, \"Daily Deceased\": 1338, \"Total Deceased\": 175084}, {\"Date\": \"2021-04-17T00:00:00\", \"Daily Confirmed\": 260895, \"Total Confirmed\": 14782740, \"Daily Recovered\": 138209, \"Total Recovered\": 12804981, \"Daily Deceased\": 1498, \"Total Deceased\": 176582}, {\"Date\": \"2021-04-18T00:00:00\", \"Daily Confirmed\": 275063, \"Total Confirmed\": 15057803, \"Daily Recovered\": 143839, \"Total Recovered\": 12948820, \"Daily Deceased\": 1620, \"Total Deceased\": 178202}, {\"Date\": \"2021-04-19T00:00:00\", \"Daily Confirmed\": 257003, \"Total Confirmed\": 15314806, \"Daily Recovered\": 154357, \"Total Recovered\": 13103177, \"Daily Deceased\": 1757, \"Total Deceased\": 179959}, {\"Date\": \"2021-04-20T00:00:00\", \"Daily Confirmed\": 294365, \"Total Confirmed\": 15609171, \"Daily Recovered\": 166656, \"Total Recovered\": 13269833, \"Daily Deceased\": 2021, \"Total Deceased\": 181980}, {\"Date\": \"2021-04-21T00:00:00\", \"Daily Confirmed\": 315752, \"Total Confirmed\": 15924923, \"Daily Recovered\": 179434, \"Total Recovered\": 13449267, \"Daily Deceased\": 2101, \"Total Deceased\": 184081}, {\"Date\": \"2021-04-22T00:00:00\", \"Daily Confirmed\": 332531, \"Total Confirmed\": 16257454, \"Daily Recovered\": 192317, \"Total Recovered\": 13641584, \"Daily Deceased\": 2257, \"Total Deceased\": 186338}, {\"Date\": \"2021-04-23T00:00:00\", \"Daily Confirmed\": 345296, \"Total Confirmed\": 16602750, \"Daily Recovered\": 220545, \"Total Recovered\": 13862129, \"Daily Deceased\": 2620, \"Total Deceased\": 188958}, {\"Date\": \"2021-04-24T00:00:00\", \"Daily Confirmed\": 348996, \"Total Confirmed\": 16951746, \"Daily Recovered\": 215809, \"Total Recovered\": 14077938, \"Daily Deceased\": 2761, \"Total Deceased\": 191719}, {\"Date\": \"2021-04-25T00:00:00\", \"Daily Confirmed\": 354658, \"Total Confirmed\": 17306404, \"Daily Recovered\": 218626, \"Total Recovered\": 14296564, \"Daily Deceased\": 2808, \"Total Deceased\": 194527}, {\"Date\": \"2021-04-26T00:00:00\", \"Daily Confirmed\": 319471, \"Total Confirmed\": 17625875, \"Daily Recovered\": 249009, \"Total Recovered\": 14545573, \"Daily Deceased\": 2762, \"Total Deceased\": 197289}, {\"Date\": \"2021-04-27T00:00:00\", \"Daily Confirmed\": 362913, \"Total Confirmed\": 17988788, \"Daily Recovered\": 262349, \"Total Recovered\": 14807922, \"Daily Deceased\": 3286, \"Total Deceased\": 200575}, {\"Date\": \"2021-04-28T00:00:00\", \"Daily Confirmed\": 379404, \"Total Confirmed\": 18368192, \"Daily Recovered\": 274171, \"Total Recovered\": 15082093, \"Daily Deceased\": 3646, \"Total Deceased\": 204221}, {\"Date\": \"2021-04-29T00:00:00\", \"Daily Confirmed\": 386773, \"Total Confirmed\": 18754965, \"Daily Recovered\": 291727, \"Total Recovered\": 15373820, \"Daily Deceased\": 3502, \"Total Deceased\": 207723}, {\"Date\": \"2021-04-30T00:00:00\", \"Daily Confirmed\": 402014, \"Total Confirmed\": 19156979, \"Daily Recovered\": 299198, \"Total Recovered\": 15673018, \"Daily Deceased\": 3525, \"Total Deceased\": 211248}]}}, {\"mode\": \"vega-lite\"});\n",
       "</script>"
      ],
      "text/plain": [
       "alt.LayerChart(...)"
      ]
     },
     "execution_count": 7,
     "metadata": {},
     "output_type": "execute_result"
    }
   ],
   "source": [
    "hover = alt.selection_single(on='mouseover',nearest=True, fields=['Date'])\n",
    "\n",
    "line = alt.Chart(title=\"Confirmed Cases\").mark_line().encode(\n",
    "    x=alt.X('Date:T', axis=alt.Axis(offset=2)),\n",
    "    y=\"Daily Confirmed\",color=alt.value(\"red\")\n",
    ").properties(width=680, height=370).interactive()\n",
    "\n",
    "point = line.mark_point().encode(opacity=alt.value(0.0)).properties(selection=hover)\n",
    "\n",
    "text = alt.Chart().mark_text(align='right', dy=-2, fontSize=20).encode(\n",
    "    x='Date:T',\n",
    "    y=\"Daily Confirmed\",\n",
    "    text=\"Daily Confirmed\",\n",
    "    detail=\"Daily Confirmed\",\n",
    "    color=alt.value('white'),opacity=alt.condition(hover,alt.value(0.8), alt.value(0.0)))\n",
    "\n",
    "alt.layer(line,point,text,data=country_df).configure(\n",
    "    background='black').interactive().configure_axis(grid=False).configure_view(\n",
    "    strokeWidth=0)"
   ]
  },
  {
   "cell_type": "markdown",
   "id": "5f482ae9",
   "metadata": {},
   "source": [
    "### Normalized Stacked Area Chart"
   ]
  },
  {
   "cell_type": "code",
   "execution_count": 8,
   "id": "60e43f51",
   "metadata": {},
   "outputs": [],
   "source": [
    "#hide\n",
    "stack = country_df[['Date','Daily Confirmed','Daily Recovered', 'Daily Deceased']]\n",
    "\n",
    "stack.set_index('Date',inplace=True)\n",
    "\n",
    "stack.columns = ['Confirmed','Recovered','Deceased']\n",
    "\n",
    "stack = stack.reset_index()\n",
    "stack = pd.melt(stack, id_vars='Date', var_name='Cases', value_name= 'Count' )"
   ]
  },
  {
   "cell_type": "code",
   "execution_count": 9,
   "id": "d59d6fdc",
   "metadata": {},
   "outputs": [
    {
     "data": {
      "text/html": [
       "<div>\n",
       "<style scoped>\n",
       "    .dataframe tbody tr th:only-of-type {\n",
       "        vertical-align: middle;\n",
       "    }\n",
       "\n",
       "    .dataframe tbody tr th {\n",
       "        vertical-align: top;\n",
       "    }\n",
       "\n",
       "    .dataframe thead th {\n",
       "        text-align: right;\n",
       "    }\n",
       "</style>\n",
       "<table border=\"1\" class=\"dataframe\">\n",
       "  <thead>\n",
       "    <tr style=\"text-align: right;\">\n",
       "      <th></th>\n",
       "      <th>Date</th>\n",
       "      <th>Cases</th>\n",
       "      <th>Count</th>\n",
       "    </tr>\n",
       "  </thead>\n",
       "  <tbody>\n",
       "    <tr>\n",
       "      <th>0</th>\n",
       "      <td>2020-01-30</td>\n",
       "      <td>Confirmed</td>\n",
       "      <td>1</td>\n",
       "    </tr>\n",
       "    <tr>\n",
       "      <th>1</th>\n",
       "      <td>2020-01-31</td>\n",
       "      <td>Confirmed</td>\n",
       "      <td>0</td>\n",
       "    </tr>\n",
       "    <tr>\n",
       "      <th>2</th>\n",
       "      <td>2020-02-01</td>\n",
       "      <td>Confirmed</td>\n",
       "      <td>0</td>\n",
       "    </tr>\n",
       "    <tr>\n",
       "      <th>3</th>\n",
       "      <td>2020-02-02</td>\n",
       "      <td>Confirmed</td>\n",
       "      <td>1</td>\n",
       "    </tr>\n",
       "    <tr>\n",
       "      <th>4</th>\n",
       "      <td>2020-02-03</td>\n",
       "      <td>Confirmed</td>\n",
       "      <td>1</td>\n",
       "    </tr>\n",
       "  </tbody>\n",
       "</table>\n",
       "</div>"
      ],
      "text/plain": [
       "        Date      Cases  Count\n",
       "0 2020-01-30  Confirmed      1\n",
       "1 2020-01-31  Confirmed      0\n",
       "2 2020-02-01  Confirmed      0\n",
       "3 2020-02-02  Confirmed      1\n",
       "4 2020-02-03  Confirmed      1"
      ]
     },
     "execution_count": 9,
     "metadata": {},
     "output_type": "execute_result"
    }
   ],
   "source": [
    "stack.head()"
   ]
  },
  {
   "cell_type": "code",
   "execution_count": 10,
   "id": "636f8ee0",
   "metadata": {},
   "outputs": [
    {
     "data": {
      "text/html": [
       "\n",
       "<div id=\"altair-viz-6ae31fe8b8ba4d5bbcb754dd49cbe5eb\"></div>\n",
       "<script type=\"text/javascript\">\n",
       "  (function(spec, embedOpt){\n",
       "    let outputDiv = document.currentScript.previousElementSibling;\n",
       "    if (outputDiv.id !== \"altair-viz-6ae31fe8b8ba4d5bbcb754dd49cbe5eb\") {\n",
       "      outputDiv = document.getElementById(\"altair-viz-6ae31fe8b8ba4d5bbcb754dd49cbe5eb\");\n",
       "    }\n",
       "    const paths = {\n",
       "      \"vega\": \"https://cdn.jsdelivr.net/npm//vega@5?noext\",\n",
       "      \"vega-lib\": \"https://cdn.jsdelivr.net/npm//vega-lib?noext\",\n",
       "      \"vega-lite\": \"https://cdn.jsdelivr.net/npm//vega-lite@4.8.1?noext\",\n",
       "      \"vega-embed\": \"https://cdn.jsdelivr.net/npm//vega-embed@6?noext\",\n",
       "    };\n",
       "\n",
       "    function loadScript(lib) {\n",
       "      return new Promise(function(resolve, reject) {\n",
       "        var s = document.createElement('script');\n",
       "        s.src = paths[lib];\n",
       "        s.async = true;\n",
       "        s.onload = () => resolve(paths[lib]);\n",
       "        s.onerror = () => reject(`Error loading script: ${paths[lib]}`);\n",
       "        document.getElementsByTagName(\"head\")[0].appendChild(s);\n",
       "      });\n",
       "    }\n",
       "\n",
       "    function showError(err) {\n",
       "      outputDiv.innerHTML = `<div class=\"error\" style=\"color:red;\">${err}</div>`;\n",
       "      throw err;\n",
       "    }\n",
       "\n",
       "    function displayChart(vegaEmbed) {\n",
       "      vegaEmbed(outputDiv, spec, embedOpt)\n",
       "        .catch(err => showError(`Javascript Error: ${err.message}<br>This usually means there's a typo in your chart specification. See the javascript console for the full traceback.`));\n",
       "    }\n",
       "\n",
       "    if(typeof define === \"function\" && define.amd) {\n",
       "      requirejs.config({paths});\n",
       "      require([\"vega-embed\"], displayChart, err => showError(`Error loading script: ${err.message}`));\n",
       "    } else if (typeof vegaEmbed === \"function\") {\n",
       "      displayChart(vegaEmbed);\n",
       "    } else {\n",
       "      loadScript(\"vega\")\n",
       "        .then(() => loadScript(\"vega-lite\"))\n",
       "        .then(() => loadScript(\"vega-embed\"))\n",
       "        .catch(showError)\n",
       "        .then(() => displayChart(vegaEmbed));\n",
       "    }\n",
       "  })({\"usermeta\": {\"embedOptions\": {\"theme\": \"dark\"}}, \"config\": {\"view\": {\"continuousWidth\": 400, \"continuousHeight\": 300}, \"background\": \"black\", \"legend\": {\"orient\": \"bottom\"}}, \"data\": {\"name\": \"data-c9742704da64b03ab83572cddeb31391\"}, \"mark\": \"area\", \"encoding\": {\"color\": {\"type\": \"nominal\", \"field\": \"Cases\", \"scale\": {\"domain\": [\"Confirmed\", \"Recovered\", \"Deceased\"], \"range\": [\"#17c8cf\", \"#20c730\", \"red\"]}}, \"opacity\": {\"condition\": {\"value\": 0.8, \"selection\": \"selector005\"}, \"value\": 0.4}, \"x\": {\"type\": \"temporal\", \"field\": \"Date\"}, \"y\": {\"type\": \"quantitative\", \"aggregate\": \"sum\", \"field\": \"Count\", \"stack\": \"normalize\"}}, \"height\": 400, \"selection\": {\"selector005\": {\"type\": \"single\", \"on\": \"mouseover\"}}, \"width\": 800, \"$schema\": \"https://vega.github.io/schema/vega-lite/v4.8.1.json\", \"datasets\": {\"data-c9742704da64b03ab83572cddeb31391\": [{\"Date\": \"2020-01-30T00:00:00\", \"Cases\": \"Confirmed\", \"Count\": 1}, {\"Date\": \"2020-01-31T00:00:00\", \"Cases\": \"Confirmed\", \"Count\": 0}, {\"Date\": \"2020-02-01T00:00:00\", \"Cases\": \"Confirmed\", \"Count\": 0}, {\"Date\": \"2020-02-02T00:00:00\", \"Cases\": \"Confirmed\", \"Count\": 1}, {\"Date\": \"2020-02-03T00:00:00\", \"Cases\": \"Confirmed\", \"Count\": 1}, {\"Date\": \"2020-02-04T00:00:00\", \"Cases\": \"Confirmed\", \"Count\": 0}, {\"Date\": \"2020-02-05T00:00:00\", \"Cases\": \"Confirmed\", \"Count\": 0}, {\"Date\": \"2020-02-06T00:00:00\", \"Cases\": \"Confirmed\", \"Count\": 0}, {\"Date\": \"2020-02-07T00:00:00\", \"Cases\": \"Confirmed\", \"Count\": 0}, {\"Date\": \"2020-02-08T00:00:00\", \"Cases\": \"Confirmed\", \"Count\": 0}, {\"Date\": \"2020-02-09T00:00:00\", \"Cases\": \"Confirmed\", \"Count\": 0}, {\"Date\": \"2020-02-10T00:00:00\", \"Cases\": \"Confirmed\", \"Count\": 0}, {\"Date\": \"2020-02-11T00:00:00\", \"Cases\": \"Confirmed\", \"Count\": 0}, {\"Date\": \"2020-02-12T00:00:00\", \"Cases\": \"Confirmed\", \"Count\": 0}, {\"Date\": \"2020-02-13T00:00:00\", \"Cases\": \"Confirmed\", \"Count\": 0}, {\"Date\": \"2020-02-14T00:00:00\", \"Cases\": \"Confirmed\", \"Count\": 0}, {\"Date\": \"2020-02-15T00:00:00\", \"Cases\": \"Confirmed\", \"Count\": 0}, {\"Date\": \"2020-02-16T00:00:00\", \"Cases\": \"Confirmed\", \"Count\": 0}, {\"Date\": \"2020-02-17T00:00:00\", \"Cases\": \"Confirmed\", \"Count\": 0}, {\"Date\": \"2020-02-18T00:00:00\", \"Cases\": \"Confirmed\", \"Count\": 0}, {\"Date\": \"2020-02-19T00:00:00\", \"Cases\": \"Confirmed\", \"Count\": 0}, {\"Date\": \"2020-02-20T00:00:00\", \"Cases\": \"Confirmed\", \"Count\": 0}, {\"Date\": \"2020-02-21T00:00:00\", \"Cases\": \"Confirmed\", \"Count\": 0}, {\"Date\": \"2020-02-22T00:00:00\", \"Cases\": \"Confirmed\", \"Count\": 0}, {\"Date\": \"2020-02-23T00:00:00\", \"Cases\": \"Confirmed\", \"Count\": 0}, {\"Date\": \"2020-02-24T00:00:00\", \"Cases\": \"Confirmed\", \"Count\": 0}, {\"Date\": \"2020-02-25T00:00:00\", \"Cases\": \"Confirmed\", \"Count\": 0}, {\"Date\": \"2020-02-26T00:00:00\", \"Cases\": \"Confirmed\", \"Count\": 0}, {\"Date\": \"2020-02-27T00:00:00\", \"Cases\": \"Confirmed\", \"Count\": 0}, {\"Date\": \"2020-02-28T00:00:00\", \"Cases\": \"Confirmed\", \"Count\": 0}, {\"Date\": \"2020-02-29T00:00:00\", \"Cases\": \"Confirmed\", \"Count\": 0}, {\"Date\": \"2020-03-01T00:00:00\", \"Cases\": \"Confirmed\", \"Count\": 0}, {\"Date\": \"2020-03-02T00:00:00\", \"Cases\": \"Confirmed\", \"Count\": 2}, {\"Date\": \"2020-03-03T00:00:00\", \"Cases\": \"Confirmed\", \"Count\": 1}, {\"Date\": \"2020-03-04T00:00:00\", \"Cases\": \"Confirmed\", \"Count\": 22}, {\"Date\": \"2020-03-05T00:00:00\", \"Cases\": \"Confirmed\", \"Count\": 2}, {\"Date\": \"2020-03-06T00:00:00\", \"Cases\": \"Confirmed\", \"Count\": 1}, {\"Date\": \"2020-03-07T00:00:00\", \"Cases\": \"Confirmed\", \"Count\": 3}, {\"Date\": \"2020-03-08T00:00:00\", \"Cases\": \"Confirmed\", \"Count\": 5}, {\"Date\": \"2020-03-09T00:00:00\", \"Cases\": \"Confirmed\", \"Count\": 9}, {\"Date\": \"2020-03-10T00:00:00\", \"Cases\": \"Confirmed\", \"Count\": 15}, {\"Date\": \"2020-03-11T00:00:00\", \"Cases\": \"Confirmed\", \"Count\": 8}, {\"Date\": \"2020-03-12T00:00:00\", \"Cases\": \"Confirmed\", \"Count\": 10}, {\"Date\": \"2020-03-13T00:00:00\", \"Cases\": \"Confirmed\", \"Count\": 10}, {\"Date\": \"2020-03-14T00:00:00\", \"Cases\": \"Confirmed\", \"Count\": 11}, {\"Date\": \"2020-03-15T00:00:00\", \"Cases\": \"Confirmed\", \"Count\": 10}, {\"Date\": \"2020-03-16T00:00:00\", \"Cases\": \"Confirmed\", \"Count\": 14}, {\"Date\": \"2020-03-17T00:00:00\", \"Cases\": \"Confirmed\", \"Count\": 20}, {\"Date\": \"2020-03-18T00:00:00\", \"Cases\": \"Confirmed\", \"Count\": 25}, {\"Date\": \"2020-03-19T00:00:00\", \"Cases\": \"Confirmed\", \"Count\": 27}, {\"Date\": \"2020-03-20T00:00:00\", \"Cases\": \"Confirmed\", \"Count\": 58}, {\"Date\": \"2020-03-21T00:00:00\", \"Cases\": \"Confirmed\", \"Count\": 78}, {\"Date\": \"2020-03-22T00:00:00\", \"Cases\": \"Confirmed\", \"Count\": 69}, {\"Date\": \"2020-03-23T00:00:00\", \"Cases\": \"Confirmed\", \"Count\": 94}, {\"Date\": \"2020-03-24T00:00:00\", \"Cases\": \"Confirmed\", \"Count\": 74}, {\"Date\": \"2020-03-25T00:00:00\", \"Cases\": \"Confirmed\", \"Count\": 86}, {\"Date\": \"2020-03-26T00:00:00\", \"Cases\": \"Confirmed\", \"Count\": 73}, {\"Date\": \"2020-03-27T00:00:00\", \"Cases\": \"Confirmed\", \"Count\": 153}, {\"Date\": \"2020-03-28T00:00:00\", \"Cases\": \"Confirmed\", \"Count\": 136}, {\"Date\": \"2020-03-29T00:00:00\", \"Cases\": \"Confirmed\", \"Count\": 120}, {\"Date\": \"2020-03-30T00:00:00\", \"Cases\": \"Confirmed\", \"Count\": 187}, {\"Date\": \"2020-03-31T00:00:00\", \"Cases\": \"Confirmed\", \"Count\": 309}, {\"Date\": \"2020-04-01T00:00:00\", \"Cases\": \"Confirmed\", \"Count\": 424}, {\"Date\": \"2020-04-02T00:00:00\", \"Cases\": \"Confirmed\", \"Count\": 486}, {\"Date\": \"2020-04-03T00:00:00\", \"Cases\": \"Confirmed\", \"Count\": 560}, {\"Date\": \"2020-04-04T00:00:00\", \"Cases\": \"Confirmed\", \"Count\": 579}, {\"Date\": \"2020-04-05T00:00:00\", \"Cases\": \"Confirmed\", \"Count\": 609}, {\"Date\": \"2020-04-06T00:00:00\", \"Cases\": \"Confirmed\", \"Count\": 484}, {\"Date\": \"2020-04-07T00:00:00\", \"Cases\": \"Confirmed\", \"Count\": 573}, {\"Date\": \"2020-04-08T00:00:00\", \"Cases\": \"Confirmed\", \"Count\": 565}, {\"Date\": \"2020-04-09T00:00:00\", \"Cases\": \"Confirmed\", \"Count\": 813}, {\"Date\": \"2020-04-10T00:00:00\", \"Cases\": \"Confirmed\", \"Count\": 871}, {\"Date\": \"2020-04-11T00:00:00\", \"Cases\": \"Confirmed\", \"Count\": 854}, {\"Date\": \"2020-04-12T00:00:00\", \"Cases\": \"Confirmed\", \"Count\": 758}, {\"Date\": \"2020-04-13T00:00:00\", \"Cases\": \"Confirmed\", \"Count\": 1243}, {\"Date\": \"2020-04-14T00:00:00\", \"Cases\": \"Confirmed\", \"Count\": 1031}, {\"Date\": \"2020-04-15T00:00:00\", \"Cases\": \"Confirmed\", \"Count\": 886}, {\"Date\": \"2020-04-16T00:00:00\", \"Cases\": \"Confirmed\", \"Count\": 1061}, {\"Date\": \"2020-04-17T00:00:00\", \"Cases\": \"Confirmed\", \"Count\": 922}, {\"Date\": \"2020-04-18T00:00:00\", \"Cases\": \"Confirmed\", \"Count\": 1371}, {\"Date\": \"2020-04-19T00:00:00\", \"Cases\": \"Confirmed\", \"Count\": 1580}, {\"Date\": \"2020-04-20T00:00:00\", \"Cases\": \"Confirmed\", \"Count\": 1239}, {\"Date\": \"2020-04-21T00:00:00\", \"Cases\": \"Confirmed\", \"Count\": 1537}, {\"Date\": \"2020-04-22T00:00:00\", \"Cases\": \"Confirmed\", \"Count\": 1292}, {\"Date\": \"2020-04-23T00:00:00\", \"Cases\": \"Confirmed\", \"Count\": 1667}, {\"Date\": \"2020-04-24T00:00:00\", \"Cases\": \"Confirmed\", \"Count\": 1408}, {\"Date\": \"2020-04-25T00:00:00\", \"Cases\": \"Confirmed\", \"Count\": 1835}, {\"Date\": \"2020-04-26T00:00:00\", \"Cases\": \"Confirmed\", \"Count\": 1607}, {\"Date\": \"2020-04-27T00:00:00\", \"Cases\": \"Confirmed\", \"Count\": 1568}, {\"Date\": \"2020-04-28T00:00:00\", \"Cases\": \"Confirmed\", \"Count\": 1902}, {\"Date\": \"2020-04-29T00:00:00\", \"Cases\": \"Confirmed\", \"Count\": 1705}, {\"Date\": \"2020-04-30T00:00:00\", \"Cases\": \"Confirmed\", \"Count\": 1801}, {\"Date\": \"2020-05-01T00:00:00\", \"Cases\": \"Confirmed\", \"Count\": 2396}, {\"Date\": \"2020-05-02T00:00:00\", \"Cases\": \"Confirmed\", \"Count\": 2564}, {\"Date\": \"2020-05-03T00:00:00\", \"Cases\": \"Confirmed\", \"Count\": 2952}, {\"Date\": \"2020-05-04T00:00:00\", \"Cases\": \"Confirmed\", \"Count\": 3656}, {\"Date\": \"2020-05-05T00:00:00\", \"Cases\": \"Confirmed\", \"Count\": 2971}, {\"Date\": \"2020-05-06T00:00:00\", \"Cases\": \"Confirmed\", \"Count\": 3602}, {\"Date\": \"2020-05-07T00:00:00\", \"Cases\": \"Confirmed\", \"Count\": 3344}, {\"Date\": \"2020-05-08T00:00:00\", \"Cases\": \"Confirmed\", \"Count\": 3339}, {\"Date\": \"2020-05-09T00:00:00\", \"Cases\": \"Confirmed\", \"Count\": 3175}, {\"Date\": \"2020-05-10T00:00:00\", \"Cases\": \"Confirmed\", \"Count\": 4311}, {\"Date\": \"2020-05-11T00:00:00\", \"Cases\": \"Confirmed\", \"Count\": 3592}, {\"Date\": \"2020-05-12T00:00:00\", \"Cases\": \"Confirmed\", \"Count\": 3562}, {\"Date\": \"2020-05-13T00:00:00\", \"Cases\": \"Confirmed\", \"Count\": 3726}, {\"Date\": \"2020-05-14T00:00:00\", \"Cases\": \"Confirmed\", \"Count\": 3991}, {\"Date\": \"2020-05-15T00:00:00\", \"Cases\": \"Confirmed\", \"Count\": 3808}, {\"Date\": \"2020-05-16T00:00:00\", \"Cases\": \"Confirmed\", \"Count\": 4794}, {\"Date\": \"2020-05-17T00:00:00\", \"Cases\": \"Confirmed\", \"Count\": 5049}, {\"Date\": \"2020-05-18T00:00:00\", \"Cases\": \"Confirmed\", \"Count\": 4628}, {\"Date\": \"2020-05-19T00:00:00\", \"Cases\": \"Confirmed\", \"Count\": 6154}, {\"Date\": \"2020-05-20T00:00:00\", \"Cases\": \"Confirmed\", \"Count\": 5720}, {\"Date\": \"2020-05-21T00:00:00\", \"Cases\": \"Confirmed\", \"Count\": 6023}, {\"Date\": \"2020-05-22T00:00:00\", \"Cases\": \"Confirmed\", \"Count\": 6536}, {\"Date\": \"2020-05-23T00:00:00\", \"Cases\": \"Confirmed\", \"Count\": 6667}, {\"Date\": \"2020-05-24T00:00:00\", \"Cases\": \"Confirmed\", \"Count\": 7111}, {\"Date\": \"2020-05-25T00:00:00\", \"Cases\": \"Confirmed\", \"Count\": 6414}, {\"Date\": \"2020-05-26T00:00:00\", \"Cases\": \"Confirmed\", \"Count\": 5907}, {\"Date\": \"2020-05-27T00:00:00\", \"Cases\": \"Confirmed\", \"Count\": 7246}, {\"Date\": \"2020-05-28T00:00:00\", \"Cases\": \"Confirmed\", \"Count\": 7254}, {\"Date\": \"2020-05-29T00:00:00\", \"Cases\": \"Confirmed\", \"Count\": 8138}, {\"Date\": \"2020-05-30T00:00:00\", \"Cases\": \"Confirmed\", \"Count\": 8364}, {\"Date\": \"2020-05-31T00:00:00\", \"Cases\": \"Confirmed\", \"Count\": 8789}, {\"Date\": \"2020-06-01T00:00:00\", \"Cases\": \"Confirmed\", \"Count\": 7723}, {\"Date\": \"2020-06-02T00:00:00\", \"Cases\": \"Confirmed\", \"Count\": 8812}, {\"Date\": \"2020-06-03T00:00:00\", \"Cases\": \"Confirmed\", \"Count\": 9689}, {\"Date\": \"2020-06-04T00:00:00\", \"Cases\": \"Confirmed\", \"Count\": 9847}, {\"Date\": \"2020-06-05T00:00:00\", \"Cases\": \"Confirmed\", \"Count\": 9472}, {\"Date\": \"2020-06-06T00:00:00\", \"Cases\": \"Confirmed\", \"Count\": 10408}, {\"Date\": \"2020-06-07T00:00:00\", \"Cases\": \"Confirmed\", \"Count\": 10882}, {\"Date\": \"2020-06-08T00:00:00\", \"Cases\": \"Confirmed\", \"Count\": 8536}, {\"Date\": \"2020-06-09T00:00:00\", \"Cases\": \"Confirmed\", \"Count\": 9981}, {\"Date\": \"2020-06-10T00:00:00\", \"Cases\": \"Confirmed\", \"Count\": 11156}, {\"Date\": \"2020-06-11T00:00:00\", \"Cases\": \"Confirmed\", \"Count\": 11135}, {\"Date\": \"2020-06-12T00:00:00\", \"Cases\": \"Confirmed\", \"Count\": 11306}, {\"Date\": \"2020-06-13T00:00:00\", \"Cases\": \"Confirmed\", \"Count\": 12039}, {\"Date\": \"2020-06-14T00:00:00\", \"Cases\": \"Confirmed\", \"Count\": 11405}, {\"Date\": \"2020-06-15T00:00:00\", \"Cases\": \"Confirmed\", \"Count\": 10032}, {\"Date\": \"2020-06-16T00:00:00\", \"Cases\": \"Confirmed\", \"Count\": 11086}, {\"Date\": \"2020-06-17T00:00:00\", \"Cases\": \"Confirmed\", \"Count\": 13108}, {\"Date\": \"2020-06-18T00:00:00\", \"Cases\": \"Confirmed\", \"Count\": 13829}, {\"Date\": \"2020-06-19T00:00:00\", \"Cases\": \"Confirmed\", \"Count\": 14740}, {\"Date\": \"2020-06-20T00:00:00\", \"Cases\": \"Confirmed\", \"Count\": 15918}, {\"Date\": \"2020-06-21T00:00:00\", \"Cases\": \"Confirmed\", \"Count\": 15151}, {\"Date\": \"2020-06-22T00:00:00\", \"Cases\": \"Confirmed\", \"Count\": 13560}, {\"Date\": \"2020-06-23T00:00:00\", \"Cases\": \"Confirmed\", \"Count\": 15656}, {\"Date\": \"2020-06-24T00:00:00\", \"Cases\": \"Confirmed\", \"Count\": 16868}, {\"Date\": \"2020-06-25T00:00:00\", \"Cases\": \"Confirmed\", \"Count\": 18205}, {\"Date\": \"2020-06-26T00:00:00\", \"Cases\": \"Confirmed\", \"Count\": 18255}, {\"Date\": \"2020-06-27T00:00:00\", \"Cases\": \"Confirmed\", \"Count\": 20142}, {\"Date\": \"2020-06-28T00:00:00\", \"Cases\": \"Confirmed\", \"Count\": 19610}, {\"Date\": \"2020-06-29T00:00:00\", \"Cases\": \"Confirmed\", \"Count\": 18339}, {\"Date\": \"2020-06-30T00:00:00\", \"Cases\": \"Confirmed\", \"Count\": 18256}, {\"Date\": \"2020-07-01T00:00:00\", \"Cases\": \"Confirmed\", \"Count\": 19429}, {\"Date\": \"2020-07-02T00:00:00\", \"Cases\": \"Confirmed\", \"Count\": 21947}, {\"Date\": \"2020-07-03T00:00:00\", \"Cases\": \"Confirmed\", \"Count\": 22718}, {\"Date\": \"2020-07-04T00:00:00\", \"Cases\": \"Confirmed\", \"Count\": 24018}, {\"Date\": \"2020-07-05T00:00:00\", \"Cases\": \"Confirmed\", \"Count\": 23942}, {\"Date\": \"2020-07-06T00:00:00\", \"Cases\": \"Confirmed\", \"Count\": 22500}, {\"Date\": \"2020-07-07T00:00:00\", \"Cases\": \"Confirmed\", \"Count\": 23147}, {\"Date\": \"2020-07-08T00:00:00\", \"Cases\": \"Confirmed\", \"Count\": 25561}, {\"Date\": \"2020-07-09T00:00:00\", \"Cases\": \"Confirmed\", \"Count\": 25790}, {\"Date\": \"2020-07-10T00:00:00\", \"Cases\": \"Confirmed\", \"Count\": 27762}, {\"Date\": \"2020-07-11T00:00:00\", \"Cases\": \"Confirmed\", \"Count\": 27757}, {\"Date\": \"2020-07-12T00:00:00\", \"Cases\": \"Confirmed\", \"Count\": 29106}, {\"Date\": \"2020-07-13T00:00:00\", \"Cases\": \"Confirmed\", \"Count\": 28178}, {\"Date\": \"2020-07-14T00:00:00\", \"Cases\": \"Confirmed\", \"Count\": 29917}, {\"Date\": \"2020-07-15T00:00:00\", \"Cases\": \"Confirmed\", \"Count\": 32607}, {\"Date\": \"2020-07-16T00:00:00\", \"Cases\": \"Confirmed\", \"Count\": 35468}, {\"Date\": \"2020-07-17T00:00:00\", \"Cases\": \"Confirmed\", \"Count\": 34820}, {\"Date\": \"2020-07-18T00:00:00\", \"Cases\": \"Confirmed\", \"Count\": 37411}, {\"Date\": \"2020-07-19T00:00:00\", \"Cases\": \"Confirmed\", \"Count\": 40235}, {\"Date\": \"2020-07-20T00:00:00\", \"Cases\": \"Confirmed\", \"Count\": 36806}, {\"Date\": \"2020-07-21T00:00:00\", \"Cases\": \"Confirmed\", \"Count\": 39170}, {\"Date\": \"2020-07-22T00:00:00\", \"Cases\": \"Confirmed\", \"Count\": 45601}, {\"Date\": \"2020-07-23T00:00:00\", \"Cases\": \"Confirmed\", \"Count\": 48443}, {\"Date\": \"2020-07-24T00:00:00\", \"Cases\": \"Confirmed\", \"Count\": 48888}, {\"Date\": \"2020-07-25T00:00:00\", \"Cases\": \"Confirmed\", \"Count\": 50072}, {\"Date\": \"2020-07-26T00:00:00\", \"Cases\": \"Confirmed\", \"Count\": 48932}, {\"Date\": \"2020-07-27T00:00:00\", \"Cases\": \"Confirmed\", \"Count\": 46484}, {\"Date\": \"2020-07-28T00:00:00\", \"Cases\": \"Confirmed\", \"Count\": 49631}, {\"Date\": \"2020-07-29T00:00:00\", \"Cases\": \"Confirmed\", \"Count\": 52479}, {\"Date\": \"2020-07-30T00:00:00\", \"Cases\": \"Confirmed\", \"Count\": 54968}, {\"Date\": \"2020-07-31T00:00:00\", \"Cases\": \"Confirmed\", \"Count\": 57486}, {\"Date\": \"2020-08-01T00:00:00\", \"Cases\": \"Confirmed\", \"Count\": 55117}, {\"Date\": \"2020-08-02T00:00:00\", \"Cases\": \"Confirmed\", \"Count\": 52672}, {\"Date\": \"2020-08-03T00:00:00\", \"Cases\": \"Confirmed\", \"Count\": 50488}, {\"Date\": \"2020-08-04T00:00:00\", \"Cases\": \"Confirmed\", \"Count\": 51282}, {\"Date\": \"2020-08-05T00:00:00\", \"Cases\": \"Confirmed\", \"Count\": 56626}, {\"Date\": \"2020-08-06T00:00:00\", \"Cases\": \"Confirmed\", \"Count\": 62170}, {\"Date\": \"2020-08-07T00:00:00\", \"Cases\": \"Confirmed\", \"Count\": 61455}, {\"Date\": \"2020-08-08T00:00:00\", \"Cases\": \"Confirmed\", \"Count\": 65156}, {\"Date\": \"2020-08-09T00:00:00\", \"Cases\": \"Confirmed\", \"Count\": 62117}, {\"Date\": \"2020-08-10T00:00:00\", \"Cases\": \"Confirmed\", \"Count\": 53016}, {\"Date\": \"2020-08-11T00:00:00\", \"Cases\": \"Confirmed\", \"Count\": 61252}, {\"Date\": \"2020-08-12T00:00:00\", \"Cases\": \"Confirmed\", \"Count\": 67066}, {\"Date\": \"2020-08-13T00:00:00\", \"Cases\": \"Confirmed\", \"Count\": 64141}, {\"Date\": \"2020-08-14T00:00:00\", \"Cases\": \"Confirmed\", \"Count\": 65610}, {\"Date\": \"2020-08-15T00:00:00\", \"Cases\": \"Confirmed\", \"Count\": 63986}, {\"Date\": \"2020-08-16T00:00:00\", \"Cases\": \"Confirmed\", \"Count\": 58096}, {\"Date\": \"2020-08-17T00:00:00\", \"Cases\": \"Confirmed\", \"Count\": 54298}, {\"Date\": \"2020-08-18T00:00:00\", \"Cases\": \"Confirmed\", \"Count\": 65024}, {\"Date\": \"2020-08-19T00:00:00\", \"Cases\": \"Confirmed\", \"Count\": 69196}, {\"Date\": \"2020-08-20T00:00:00\", \"Cases\": \"Confirmed\", \"Count\": 68518}, {\"Date\": \"2020-08-21T00:00:00\", \"Cases\": \"Confirmed\", \"Count\": 69029}, {\"Date\": \"2020-08-22T00:00:00\", \"Cases\": \"Confirmed\", \"Count\": 70067}, {\"Date\": \"2020-08-23T00:00:00\", \"Cases\": \"Confirmed\", \"Count\": 61749}, {\"Date\": \"2020-08-24T00:00:00\", \"Cases\": \"Confirmed\", \"Count\": 59696}, {\"Date\": \"2020-08-25T00:00:00\", \"Cases\": \"Confirmed\", \"Count\": 66873}, {\"Date\": \"2020-08-26T00:00:00\", \"Cases\": \"Confirmed\", \"Count\": 75995}, {\"Date\": \"2020-08-27T00:00:00\", \"Cases\": \"Confirmed\", \"Count\": 76827}, {\"Date\": \"2020-08-28T00:00:00\", \"Cases\": \"Confirmed\", \"Count\": 76657}, {\"Date\": \"2020-08-29T00:00:00\", \"Cases\": \"Confirmed\", \"Count\": 78479}, {\"Date\": \"2020-08-30T00:00:00\", \"Cases\": \"Confirmed\", \"Count\": 79461}, {\"Date\": \"2020-08-31T00:00:00\", \"Cases\": \"Confirmed\", \"Count\": 68766}, {\"Date\": \"2020-09-01T00:00:00\", \"Cases\": \"Confirmed\", \"Count\": 78168}, {\"Date\": \"2020-09-02T00:00:00\", \"Cases\": \"Confirmed\", \"Count\": 82860}, {\"Date\": \"2020-09-03T00:00:00\", \"Cases\": \"Confirmed\", \"Count\": 84156}, {\"Date\": \"2020-09-04T00:00:00\", \"Cases\": \"Confirmed\", \"Count\": 87115}, {\"Date\": \"2020-09-05T00:00:00\", \"Cases\": \"Confirmed\", \"Count\": 90600}, {\"Date\": \"2020-09-06T00:00:00\", \"Cases\": \"Confirmed\", \"Count\": 91725}, {\"Date\": \"2020-09-07T00:00:00\", \"Cases\": \"Confirmed\", \"Count\": 75015}, {\"Date\": \"2020-09-08T00:00:00\", \"Cases\": \"Confirmed\", \"Count\": 89855}, {\"Date\": \"2020-09-09T00:00:00\", \"Cases\": \"Confirmed\", \"Count\": 95536}, {\"Date\": \"2020-09-10T00:00:00\", \"Cases\": \"Confirmed\", \"Count\": 96762}, {\"Date\": \"2020-09-11T00:00:00\", \"Cases\": \"Confirmed\", \"Count\": 97655}, {\"Date\": \"2020-09-12T00:00:00\", \"Cases\": \"Confirmed\", \"Count\": 94414}, {\"Date\": \"2020-09-13T00:00:00\", \"Cases\": \"Confirmed\", \"Count\": 93220}, {\"Date\": \"2020-09-14T00:00:00\", \"Cases\": \"Confirmed\", \"Count\": 81913}, {\"Date\": \"2020-09-15T00:00:00\", \"Cases\": \"Confirmed\", \"Count\": 91098}, {\"Date\": \"2020-09-16T00:00:00\", \"Cases\": \"Confirmed\", \"Count\": 97860}, {\"Date\": \"2020-09-17T00:00:00\", \"Cases\": \"Confirmed\", \"Count\": 96787}, {\"Date\": \"2020-09-18T00:00:00\", \"Cases\": \"Confirmed\", \"Count\": 92973}, {\"Date\": \"2020-09-19T00:00:00\", \"Cases\": \"Confirmed\", \"Count\": 92574}, {\"Date\": \"2020-09-20T00:00:00\", \"Cases\": \"Confirmed\", \"Count\": 87395}, {\"Date\": \"2020-09-21T00:00:00\", \"Cases\": \"Confirmed\", \"Count\": 74493}, {\"Date\": \"2020-09-22T00:00:00\", \"Cases\": \"Confirmed\", \"Count\": 83362}, {\"Date\": \"2020-09-23T00:00:00\", \"Cases\": \"Confirmed\", \"Count\": 86703}, {\"Date\": \"2020-09-24T00:00:00\", \"Cases\": \"Confirmed\", \"Count\": 85921}, {\"Date\": \"2020-09-25T00:00:00\", \"Cases\": \"Confirmed\", \"Count\": 85717}, {\"Date\": \"2020-09-26T00:00:00\", \"Cases\": \"Confirmed\", \"Count\": 88759}, {\"Date\": \"2020-09-27T00:00:00\", \"Cases\": \"Confirmed\", \"Count\": 82770}, {\"Date\": \"2020-09-28T00:00:00\", \"Cases\": \"Confirmed\", \"Count\": 69669}, {\"Date\": \"2020-09-29T00:00:00\", \"Cases\": \"Confirmed\", \"Count\": 80500}, {\"Date\": \"2020-09-30T00:00:00\", \"Cases\": \"Confirmed\", \"Count\": 86748}, {\"Date\": \"2020-10-01T00:00:00\", \"Cases\": \"Confirmed\", \"Count\": 81784}, {\"Date\": \"2020-10-02T00:00:00\", \"Cases\": \"Confirmed\", \"Count\": 79883}, {\"Date\": \"2020-10-03T00:00:00\", \"Cases\": \"Confirmed\", \"Count\": 75479}, {\"Date\": \"2020-10-04T00:00:00\", \"Cases\": \"Confirmed\", \"Count\": 74770}, {\"Date\": \"2020-10-05T00:00:00\", \"Cases\": \"Confirmed\", \"Count\": 60130}, {\"Date\": \"2020-10-06T00:00:00\", \"Cases\": \"Confirmed\", \"Count\": 71869}, {\"Date\": \"2020-10-07T00:00:00\", \"Cases\": \"Confirmed\", \"Count\": 78809}, {\"Date\": \"2020-10-08T00:00:00\", \"Cases\": \"Confirmed\", \"Count\": 70797}, {\"Date\": \"2020-10-09T00:00:00\", \"Cases\": \"Confirmed\", \"Count\": 73305}, {\"Date\": \"2020-10-10T00:00:00\", \"Cases\": \"Confirmed\", \"Count\": 74418}, {\"Date\": \"2020-10-11T00:00:00\", \"Cases\": \"Confirmed\", \"Count\": 67789}, {\"Date\": \"2020-10-12T00:00:00\", \"Cases\": \"Confirmed\", \"Count\": 54262}, {\"Date\": \"2020-10-13T00:00:00\", \"Cases\": \"Confirmed\", \"Count\": 63717}, {\"Date\": \"2020-10-14T00:00:00\", \"Cases\": \"Confirmed\", \"Count\": 67811}, {\"Date\": \"2020-10-15T00:00:00\", \"Cases\": \"Confirmed\", \"Count\": 63441}, {\"Date\": \"2020-10-16T00:00:00\", \"Cases\": \"Confirmed\", \"Count\": 62304}, {\"Date\": \"2020-10-17T00:00:00\", \"Cases\": \"Confirmed\", \"Count\": 61893}, {\"Date\": \"2020-10-18T00:00:00\", \"Cases\": \"Confirmed\", \"Count\": 56519}, {\"Date\": \"2020-10-19T00:00:00\", \"Cases\": \"Confirmed\", \"Count\": 45506}, {\"Date\": \"2020-10-20T00:00:00\", \"Cases\": \"Confirmed\", \"Count\": 54348}, {\"Date\": \"2020-10-21T00:00:00\", \"Cases\": \"Confirmed\", \"Count\": 56264}, {\"Date\": \"2020-10-22T00:00:00\", \"Cases\": \"Confirmed\", \"Count\": 54371}, {\"Date\": \"2020-10-23T00:00:00\", \"Cases\": \"Confirmed\", \"Count\": 53931}, {\"Date\": \"2020-10-24T00:00:00\", \"Cases\": \"Confirmed\", \"Count\": 50366}, {\"Date\": \"2020-10-25T00:00:00\", \"Cases\": \"Confirmed\", \"Count\": 45922}, {\"Date\": \"2020-10-26T00:00:00\", \"Cases\": \"Confirmed\", \"Count\": 36019}, {\"Date\": \"2020-10-27T00:00:00\", \"Cases\": \"Confirmed\", \"Count\": 43036}, {\"Date\": \"2020-10-28T00:00:00\", \"Cases\": \"Confirmed\", \"Count\": 50188}, {\"Date\": \"2020-10-29T00:00:00\", \"Cases\": \"Confirmed\", \"Count\": 48765}, {\"Date\": \"2020-10-30T00:00:00\", \"Cases\": \"Confirmed\", \"Count\": 48117}, {\"Date\": \"2020-10-31T00:00:00\", \"Cases\": \"Confirmed\", \"Count\": 47228}, {\"Date\": \"2020-11-01T00:00:00\", \"Cases\": \"Confirmed\", \"Count\": 45928}, {\"Date\": \"2020-11-02T00:00:00\", \"Cases\": \"Confirmed\", \"Count\": 37592}, {\"Date\": \"2020-11-03T00:00:00\", \"Cases\": \"Confirmed\", \"Count\": 46027}, {\"Date\": \"2020-11-04T00:00:00\", \"Cases\": \"Confirmed\", \"Count\": 50465}, {\"Date\": \"2020-11-05T00:00:00\", \"Cases\": \"Confirmed\", \"Count\": 47628}, {\"Date\": \"2020-11-06T00:00:00\", \"Cases\": \"Confirmed\", \"Count\": 50017}, {\"Date\": \"2020-11-07T00:00:00\", \"Cases\": \"Confirmed\", \"Count\": 46153}, {\"Date\": \"2020-11-08T00:00:00\", \"Cases\": \"Confirmed\", \"Count\": 46707}, {\"Date\": \"2020-11-09T00:00:00\", \"Cases\": \"Confirmed\", \"Count\": 37119}, {\"Date\": \"2020-11-10T00:00:00\", \"Cases\": \"Confirmed\", \"Count\": 44724}, {\"Date\": \"2020-11-11T00:00:00\", \"Cases\": \"Confirmed\", \"Count\": 48285}, {\"Date\": \"2020-11-12T00:00:00\", \"Cases\": \"Confirmed\", \"Count\": 44585}, {\"Date\": \"2020-11-13T00:00:00\", \"Cases\": \"Confirmed\", \"Count\": 44620}, {\"Date\": \"2020-11-14T00:00:00\", \"Cases\": \"Confirmed\", \"Count\": 41692}, {\"Date\": \"2020-11-15T00:00:00\", \"Cases\": \"Confirmed\", \"Count\": 30681}, {\"Date\": \"2020-11-16T00:00:00\", \"Cases\": \"Confirmed\", \"Count\": 28609}, {\"Date\": \"2020-11-17T00:00:00\", \"Cases\": \"Confirmed\", \"Count\": 38548}, {\"Date\": \"2020-11-18T00:00:00\", \"Cases\": \"Confirmed\", \"Count\": 45366}, {\"Date\": \"2020-11-19T00:00:00\", \"Cases\": \"Confirmed\", \"Count\": 46185}, {\"Date\": \"2020-11-20T00:00:00\", \"Cases\": \"Confirmed\", \"Count\": 46283}, {\"Date\": \"2020-11-21T00:00:00\", \"Cases\": \"Confirmed\", \"Count\": 45301}, {\"Date\": \"2020-11-22T00:00:00\", \"Cases\": \"Confirmed\", \"Count\": 44404}, {\"Date\": \"2020-11-23T00:00:00\", \"Cases\": \"Confirmed\", \"Count\": 37441}, {\"Date\": \"2020-11-24T00:00:00\", \"Cases\": \"Confirmed\", \"Count\": 44245}, {\"Date\": \"2020-11-25T00:00:00\", \"Cases\": \"Confirmed\", \"Count\": 44699}, {\"Date\": \"2020-11-26T00:00:00\", \"Cases\": \"Confirmed\", \"Count\": 43174}, {\"Date\": \"2020-11-27T00:00:00\", \"Cases\": \"Confirmed\", \"Count\": 41353}, {\"Date\": \"2020-11-28T00:00:00\", \"Cases\": \"Confirmed\", \"Count\": 41815}, {\"Date\": \"2020-11-29T00:00:00\", \"Cases\": \"Confirmed\", \"Count\": 39036}, {\"Date\": \"2020-11-30T00:00:00\", \"Cases\": \"Confirmed\", \"Count\": 31179}, {\"Date\": \"2020-12-01T00:00:00\", \"Cases\": \"Confirmed\", \"Count\": 36474}, {\"Date\": \"2020-12-02T00:00:00\", \"Cases\": \"Confirmed\", \"Count\": 35506}, {\"Date\": \"2020-12-03T00:00:00\", \"Cases\": \"Confirmed\", \"Count\": 36574}, {\"Date\": \"2020-12-04T00:00:00\", \"Cases\": \"Confirmed\", \"Count\": 36711}, {\"Date\": \"2020-12-05T00:00:00\", \"Cases\": \"Confirmed\", \"Count\": 36010}, {\"Date\": \"2020-12-06T00:00:00\", \"Cases\": \"Confirmed\", \"Count\": 33178}, {\"Date\": \"2020-12-07T00:00:00\", \"Cases\": \"Confirmed\", \"Count\": 26227}, {\"Date\": \"2020-12-08T00:00:00\", \"Cases\": \"Confirmed\", \"Count\": 32083}, {\"Date\": \"2020-12-09T00:00:00\", \"Cases\": \"Confirmed\", \"Count\": 31637}, {\"Date\": \"2020-12-10T00:00:00\", \"Cases\": \"Confirmed\", \"Count\": 29411}, {\"Date\": \"2020-12-11T00:00:00\", \"Cases\": \"Confirmed\", \"Count\": 29961}, {\"Date\": \"2020-12-12T00:00:00\", \"Cases\": \"Confirmed\", \"Count\": 30354}, {\"Date\": \"2020-12-13T00:00:00\", \"Cases\": \"Confirmed\", \"Count\": 27336}, {\"Date\": \"2020-12-14T00:00:00\", \"Cases\": \"Confirmed\", \"Count\": 21941}, {\"Date\": \"2020-12-15T00:00:00\", \"Cases\": \"Confirmed\", \"Count\": 26251}, {\"Date\": \"2020-12-16T00:00:00\", \"Cases\": \"Confirmed\", \"Count\": 18172}, {\"Date\": \"2020-12-17T00:00:00\", \"Cases\": \"Confirmed\", \"Count\": 26754}, {\"Date\": \"2020-12-18T00:00:00\", \"Cases\": \"Confirmed\", \"Count\": 26991}, {\"Date\": \"2020-12-19T00:00:00\", \"Cases\": \"Confirmed\", \"Count\": 26834}, {\"Date\": \"2020-12-20T00:00:00\", \"Cases\": \"Confirmed\", \"Count\": 24622}, {\"Date\": \"2020-12-21T00:00:00\", \"Cases\": \"Confirmed\", \"Count\": 19147}, {\"Date\": \"2020-12-22T00:00:00\", \"Cases\": \"Confirmed\", \"Count\": 23880}, {\"Date\": \"2020-12-23T00:00:00\", \"Cases\": \"Confirmed\", \"Count\": 24716}, {\"Date\": \"2020-12-24T00:00:00\", \"Cases\": \"Confirmed\", \"Count\": 23444}, {\"Date\": \"2020-12-25T00:00:00\", \"Cases\": \"Confirmed\", \"Count\": 22349}, {\"Date\": \"2020-12-26T00:00:00\", \"Cases\": \"Confirmed\", \"Count\": 18575}, {\"Date\": \"2020-12-27T00:00:00\", \"Cases\": \"Confirmed\", \"Count\": 20333}, {\"Date\": \"2020-12-28T00:00:00\", \"Cases\": \"Confirmed\", \"Count\": 16072}, {\"Date\": \"2020-12-29T00:00:00\", \"Cases\": \"Confirmed\", \"Count\": 20542}, {\"Date\": \"2020-12-30T00:00:00\", \"Cases\": \"Confirmed\", \"Count\": 21945}, {\"Date\": \"2020-12-31T00:00:00\", \"Cases\": \"Confirmed\", \"Count\": 19026}, {\"Date\": \"2021-01-01T00:00:00\", \"Cases\": \"Confirmed\", \"Count\": 20159}, {\"Date\": \"2021-01-02T00:00:00\", \"Cases\": \"Confirmed\", \"Count\": 18144}, {\"Date\": \"2021-01-03T00:00:00\", \"Cases\": \"Confirmed\", \"Count\": 16678}, {\"Date\": \"2021-01-04T00:00:00\", \"Cases\": \"Confirmed\", \"Count\": 16278}, {\"Date\": \"2021-01-05T00:00:00\", \"Cases\": \"Confirmed\", \"Count\": 17909}, {\"Date\": \"2021-01-06T00:00:00\", \"Cases\": \"Confirmed\", \"Count\": 20472}, {\"Date\": \"2021-01-07T00:00:00\", \"Cases\": \"Confirmed\", \"Count\": 18123}, {\"Date\": \"2021-01-08T00:00:00\", \"Cases\": \"Confirmed\", \"Count\": 18453}, {\"Date\": \"2021-01-09T00:00:00\", \"Cases\": \"Confirmed\", \"Count\": 18820}, {\"Date\": \"2021-01-10T00:00:00\", \"Cases\": \"Confirmed\", \"Count\": 16086}, {\"Date\": \"2021-01-11T00:00:00\", \"Cases\": \"Confirmed\", \"Count\": 12481}, {\"Date\": \"2021-01-12T00:00:00\", \"Cases\": \"Confirmed\", \"Count\": 15903}, {\"Date\": \"2021-01-13T00:00:00\", \"Cases\": \"Confirmed\", \"Count\": 17015}, {\"Date\": \"2021-01-14T00:00:00\", \"Cases\": \"Confirmed\", \"Count\": 15677}, {\"Date\": \"2021-01-15T00:00:00\", \"Cases\": \"Confirmed\", \"Count\": 15155}, {\"Date\": \"2021-01-16T00:00:00\", \"Cases\": \"Confirmed\", \"Count\": 15050}, {\"Date\": \"2021-01-17T00:00:00\", \"Cases\": \"Confirmed\", \"Count\": 13962}, {\"Date\": \"2021-01-18T00:00:00\", \"Cases\": \"Confirmed\", \"Count\": 9987}, {\"Date\": \"2021-01-19T00:00:00\", \"Cases\": \"Confirmed\", \"Count\": 13787}, {\"Date\": \"2021-01-20T00:00:00\", \"Cases\": \"Confirmed\", \"Count\": 15279}, {\"Date\": \"2021-01-21T00:00:00\", \"Cases\": \"Confirmed\", \"Count\": 14495}, {\"Date\": \"2021-01-22T00:00:00\", \"Cases\": \"Confirmed\", \"Count\": 14323}, {\"Date\": \"2021-01-23T00:00:00\", \"Cases\": \"Confirmed\", \"Count\": 14896}, {\"Date\": \"2021-01-24T00:00:00\", \"Cases\": \"Confirmed\", \"Count\": 13232}, {\"Date\": \"2021-01-25T00:00:00\", \"Cases\": \"Confirmed\", \"Count\": 9098}, {\"Date\": \"2021-01-26T00:00:00\", \"Cases\": \"Confirmed\", \"Count\": 12733}, {\"Date\": \"2021-01-27T00:00:00\", \"Cases\": \"Confirmed\", \"Count\": 11556}, {\"Date\": \"2021-01-28T00:00:00\", \"Cases\": \"Confirmed\", \"Count\": 18912}, {\"Date\": \"2021-01-29T00:00:00\", \"Cases\": \"Confirmed\", \"Count\": 13054}, {\"Date\": \"2021-01-30T00:00:00\", \"Cases\": \"Confirmed\", \"Count\": 13073}, {\"Date\": \"2021-01-31T00:00:00\", \"Cases\": \"Confirmed\", \"Count\": 11527}, {\"Date\": \"2021-02-01T00:00:00\", \"Cases\": \"Confirmed\", \"Count\": 8579}, {\"Date\": \"2021-02-02T00:00:00\", \"Cases\": \"Confirmed\", \"Count\": 11001}, {\"Date\": \"2021-02-03T00:00:00\", \"Cases\": \"Confirmed\", \"Count\": 12925}, {\"Date\": \"2021-02-04T00:00:00\", \"Cases\": \"Confirmed\", \"Count\": 12401}, {\"Date\": \"2021-02-05T00:00:00\", \"Cases\": \"Confirmed\", \"Count\": 11711}, {\"Date\": \"2021-02-06T00:00:00\", \"Cases\": \"Confirmed\", \"Count\": 12069}, {\"Date\": \"2021-02-07T00:00:00\", \"Cases\": \"Confirmed\", \"Count\": 11786}, {\"Date\": \"2021-02-08T00:00:00\", \"Cases\": \"Confirmed\", \"Count\": 8715}, {\"Date\": \"2021-02-09T00:00:00\", \"Cases\": \"Confirmed\", \"Count\": 10731}, {\"Date\": \"2021-02-10T00:00:00\", \"Cases\": \"Confirmed\", \"Count\": 12539}, {\"Date\": \"2021-02-11T00:00:00\", \"Cases\": \"Confirmed\", \"Count\": 9353}, {\"Date\": \"2021-02-12T00:00:00\", \"Cases\": \"Confirmed\", \"Count\": 12137}, {\"Date\": \"2021-02-13T00:00:00\", \"Cases\": \"Confirmed\", \"Count\": 12198}, {\"Date\": \"2021-02-14T00:00:00\", \"Cases\": \"Confirmed\", \"Count\": 11706}, {\"Date\": \"2021-02-15T00:00:00\", \"Cases\": \"Confirmed\", \"Count\": 9086}, {\"Date\": \"2021-02-16T00:00:00\", \"Cases\": \"Confirmed\", \"Count\": 11592}, {\"Date\": \"2021-02-17T00:00:00\", \"Cases\": \"Confirmed\", \"Count\": 12862}, {\"Date\": \"2021-02-18T00:00:00\", \"Cases\": \"Confirmed\", \"Count\": 13237}, {\"Date\": \"2021-02-19T00:00:00\", \"Cases\": \"Confirmed\", \"Count\": 13916}, {\"Date\": \"2021-02-20T00:00:00\", \"Cases\": \"Confirmed\", \"Count\": 13919}, {\"Date\": \"2021-02-21T00:00:00\", \"Cases\": \"Confirmed\", \"Count\": 14278}, {\"Date\": \"2021-02-22T00:00:00\", \"Cases\": \"Confirmed\", \"Count\": 10494}, {\"Date\": \"2021-02-23T00:00:00\", \"Cases\": \"Confirmed\", \"Count\": 13682}, {\"Date\": \"2021-02-24T00:00:00\", \"Cases\": \"Confirmed\", \"Count\": 16930}, {\"Date\": \"2021-02-25T00:00:00\", \"Cases\": \"Confirmed\", \"Count\": 16599}, {\"Date\": \"2021-02-26T00:00:00\", \"Cases\": \"Confirmed\", \"Count\": 16562}, {\"Date\": \"2021-02-27T00:00:00\", \"Cases\": \"Confirmed\", \"Count\": 16805}, {\"Date\": \"2021-02-28T00:00:00\", \"Cases\": \"Confirmed\", \"Count\": 15614}, {\"Date\": \"2021-03-01T00:00:00\", \"Cases\": \"Confirmed\", \"Count\": 12270}, {\"Date\": \"2021-03-02T00:00:00\", \"Cases\": \"Confirmed\", \"Count\": 14998}, {\"Date\": \"2021-03-03T00:00:00\", \"Cases\": \"Confirmed\", \"Count\": 17425}, {\"Date\": \"2021-03-04T00:00:00\", \"Cases\": \"Confirmed\", \"Count\": 16824}, {\"Date\": \"2021-03-05T00:00:00\", \"Cases\": \"Confirmed\", \"Count\": 18324}, {\"Date\": \"2021-03-06T00:00:00\", \"Cases\": \"Confirmed\", \"Count\": 18724}, {\"Date\": \"2021-03-07T00:00:00\", \"Cases\": \"Confirmed\", \"Count\": 18650}, {\"Date\": \"2021-03-08T00:00:00\", \"Cases\": \"Confirmed\", \"Count\": 15353}, {\"Date\": \"2021-03-09T00:00:00\", \"Cases\": \"Confirmed\", \"Count\": 17873}, {\"Date\": \"2021-03-10T00:00:00\", \"Cases\": \"Confirmed\", \"Count\": 22851}, {\"Date\": \"2021-03-11T00:00:00\", \"Cases\": \"Confirmed\", \"Count\": 23298}, {\"Date\": \"2021-03-12T00:00:00\", \"Cases\": \"Confirmed\", \"Count\": 24845}, {\"Date\": \"2021-03-13T00:00:00\", \"Cases\": \"Confirmed\", \"Count\": 25154}, {\"Date\": \"2021-03-14T00:00:00\", \"Cases\": \"Confirmed\", \"Count\": 26513}, {\"Date\": \"2021-03-15T00:00:00\", \"Cases\": \"Confirmed\", \"Count\": 24437}, {\"Date\": \"2021-03-16T00:00:00\", \"Cases\": \"Confirmed\", \"Count\": 28869}, {\"Date\": \"2021-03-17T00:00:00\", \"Cases\": \"Confirmed\", \"Count\": 35838}, {\"Date\": \"2021-03-18T00:00:00\", \"Cases\": \"Confirmed\", \"Count\": 39687}, {\"Date\": \"2021-03-19T00:00:00\", \"Cases\": \"Confirmed\", \"Count\": 40906}, {\"Date\": \"2021-03-20T00:00:00\", \"Cases\": \"Confirmed\", \"Count\": 43815}, {\"Date\": \"2021-03-21T00:00:00\", \"Cases\": \"Confirmed\", \"Count\": 47009}, {\"Date\": \"2021-03-22T00:00:00\", \"Cases\": \"Confirmed\", \"Count\": 40636}, {\"Date\": \"2021-03-23T00:00:00\", \"Cases\": \"Confirmed\", \"Count\": 47239}, {\"Date\": \"2021-03-24T00:00:00\", \"Cases\": \"Confirmed\", \"Count\": 53419}, {\"Date\": \"2021-03-25T00:00:00\", \"Cases\": \"Confirmed\", \"Count\": 59083}, {\"Date\": \"2021-03-26T00:00:00\", \"Cases\": \"Confirmed\", \"Count\": 62276}, {\"Date\": \"2021-03-27T00:00:00\", \"Cases\": \"Confirmed\", \"Count\": 62632}, {\"Date\": \"2021-03-28T00:00:00\", \"Cases\": \"Confirmed\", \"Count\": 68206}, {\"Date\": \"2021-03-29T00:00:00\", \"Cases\": \"Confirmed\", \"Count\": 56152}, {\"Date\": \"2021-03-30T00:00:00\", \"Cases\": \"Confirmed\", \"Count\": 53237}, {\"Date\": \"2021-03-31T00:00:00\", \"Cases\": \"Confirmed\", \"Count\": 72113}, {\"Date\": \"2021-04-01T00:00:00\", \"Cases\": \"Confirmed\", \"Count\": 81398}, {\"Date\": \"2021-04-02T00:00:00\", \"Cases\": \"Confirmed\", \"Count\": 89023}, {\"Date\": \"2021-04-03T00:00:00\", \"Cases\": \"Confirmed\", \"Count\": 92994}, {\"Date\": \"2021-04-04T00:00:00\", \"Cases\": \"Confirmed\", \"Count\": 103794}, {\"Date\": \"2021-04-05T00:00:00\", \"Cases\": \"Confirmed\", \"Count\": 96563}, {\"Date\": \"2021-04-06T00:00:00\", \"Cases\": \"Confirmed\", \"Count\": 115312}, {\"Date\": \"2021-04-07T00:00:00\", \"Cases\": \"Confirmed\", \"Count\": 126276}, {\"Date\": \"2021-04-08T00:00:00\", \"Cases\": \"Confirmed\", \"Count\": 131878}, {\"Date\": \"2021-04-09T00:00:00\", \"Cases\": \"Confirmed\", \"Count\": 144945}, {\"Date\": \"2021-04-10T00:00:00\", \"Cases\": \"Confirmed\", \"Count\": 152565}, {\"Date\": \"2021-04-11T00:00:00\", \"Cases\": \"Confirmed\", \"Count\": 169914}, {\"Date\": \"2021-04-12T00:00:00\", \"Cases\": \"Confirmed\", \"Count\": 160838}, {\"Date\": \"2021-04-13T00:00:00\", \"Cases\": \"Confirmed\", \"Count\": 185297}, {\"Date\": \"2021-04-14T00:00:00\", \"Cases\": \"Confirmed\", \"Count\": 199584}, {\"Date\": \"2021-04-15T00:00:00\", \"Cases\": \"Confirmed\", \"Count\": 216828}, {\"Date\": \"2021-04-16T00:00:00\", \"Cases\": \"Confirmed\", \"Count\": 234002}, {\"Date\": \"2021-04-17T00:00:00\", \"Cases\": \"Confirmed\", \"Count\": 260895}, {\"Date\": \"2021-04-18T00:00:00\", \"Cases\": \"Confirmed\", \"Count\": 275063}, {\"Date\": \"2021-04-19T00:00:00\", \"Cases\": \"Confirmed\", \"Count\": 257003}, {\"Date\": \"2021-04-20T00:00:00\", \"Cases\": \"Confirmed\", \"Count\": 294365}, {\"Date\": \"2021-04-21T00:00:00\", \"Cases\": \"Confirmed\", \"Count\": 315752}, {\"Date\": \"2021-04-22T00:00:00\", \"Cases\": \"Confirmed\", \"Count\": 332531}, {\"Date\": \"2021-04-23T00:00:00\", \"Cases\": \"Confirmed\", \"Count\": 345296}, {\"Date\": \"2021-04-24T00:00:00\", \"Cases\": \"Confirmed\", \"Count\": 348996}, {\"Date\": \"2021-04-25T00:00:00\", \"Cases\": \"Confirmed\", \"Count\": 354658}, {\"Date\": \"2021-04-26T00:00:00\", \"Cases\": \"Confirmed\", \"Count\": 319471}, {\"Date\": \"2021-04-27T00:00:00\", \"Cases\": \"Confirmed\", \"Count\": 362913}, {\"Date\": \"2021-04-28T00:00:00\", \"Cases\": \"Confirmed\", \"Count\": 379404}, {\"Date\": \"2021-04-29T00:00:00\", \"Cases\": \"Confirmed\", \"Count\": 386773}, {\"Date\": \"2021-04-30T00:00:00\", \"Cases\": \"Confirmed\", \"Count\": 402014}, {\"Date\": \"2020-01-30T00:00:00\", \"Cases\": \"Recovered\", \"Count\": 0}, {\"Date\": \"2020-01-31T00:00:00\", \"Cases\": \"Recovered\", \"Count\": 0}, {\"Date\": \"2020-02-01T00:00:00\", \"Cases\": \"Recovered\", \"Count\": 0}, {\"Date\": \"2020-02-02T00:00:00\", \"Cases\": \"Recovered\", \"Count\": 0}, {\"Date\": \"2020-02-03T00:00:00\", \"Cases\": \"Recovered\", \"Count\": 0}, {\"Date\": \"2020-02-04T00:00:00\", \"Cases\": \"Recovered\", \"Count\": 0}, {\"Date\": \"2020-02-05T00:00:00\", \"Cases\": \"Recovered\", \"Count\": 0}, {\"Date\": \"2020-02-06T00:00:00\", \"Cases\": \"Recovered\", \"Count\": 0}, {\"Date\": \"2020-02-07T00:00:00\", \"Cases\": \"Recovered\", \"Count\": 0}, {\"Date\": \"2020-02-08T00:00:00\", \"Cases\": \"Recovered\", \"Count\": 0}, {\"Date\": \"2020-02-09T00:00:00\", \"Cases\": \"Recovered\", \"Count\": 0}, {\"Date\": \"2020-02-10T00:00:00\", \"Cases\": \"Recovered\", \"Count\": 0}, {\"Date\": \"2020-02-11T00:00:00\", \"Cases\": \"Recovered\", \"Count\": 0}, {\"Date\": \"2020-02-12T00:00:00\", \"Cases\": \"Recovered\", \"Count\": 0}, {\"Date\": \"2020-02-13T00:00:00\", \"Cases\": \"Recovered\", \"Count\": 1}, {\"Date\": \"2020-02-14T00:00:00\", \"Cases\": \"Recovered\", \"Count\": 0}, {\"Date\": \"2020-02-15T00:00:00\", \"Cases\": \"Recovered\", \"Count\": 0}, {\"Date\": \"2020-02-16T00:00:00\", \"Cases\": \"Recovered\", \"Count\": 1}, {\"Date\": \"2020-02-17T00:00:00\", \"Cases\": \"Recovered\", \"Count\": 0}, {\"Date\": \"2020-02-18T00:00:00\", \"Cases\": \"Recovered\", \"Count\": 0}, {\"Date\": \"2020-02-19T00:00:00\", \"Cases\": \"Recovered\", \"Count\": 0}, {\"Date\": \"2020-02-20T00:00:00\", \"Cases\": \"Recovered\", \"Count\": 1}, {\"Date\": \"2020-02-21T00:00:00\", \"Cases\": \"Recovered\", \"Count\": 0}, {\"Date\": \"2020-02-22T00:00:00\", \"Cases\": \"Recovered\", \"Count\": 0}, {\"Date\": \"2020-02-23T00:00:00\", \"Cases\": \"Recovered\", \"Count\": 0}, {\"Date\": \"2020-02-24T00:00:00\", \"Cases\": \"Recovered\", \"Count\": 0}, {\"Date\": \"2020-02-25T00:00:00\", \"Cases\": \"Recovered\", \"Count\": 0}, {\"Date\": \"2020-02-26T00:00:00\", \"Cases\": \"Recovered\", \"Count\": 0}, {\"Date\": \"2020-02-27T00:00:00\", \"Cases\": \"Recovered\", \"Count\": 0}, {\"Date\": \"2020-02-28T00:00:00\", \"Cases\": \"Recovered\", \"Count\": 0}, {\"Date\": \"2020-02-29T00:00:00\", \"Cases\": \"Recovered\", \"Count\": 0}, {\"Date\": \"2020-03-01T00:00:00\", \"Cases\": \"Recovered\", \"Count\": 0}, {\"Date\": \"2020-03-02T00:00:00\", \"Cases\": \"Recovered\", \"Count\": 0}, {\"Date\": \"2020-03-03T00:00:00\", \"Cases\": \"Recovered\", \"Count\": 0}, {\"Date\": \"2020-03-04T00:00:00\", \"Cases\": \"Recovered\", \"Count\": 0}, {\"Date\": \"2020-03-05T00:00:00\", \"Cases\": \"Recovered\", \"Count\": 0}, {\"Date\": \"2020-03-06T00:00:00\", \"Cases\": \"Recovered\", \"Count\": 0}, {\"Date\": \"2020-03-07T00:00:00\", \"Cases\": \"Recovered\", \"Count\": 0}, {\"Date\": \"2020-03-08T00:00:00\", \"Cases\": \"Recovered\", \"Count\": 0}, {\"Date\": \"2020-03-09T00:00:00\", \"Cases\": \"Recovered\", \"Count\": 0}, {\"Date\": \"2020-03-10T00:00:00\", \"Cases\": \"Recovered\", \"Count\": 1}, {\"Date\": \"2020-03-11T00:00:00\", \"Cases\": \"Recovered\", \"Count\": 0}, {\"Date\": \"2020-03-12T00:00:00\", \"Cases\": \"Recovered\", \"Count\": 0}, {\"Date\": \"2020-03-13T00:00:00\", \"Cases\": \"Recovered\", \"Count\": 6}, {\"Date\": \"2020-03-14T00:00:00\", \"Cases\": \"Recovered\", \"Count\": 0}, {\"Date\": \"2020-03-15T00:00:00\", \"Cases\": \"Recovered\", \"Count\": 3}, {\"Date\": \"2020-03-16T00:00:00\", \"Cases\": \"Recovered\", \"Count\": 1}, {\"Date\": \"2020-03-17T00:00:00\", \"Cases\": \"Recovered\", \"Count\": 1}, {\"Date\": \"2020-03-18T00:00:00\", \"Cases\": \"Recovered\", \"Count\": 0}, {\"Date\": \"2020-03-19T00:00:00\", \"Cases\": \"Recovered\", \"Count\": 5}, {\"Date\": \"2020-03-20T00:00:00\", \"Cases\": \"Recovered\", \"Count\": 3}, {\"Date\": \"2020-03-21T00:00:00\", \"Cases\": \"Recovered\", \"Count\": 0}, {\"Date\": \"2020-03-22T00:00:00\", \"Cases\": \"Recovered\", \"Count\": 0}, {\"Date\": \"2020-03-23T00:00:00\", \"Cases\": \"Recovered\", \"Count\": 2}, {\"Date\": \"2020-03-24T00:00:00\", \"Cases\": \"Recovered\", \"Count\": 15}, {\"Date\": \"2020-03-25T00:00:00\", \"Cases\": \"Recovered\", \"Count\": 3}, {\"Date\": \"2020-03-26T00:00:00\", \"Cases\": \"Recovered\", \"Count\": 7}, {\"Date\": \"2020-03-27T00:00:00\", \"Cases\": \"Recovered\", \"Count\": 25}, {\"Date\": \"2020-03-28T00:00:00\", \"Cases\": \"Recovered\", \"Count\": 10}, {\"Date\": \"2020-03-29T00:00:00\", \"Cases\": \"Recovered\", \"Count\": 17}, {\"Date\": \"2020-03-30T00:00:00\", \"Cases\": \"Recovered\", \"Count\": 35}, {\"Date\": \"2020-03-31T00:00:00\", \"Cases\": \"Recovered\", \"Count\": 13}, {\"Date\": \"2020-04-01T00:00:00\", \"Cases\": \"Recovered\", \"Count\": 19}, {\"Date\": \"2020-04-02T00:00:00\", \"Cases\": \"Recovered\", \"Count\": 22}, {\"Date\": \"2020-04-03T00:00:00\", \"Cases\": \"Recovered\", \"Count\": 39}, {\"Date\": \"2020-04-04T00:00:00\", \"Cases\": \"Recovered\", \"Count\": 56}, {\"Date\": \"2020-04-05T00:00:00\", \"Cases\": \"Recovered\", \"Count\": 43}, {\"Date\": \"2020-04-06T00:00:00\", \"Cases\": \"Recovered\", \"Count\": 65}, {\"Date\": \"2020-04-07T00:00:00\", \"Cases\": \"Recovered\", \"Count\": 75}, {\"Date\": \"2020-04-08T00:00:00\", \"Cases\": \"Recovered\", \"Count\": 96}, {\"Date\": \"2020-04-09T00:00:00\", \"Cases\": \"Recovered\", \"Count\": 70}, {\"Date\": \"2020-04-10T00:00:00\", \"Cases\": \"Recovered\", \"Count\": 151}, {\"Date\": \"2020-04-11T00:00:00\", \"Cases\": \"Recovered\", \"Count\": 186}, {\"Date\": \"2020-04-12T00:00:00\", \"Cases\": \"Recovered\", \"Count\": 114}, {\"Date\": \"2020-04-13T00:00:00\", \"Cases\": \"Recovered\", \"Count\": 112}, {\"Date\": \"2020-04-14T00:00:00\", \"Cases\": \"Recovered\", \"Count\": 167}, {\"Date\": \"2020-04-15T00:00:00\", \"Cases\": \"Recovered\", \"Count\": 144}, {\"Date\": \"2020-04-16T00:00:00\", \"Cases\": \"Recovered\", \"Count\": 258}, {\"Date\": \"2020-04-17T00:00:00\", \"Cases\": \"Recovered\", \"Count\": 273}, {\"Date\": \"2020-04-18T00:00:00\", \"Cases\": \"Recovered\", \"Count\": 426}, {\"Date\": \"2020-04-19T00:00:00\", \"Cases\": \"Recovered\", \"Count\": 388}, {\"Date\": \"2020-04-20T00:00:00\", \"Cases\": \"Recovered\", \"Count\": 419}, {\"Date\": \"2020-04-21T00:00:00\", \"Cases\": \"Recovered\", \"Count\": 703}, {\"Date\": \"2020-04-22T00:00:00\", \"Cases\": \"Recovered\", \"Count\": 394}, {\"Date\": \"2020-04-23T00:00:00\", \"Cases\": \"Recovered\", \"Count\": 642}, {\"Date\": \"2020-04-24T00:00:00\", \"Cases\": \"Recovered\", \"Count\": 484}, {\"Date\": \"2020-04-25T00:00:00\", \"Cases\": \"Recovered\", \"Count\": 442}, {\"Date\": \"2020-04-26T00:00:00\", \"Cases\": \"Recovered\", \"Count\": 585}, {\"Date\": \"2020-04-27T00:00:00\", \"Cases\": \"Recovered\", \"Count\": 580}, {\"Date\": \"2020-04-28T00:00:00\", \"Cases\": \"Recovered\", \"Count\": 636}, {\"Date\": \"2020-04-29T00:00:00\", \"Cases\": \"Recovered\", \"Count\": 690}, {\"Date\": \"2020-04-30T00:00:00\", \"Cases\": \"Recovered\", \"Count\": 630}, {\"Date\": \"2020-05-01T00:00:00\", \"Cases\": \"Recovered\", \"Count\": 962}, {\"Date\": \"2020-05-02T00:00:00\", \"Cases\": \"Recovered\", \"Count\": 831}, {\"Date\": \"2020-05-03T00:00:00\", \"Cases\": \"Recovered\", \"Count\": 911}, {\"Date\": \"2020-05-04T00:00:00\", \"Cases\": \"Recovered\", \"Count\": 1082}, {\"Date\": \"2020-05-05T00:00:00\", \"Cases\": \"Recovered\", \"Count\": 1295}, {\"Date\": \"2020-05-06T00:00:00\", \"Cases\": \"Recovered\", \"Count\": 1161}, {\"Date\": \"2020-05-07T00:00:00\", \"Cases\": \"Recovered\", \"Count\": 1475}, {\"Date\": \"2020-05-08T00:00:00\", \"Cases\": \"Recovered\", \"Count\": 1111}, {\"Date\": \"2020-05-09T00:00:00\", \"Cases\": \"Recovered\", \"Count\": 1414}, {\"Date\": \"2020-05-10T00:00:00\", \"Cases\": \"Recovered\", \"Count\": 1669}, {\"Date\": \"2020-05-11T00:00:00\", \"Cases\": \"Recovered\", \"Count\": 1579}, {\"Date\": \"2020-05-12T00:00:00\", \"Cases\": \"Recovered\", \"Count\": 1905}, {\"Date\": \"2020-05-13T00:00:00\", \"Cases\": \"Recovered\", \"Count\": 1963}, {\"Date\": \"2020-05-14T00:00:00\", \"Cases\": \"Recovered\", \"Count\": 1594}, {\"Date\": \"2020-05-15T00:00:00\", \"Cases\": \"Recovered\", \"Count\": 2234}, {\"Date\": \"2020-05-16T00:00:00\", \"Cases\": \"Recovered\", \"Count\": 4012}, {\"Date\": \"2020-05-17T00:00:00\", \"Cases\": \"Recovered\", \"Count\": 2538}, {\"Date\": \"2020-05-18T00:00:00\", \"Cases\": \"Recovered\", \"Count\": 2482}, {\"Date\": \"2020-05-19T00:00:00\", \"Cases\": \"Recovered\", \"Count\": 3032}, {\"Date\": \"2020-05-20T00:00:00\", \"Cases\": \"Recovered\", \"Count\": 3113}, {\"Date\": \"2020-05-21T00:00:00\", \"Cases\": \"Recovered\", \"Count\": 3131}, {\"Date\": \"2020-05-22T00:00:00\", \"Cases\": \"Recovered\", \"Count\": 3280}, {\"Date\": \"2020-05-23T00:00:00\", \"Cases\": \"Recovered\", \"Count\": 2576}, {\"Date\": \"2020-05-24T00:00:00\", \"Cases\": \"Recovered\", \"Count\": 3285}, {\"Date\": \"2020-05-25T00:00:00\", \"Cases\": \"Recovered\", \"Count\": 3012}, {\"Date\": \"2020-05-26T00:00:00\", \"Cases\": \"Recovered\", \"Count\": 3585}, {\"Date\": \"2020-05-27T00:00:00\", \"Cases\": \"Recovered\", \"Count\": 3434}, {\"Date\": \"2020-05-28T00:00:00\", \"Cases\": \"Recovered\", \"Count\": 3171}, {\"Date\": \"2020-05-29T00:00:00\", \"Cases\": \"Recovered\", \"Count\": 11735}, {\"Date\": \"2020-05-30T00:00:00\", \"Cases\": \"Recovered\", \"Count\": 4303}, {\"Date\": \"2020-05-31T00:00:00\", \"Cases\": \"Recovered\", \"Count\": 4928}, {\"Date\": \"2020-06-01T00:00:00\", \"Cases\": \"Recovered\", \"Count\": 3882}, {\"Date\": \"2020-06-02T00:00:00\", \"Cases\": \"Recovered\", \"Count\": 4531}, {\"Date\": \"2020-06-03T00:00:00\", \"Cases\": \"Recovered\", \"Count\": 3789}, {\"Date\": \"2020-06-04T00:00:00\", \"Cases\": \"Recovered\", \"Count\": 4390}, {\"Date\": \"2020-06-05T00:00:00\", \"Cases\": \"Recovered\", \"Count\": 4770}, {\"Date\": \"2020-06-06T00:00:00\", \"Cases\": \"Recovered\", \"Count\": 5433}, {\"Date\": \"2020-06-07T00:00:00\", \"Cases\": \"Recovered\", \"Count\": 5191}, {\"Date\": \"2020-06-08T00:00:00\", \"Cases\": \"Recovered\", \"Count\": 5171}, {\"Date\": \"2020-06-09T00:00:00\", \"Cases\": \"Recovered\", \"Count\": 5634}, {\"Date\": \"2020-06-10T00:00:00\", \"Cases\": \"Recovered\", \"Count\": 6275}, {\"Date\": \"2020-06-11T00:00:00\", \"Cases\": \"Recovered\", \"Count\": 6044}, {\"Date\": \"2020-06-12T00:00:00\", \"Cases\": \"Recovered\", \"Count\": 7263}, {\"Date\": \"2020-06-13T00:00:00\", \"Cases\": \"Recovered\", \"Count\": 8092}, {\"Date\": \"2020-06-14T00:00:00\", \"Cases\": \"Recovered\", \"Count\": 7358}, {\"Date\": \"2020-06-15T00:00:00\", \"Cases\": \"Recovered\", \"Count\": 10639}, {\"Date\": \"2020-06-16T00:00:00\", \"Cases\": \"Recovered\", \"Count\": 7226}, {\"Date\": \"2020-06-17T00:00:00\", \"Cases\": \"Recovered\", \"Count\": 6890}, {\"Date\": \"2020-06-18T00:00:00\", \"Cases\": \"Recovered\", \"Count\": 10741}, {\"Date\": \"2020-06-19T00:00:00\", \"Cases\": \"Recovered\", \"Count\": 9029}, {\"Date\": \"2020-06-20T00:00:00\", \"Cases\": \"Recovered\", \"Count\": 13974}, {\"Date\": \"2020-06-21T00:00:00\", \"Cases\": \"Recovered\", \"Count\": 9075}, {\"Date\": \"2020-06-22T00:00:00\", \"Cases\": \"Recovered\", \"Count\": 10879}, {\"Date\": \"2020-06-23T00:00:00\", \"Cases\": \"Recovered\", \"Count\": 10462}, {\"Date\": \"2020-06-24T00:00:00\", \"Cases\": \"Recovered\", \"Count\": 13089}, {\"Date\": \"2020-06-25T00:00:00\", \"Cases\": \"Recovered\", \"Count\": 13983}, {\"Date\": \"2020-06-26T00:00:00\", \"Cases\": \"Recovered\", \"Count\": 10246}, {\"Date\": \"2020-06-27T00:00:00\", \"Cases\": \"Recovered\", \"Count\": 14229}, {\"Date\": \"2020-06-28T00:00:00\", \"Cases\": \"Recovered\", \"Count\": 11631}, {\"Date\": \"2020-06-29T00:00:00\", \"Cases\": \"Recovered\", \"Count\": 13497}, {\"Date\": \"2020-06-30T00:00:00\", \"Cases\": \"Recovered\", \"Count\": 12565}, {\"Date\": \"2020-07-01T00:00:00\", \"Cases\": \"Recovered\", \"Count\": 12064}, {\"Date\": \"2020-07-02T00:00:00\", \"Cases\": \"Recovered\", \"Count\": 19999}, {\"Date\": \"2020-07-03T00:00:00\", \"Cases\": \"Recovered\", \"Count\": 14417}, {\"Date\": \"2020-07-04T00:00:00\", \"Cases\": \"Recovered\", \"Count\": 14746}, {\"Date\": \"2020-07-05T00:00:00\", \"Cases\": \"Recovered\", \"Count\": 15829}, {\"Date\": \"2020-07-06T00:00:00\", \"Cases\": \"Recovered\", \"Count\": 15315}, {\"Date\": \"2020-07-07T00:00:00\", \"Cases\": \"Recovered\", \"Count\": 16836}, {\"Date\": \"2020-07-08T00:00:00\", \"Cases\": \"Recovered\", \"Count\": 19508}, {\"Date\": \"2020-07-09T00:00:00\", \"Cases\": \"Recovered\", \"Count\": 19408}, {\"Date\": \"2020-07-10T00:00:00\", \"Cases\": \"Recovered\", \"Count\": 20289}, {\"Date\": \"2020-07-11T00:00:00\", \"Cases\": \"Recovered\", \"Count\": 19981}, {\"Date\": \"2020-07-12T00:00:00\", \"Cases\": \"Recovered\", \"Count\": 18198}, {\"Date\": \"2020-07-13T00:00:00\", \"Cases\": \"Recovered\", \"Count\": 17683}, {\"Date\": \"2020-07-14T00:00:00\", \"Cases\": \"Recovered\", \"Count\": 20977}, {\"Date\": \"2020-07-15T00:00:00\", \"Cases\": \"Recovered\", \"Count\": 20646}, {\"Date\": \"2020-07-16T00:00:00\", \"Cases\": \"Recovered\", \"Count\": 22867}, {\"Date\": \"2020-07-17T00:00:00\", \"Cases\": \"Recovered\", \"Count\": 17476}, {\"Date\": \"2020-07-18T00:00:00\", \"Cases\": \"Recovered\", \"Count\": 23583}, {\"Date\": \"2020-07-19T00:00:00\", \"Cases\": \"Recovered\", \"Count\": 22730}, {\"Date\": \"2020-07-20T00:00:00\", \"Cases\": \"Recovered\", \"Count\": 24303}, {\"Date\": \"2020-07-21T00:00:00\", \"Cases\": \"Recovered\", \"Count\": 27589}, {\"Date\": \"2020-07-22T00:00:00\", \"Cases\": \"Recovered\", \"Count\": 31875}, {\"Date\": \"2020-07-23T00:00:00\", \"Cases\": \"Recovered\", \"Count\": 33326}, {\"Date\": \"2020-07-24T00:00:00\", \"Cases\": \"Recovered\", \"Count\": 32514}, {\"Date\": \"2020-07-25T00:00:00\", \"Cases\": \"Recovered\", \"Count\": 37125}, {\"Date\": \"2020-07-26T00:00:00\", \"Cases\": \"Recovered\", \"Count\": 31512}, {\"Date\": \"2020-07-27T00:00:00\", \"Cases\": \"Recovered\", \"Count\": 34354}, {\"Date\": \"2020-07-28T00:00:00\", \"Cases\": \"Recovered\", \"Count\": 35683}, {\"Date\": \"2020-07-29T00:00:00\", \"Cases\": \"Recovered\", \"Count\": 32886}, {\"Date\": \"2020-07-30T00:00:00\", \"Cases\": \"Recovered\", \"Count\": 37425}, {\"Date\": \"2020-07-31T00:00:00\", \"Cases\": \"Recovered\", \"Count\": 36554}, {\"Date\": \"2020-08-01T00:00:00\", \"Cases\": \"Recovered\", \"Count\": 51368}, {\"Date\": \"2020-08-02T00:00:00\", \"Cases\": \"Recovered\", \"Count\": 40355}, {\"Date\": \"2020-08-03T00:00:00\", \"Cases\": \"Recovered\", \"Count\": 43070}, {\"Date\": \"2020-08-04T00:00:00\", \"Cases\": \"Recovered\", \"Count\": 51220}, {\"Date\": \"2020-08-05T00:00:00\", \"Cases\": \"Recovered\", \"Count\": 45583}, {\"Date\": \"2020-08-06T00:00:00\", \"Cases\": \"Recovered\", \"Count\": 50141}, {\"Date\": \"2020-08-07T00:00:00\", \"Cases\": \"Recovered\", \"Count\": 50387}, {\"Date\": \"2020-08-08T00:00:00\", \"Cases\": \"Recovered\", \"Count\": 52135}, {\"Date\": \"2020-08-09T00:00:00\", \"Cases\": \"Recovered\", \"Count\": 54474}, {\"Date\": \"2020-08-10T00:00:00\", \"Cases\": \"Recovered\", \"Count\": 47362}, {\"Date\": \"2020-08-11T00:00:00\", \"Cases\": \"Recovered\", \"Count\": 56461}, {\"Date\": \"2020-08-12T00:00:00\", \"Cases\": \"Recovered\", \"Count\": 57759}, {\"Date\": \"2020-08-13T00:00:00\", \"Cases\": \"Recovered\", \"Count\": 54776}, {\"Date\": \"2020-08-14T00:00:00\", \"Cases\": \"Recovered\", \"Count\": 56920}, {\"Date\": \"2020-08-15T00:00:00\", \"Cases\": \"Recovered\", \"Count\": 53116}, {\"Date\": \"2020-08-16T00:00:00\", \"Cases\": \"Recovered\", \"Count\": 57404}, {\"Date\": \"2020-08-17T00:00:00\", \"Cases\": \"Recovered\", \"Count\": 58172}, {\"Date\": \"2020-08-18T00:00:00\", \"Cases\": \"Recovered\", \"Count\": 60455}, {\"Date\": \"2020-08-19T00:00:00\", \"Cases\": \"Recovered\", \"Count\": 59365}, {\"Date\": \"2020-08-20T00:00:00\", \"Cases\": \"Recovered\", \"Count\": 61873}, {\"Date\": \"2020-08-21T00:00:00\", \"Cases\": \"Recovered\", \"Count\": 62858}, {\"Date\": \"2020-08-22T00:00:00\", \"Cases\": \"Recovered\", \"Count\": 59101}, {\"Date\": \"2020-08-23T00:00:00\", \"Cases\": \"Recovered\", \"Count\": 56896}, {\"Date\": \"2020-08-24T00:00:00\", \"Cases\": \"Recovered\", \"Count\": 66305}, {\"Date\": \"2020-08-25T00:00:00\", \"Cases\": \"Recovered\", \"Count\": 64151}, {\"Date\": \"2020-08-26T00:00:00\", \"Cases\": \"Recovered\", \"Count\": 56191}, {\"Date\": \"2020-08-27T00:00:00\", \"Cases\": \"Recovered\", \"Count\": 59620}, {\"Date\": \"2020-08-28T00:00:00\", \"Cases\": \"Recovered\", \"Count\": 64475}, {\"Date\": \"2020-08-29T00:00:00\", \"Cases\": \"Recovered\", \"Count\": 64982}, {\"Date\": \"2020-08-30T00:00:00\", \"Cases\": \"Recovered\", \"Count\": 60422}, {\"Date\": \"2020-08-31T00:00:00\", \"Cases\": \"Recovered\", \"Count\": 64435}, {\"Date\": \"2020-09-01T00:00:00\", \"Cases\": \"Recovered\", \"Count\": 62145}, {\"Date\": \"2020-09-02T00:00:00\", \"Cases\": \"Recovered\", \"Count\": 67874}, {\"Date\": \"2020-09-03T00:00:00\", \"Cases\": \"Recovered\", \"Count\": 67491}, {\"Date\": \"2020-09-04T00:00:00\", \"Cases\": \"Recovered\", \"Count\": 69625}, {\"Date\": \"2020-09-05T00:00:00\", \"Cases\": \"Recovered\", \"Count\": 73161}, {\"Date\": \"2020-09-06T00:00:00\", \"Cases\": \"Recovered\", \"Count\": 69630}, {\"Date\": \"2020-09-07T00:00:00\", \"Cases\": \"Recovered\", \"Count\": 74116}, {\"Date\": \"2020-09-08T00:00:00\", \"Cases\": \"Recovered\", \"Count\": 74608}, {\"Date\": \"2020-09-09T00:00:00\", \"Cases\": \"Recovered\", \"Count\": 73062}, {\"Date\": \"2020-09-10T00:00:00\", \"Cases\": \"Recovered\", \"Count\": 70904}, {\"Date\": \"2020-09-11T00:00:00\", \"Cases\": \"Recovered\", \"Count\": 81456}, {\"Date\": \"2020-09-12T00:00:00\", \"Cases\": \"Recovered\", \"Count\": 77862}, {\"Date\": \"2020-09-13T00:00:00\", \"Cases\": \"Recovered\", \"Count\": 77748}, {\"Date\": \"2020-09-14T00:00:00\", \"Cases\": \"Recovered\", \"Count\": 79213}, {\"Date\": \"2020-09-15T00:00:00\", \"Cases\": \"Recovered\", \"Count\": 82849}, {\"Date\": \"2020-09-16T00:00:00\", \"Cases\": \"Recovered\", \"Count\": 82924}, {\"Date\": \"2020-09-17T00:00:00\", \"Cases\": \"Recovered\", \"Count\": 87788}, {\"Date\": \"2020-09-18T00:00:00\", \"Cases\": \"Recovered\", \"Count\": 95515}, {\"Date\": \"2020-09-19T00:00:00\", \"Cases\": \"Recovered\", \"Count\": 94389}, {\"Date\": \"2020-09-20T00:00:00\", \"Cases\": \"Recovered\", \"Count\": 92926}, {\"Date\": \"2020-09-21T00:00:00\", \"Cases\": \"Recovered\", \"Count\": 102070}, {\"Date\": \"2020-09-22T00:00:00\", \"Cases\": \"Recovered\", \"Count\": 89657}, {\"Date\": \"2020-09-23T00:00:00\", \"Cases\": \"Recovered\", \"Count\": 87459}, {\"Date\": \"2020-09-24T00:00:00\", \"Cases\": \"Recovered\", \"Count\": 81142}, {\"Date\": \"2020-09-25T00:00:00\", \"Cases\": \"Recovered\", \"Count\": 93331}, {\"Date\": \"2020-09-26T00:00:00\", \"Cases\": \"Recovered\", \"Count\": 92365}, {\"Date\": \"2020-09-27T00:00:00\", \"Cases\": \"Recovered\", \"Count\": 74691}, {\"Date\": \"2020-09-28T00:00:00\", \"Cases\": \"Recovered\", \"Count\": 85198}, {\"Date\": \"2020-09-29T00:00:00\", \"Cases\": \"Recovered\", \"Count\": 86150}, {\"Date\": \"2020-09-30T00:00:00\", \"Cases\": \"Recovered\", \"Count\": 85274}, {\"Date\": \"2020-10-01T00:00:00\", \"Cases\": \"Recovered\", \"Count\": 78731}, {\"Date\": \"2020-10-02T00:00:00\", \"Cases\": \"Recovered\", \"Count\": 76339}, {\"Date\": \"2020-10-03T00:00:00\", \"Cases\": \"Recovered\", \"Count\": 81655}, {\"Date\": \"2020-10-04T00:00:00\", \"Cases\": \"Recovered\", \"Count\": 76713}, {\"Date\": \"2020-10-05T00:00:00\", \"Cases\": \"Recovered\", \"Count\": 75855}, {\"Date\": \"2020-10-06T00:00:00\", \"Cases\": \"Recovered\", \"Count\": 81945}, {\"Date\": \"2020-10-07T00:00:00\", \"Cases\": \"Recovered\", \"Count\": 83209}, {\"Date\": \"2020-10-08T00:00:00\", \"Cases\": \"Recovered\", \"Count\": 78745}, {\"Date\": \"2020-10-09T00:00:00\", \"Cases\": \"Recovered\", \"Count\": 82628}, {\"Date\": \"2020-10-10T00:00:00\", \"Cases\": \"Recovered\", \"Count\": 89024}, {\"Date\": \"2020-10-11T00:00:00\", \"Cases\": \"Recovered\", \"Count\": 71565}, {\"Date\": \"2020-10-12T00:00:00\", \"Cases\": \"Recovered\", \"Count\": 78365}, {\"Date\": \"2020-10-13T00:00:00\", \"Cases\": \"Recovered\", \"Count\": 74079}, {\"Date\": \"2020-10-14T00:00:00\", \"Cases\": \"Recovered\", \"Count\": 81582}, {\"Date\": \"2020-10-15T00:00:00\", \"Cases\": \"Recovered\", \"Count\": 70792}, {\"Date\": \"2020-10-16T00:00:00\", \"Cases\": \"Recovered\", \"Count\": 70568}, {\"Date\": \"2020-10-17T00:00:00\", \"Cases\": \"Recovered\", \"Count\": 72583}, {\"Date\": \"2020-10-18T00:00:00\", \"Cases\": \"Recovered\", \"Count\": 66418}, {\"Date\": \"2020-10-19T00:00:00\", \"Cases\": \"Recovered\", \"Count\": 69800}, {\"Date\": \"2020-10-20T00:00:00\", \"Cases\": \"Recovered\", \"Count\": 61828}, {\"Date\": \"2020-10-21T00:00:00\", \"Cases\": \"Recovered\", \"Count\": 79561}, {\"Date\": \"2020-10-22T00:00:00\", \"Cases\": \"Recovered\", \"Count\": 74569}, {\"Date\": \"2020-10-23T00:00:00\", \"Cases\": \"Recovered\", \"Count\": 66994}, {\"Date\": \"2020-10-24T00:00:00\", \"Cases\": \"Recovered\", \"Count\": 62270}, {\"Date\": \"2020-10-25T00:00:00\", \"Cases\": \"Recovered\", \"Count\": 59304}, {\"Date\": \"2020-10-26T00:00:00\", \"Cases\": \"Recovered\", \"Count\": 63734}, {\"Date\": \"2020-10-27T00:00:00\", \"Cases\": \"Recovered\", \"Count\": 58429}, {\"Date\": \"2020-10-28T00:00:00\", \"Cases\": \"Recovered\", \"Count\": 56594}, {\"Date\": \"2020-10-29T00:00:00\", \"Cases\": \"Recovered\", \"Count\": 57867}, {\"Date\": \"2020-10-30T00:00:00\", \"Cases\": \"Recovered\", \"Count\": 59005}, {\"Date\": \"2020-10-31T00:00:00\", \"Cases\": \"Recovered\", \"Count\": 58682}, {\"Date\": \"2020-11-01T00:00:00\", \"Cases\": \"Recovered\", \"Count\": 53312}, {\"Date\": \"2020-11-02T00:00:00\", \"Cases\": \"Recovered\", \"Count\": 58524}, {\"Date\": \"2020-11-03T00:00:00\", \"Cases\": \"Recovered\", \"Count\": 53328}, {\"Date\": \"2020-11-04T00:00:00\", \"Cases\": \"Recovered\", \"Count\": 55873}, {\"Date\": \"2020-11-05T00:00:00\", \"Cases\": \"Recovered\", \"Count\": 54133}, {\"Date\": \"2020-11-06T00:00:00\", \"Cases\": \"Recovered\", \"Count\": 53946}, {\"Date\": \"2020-11-07T00:00:00\", \"Cases\": \"Recovered\", \"Count\": 48582}, {\"Date\": \"2020-11-08T00:00:00\", \"Cases\": \"Recovered\", \"Count\": 48465}, {\"Date\": \"2020-11-09T00:00:00\", \"Cases\": \"Recovered\", \"Count\": 41449}, {\"Date\": \"2020-11-10T00:00:00\", \"Cases\": \"Recovered\", \"Count\": 54639}, {\"Date\": \"2020-11-11T00:00:00\", \"Cases\": \"Recovered\", \"Count\": 52704}, {\"Date\": \"2020-11-12T00:00:00\", \"Cases\": \"Recovered\", \"Count\": 49354}, {\"Date\": \"2020-11-13T00:00:00\", \"Cases\": \"Recovered\", \"Count\": 47620}, {\"Date\": \"2020-11-14T00:00:00\", \"Cases\": \"Recovered\", \"Count\": 42317}, {\"Date\": \"2020-11-15T00:00:00\", \"Cases\": \"Recovered\", \"Count\": 44111}, {\"Date\": \"2020-11-16T00:00:00\", \"Cases\": \"Recovered\", \"Count\": 40392}, {\"Date\": \"2020-11-17T00:00:00\", \"Cases\": \"Recovered\", \"Count\": 44753}, {\"Date\": \"2020-11-18T00:00:00\", \"Cases\": \"Recovered\", \"Count\": 48675}, {\"Date\": \"2020-11-19T00:00:00\", \"Cases\": \"Recovered\", \"Count\": 45246}, {\"Date\": \"2020-11-20T00:00:00\", \"Cases\": \"Recovered\", \"Count\": 48968}, {\"Date\": \"2020-11-21T00:00:00\", \"Cases\": \"Recovered\", \"Count\": 44055}, {\"Date\": \"2020-11-22T00:00:00\", \"Cases\": \"Recovered\", \"Count\": 41405}, {\"Date\": \"2020-11-23T00:00:00\", \"Cases\": \"Recovered\", \"Count\": 42195}, {\"Date\": \"2020-11-24T00:00:00\", \"Cases\": \"Recovered\", \"Count\": 37765}, {\"Date\": \"2020-11-25T00:00:00\", \"Cases\": \"Recovered\", \"Count\": 36582}, {\"Date\": \"2020-11-26T00:00:00\", \"Cases\": \"Recovered\", \"Count\": 39723}, {\"Date\": \"2020-11-27T00:00:00\", \"Cases\": \"Recovered\", \"Count\": 41177}, {\"Date\": \"2020-11-28T00:00:00\", \"Cases\": \"Recovered\", \"Count\": 42275}, {\"Date\": \"2020-11-29T00:00:00\", \"Cases\": \"Recovered\", \"Count\": 45152}, {\"Date\": \"2020-11-30T00:00:00\", \"Cases\": \"Recovered\", \"Count\": 42282}, {\"Date\": \"2020-12-01T00:00:00\", \"Cases\": \"Recovered\", \"Count\": 43208}, {\"Date\": \"2020-12-02T00:00:00\", \"Cases\": \"Recovered\", \"Count\": 40908}, {\"Date\": \"2020-12-03T00:00:00\", \"Cases\": \"Recovered\", \"Count\": 42991}, {\"Date\": \"2020-12-04T00:00:00\", \"Cases\": \"Recovered\", \"Count\": 42359}, {\"Date\": \"2020-12-05T00:00:00\", \"Cases\": \"Recovered\", \"Count\": 41885}, {\"Date\": \"2020-12-06T00:00:00\", \"Cases\": \"Recovered\", \"Count\": 39078}, {\"Date\": \"2020-12-07T00:00:00\", \"Cases\": \"Recovered\", \"Count\": 39293}, {\"Date\": \"2020-12-08T00:00:00\", \"Cases\": \"Recovered\", \"Count\": 36583}, {\"Date\": \"2020-12-09T00:00:00\", \"Cases\": \"Recovered\", \"Count\": 37693}, {\"Date\": \"2020-12-10T00:00:00\", \"Cases\": \"Recovered\", \"Count\": 37707}, {\"Date\": \"2020-12-11T00:00:00\", \"Cases\": \"Recovered\", \"Count\": 33492}, {\"Date\": \"2020-12-12T00:00:00\", \"Cases\": \"Recovered\", \"Count\": 33087}, {\"Date\": \"2020-12-13T00:00:00\", \"Cases\": \"Recovered\", \"Count\": 30640}, {\"Date\": \"2020-12-14T00:00:00\", \"Cases\": \"Recovered\", \"Count\": 34421}, {\"Date\": \"2020-12-15T00:00:00\", \"Cases\": \"Recovered\", \"Count\": 33853}, {\"Date\": \"2020-12-16T00:00:00\", \"Cases\": \"Recovered\", \"Count\": 33360}, {\"Date\": \"2020-12-17T00:00:00\", \"Cases\": \"Recovered\", \"Count\": 30891}, {\"Date\": \"2020-12-18T00:00:00\", \"Cases\": \"Recovered\", \"Count\": 29879}, {\"Date\": \"2020-12-19T00:00:00\", \"Cases\": \"Recovered\", \"Count\": 29758}, {\"Date\": \"2020-12-20T00:00:00\", \"Cases\": \"Recovered\", \"Count\": 25734}, {\"Date\": \"2020-12-21T00:00:00\", \"Cases\": \"Recovered\", \"Count\": 30250}, {\"Date\": \"2020-12-22T00:00:00\", \"Cases\": \"Recovered\", \"Count\": 27032}, {\"Date\": \"2020-12-23T00:00:00\", \"Cases\": \"Recovered\", \"Count\": 29946}, {\"Date\": \"2020-12-24T00:00:00\", \"Cases\": \"Recovered\", \"Count\": 24555}, {\"Date\": \"2020-12-25T00:00:00\", \"Cases\": \"Recovered\", \"Count\": 22184}, {\"Date\": \"2020-12-26T00:00:00\", \"Cases\": \"Recovered\", \"Count\": 21466}, {\"Date\": \"2020-12-27T00:00:00\", \"Cases\": \"Recovered\", \"Count\": 21097}, {\"Date\": \"2020-12-28T00:00:00\", \"Cases\": \"Recovered\", \"Count\": 24822}, {\"Date\": \"2020-12-29T00:00:00\", \"Cases\": \"Recovered\", \"Count\": 26589}, {\"Date\": \"2020-12-30T00:00:00\", \"Cases\": \"Recovered\", \"Count\": 26407}, {\"Date\": \"2020-12-31T00:00:00\", \"Cases\": \"Recovered\", \"Count\": 21969}, {\"Date\": \"2021-01-01T00:00:00\", \"Cases\": \"Recovered\", \"Count\": 23838}, {\"Date\": \"2021-01-02T00:00:00\", \"Cases\": \"Recovered\", \"Count\": 20903}, {\"Date\": \"2021-01-03T00:00:00\", \"Cases\": \"Recovered\", \"Count\": 19658}, {\"Date\": \"2021-01-04T00:00:00\", \"Cases\": \"Recovered\", \"Count\": 29209}, {\"Date\": \"2021-01-05T00:00:00\", \"Cases\": \"Recovered\", \"Count\": 21161}, {\"Date\": \"2021-01-06T00:00:00\", \"Cases\": \"Recovered\", \"Count\": 19689}, {\"Date\": \"2021-01-07T00:00:00\", \"Cases\": \"Recovered\", \"Count\": 20503}, {\"Date\": \"2021-01-08T00:00:00\", \"Cases\": \"Recovered\", \"Count\": 19242}, {\"Date\": \"2021-01-09T00:00:00\", \"Cases\": \"Recovered\", \"Count\": 19460}, {\"Date\": \"2021-01-10T00:00:00\", \"Cases\": \"Recovered\", \"Count\": 16737}, {\"Date\": \"2021-01-11T00:00:00\", \"Cases\": \"Recovered\", \"Count\": 18578}, {\"Date\": \"2021-01-12T00:00:00\", \"Cases\": \"Recovered\", \"Count\": 17762}, {\"Date\": \"2021-01-13T00:00:00\", \"Cases\": \"Recovered\", \"Count\": 17797}, {\"Date\": \"2021-01-14T00:00:00\", \"Cases\": \"Recovered\", \"Count\": 15943}, {\"Date\": \"2021-01-15T00:00:00\", \"Cases\": \"Recovered\", \"Count\": 16809}, {\"Date\": \"2021-01-16T00:00:00\", \"Cases\": \"Recovered\", \"Count\": 17202}, {\"Date\": \"2021-01-17T00:00:00\", \"Cases\": \"Recovered\", \"Count\": 14513}, {\"Date\": \"2021-01-18T00:00:00\", \"Cases\": \"Recovered\", \"Count\": 17127}, {\"Date\": \"2021-01-19T00:00:00\", \"Cases\": \"Recovered\", \"Count\": 17229}, {\"Date\": \"2021-01-20T00:00:00\", \"Cases\": \"Recovered\", \"Count\": 20071}, {\"Date\": \"2021-01-21T00:00:00\", \"Cases\": \"Recovered\", \"Count\": 17734}, {\"Date\": \"2021-01-22T00:00:00\", \"Cases\": \"Recovered\", \"Count\": 17166}, {\"Date\": \"2021-01-23T00:00:00\", \"Cases\": \"Recovered\", \"Count\": 16033}, {\"Date\": \"2021-01-24T00:00:00\", \"Cases\": \"Recovered\", \"Count\": 13148}, {\"Date\": \"2021-01-25T00:00:00\", \"Cases\": \"Recovered\", \"Count\": 16092}, {\"Date\": \"2021-01-26T00:00:00\", \"Cases\": \"Recovered\", \"Count\": 13250}, {\"Date\": \"2021-01-27T00:00:00\", \"Cases\": \"Recovered\", \"Count\": 14261}, {\"Date\": \"2021-01-28T00:00:00\", \"Cases\": \"Recovered\", \"Count\": 20315}, {\"Date\": \"2021-01-29T00:00:00\", \"Cases\": \"Recovered\", \"Count\": 14886}, {\"Date\": \"2021-01-30T00:00:00\", \"Cases\": \"Recovered\", \"Count\": 14077}, {\"Date\": \"2021-01-31T00:00:00\", \"Cases\": \"Recovered\", \"Count\": 11882}, {\"Date\": \"2021-02-01T00:00:00\", \"Cases\": \"Recovered\", \"Count\": 13443}, {\"Date\": \"2021-02-02T00:00:00\", \"Cases\": \"Recovered\", \"Count\": 14250}, {\"Date\": \"2021-02-03T00:00:00\", \"Cases\": \"Recovered\", \"Count\": 17813}, {\"Date\": \"2021-02-04T00:00:00\", \"Cases\": \"Recovered\", \"Count\": 15788}, {\"Date\": \"2021-02-05T00:00:00\", \"Cases\": \"Recovered\", \"Count\": 14512}, {\"Date\": \"2021-02-06T00:00:00\", \"Cases\": \"Recovered\", \"Count\": 11761}, {\"Date\": \"2021-02-07T00:00:00\", \"Cases\": \"Recovered\", \"Count\": 11756}, {\"Date\": \"2021-02-08T00:00:00\", \"Cases\": \"Recovered\", \"Count\": 13600}, {\"Date\": \"2021-02-09T00:00:00\", \"Cases\": \"Recovered\", \"Count\": 12928}, {\"Date\": \"2021-02-10T00:00:00\", \"Cases\": \"Recovered\", \"Count\": 11796}, {\"Date\": \"2021-02-11T00:00:00\", \"Cases\": \"Recovered\", \"Count\": 15722}, {\"Date\": \"2021-02-12T00:00:00\", \"Cases\": \"Recovered\", \"Count\": 11358}, {\"Date\": \"2021-02-13T00:00:00\", \"Cases\": \"Recovered\", \"Count\": 11107}, {\"Date\": \"2021-02-14T00:00:00\", \"Cases\": \"Recovered\", \"Count\": 9500}, {\"Date\": \"2021-02-15T00:00:00\", \"Cases\": \"Recovered\", \"Count\": 11793}, {\"Date\": \"2021-02-16T00:00:00\", \"Cases\": \"Recovered\", \"Count\": 11836}, {\"Date\": \"2021-02-17T00:00:00\", \"Cases\": \"Recovered\", \"Count\": 12028}, {\"Date\": \"2021-02-18T00:00:00\", \"Cases\": \"Recovered\", \"Count\": 10914}, {\"Date\": \"2021-02-19T00:00:00\", \"Cases\": \"Recovered\", \"Count\": 10214}, {\"Date\": \"2021-02-20T00:00:00\", \"Cases\": \"Recovered\", \"Count\": 11413}, {\"Date\": \"2021-02-21T00:00:00\", \"Cases\": \"Recovered\", \"Count\": 9715}, {\"Date\": \"2021-02-22T00:00:00\", \"Cases\": \"Recovered\", \"Count\": 13233}, {\"Date\": \"2021-02-23T00:00:00\", \"Cases\": \"Recovered\", \"Count\": 13969}, {\"Date\": \"2021-02-24T00:00:00\", \"Cases\": \"Recovered\", \"Count\": 12100}, {\"Date\": \"2021-02-25T00:00:00\", \"Cases\": \"Recovered\", \"Count\": 12222}, {\"Date\": \"2021-02-26T00:00:00\", \"Cases\": \"Recovered\", \"Count\": 12790}, {\"Date\": \"2021-02-27T00:00:00\", \"Cases\": \"Recovered\", \"Count\": 11709}, {\"Date\": \"2021-02-28T00:00:00\", \"Cases\": \"Recovered\", \"Count\": 11291}, {\"Date\": \"2021-03-01T00:00:00\", \"Cases\": \"Recovered\", \"Count\": 12472}, {\"Date\": \"2021-03-02T00:00:00\", \"Cases\": \"Recovered\", \"Count\": 13113}, {\"Date\": \"2021-03-03T00:00:00\", \"Cases\": \"Recovered\", \"Count\": 14071}, {\"Date\": \"2021-03-04T00:00:00\", \"Cases\": \"Recovered\", \"Count\": 13788}, {\"Date\": \"2021-03-05T00:00:00\", \"Cases\": \"Recovered\", \"Count\": 14186}, {\"Date\": \"2021-03-06T00:00:00\", \"Cases\": \"Recovered\", \"Count\": 14379}, {\"Date\": \"2021-03-07T00:00:00\", \"Cases\": \"Recovered\", \"Count\": 14303}, {\"Date\": \"2021-03-08T00:00:00\", \"Cases\": \"Recovered\", \"Count\": 16606}, {\"Date\": \"2021-03-09T00:00:00\", \"Cases\": \"Recovered\", \"Count\": 20643}, {\"Date\": \"2021-03-10T00:00:00\", \"Cases\": \"Recovered\", \"Count\": 18154}, {\"Date\": \"2021-03-11T00:00:00\", \"Cases\": \"Recovered\", \"Count\": 15092}, {\"Date\": \"2021-03-12T00:00:00\", \"Cases\": \"Recovered\", \"Count\": 19972}, {\"Date\": \"2021-03-13T00:00:00\", \"Cases\": \"Recovered\", \"Count\": 16508}, {\"Date\": \"2021-03-14T00:00:00\", \"Cases\": \"Recovered\", \"Count\": 17590}, {\"Date\": \"2021-03-15T00:00:00\", \"Cases\": \"Recovered\", \"Count\": 20186}, {\"Date\": \"2021-03-16T00:00:00\", \"Cases\": \"Recovered\", \"Count\": 17746}, {\"Date\": \"2021-03-17T00:00:00\", \"Cases\": \"Recovered\", \"Count\": 17793}, {\"Date\": \"2021-03-18T00:00:00\", \"Cases\": \"Recovered\", \"Count\": 20356}, {\"Date\": \"2021-03-19T00:00:00\", \"Cases\": \"Recovered\", \"Count\": 23623}, {\"Date\": \"2021-03-20T00:00:00\", \"Cases\": \"Recovered\", \"Count\": 22971}, {\"Date\": \"2021-03-21T00:00:00\", \"Cases\": \"Recovered\", \"Count\": 21205}, {\"Date\": \"2021-03-22T00:00:00\", \"Cases\": \"Recovered\", \"Count\": 29779}, {\"Date\": \"2021-03-23T00:00:00\", \"Cases\": \"Recovered\", \"Count\": 23913}, {\"Date\": \"2021-03-24T00:00:00\", \"Cases\": \"Recovered\", \"Count\": 26575}, {\"Date\": \"2021-03-25T00:00:00\", \"Cases\": \"Recovered\", \"Count\": 32917}, {\"Date\": \"2021-03-26T00:00:00\", \"Cases\": \"Recovered\", \"Count\": 30341}, {\"Date\": \"2021-03-27T00:00:00\", \"Cases\": \"Recovered\", \"Count\": 28728}, {\"Date\": \"2021-03-28T00:00:00\", \"Cases\": \"Recovered\", \"Count\": 32269}, {\"Date\": \"2021-03-29T00:00:00\", \"Cases\": \"Recovered\", \"Count\": 36989}, {\"Date\": \"2021-03-30T00:00:00\", \"Cases\": \"Recovered\", \"Count\": 41242}, {\"Date\": \"2021-03-31T00:00:00\", \"Cases\": \"Recovered\", \"Count\": 40423}, {\"Date\": \"2021-04-01T00:00:00\", \"Cases\": \"Recovered\", \"Count\": 50384}, {\"Date\": \"2021-04-02T00:00:00\", \"Cases\": \"Recovered\", \"Count\": 44179}, {\"Date\": \"2021-04-03T00:00:00\", \"Cases\": \"Recovered\", \"Count\": 60059}, {\"Date\": \"2021-04-04T00:00:00\", \"Cases\": \"Recovered\", \"Count\": 52840}, {\"Date\": \"2021-04-05T00:00:00\", \"Cases\": \"Recovered\", \"Count\": 50100}, {\"Date\": \"2021-04-06T00:00:00\", \"Cases\": \"Recovered\", \"Count\": 59714}, {\"Date\": \"2021-04-07T00:00:00\", \"Cases\": \"Recovered\", \"Count\": 59137}, {\"Date\": \"2021-04-08T00:00:00\", \"Cases\": \"Recovered\", \"Count\": 61829}, {\"Date\": \"2021-04-09T00:00:00\", \"Cases\": \"Recovered\", \"Count\": 77263}, {\"Date\": \"2021-04-10T00:00:00\", \"Cases\": \"Recovered\", \"Count\": 90328}, {\"Date\": \"2021-04-11T00:00:00\", \"Cases\": \"Recovered\", \"Count\": 75380}, {\"Date\": \"2021-04-12T00:00:00\", \"Cases\": \"Recovered\", \"Count\": 96746}, {\"Date\": \"2021-04-13T00:00:00\", \"Cases\": \"Recovered\", \"Count\": 82271}, {\"Date\": \"2021-04-14T00:00:00\", \"Cases\": \"Recovered\", \"Count\": 93425}, {\"Date\": \"2021-04-15T00:00:00\", \"Cases\": \"Recovered\", \"Count\": 117897}, {\"Date\": \"2021-04-16T00:00:00\", \"Cases\": \"Recovered\", \"Count\": 122886}, {\"Date\": \"2021-04-17T00:00:00\", \"Cases\": \"Recovered\", \"Count\": 138209}, {\"Date\": \"2021-04-18T00:00:00\", \"Cases\": \"Recovered\", \"Count\": 143839}, {\"Date\": \"2021-04-19T00:00:00\", \"Cases\": \"Recovered\", \"Count\": 154357}, {\"Date\": \"2021-04-20T00:00:00\", \"Cases\": \"Recovered\", \"Count\": 166656}, {\"Date\": \"2021-04-21T00:00:00\", \"Cases\": \"Recovered\", \"Count\": 179434}, {\"Date\": \"2021-04-22T00:00:00\", \"Cases\": \"Recovered\", \"Count\": 192317}, {\"Date\": \"2021-04-23T00:00:00\", \"Cases\": \"Recovered\", \"Count\": 220545}, {\"Date\": \"2021-04-24T00:00:00\", \"Cases\": \"Recovered\", \"Count\": 215809}, {\"Date\": \"2021-04-25T00:00:00\", \"Cases\": \"Recovered\", \"Count\": 218626}, {\"Date\": \"2021-04-26T00:00:00\", \"Cases\": \"Recovered\", \"Count\": 249009}, {\"Date\": \"2021-04-27T00:00:00\", \"Cases\": \"Recovered\", \"Count\": 262349}, {\"Date\": \"2021-04-28T00:00:00\", \"Cases\": \"Recovered\", \"Count\": 274171}, {\"Date\": \"2021-04-29T00:00:00\", \"Cases\": \"Recovered\", \"Count\": 291727}, {\"Date\": \"2021-04-30T00:00:00\", \"Cases\": \"Recovered\", \"Count\": 299198}, {\"Date\": \"2020-01-30T00:00:00\", \"Cases\": \"Deceased\", \"Count\": 0}, {\"Date\": \"2020-01-31T00:00:00\", \"Cases\": \"Deceased\", \"Count\": 0}, {\"Date\": \"2020-02-01T00:00:00\", \"Cases\": \"Deceased\", \"Count\": 0}, {\"Date\": \"2020-02-02T00:00:00\", \"Cases\": \"Deceased\", \"Count\": 0}, {\"Date\": \"2020-02-03T00:00:00\", \"Cases\": \"Deceased\", \"Count\": 0}, {\"Date\": \"2020-02-04T00:00:00\", \"Cases\": \"Deceased\", \"Count\": 0}, {\"Date\": \"2020-02-05T00:00:00\", \"Cases\": \"Deceased\", \"Count\": 0}, {\"Date\": \"2020-02-06T00:00:00\", \"Cases\": \"Deceased\", \"Count\": 0}, {\"Date\": \"2020-02-07T00:00:00\", \"Cases\": \"Deceased\", \"Count\": 0}, {\"Date\": \"2020-02-08T00:00:00\", \"Cases\": \"Deceased\", \"Count\": 0}, {\"Date\": \"2020-02-09T00:00:00\", \"Cases\": \"Deceased\", \"Count\": 0}, {\"Date\": \"2020-02-10T00:00:00\", \"Cases\": \"Deceased\", \"Count\": 0}, {\"Date\": \"2020-02-11T00:00:00\", \"Cases\": \"Deceased\", \"Count\": 0}, {\"Date\": \"2020-02-12T00:00:00\", \"Cases\": \"Deceased\", \"Count\": 0}, {\"Date\": \"2020-02-13T00:00:00\", \"Cases\": \"Deceased\", \"Count\": 0}, {\"Date\": \"2020-02-14T00:00:00\", \"Cases\": \"Deceased\", \"Count\": 0}, {\"Date\": \"2020-02-15T00:00:00\", \"Cases\": \"Deceased\", \"Count\": 0}, {\"Date\": \"2020-02-16T00:00:00\", \"Cases\": \"Deceased\", \"Count\": 0}, {\"Date\": \"2020-02-17T00:00:00\", \"Cases\": \"Deceased\", \"Count\": 0}, {\"Date\": \"2020-02-18T00:00:00\", \"Cases\": \"Deceased\", \"Count\": 0}, {\"Date\": \"2020-02-19T00:00:00\", \"Cases\": \"Deceased\", \"Count\": 0}, {\"Date\": \"2020-02-20T00:00:00\", \"Cases\": \"Deceased\", \"Count\": 0}, {\"Date\": \"2020-02-21T00:00:00\", \"Cases\": \"Deceased\", \"Count\": 0}, {\"Date\": \"2020-02-22T00:00:00\", \"Cases\": \"Deceased\", \"Count\": 0}, {\"Date\": \"2020-02-23T00:00:00\", \"Cases\": \"Deceased\", \"Count\": 0}, {\"Date\": \"2020-02-24T00:00:00\", \"Cases\": \"Deceased\", \"Count\": 0}, {\"Date\": \"2020-02-25T00:00:00\", \"Cases\": \"Deceased\", \"Count\": 0}, {\"Date\": \"2020-02-26T00:00:00\", \"Cases\": \"Deceased\", \"Count\": 0}, {\"Date\": \"2020-02-27T00:00:00\", \"Cases\": \"Deceased\", \"Count\": 0}, {\"Date\": \"2020-02-28T00:00:00\", \"Cases\": \"Deceased\", \"Count\": 0}, {\"Date\": \"2020-02-29T00:00:00\", \"Cases\": \"Deceased\", \"Count\": 0}, {\"Date\": \"2020-03-01T00:00:00\", \"Cases\": \"Deceased\", \"Count\": 0}, {\"Date\": \"2020-03-02T00:00:00\", \"Cases\": \"Deceased\", \"Count\": 0}, {\"Date\": \"2020-03-03T00:00:00\", \"Cases\": \"Deceased\", \"Count\": 0}, {\"Date\": \"2020-03-04T00:00:00\", \"Cases\": \"Deceased\", \"Count\": 0}, {\"Date\": \"2020-03-05T00:00:00\", \"Cases\": \"Deceased\", \"Count\": 0}, {\"Date\": \"2020-03-06T00:00:00\", \"Cases\": \"Deceased\", \"Count\": 0}, {\"Date\": \"2020-03-07T00:00:00\", \"Cases\": \"Deceased\", \"Count\": 0}, {\"Date\": \"2020-03-08T00:00:00\", \"Cases\": \"Deceased\", \"Count\": 0}, {\"Date\": \"2020-03-09T00:00:00\", \"Cases\": \"Deceased\", \"Count\": 0}, {\"Date\": \"2020-03-10T00:00:00\", \"Cases\": \"Deceased\", \"Count\": 0}, {\"Date\": \"2020-03-11T00:00:00\", \"Cases\": \"Deceased\", \"Count\": 0}, {\"Date\": \"2020-03-12T00:00:00\", \"Cases\": \"Deceased\", \"Count\": 1}, {\"Date\": \"2020-03-13T00:00:00\", \"Cases\": \"Deceased\", \"Count\": 0}, {\"Date\": \"2020-03-14T00:00:00\", \"Cases\": \"Deceased\", \"Count\": 1}, {\"Date\": \"2020-03-15T00:00:00\", \"Cases\": \"Deceased\", \"Count\": 0}, {\"Date\": \"2020-03-16T00:00:00\", \"Cases\": \"Deceased\", \"Count\": 0}, {\"Date\": \"2020-03-17T00:00:00\", \"Cases\": \"Deceased\", \"Count\": 1}, {\"Date\": \"2020-03-18T00:00:00\", \"Cases\": \"Deceased\", \"Count\": 0}, {\"Date\": \"2020-03-19T00:00:00\", \"Cases\": \"Deceased\", \"Count\": 1}, {\"Date\": \"2020-03-20T00:00:00\", \"Cases\": \"Deceased\", \"Count\": 0}, {\"Date\": \"2020-03-21T00:00:00\", \"Cases\": \"Deceased\", \"Count\": 0}, {\"Date\": \"2020-03-22T00:00:00\", \"Cases\": \"Deceased\", \"Count\": 3}, {\"Date\": \"2020-03-23T00:00:00\", \"Cases\": \"Deceased\", \"Count\": 2}, {\"Date\": \"2020-03-24T00:00:00\", \"Cases\": \"Deceased\", \"Count\": 1}, {\"Date\": \"2020-03-25T00:00:00\", \"Cases\": \"Deceased\", \"Count\": 1}, {\"Date\": \"2020-03-26T00:00:00\", \"Cases\": \"Deceased\", \"Count\": 5}, {\"Date\": \"2020-03-27T00:00:00\", \"Cases\": \"Deceased\", \"Count\": 3}, {\"Date\": \"2020-03-28T00:00:00\", \"Cases\": \"Deceased\", \"Count\": 5}, {\"Date\": \"2020-03-29T00:00:00\", \"Cases\": \"Deceased\", \"Count\": 3}, {\"Date\": \"2020-03-30T00:00:00\", \"Cases\": \"Deceased\", \"Count\": 14}, {\"Date\": \"2020-03-31T00:00:00\", \"Cases\": \"Deceased\", \"Count\": 6}, {\"Date\": \"2020-04-01T00:00:00\", \"Cases\": \"Deceased\", \"Count\": 6}, {\"Date\": \"2020-04-02T00:00:00\", \"Cases\": \"Deceased\", \"Count\": 16}, {\"Date\": \"2020-04-03T00:00:00\", \"Cases\": \"Deceased\", \"Count\": 14}, {\"Date\": \"2020-04-04T00:00:00\", \"Cases\": \"Deceased\", \"Count\": 13}, {\"Date\": \"2020-04-05T00:00:00\", \"Cases\": \"Deceased\", \"Count\": 22}, {\"Date\": \"2020-04-06T00:00:00\", \"Cases\": \"Deceased\", \"Count\": 16}, {\"Date\": \"2020-04-07T00:00:00\", \"Cases\": \"Deceased\", \"Count\": 27}, {\"Date\": \"2020-04-08T00:00:00\", \"Cases\": \"Deceased\", \"Count\": 20}, {\"Date\": \"2020-04-09T00:00:00\", \"Cases\": \"Deceased\", \"Count\": 46}, {\"Date\": \"2020-04-10T00:00:00\", \"Cases\": \"Deceased\", \"Count\": 22}, {\"Date\": \"2020-04-11T00:00:00\", \"Cases\": \"Deceased\", \"Count\": 41}, {\"Date\": \"2020-04-12T00:00:00\", \"Cases\": \"Deceased\", \"Count\": 42}, {\"Date\": \"2020-04-13T00:00:00\", \"Cases\": \"Deceased\", \"Count\": 27}, {\"Date\": \"2020-04-14T00:00:00\", \"Cases\": \"Deceased\", \"Count\": 37}, {\"Date\": \"2020-04-15T00:00:00\", \"Cases\": \"Deceased\", \"Count\": 27}, {\"Date\": \"2020-04-16T00:00:00\", \"Cases\": \"Deceased\", \"Count\": 26}, {\"Date\": \"2020-04-17T00:00:00\", \"Cases\": \"Deceased\", \"Count\": 38}, {\"Date\": \"2020-04-18T00:00:00\", \"Cases\": \"Deceased\", \"Count\": 35}, {\"Date\": \"2020-04-19T00:00:00\", \"Cases\": \"Deceased\", \"Count\": 38}, {\"Date\": \"2020-04-20T00:00:00\", \"Cases\": \"Deceased\", \"Count\": 33}, {\"Date\": \"2020-04-21T00:00:00\", \"Cases\": \"Deceased\", \"Count\": 53}, {\"Date\": \"2020-04-22T00:00:00\", \"Cases\": \"Deceased\", \"Count\": 36}, {\"Date\": \"2020-04-23T00:00:00\", \"Cases\": \"Deceased\", \"Count\": 40}, {\"Date\": \"2020-04-24T00:00:00\", \"Cases\": \"Deceased\", \"Count\": 59}, {\"Date\": \"2020-04-25T00:00:00\", \"Cases\": \"Deceased\", \"Count\": 44}, {\"Date\": \"2020-04-26T00:00:00\", \"Cases\": \"Deceased\", \"Count\": 56}, {\"Date\": \"2020-04-27T00:00:00\", \"Cases\": \"Deceased\", \"Count\": 58}, {\"Date\": \"2020-04-28T00:00:00\", \"Cases\": \"Deceased\", \"Count\": 69}, {\"Date\": \"2020-04-29T00:00:00\", \"Cases\": \"Deceased\", \"Count\": 71}, {\"Date\": \"2020-04-30T00:00:00\", \"Cases\": \"Deceased\", \"Count\": 75}, {\"Date\": \"2020-05-01T00:00:00\", \"Cases\": \"Deceased\", \"Count\": 77}, {\"Date\": \"2020-05-02T00:00:00\", \"Cases\": \"Deceased\", \"Count\": 92}, {\"Date\": \"2020-05-03T00:00:00\", \"Cases\": \"Deceased\", \"Count\": 140}, {\"Date\": \"2020-05-04T00:00:00\", \"Cases\": \"Deceased\", \"Count\": 103}, {\"Date\": \"2020-05-05T00:00:00\", \"Cases\": \"Deceased\", \"Count\": 128}, {\"Date\": \"2020-05-06T00:00:00\", \"Cases\": \"Deceased\", \"Count\": 91}, {\"Date\": \"2020-05-07T00:00:00\", \"Cases\": \"Deceased\", \"Count\": 104}, {\"Date\": \"2020-05-08T00:00:00\", \"Cases\": \"Deceased\", \"Count\": 97}, {\"Date\": \"2020-05-09T00:00:00\", \"Cases\": \"Deceased\", \"Count\": 115}, {\"Date\": \"2020-05-10T00:00:00\", \"Cases\": \"Deceased\", \"Count\": 112}, {\"Date\": \"2020-05-11T00:00:00\", \"Cases\": \"Deceased\", \"Count\": 81}, {\"Date\": \"2020-05-12T00:00:00\", \"Cases\": \"Deceased\", \"Count\": 120}, {\"Date\": \"2020-05-13T00:00:00\", \"Cases\": \"Deceased\", \"Count\": 137}, {\"Date\": \"2020-05-14T00:00:00\", \"Cases\": \"Deceased\", \"Count\": 97}, {\"Date\": \"2020-05-15T00:00:00\", \"Cases\": \"Deceased\", \"Count\": 104}, {\"Date\": \"2020-05-16T00:00:00\", \"Cases\": \"Deceased\", \"Count\": 120}, {\"Date\": \"2020-05-17T00:00:00\", \"Cases\": \"Deceased\", \"Count\": 152}, {\"Date\": \"2020-05-18T00:00:00\", \"Cases\": \"Deceased\", \"Count\": 131}, {\"Date\": \"2020-05-19T00:00:00\", \"Cases\": \"Deceased\", \"Count\": 146}, {\"Date\": \"2020-05-20T00:00:00\", \"Cases\": \"Deceased\", \"Count\": 134}, {\"Date\": \"2020-05-21T00:00:00\", \"Cases\": \"Deceased\", \"Count\": 148}, {\"Date\": \"2020-05-22T00:00:00\", \"Cases\": \"Deceased\", \"Count\": 142}, {\"Date\": \"2020-05-23T00:00:00\", \"Cases\": \"Deceased\", \"Count\": 142}, {\"Date\": \"2020-05-24T00:00:00\", \"Cases\": \"Deceased\", \"Count\": 156}, {\"Date\": \"2020-05-25T00:00:00\", \"Cases\": \"Deceased\", \"Count\": 150}, {\"Date\": \"2020-05-26T00:00:00\", \"Cases\": \"Deceased\", \"Count\": 173}, {\"Date\": \"2020-05-27T00:00:00\", \"Cases\": \"Deceased\", \"Count\": 188}, {\"Date\": \"2020-05-28T00:00:00\", \"Cases\": \"Deceased\", \"Count\": 176}, {\"Date\": \"2020-05-29T00:00:00\", \"Cases\": \"Deceased\", \"Count\": 269}, {\"Date\": \"2020-05-30T00:00:00\", \"Cases\": \"Deceased\", \"Count\": 205}, {\"Date\": \"2020-05-31T00:00:00\", \"Cases\": \"Deceased\", \"Count\": 222}, {\"Date\": \"2020-06-01T00:00:00\", \"Cases\": \"Deceased\", \"Count\": 201}, {\"Date\": \"2020-06-02T00:00:00\", \"Cases\": \"Deceased\", \"Count\": 222}, {\"Date\": \"2020-06-03T00:00:00\", \"Cases\": \"Deceased\", \"Count\": 259}, {\"Date\": \"2020-06-04T00:00:00\", \"Cases\": \"Deceased\", \"Count\": 274}, {\"Date\": \"2020-06-05T00:00:00\", \"Cases\": \"Deceased\", \"Count\": 286}, {\"Date\": \"2020-06-06T00:00:00\", \"Cases\": \"Deceased\", \"Count\": 297}, {\"Date\": \"2020-06-07T00:00:00\", \"Cases\": \"Deceased\", \"Count\": 261}, {\"Date\": \"2020-06-08T00:00:00\", \"Cases\": \"Deceased\", \"Count\": 271}, {\"Date\": \"2020-06-09T00:00:00\", \"Cases\": \"Deceased\", \"Count\": 272}, {\"Date\": \"2020-06-10T00:00:00\", \"Cases\": \"Deceased\", \"Count\": 358}, {\"Date\": \"2020-06-11T00:00:00\", \"Cases\": \"Deceased\", \"Count\": 394}, {\"Date\": \"2020-06-12T00:00:00\", \"Cases\": \"Deceased\", \"Count\": 388}, {\"Date\": \"2020-06-13T00:00:00\", \"Cases\": \"Deceased\", \"Count\": 309}, {\"Date\": \"2020-06-14T00:00:00\", \"Cases\": \"Deceased\", \"Count\": 324}, {\"Date\": \"2020-06-15T00:00:00\", \"Cases\": \"Deceased\", \"Count\": 396}, {\"Date\": \"2020-06-16T00:00:00\", \"Cases\": \"Deceased\", \"Count\": 2004}, {\"Date\": \"2020-06-17T00:00:00\", \"Cases\": \"Deceased\", \"Count\": 341}, {\"Date\": \"2020-06-18T00:00:00\", \"Cases\": \"Deceased\", \"Count\": 343}, {\"Date\": \"2020-06-19T00:00:00\", \"Cases\": \"Deceased\", \"Count\": 364}, {\"Date\": \"2020-06-20T00:00:00\", \"Cases\": \"Deceased\", \"Count\": 308}, {\"Date\": \"2020-06-21T00:00:00\", \"Cases\": \"Deceased\", \"Count\": 426}, {\"Date\": \"2020-06-22T00:00:00\", \"Cases\": \"Deceased\", \"Count\": 312}, {\"Date\": \"2020-06-23T00:00:00\", \"Cases\": \"Deceased\", \"Count\": 468}, {\"Date\": \"2020-06-24T00:00:00\", \"Cases\": \"Deceased\", \"Count\": 424}, {\"Date\": \"2020-06-25T00:00:00\", \"Cases\": \"Deceased\", \"Count\": 401}, {\"Date\": \"2020-06-26T00:00:00\", \"Cases\": \"Deceased\", \"Count\": 381}, {\"Date\": \"2020-06-27T00:00:00\", \"Cases\": \"Deceased\", \"Count\": 414}, {\"Date\": \"2020-06-28T00:00:00\", \"Cases\": \"Deceased\", \"Count\": 384}, {\"Date\": \"2020-06-29T00:00:00\", \"Cases\": \"Deceased\", \"Count\": 417}, {\"Date\": \"2020-06-30T00:00:00\", \"Cases\": \"Deceased\", \"Count\": 506}, {\"Date\": \"2020-07-01T00:00:00\", \"Cases\": \"Deceased\", \"Count\": 438}, {\"Date\": \"2020-07-02T00:00:00\", \"Cases\": \"Deceased\", \"Count\": 378}, {\"Date\": \"2020-07-03T00:00:00\", \"Cases\": \"Deceased\", \"Count\": 444}, {\"Date\": \"2020-07-04T00:00:00\", \"Cases\": \"Deceased\", \"Count\": 611}, {\"Date\": \"2020-07-05T00:00:00\", \"Cases\": \"Deceased\", \"Count\": 421}, {\"Date\": \"2020-07-06T00:00:00\", \"Cases\": \"Deceased\", \"Count\": 473}, {\"Date\": \"2020-07-07T00:00:00\", \"Cases\": \"Deceased\", \"Count\": 479}, {\"Date\": \"2020-07-08T00:00:00\", \"Cases\": \"Deceased\", \"Count\": 492}, {\"Date\": \"2020-07-09T00:00:00\", \"Cases\": \"Deceased\", \"Count\": 479}, {\"Date\": \"2020-07-10T00:00:00\", \"Cases\": \"Deceased\", \"Count\": 520}, {\"Date\": \"2020-07-11T00:00:00\", \"Cases\": \"Deceased\", \"Count\": 543}, {\"Date\": \"2020-07-12T00:00:00\", \"Cases\": \"Deceased\", \"Count\": 500}, {\"Date\": \"2020-07-13T00:00:00\", \"Cases\": \"Deceased\", \"Count\": 541}, {\"Date\": \"2020-07-14T00:00:00\", \"Cases\": \"Deceased\", \"Count\": 587}, {\"Date\": \"2020-07-15T00:00:00\", \"Cases\": \"Deceased\", \"Count\": 614}, {\"Date\": \"2020-07-16T00:00:00\", \"Cases\": \"Deceased\", \"Count\": 680}, {\"Date\": \"2020-07-17T00:00:00\", \"Cases\": \"Deceased\", \"Count\": 676}, {\"Date\": \"2020-07-18T00:00:00\", \"Cases\": \"Deceased\", \"Count\": 543}, {\"Date\": \"2020-07-19T00:00:00\", \"Cases\": \"Deceased\", \"Count\": 675}, {\"Date\": \"2020-07-20T00:00:00\", \"Cases\": \"Deceased\", \"Count\": 596}, {\"Date\": \"2020-07-21T00:00:00\", \"Cases\": \"Deceased\", \"Count\": 671}, {\"Date\": \"2020-07-22T00:00:00\", \"Cases\": \"Deceased\", \"Count\": 1130}, {\"Date\": \"2020-07-23T00:00:00\", \"Cases\": \"Deceased\", \"Count\": 755}, {\"Date\": \"2020-07-24T00:00:00\", \"Cases\": \"Deceased\", \"Count\": 763}, {\"Date\": \"2020-07-25T00:00:00\", \"Cases\": \"Deceased\", \"Count\": 703}, {\"Date\": \"2020-07-26T00:00:00\", \"Cases\": \"Deceased\", \"Count\": 704}, {\"Date\": \"2020-07-27T00:00:00\", \"Cases\": \"Deceased\", \"Count\": 642}, {\"Date\": \"2020-07-28T00:00:00\", \"Cases\": \"Deceased\", \"Count\": 774}, {\"Date\": \"2020-07-29T00:00:00\", \"Cases\": \"Deceased\", \"Count\": 775}, {\"Date\": \"2020-07-30T00:00:00\", \"Cases\": \"Deceased\", \"Count\": 784}, {\"Date\": \"2020-07-31T00:00:00\", \"Cases\": \"Deceased\", \"Count\": 764}, {\"Date\": \"2020-08-01T00:00:00\", \"Cases\": \"Deceased\", \"Count\": 854}, {\"Date\": \"2020-08-02T00:00:00\", \"Cases\": \"Deceased\", \"Count\": 760}, {\"Date\": \"2020-08-03T00:00:00\", \"Cases\": \"Deceased\", \"Count\": 806}, {\"Date\": \"2020-08-04T00:00:00\", \"Cases\": \"Deceased\", \"Count\": 849}, {\"Date\": \"2020-08-05T00:00:00\", \"Cases\": \"Deceased\", \"Count\": 919}, {\"Date\": \"2020-08-06T00:00:00\", \"Cases\": \"Deceased\", \"Count\": 899}, {\"Date\": \"2020-08-07T00:00:00\", \"Cases\": \"Deceased\", \"Count\": 936}, {\"Date\": \"2020-08-08T00:00:00\", \"Cases\": \"Deceased\", \"Count\": 875}, {\"Date\": \"2020-08-09T00:00:00\", \"Cases\": \"Deceased\", \"Count\": 1013}, {\"Date\": \"2020-08-10T00:00:00\", \"Cases\": \"Deceased\", \"Count\": 887}, {\"Date\": \"2020-08-11T00:00:00\", \"Cases\": \"Deceased\", \"Count\": 835}, {\"Date\": \"2020-08-12T00:00:00\", \"Cases\": \"Deceased\", \"Count\": 950}, {\"Date\": \"2020-08-13T00:00:00\", \"Cases\": \"Deceased\", \"Count\": 1006}, {\"Date\": \"2020-08-14T00:00:00\", \"Cases\": \"Deceased\", \"Count\": 989}, {\"Date\": \"2020-08-15T00:00:00\", \"Cases\": \"Deceased\", \"Count\": 952}, {\"Date\": \"2020-08-16T00:00:00\", \"Cases\": \"Deceased\", \"Count\": 952}, {\"Date\": \"2020-08-17T00:00:00\", \"Cases\": \"Deceased\", \"Count\": 880}, {\"Date\": \"2020-08-18T00:00:00\", \"Cases\": \"Deceased\", \"Count\": 1099}, {\"Date\": \"2020-08-19T00:00:00\", \"Cases\": \"Deceased\", \"Count\": 979}, {\"Date\": \"2020-08-20T00:00:00\", \"Cases\": \"Deceased\", \"Count\": 981}, {\"Date\": \"2020-08-21T00:00:00\", \"Cases\": \"Deceased\", \"Count\": 953}, {\"Date\": \"2020-08-22T00:00:00\", \"Cases\": \"Deceased\", \"Count\": 918}, {\"Date\": \"2020-08-23T00:00:00\", \"Cases\": \"Deceased\", \"Count\": 846}, {\"Date\": \"2020-08-24T00:00:00\", \"Cases\": \"Deceased\", \"Count\": 854}, {\"Date\": \"2020-08-25T00:00:00\", \"Cases\": \"Deceased\", \"Count\": 1066}, {\"Date\": \"2020-08-26T00:00:00\", \"Cases\": \"Deceased\", \"Count\": 1017}, {\"Date\": \"2020-08-27T00:00:00\", \"Cases\": \"Deceased\", \"Count\": 1066}, {\"Date\": \"2020-08-28T00:00:00\", \"Cases\": \"Deceased\", \"Count\": 1019}, {\"Date\": \"2020-08-29T00:00:00\", \"Cases\": \"Deceased\", \"Count\": 943}, {\"Date\": \"2020-08-30T00:00:00\", \"Cases\": \"Deceased\", \"Count\": 960}, {\"Date\": \"2020-08-31T00:00:00\", \"Cases\": \"Deceased\", \"Count\": 816}, {\"Date\": \"2020-09-01T00:00:00\", \"Cases\": \"Deceased\", \"Count\": 892}, {\"Date\": \"2020-09-02T00:00:00\", \"Cases\": \"Deceased\", \"Count\": 913}, {\"Date\": \"2020-09-03T00:00:00\", \"Cases\": \"Deceased\", \"Count\": 979}, {\"Date\": \"2020-09-04T00:00:00\", \"Cases\": \"Deceased\", \"Count\": 950}, {\"Date\": \"2020-09-05T00:00:00\", \"Cases\": \"Deceased\", \"Count\": 916}, {\"Date\": \"2020-09-06T00:00:00\", \"Cases\": \"Deceased\", \"Count\": 1005}, {\"Date\": \"2020-09-07T00:00:00\", \"Cases\": \"Deceased\", \"Count\": 1129}, {\"Date\": \"2020-09-08T00:00:00\", \"Cases\": \"Deceased\", \"Count\": 1107}, {\"Date\": \"2020-09-09T00:00:00\", \"Cases\": \"Deceased\", \"Count\": 1168}, {\"Date\": \"2020-09-10T00:00:00\", \"Cases\": \"Deceased\", \"Count\": 1213}, {\"Date\": \"2020-09-11T00:00:00\", \"Cases\": \"Deceased\", \"Count\": 1202}, {\"Date\": \"2020-09-12T00:00:00\", \"Cases\": \"Deceased\", \"Count\": 1111}, {\"Date\": \"2020-09-13T00:00:00\", \"Cases\": \"Deceased\", \"Count\": 1140}, {\"Date\": \"2020-09-14T00:00:00\", \"Cases\": \"Deceased\", \"Count\": 1054}, {\"Date\": \"2020-09-15T00:00:00\", \"Cases\": \"Deceased\", \"Count\": 1281}, {\"Date\": \"2020-09-16T00:00:00\", \"Cases\": \"Deceased\", \"Count\": 1140}, {\"Date\": \"2020-09-17T00:00:00\", \"Cases\": \"Deceased\", \"Count\": 1175}, {\"Date\": \"2020-09-18T00:00:00\", \"Cases\": \"Deceased\", \"Count\": 1221}, {\"Date\": \"2020-09-19T00:00:00\", \"Cases\": \"Deceased\", \"Count\": 1149}, {\"Date\": \"2020-09-20T00:00:00\", \"Cases\": \"Deceased\", \"Count\": 1135}, {\"Date\": \"2020-09-21T00:00:00\", \"Cases\": \"Deceased\", \"Count\": 1056}, {\"Date\": \"2020-09-22T00:00:00\", \"Cases\": \"Deceased\", \"Count\": 1085}, {\"Date\": \"2020-09-23T00:00:00\", \"Cases\": \"Deceased\", \"Count\": 1123}, {\"Date\": \"2020-09-24T00:00:00\", \"Cases\": \"Deceased\", \"Count\": 1144}, {\"Date\": \"2020-09-25T00:00:00\", \"Cases\": \"Deceased\", \"Count\": 1093}, {\"Date\": \"2020-09-26T00:00:00\", \"Cases\": \"Deceased\", \"Count\": 1124}, {\"Date\": \"2020-09-27T00:00:00\", \"Cases\": \"Deceased\", \"Count\": 1040}, {\"Date\": \"2020-09-28T00:00:00\", \"Cases\": \"Deceased\", \"Count\": 775}, {\"Date\": \"2020-09-29T00:00:00\", \"Cases\": \"Deceased\", \"Count\": 1178}, {\"Date\": \"2020-09-30T00:00:00\", \"Cases\": \"Deceased\", \"Count\": 1179}, {\"Date\": \"2020-10-01T00:00:00\", \"Cases\": \"Deceased\", \"Count\": 1099}, {\"Date\": \"2020-10-02T00:00:00\", \"Cases\": \"Deceased\", \"Count\": 1068}, {\"Date\": \"2020-10-03T00:00:00\", \"Cases\": \"Deceased\", \"Count\": 937}, {\"Date\": \"2020-10-04T00:00:00\", \"Cases\": \"Deceased\", \"Count\": 903}, {\"Date\": \"2020-10-05T00:00:00\", \"Cases\": \"Deceased\", \"Count\": 886}, {\"Date\": \"2020-10-06T00:00:00\", \"Cases\": \"Deceased\", \"Count\": 990}, {\"Date\": \"2020-10-07T00:00:00\", \"Cases\": \"Deceased\", \"Count\": 963}, {\"Date\": \"2020-10-08T00:00:00\", \"Cases\": \"Deceased\", \"Count\": 967}, {\"Date\": \"2020-10-09T00:00:00\", \"Cases\": \"Deceased\", \"Count\": 929}, {\"Date\": \"2020-10-10T00:00:00\", \"Cases\": \"Deceased\", \"Count\": 921}, {\"Date\": \"2020-10-11T00:00:00\", \"Cases\": \"Deceased\", \"Count\": 813}, {\"Date\": \"2020-10-12T00:00:00\", \"Cases\": \"Deceased\", \"Count\": 710}, {\"Date\": \"2020-10-13T00:00:00\", \"Cases\": \"Deceased\", \"Count\": 727}, {\"Date\": \"2020-10-14T00:00:00\", \"Cases\": \"Deceased\", \"Count\": 690}, {\"Date\": \"2020-10-15T00:00:00\", \"Cases\": \"Deceased\", \"Count\": 882}, {\"Date\": \"2020-10-16T00:00:00\", \"Cases\": \"Deceased\", \"Count\": 840}, {\"Date\": \"2020-10-17T00:00:00\", \"Cases\": \"Deceased\", \"Count\": 1032}, {\"Date\": \"2020-10-18T00:00:00\", \"Cases\": \"Deceased\", \"Count\": 582}, {\"Date\": \"2020-10-19T00:00:00\", \"Cases\": \"Deceased\", \"Count\": 589}, {\"Date\": \"2020-10-20T00:00:00\", \"Cases\": \"Deceased\", \"Count\": 714}, {\"Date\": \"2020-10-21T00:00:00\", \"Cases\": \"Deceased\", \"Count\": 701}, {\"Date\": \"2020-10-22T00:00:00\", \"Cases\": \"Deceased\", \"Count\": 686}, {\"Date\": \"2020-10-23T00:00:00\", \"Cases\": \"Deceased\", \"Count\": 655}, {\"Date\": \"2020-10-24T00:00:00\", \"Cases\": \"Deceased\", \"Count\": 578}, {\"Date\": \"2020-10-25T00:00:00\", \"Cases\": \"Deceased\", \"Count\": 483}, {\"Date\": \"2020-10-26T00:00:00\", \"Cases\": \"Deceased\", \"Count\": 485}, {\"Date\": \"2020-10-27T00:00:00\", \"Cases\": \"Deceased\", \"Count\": 511}, {\"Date\": \"2020-10-28T00:00:00\", \"Cases\": \"Deceased\", \"Count\": 515}, {\"Date\": \"2020-10-29T00:00:00\", \"Cases\": \"Deceased\", \"Count\": 562}, {\"Date\": \"2020-10-30T00:00:00\", \"Cases\": \"Deceased\", \"Count\": 550}, {\"Date\": \"2020-10-31T00:00:00\", \"Cases\": \"Deceased\", \"Count\": 469}, {\"Date\": \"2020-11-01T00:00:00\", \"Cases\": \"Deceased\", \"Count\": 491}, {\"Date\": \"2020-11-02T00:00:00\", \"Cases\": \"Deceased\", \"Count\": 498}, {\"Date\": \"2020-11-03T00:00:00\", \"Cases\": \"Deceased\", \"Count\": 510}, {\"Date\": \"2020-11-04T00:00:00\", \"Cases\": \"Deceased\", \"Count\": 707}, {\"Date\": \"2020-11-05T00:00:00\", \"Cases\": \"Deceased\", \"Count\": 672}, {\"Date\": \"2020-11-06T00:00:00\", \"Cases\": \"Deceased\", \"Count\": 577}, {\"Date\": \"2020-11-07T00:00:00\", \"Cases\": \"Deceased\", \"Count\": 557}, {\"Date\": \"2020-11-08T00:00:00\", \"Cases\": \"Deceased\", \"Count\": 491}, {\"Date\": \"2020-11-09T00:00:00\", \"Cases\": \"Deceased\", \"Count\": 450}, {\"Date\": \"2020-11-10T00:00:00\", \"Cases\": \"Deceased\", \"Count\": 511}, {\"Date\": \"2020-11-11T00:00:00\", \"Cases\": \"Deceased\", \"Count\": 550}, {\"Date\": \"2020-11-12T00:00:00\", \"Cases\": \"Deceased\", \"Count\": 544}, {\"Date\": \"2020-11-13T00:00:00\", \"Cases\": \"Deceased\", \"Count\": 517}, {\"Date\": \"2020-11-14T00:00:00\", \"Cases\": \"Deceased\", \"Count\": 450}, {\"Date\": \"2020-11-15T00:00:00\", \"Cases\": \"Deceased\", \"Count\": 434}, {\"Date\": \"2020-11-16T00:00:00\", \"Cases\": \"Deceased\", \"Count\": 451}, {\"Date\": \"2020-11-17T00:00:00\", \"Cases\": \"Deceased\", \"Count\": 472}, {\"Date\": \"2020-11-18T00:00:00\", \"Cases\": \"Deceased\", \"Count\": 586}, {\"Date\": \"2020-11-19T00:00:00\", \"Cases\": \"Deceased\", \"Count\": 582}, {\"Date\": \"2020-11-20T00:00:00\", \"Cases\": \"Deceased\", \"Count\": 564}, {\"Date\": \"2020-11-21T00:00:00\", \"Cases\": \"Deceased\", \"Count\": 499}, {\"Date\": \"2020-11-22T00:00:00\", \"Cases\": \"Deceased\", \"Count\": 510}, {\"Date\": \"2020-11-23T00:00:00\", \"Cases\": \"Deceased\", \"Count\": 481}, {\"Date\": \"2020-11-24T00:00:00\", \"Cases\": \"Deceased\", \"Count\": 489}, {\"Date\": \"2020-11-25T00:00:00\", \"Cases\": \"Deceased\", \"Count\": 518}, {\"Date\": \"2020-11-26T00:00:00\", \"Cases\": \"Deceased\", \"Count\": 491}, {\"Date\": \"2020-11-27T00:00:00\", \"Cases\": \"Deceased\", \"Count\": 486}, {\"Date\": \"2020-11-28T00:00:00\", \"Cases\": \"Deceased\", \"Count\": 495}, {\"Date\": \"2020-11-29T00:00:00\", \"Cases\": \"Deceased\", \"Count\": 444}, {\"Date\": \"2020-11-30T00:00:00\", \"Cases\": \"Deceased\", \"Count\": 482}, {\"Date\": \"2020-12-01T00:00:00\", \"Cases\": \"Deceased\", \"Count\": 501}, {\"Date\": \"2020-12-02T00:00:00\", \"Cases\": \"Deceased\", \"Count\": 526}, {\"Date\": \"2020-12-03T00:00:00\", \"Cases\": \"Deceased\", \"Count\": 541}, {\"Date\": \"2020-12-04T00:00:00\", \"Cases\": \"Deceased\", \"Count\": 511}, {\"Date\": \"2020-12-05T00:00:00\", \"Cases\": \"Deceased\", \"Count\": 482}, {\"Date\": \"2020-12-06T00:00:00\", \"Cases\": \"Deceased\", \"Count\": 390}, {\"Date\": \"2020-12-07T00:00:00\", \"Cases\": \"Deceased\", \"Count\": 386}, {\"Date\": \"2020-12-08T00:00:00\", \"Cases\": \"Deceased\", \"Count\": 402}, {\"Date\": \"2020-12-09T00:00:00\", \"Cases\": \"Deceased\", \"Count\": 413}, {\"Date\": \"2020-12-10T00:00:00\", \"Cases\": \"Deceased\", \"Count\": 411}, {\"Date\": \"2020-12-11T00:00:00\", \"Cases\": \"Deceased\", \"Count\": 442}, {\"Date\": \"2020-12-12T00:00:00\", \"Cases\": \"Deceased\", \"Count\": 391}, {\"Date\": \"2020-12-13T00:00:00\", \"Cases\": \"Deceased\", \"Count\": 338}, {\"Date\": \"2020-12-14T00:00:00\", \"Cases\": \"Deceased\", \"Count\": 354}, {\"Date\": \"2020-12-15T00:00:00\", \"Cases\": \"Deceased\", \"Count\": 384}, {\"Date\": \"2020-12-16T00:00:00\", \"Cases\": \"Deceased\", \"Count\": 356}, {\"Date\": \"2020-12-17T00:00:00\", \"Cases\": \"Deceased\", \"Count\": 342}, {\"Date\": \"2020-12-18T00:00:00\", \"Cases\": \"Deceased\", \"Count\": 342}, {\"Date\": \"2020-12-19T00:00:00\", \"Cases\": \"Deceased\", \"Count\": 342}, {\"Date\": \"2020-12-20T00:00:00\", \"Cases\": \"Deceased\", \"Count\": 332}, {\"Date\": \"2020-12-21T00:00:00\", \"Cases\": \"Deceased\", \"Count\": 302}, {\"Date\": \"2020-12-22T00:00:00\", \"Cases\": \"Deceased\", \"Count\": 329}, {\"Date\": \"2020-12-23T00:00:00\", \"Cases\": \"Deceased\", \"Count\": 315}, {\"Date\": \"2020-12-24T00:00:00\", \"Cases\": \"Deceased\", \"Count\": 337}, {\"Date\": \"2020-12-25T00:00:00\", \"Cases\": \"Deceased\", \"Count\": 251}, {\"Date\": \"2020-12-26T00:00:00\", \"Cases\": \"Deceased\", \"Count\": 280}, {\"Date\": \"2020-12-27T00:00:00\", \"Cases\": \"Deceased\", \"Count\": 281}, {\"Date\": \"2020-12-28T00:00:00\", \"Cases\": \"Deceased\", \"Count\": 250}, {\"Date\": \"2020-12-29T00:00:00\", \"Cases\": \"Deceased\", \"Count\": 285}, {\"Date\": \"2020-12-30T00:00:00\", \"Cases\": \"Deceased\", \"Count\": 299}, {\"Date\": \"2020-12-31T00:00:00\", \"Cases\": \"Deceased\", \"Count\": 244}, {\"Date\": \"2021-01-01T00:00:00\", \"Cases\": \"Deceased\", \"Count\": 237}, {\"Date\": \"2021-01-02T00:00:00\", \"Cases\": \"Deceased\", \"Count\": 216}, {\"Date\": \"2021-01-03T00:00:00\", \"Cases\": \"Deceased\", \"Count\": 215}, {\"Date\": \"2021-01-04T00:00:00\", \"Cases\": \"Deceased\", \"Count\": 200}, {\"Date\": \"2021-01-05T00:00:00\", \"Cases\": \"Deceased\", \"Count\": 265}, {\"Date\": \"2021-01-06T00:00:00\", \"Cases\": \"Deceased\", \"Count\": 222}, {\"Date\": \"2021-01-07T00:00:00\", \"Cases\": \"Deceased\", \"Count\": 233}, {\"Date\": \"2021-01-08T00:00:00\", \"Cases\": \"Deceased\", \"Count\": 229}, {\"Date\": \"2021-01-09T00:00:00\", \"Cases\": \"Deceased\", \"Count\": 213}, {\"Date\": \"2021-01-10T00:00:00\", \"Cases\": \"Deceased\", \"Count\": 150}, {\"Date\": \"2021-01-11T00:00:00\", \"Cases\": \"Deceased\", \"Count\": 166}, {\"Date\": \"2021-01-12T00:00:00\", \"Cases\": \"Deceased\", \"Count\": 200}, {\"Date\": \"2021-01-13T00:00:00\", \"Cases\": \"Deceased\", \"Count\": 201}, {\"Date\": \"2021-01-14T00:00:00\", \"Cases\": \"Deceased\", \"Count\": 189}, {\"Date\": \"2021-01-15T00:00:00\", \"Cases\": \"Deceased\", \"Count\": 176}, {\"Date\": \"2021-01-16T00:00:00\", \"Cases\": \"Deceased\", \"Count\": 181}, {\"Date\": \"2021-01-17T00:00:00\", \"Cases\": \"Deceased\", \"Count\": 145}, {\"Date\": \"2021-01-18T00:00:00\", \"Cases\": \"Deceased\", \"Count\": 137}, {\"Date\": \"2021-01-19T00:00:00\", \"Cases\": \"Deceased\", \"Count\": 162}, {\"Date\": \"2021-01-20T00:00:00\", \"Cases\": \"Deceased\", \"Count\": 152}, {\"Date\": \"2021-01-21T00:00:00\", \"Cases\": \"Deceased\", \"Count\": 161}, {\"Date\": \"2021-01-22T00:00:00\", \"Cases\": \"Deceased\", \"Count\": 153}, {\"Date\": \"2021-01-23T00:00:00\", \"Cases\": \"Deceased\", \"Count\": 156}, {\"Date\": \"2021-01-24T00:00:00\", \"Cases\": \"Deceased\", \"Count\": 131}, {\"Date\": \"2021-01-25T00:00:00\", \"Cases\": \"Deceased\", \"Count\": 116}, {\"Date\": \"2021-01-26T00:00:00\", \"Cases\": \"Deceased\", \"Count\": 138}, {\"Date\": \"2021-01-27T00:00:00\", \"Cases\": \"Deceased\", \"Count\": 123}, {\"Date\": \"2021-01-28T00:00:00\", \"Cases\": \"Deceased\", \"Count\": 162}, {\"Date\": \"2021-01-29T00:00:00\", \"Cases\": \"Deceased\", \"Count\": 137}, {\"Date\": \"2021-01-30T00:00:00\", \"Cases\": \"Deceased\", \"Count\": 128}, {\"Date\": \"2021-01-31T00:00:00\", \"Cases\": \"Deceased\", \"Count\": 116}, {\"Date\": \"2021-02-01T00:00:00\", \"Cases\": \"Deceased\", \"Count\": 94}, {\"Date\": \"2021-02-02T00:00:00\", \"Cases\": \"Deceased\", \"Count\": 113}, {\"Date\": \"2021-02-03T00:00:00\", \"Cases\": \"Deceased\", \"Count\": 107}, {\"Date\": \"2021-02-04T00:00:00\", \"Cases\": \"Deceased\", \"Count\": 120}, {\"Date\": \"2021-02-05T00:00:00\", \"Cases\": \"Deceased\", \"Count\": 95}, {\"Date\": \"2021-02-06T00:00:00\", \"Cases\": \"Deceased\", \"Count\": 75}, {\"Date\": \"2021-02-07T00:00:00\", \"Cases\": \"Deceased\", \"Count\": 86}, {\"Date\": \"2021-02-08T00:00:00\", \"Cases\": \"Deceased\", \"Count\": 78}, {\"Date\": \"2021-02-09T00:00:00\", \"Cases\": \"Deceased\", \"Count\": 94}, {\"Date\": \"2021-02-10T00:00:00\", \"Cases\": \"Deceased\", \"Count\": 110}, {\"Date\": \"2021-02-11T00:00:00\", \"Cases\": \"Deceased\", \"Count\": 85}, {\"Date\": \"2021-02-12T00:00:00\", \"Cases\": \"Deceased\", \"Count\": 104}, {\"Date\": \"2021-02-13T00:00:00\", \"Cases\": \"Deceased\", \"Count\": 89}, {\"Date\": \"2021-02-14T00:00:00\", \"Cases\": \"Deceased\", \"Count\": 91}, {\"Date\": \"2021-02-15T00:00:00\", \"Cases\": \"Deceased\", \"Count\": 82}, {\"Date\": \"2021-02-16T00:00:00\", \"Cases\": \"Deceased\", \"Count\": 99}, {\"Date\": \"2021-02-17T00:00:00\", \"Cases\": \"Deceased\", \"Count\": 100}, {\"Date\": \"2021-02-18T00:00:00\", \"Cases\": \"Deceased\", \"Count\": 100}, {\"Date\": \"2021-02-19T00:00:00\", \"Cases\": \"Deceased\", \"Count\": 100}, {\"Date\": \"2021-02-20T00:00:00\", \"Cases\": \"Deceased\", \"Count\": 89}, {\"Date\": \"2021-02-21T00:00:00\", \"Cases\": \"Deceased\", \"Count\": 83}, {\"Date\": \"2021-02-22T00:00:00\", \"Cases\": \"Deceased\", \"Count\": 76}, {\"Date\": \"2021-02-23T00:00:00\", \"Cases\": \"Deceased\", \"Count\": 103}, {\"Date\": \"2021-02-24T00:00:00\", \"Cases\": \"Deceased\", \"Count\": 141}, {\"Date\": \"2021-02-25T00:00:00\", \"Cases\": \"Deceased\", \"Count\": 119}, {\"Date\": \"2021-02-26T00:00:00\", \"Cases\": \"Deceased\", \"Count\": 114}, {\"Date\": \"2021-02-27T00:00:00\", \"Cases\": \"Deceased\", \"Count\": 111}, {\"Date\": \"2021-02-28T00:00:00\", \"Cases\": \"Deceased\", \"Count\": 108}, {\"Date\": \"2021-03-01T00:00:00\", \"Cases\": \"Deceased\", \"Count\": 92}, {\"Date\": \"2021-03-02T00:00:00\", \"Cases\": \"Deceased\", \"Count\": 98}, {\"Date\": \"2021-03-03T00:00:00\", \"Cases\": \"Deceased\", \"Count\": 87}, {\"Date\": \"2021-03-04T00:00:00\", \"Cases\": \"Deceased\", \"Count\": 113}, {\"Date\": \"2021-03-05T00:00:00\", \"Cases\": \"Deceased\", \"Count\": 109}, {\"Date\": \"2021-03-06T00:00:00\", \"Cases\": \"Deceased\", \"Count\": 100}, {\"Date\": \"2021-03-07T00:00:00\", \"Cases\": \"Deceased\", \"Count\": 97}, {\"Date\": \"2021-03-08T00:00:00\", \"Cases\": \"Deceased\", \"Count\": 76}, {\"Date\": \"2021-03-09T00:00:00\", \"Cases\": \"Deceased\", \"Count\": 133}, {\"Date\": \"2021-03-10T00:00:00\", \"Cases\": \"Deceased\", \"Count\": 125}, {\"Date\": \"2021-03-11T00:00:00\", \"Cases\": \"Deceased\", \"Count\": 119}, {\"Date\": \"2021-03-12T00:00:00\", \"Cases\": \"Deceased\", \"Count\": 140}, {\"Date\": \"2021-03-13T00:00:00\", \"Cases\": \"Deceased\", \"Count\": 159}, {\"Date\": \"2021-03-14T00:00:00\", \"Cases\": \"Deceased\", \"Count\": 120}, {\"Date\": \"2021-03-15T00:00:00\", \"Cases\": \"Deceased\", \"Count\": 130}, {\"Date\": \"2021-03-16T00:00:00\", \"Cases\": \"Deceased\", \"Count\": 187}, {\"Date\": \"2021-03-17T00:00:00\", \"Cases\": \"Deceased\", \"Count\": 171}, {\"Date\": \"2021-03-18T00:00:00\", \"Cases\": \"Deceased\", \"Count\": 156}, {\"Date\": \"2021-03-19T00:00:00\", \"Cases\": \"Deceased\", \"Count\": 188}, {\"Date\": \"2021-03-20T00:00:00\", \"Cases\": \"Deceased\", \"Count\": 196}, {\"Date\": \"2021-03-21T00:00:00\", \"Cases\": \"Deceased\", \"Count\": 213}, {\"Date\": \"2021-03-22T00:00:00\", \"Cases\": \"Deceased\", \"Count\": 197}, {\"Date\": \"2021-03-23T00:00:00\", \"Cases\": \"Deceased\", \"Count\": 277}, {\"Date\": \"2021-03-24T00:00:00\", \"Cases\": \"Deceased\", \"Count\": 249}, {\"Date\": \"2021-03-25T00:00:00\", \"Cases\": \"Deceased\", \"Count\": 257}, {\"Date\": \"2021-03-26T00:00:00\", \"Cases\": \"Deceased\", \"Count\": 292}, {\"Date\": \"2021-03-27T00:00:00\", \"Cases\": \"Deceased\", \"Count\": 311}, {\"Date\": \"2021-03-28T00:00:00\", \"Cases\": \"Deceased\", \"Count\": 295}, {\"Date\": \"2021-03-29T00:00:00\", \"Cases\": \"Deceased\", \"Count\": 266}, {\"Date\": \"2021-03-30T00:00:00\", \"Cases\": \"Deceased\", \"Count\": 355}, {\"Date\": \"2021-03-31T00:00:00\", \"Cases\": \"Deceased\", \"Count\": 458}, {\"Date\": \"2021-04-01T00:00:00\", \"Cases\": \"Deceased\", \"Count\": 468}, {\"Date\": \"2021-04-02T00:00:00\", \"Cases\": \"Deceased\", \"Count\": 713}, {\"Date\": \"2021-04-03T00:00:00\", \"Cases\": \"Deceased\", \"Count\": 514}, {\"Date\": \"2021-04-04T00:00:00\", \"Cases\": \"Deceased\", \"Count\": 477}, {\"Date\": \"2021-04-05T00:00:00\", \"Cases\": \"Deceased\", \"Count\": 446}, {\"Date\": \"2021-04-06T00:00:00\", \"Cases\": \"Deceased\", \"Count\": 630}, {\"Date\": \"2021-04-07T00:00:00\", \"Cases\": \"Deceased\", \"Count\": 684}, {\"Date\": \"2021-04-08T00:00:00\", \"Cases\": \"Deceased\", \"Count\": 802}, {\"Date\": \"2021-04-09T00:00:00\", \"Cases\": \"Deceased\", \"Count\": 773}, {\"Date\": \"2021-04-10T00:00:00\", \"Cases\": \"Deceased\", \"Count\": 838}, {\"Date\": \"2021-04-11T00:00:00\", \"Cases\": \"Deceased\", \"Count\": 904}, {\"Date\": \"2021-04-12T00:00:00\", \"Cases\": \"Deceased\", \"Count\": 880}, {\"Date\": \"2021-04-13T00:00:00\", \"Cases\": \"Deceased\", \"Count\": 1026}, {\"Date\": \"2021-04-14T00:00:00\", \"Cases\": \"Deceased\", \"Count\": 1038}, {\"Date\": \"2021-04-15T00:00:00\", \"Cases\": \"Deceased\", \"Count\": 1184}, {\"Date\": \"2021-04-16T00:00:00\", \"Cases\": \"Deceased\", \"Count\": 1338}, {\"Date\": \"2021-04-17T00:00:00\", \"Cases\": \"Deceased\", \"Count\": 1498}, {\"Date\": \"2021-04-18T00:00:00\", \"Cases\": \"Deceased\", \"Count\": 1620}, {\"Date\": \"2021-04-19T00:00:00\", \"Cases\": \"Deceased\", \"Count\": 1757}, {\"Date\": \"2021-04-20T00:00:00\", \"Cases\": \"Deceased\", \"Count\": 2021}, {\"Date\": \"2021-04-21T00:00:00\", \"Cases\": \"Deceased\", \"Count\": 2101}, {\"Date\": \"2021-04-22T00:00:00\", \"Cases\": \"Deceased\", \"Count\": 2257}, {\"Date\": \"2021-04-23T00:00:00\", \"Cases\": \"Deceased\", \"Count\": 2620}, {\"Date\": \"2021-04-24T00:00:00\", \"Cases\": \"Deceased\", \"Count\": 2761}, {\"Date\": \"2021-04-25T00:00:00\", \"Cases\": \"Deceased\", \"Count\": 2808}, {\"Date\": \"2021-04-26T00:00:00\", \"Cases\": \"Deceased\", \"Count\": 2762}, {\"Date\": \"2021-04-27T00:00:00\", \"Cases\": \"Deceased\", \"Count\": 3286}, {\"Date\": \"2021-04-28T00:00:00\", \"Cases\": \"Deceased\", \"Count\": 3646}, {\"Date\": \"2021-04-29T00:00:00\", \"Cases\": \"Deceased\", \"Count\": 3502}, {\"Date\": \"2021-04-30T00:00:00\", \"Cases\": \"Deceased\", \"Count\": 3525}]}}, {\"mode\": \"vega-lite\"});\n",
       "</script>"
      ],
      "text/plain": [
       "alt.Chart(...)"
      ]
     },
     "execution_count": 10,
     "metadata": {},
     "output_type": "execute_result"
    }
   ],
   "source": [
    "hover = alt.selection_single(on='mouseover')\n",
    "scale = alt.Scale(domain=['Confirmed', 'Recovered', 'Deceased'],\n",
    "                  range=['#17c8cf', '#20c730', 'red'])\n",
    "alt.Chart(stack).mark_area().encode(\n",
    "alt.X('Date:T'),\n",
    "alt.Y('sum(Count):Q', stack='normalize'),\n",
    "color=alt.Color('Cases:N',scale = scale),\n",
    "opacity=alt.condition(hover, alt.value(0.8), alt.value(0.4))\n",
    ").properties(\n",
    "    width=800,\n",
    "    height=400,\n",
    "    selection=hover\n",
    ").configure(background='black').configure_legend(\n",
    "  orient='bottom'\n",
    ")"
   ]
  },
  {
   "cell_type": "markdown",
   "id": "978c7dbe",
   "metadata": {},
   "source": [
    "### Choropleth map"
   ]
  },
  {
   "cell_type": "code",
   "execution_count": 11,
   "id": "c14956af",
   "metadata": {},
   "outputs": [],
   "source": [
    "#head\n",
    "latest_df = latest_df[['State','Confirmed','Recovered','Deaths','Active']]\n",
    "\n",
    "latest_df.set_index('State',inplace=True)\n",
    "latest_df.drop('Total', inplace=True)\n",
    "\n",
    "state_list = latest_df.index.tolist()\n",
    "idx = state_list.index('Jammu and Kashmir')\n",
    "state_list[idx] = 'Jammu & Kashmir'\n",
    "latest_df.index = state_list\n",
    "\n",
    "latest_df.reset_index(inplace=True)\n",
    "\n",
    "latest_df.rename({'index':'State'},axis=1,inplace=True)\n",
    "\n",
    "latest_df['Recovery_rate'] = latest_df['Recovered']/latest_df['Confirmed']\n",
    "latest_df['Death_rate'] = latest_df['Deaths']/latest_df['Confirmed']"
   ]
  },
  {
   "cell_type": "code",
   "execution_count": 12,
   "id": "85b038db",
   "metadata": {},
   "outputs": [
    {
     "data": {
      "text/html": [
       "<div>\n",
       "<style scoped>\n",
       "    .dataframe tbody tr th:only-of-type {\n",
       "        vertical-align: middle;\n",
       "    }\n",
       "\n",
       "    .dataframe tbody tr th {\n",
       "        vertical-align: top;\n",
       "    }\n",
       "\n",
       "    .dataframe thead th {\n",
       "        text-align: right;\n",
       "    }\n",
       "</style>\n",
       "<table border=\"1\" class=\"dataframe\">\n",
       "  <thead>\n",
       "    <tr style=\"text-align: right;\">\n",
       "      <th></th>\n",
       "      <th>State</th>\n",
       "      <th>Confirmed</th>\n",
       "      <th>Recovered</th>\n",
       "      <th>Deaths</th>\n",
       "      <th>Active</th>\n",
       "      <th>Recovery_rate</th>\n",
       "      <th>Death_rate</th>\n",
       "    </tr>\n",
       "  </thead>\n",
       "  <tbody>\n",
       "    <tr>\n",
       "      <th>0</th>\n",
       "      <td>Maharashtra</td>\n",
       "      <td>4665754</td>\n",
       "      <td>3930302</td>\n",
       "      <td>69615</td>\n",
       "      <td>663758</td>\n",
       "      <td>0.842372</td>\n",
       "      <td>0.014920</td>\n",
       "    </tr>\n",
       "    <tr>\n",
       "      <th>1</th>\n",
       "      <td>Kerala</td>\n",
       "      <td>1606820</td>\n",
       "      <td>1277294</td>\n",
       "      <td>5357</td>\n",
       "      <td>323827</td>\n",
       "      <td>0.794920</td>\n",
       "      <td>0.003334</td>\n",
       "    </tr>\n",
       "    <tr>\n",
       "      <th>2</th>\n",
       "      <td>Karnataka</td>\n",
       "      <td>1564132</td>\n",
       "      <td>1143250</td>\n",
       "      <td>15794</td>\n",
       "      <td>405068</td>\n",
       "      <td>0.730917</td>\n",
       "      <td>0.010098</td>\n",
       "    </tr>\n",
       "    <tr>\n",
       "      <th>3</th>\n",
       "      <td>Andhra Pradesh</td>\n",
       "      <td>1121102</td>\n",
       "      <td>982297</td>\n",
       "      <td>8053</td>\n",
       "      <td>130752</td>\n",
       "      <td>0.876189</td>\n",
       "      <td>0.007183</td>\n",
       "    </tr>\n",
       "    <tr>\n",
       "      <th>4</th>\n",
       "      <td>Tamil Nadu</td>\n",
       "      <td>1186344</td>\n",
       "      <td>1054746</td>\n",
       "      <td>14193</td>\n",
       "      <td>117405</td>\n",
       "      <td>0.889073</td>\n",
       "      <td>0.011964</td>\n",
       "    </tr>\n",
       "  </tbody>\n",
       "</table>\n",
       "</div>"
      ],
      "text/plain": [
       "            State  Confirmed  Recovered  Deaths  Active  Recovery_rate  \\\n",
       "0     Maharashtra    4665754    3930302   69615  663758       0.842372   \n",
       "1          Kerala    1606820    1277294    5357  323827       0.794920   \n",
       "2       Karnataka    1564132    1143250   15794  405068       0.730917   \n",
       "3  Andhra Pradesh    1121102     982297    8053  130752       0.876189   \n",
       "4      Tamil Nadu    1186344    1054746   14193  117405       0.889073   \n",
       "\n",
       "   Death_rate  \n",
       "0    0.014920  \n",
       "1    0.003334  \n",
       "2    0.010098  \n",
       "3    0.007183  \n",
       "4    0.011964  "
      ]
     },
     "execution_count": 12,
     "metadata": {},
     "output_type": "execute_result"
    }
   ],
   "source": [
    "latest_df.head()"
   ]
  },
  {
   "cell_type": "markdown",
   "id": "d0280344",
   "metadata": {},
   "source": [
    "I have used shapaefile of India map to create the outline and map the data, you can also use GeoJSON data file by convering it to a Geopandas dataframe in order to join on the covid data.\n",
    "Geopandas dataframes function exactly like standard Pandas dataframe, except they have additional functionality for geographic geometry like points and polygons."
   ]
  },
  {
   "cell_type": "code",
   "execution_count": 13,
   "id": "ee30680b",
   "metadata": {},
   "outputs": [],
   "source": [
    "import geopandas as gpd\n",
    "import json"
   ]
  },
  {
   "cell_type": "code",
   "execution_count": 14,
   "id": "dd2ddf87",
   "metadata": {},
   "outputs": [],
   "source": [
    "gdf = gpd.read_file('Admin2.shp')\n",
    "\n",
    "gdf = gdf.merge(latest_df,left_on='ST_NM', right_on='State', how='left')"
   ]
  },
  {
   "cell_type": "code",
   "execution_count": 15,
   "id": "0106aa52",
   "metadata": {},
   "outputs": [
    {
     "data": {
      "text/html": [
       "<div>\n",
       "<style scoped>\n",
       "    .dataframe tbody tr th:only-of-type {\n",
       "        vertical-align: middle;\n",
       "    }\n",
       "\n",
       "    .dataframe tbody tr th {\n",
       "        vertical-align: top;\n",
       "    }\n",
       "\n",
       "    .dataframe thead th {\n",
       "        text-align: right;\n",
       "    }\n",
       "</style>\n",
       "<table border=\"1\" class=\"dataframe\">\n",
       "  <thead>\n",
       "    <tr style=\"text-align: right;\">\n",
       "      <th></th>\n",
       "      <th>ST_NM</th>\n",
       "      <th>geometry</th>\n",
       "      <th>State</th>\n",
       "      <th>Confirmed</th>\n",
       "      <th>Recovered</th>\n",
       "      <th>Deaths</th>\n",
       "      <th>Active</th>\n",
       "      <th>Recovery_rate</th>\n",
       "      <th>Death_rate</th>\n",
       "    </tr>\n",
       "  </thead>\n",
       "  <tbody>\n",
       "    <tr>\n",
       "      <th>0</th>\n",
       "      <td>Arunachal Pradesh</td>\n",
       "      <td>POLYGON ((96.08866 29.45997, 96.09428 29.45477...</td>\n",
       "      <td>Arunachal Pradesh</td>\n",
       "      <td>18637.0</td>\n",
       "      <td>17190.0</td>\n",
       "      <td>59.0</td>\n",
       "      <td>1388.0</td>\n",
       "      <td>0.922359</td>\n",
       "      <td>0.003166</td>\n",
       "    </tr>\n",
       "    <tr>\n",
       "      <th>1</th>\n",
       "      <td>Assam</td>\n",
       "      <td>POLYGON ((95.97166 27.96254, 95.97174 27.96227...</td>\n",
       "      <td>Assam</td>\n",
       "      <td>256576.0</td>\n",
       "      <td>228872.0</td>\n",
       "      <td>1330.0</td>\n",
       "      <td>25027.0</td>\n",
       "      <td>0.892024</td>\n",
       "      <td>0.005184</td>\n",
       "    </tr>\n",
       "    <tr>\n",
       "      <th>2</th>\n",
       "      <td>Chandigarh</td>\n",
       "      <td>POLYGON ((76.77175 30.79498, 76.77231 30.79420...</td>\n",
       "      <td>Chandigarh</td>\n",
       "      <td>43446.0</td>\n",
       "      <td>35735.0</td>\n",
       "      <td>489.0</td>\n",
       "      <td>7222.0</td>\n",
       "      <td>0.822515</td>\n",
       "      <td>0.011255</td>\n",
       "    </tr>\n",
       "    <tr>\n",
       "      <th>3</th>\n",
       "      <td>Karnataka</td>\n",
       "      <td>POLYGON ((77.32647 18.45884, 77.32648 18.45803...</td>\n",
       "      <td>Karnataka</td>\n",
       "      <td>1564132.0</td>\n",
       "      <td>1143250.0</td>\n",
       "      <td>15794.0</td>\n",
       "      <td>405068.0</td>\n",
       "      <td>0.730917</td>\n",
       "      <td>0.010098</td>\n",
       "    </tr>\n",
       "    <tr>\n",
       "      <th>4</th>\n",
       "      <td>Manipur</td>\n",
       "      <td>POLYGON ((94.57315 25.69156, 94.57522 25.69094...</td>\n",
       "      <td>Manipur</td>\n",
       "      <td>31905.0</td>\n",
       "      <td>29843.0</td>\n",
       "      <td>410.0</td>\n",
       "      <td>1652.0</td>\n",
       "      <td>0.935371</td>\n",
       "      <td>0.012851</td>\n",
       "    </tr>\n",
       "  </tbody>\n",
       "</table>\n",
       "</div>"
      ],
      "text/plain": [
       "               ST_NM                                           geometry  \\\n",
       "0  Arunachal Pradesh  POLYGON ((96.08866 29.45997, 96.09428 29.45477...   \n",
       "1              Assam  POLYGON ((95.97166 27.96254, 95.97174 27.96227...   \n",
       "2         Chandigarh  POLYGON ((76.77175 30.79498, 76.77231 30.79420...   \n",
       "3          Karnataka  POLYGON ((77.32647 18.45884, 77.32648 18.45803...   \n",
       "4            Manipur  POLYGON ((94.57315 25.69156, 94.57522 25.69094...   \n",
       "\n",
       "               State  Confirmed  Recovered   Deaths    Active  Recovery_rate  \\\n",
       "0  Arunachal Pradesh    18637.0    17190.0     59.0    1388.0       0.922359   \n",
       "1              Assam   256576.0   228872.0   1330.0   25027.0       0.892024   \n",
       "2         Chandigarh    43446.0    35735.0    489.0    7222.0       0.822515   \n",
       "3          Karnataka  1564132.0  1143250.0  15794.0  405068.0       0.730917   \n",
       "4            Manipur    31905.0    29843.0    410.0    1652.0       0.935371   \n",
       "\n",
       "   Death_rate  \n",
       "0    0.003166  \n",
       "1    0.005184  \n",
       "2    0.011255  \n",
       "3    0.010098  \n",
       "4    0.012851  "
      ]
     },
     "execution_count": 15,
     "metadata": {},
     "output_type": "execute_result"
    }
   ],
   "source": [
    "gdf.head()"
   ]
  },
  {
   "cell_type": "markdown",
   "id": "71070047",
   "metadata": {},
   "source": [
    "Now we convert Geopandas dataframe back to a GeoJSON as Altair requires a JSON to render the features on the map."
   ]
  },
  {
   "cell_type": "code",
   "execution_count": 16,
   "id": "4ae0786c",
   "metadata": {},
   "outputs": [],
   "source": [
    "choro_json = json.loads(gdf.to_json())\n",
    "choro_data = alt.Data(values = choro_json['features'])"
   ]
  },
  {
   "cell_type": "markdown",
   "id": "5ccbf170",
   "metadata": {},
   "source": [
    "Having all the data we need, we can create a `gen_map` function to add the two layers to our map:\n",
    "- Base\n",
    "- Choropeth\n",
    "\n",
    "In the tooltip attribute you might notice the data types are explicitly defined as quantitative ':Q\" and nominal \":N\". This is necessary because we're passing a JSON and not a dataframe into Altair `Chart`, so the data types are not communicated to Altair."
   ]
  },
  {
   "cell_type": "code",
   "execution_count": 17,
   "id": "2385caeb",
   "metadata": {},
   "outputs": [],
   "source": [
    "def gen_map(geodata, color_column, title, tooltip, color_scheme ,scheme_title):\n",
    "    base = alt.Chart(geodata, title = title).mark_geoshape(stroke='black',strokeWidth=1).encode().properties(width=685,height=800)\n",
    "    choro = alt.Chart(geodata).mark_geoshape(stroke='white').encode(alt.Color(color_column, type='quantitative',scale=alt.Scale(scheme=color_scheme),title=scheme_title), tooltip=tooltip)\n",
    "    return base+choro"
   ]
  },
  {
   "cell_type": "code",
   "execution_count": null,
   "id": "dfe4c66b",
   "metadata": {},
   "outputs": [],
   "source": [
    "gen_map(geodata=choro_data, color_column='properties.Active',\n",
    "                    title = \"Covid-19 cases\",\n",
    "                    tooltip=['properties.ST_NM:N','properties.Active:Q'],\n",
    "                    color_scheme='lighttealblue',scheme_title='Active cases'\n",
    "                   ).configure(background='black')"
   ]
  },
  {
   "cell_type": "markdown",
   "id": "a019229d",
   "metadata": {},
   "source": [
    "![](ghtop_images/choro_map_altair.gif)"
   ]
  },
  {
   "cell_type": "code",
   "execution_count": 19,
   "id": "eb4313cf",
   "metadata": {},
   "outputs": [
    {
     "name": "stderr",
     "output_type": "stream",
     "text": [
      "C:\\ProgramData\\Anaconda3\\lib\\site-packages\\pandas\\core\\indexing.py:1676: SettingWithCopyWarning: \n",
      "A value is trying to be set on a copy of a slice from a DataFrame.\n",
      "Try using .loc[row_indexer,col_indexer] = value instead\n",
      "\n",
      "See the caveats in the documentation: https://pandas.pydata.org/pandas-docs/stable/user_guide/indexing.html#returning-a-view-versus-a-copy\n",
      "  self._setitem_single_column(ilocs[0], value, pi)\n"
     ]
    }
   ],
   "source": [
    "#hide\n",
    "country_vaccine_df = vaccine_df[vaccine_df['State']=='India']\n",
    "country_vaccine_df.iloc[:,0] = pd.to_datetime(country_vaccine_df.iloc[:,0], format=\"%d/%m/%Y\")\n",
    "# country_vaccine_df['Updated On'] = pd.to_datetime(country_vaccine_df['Updated On'])\n",
    "\n",
    "# country_vaccine_df.head()\n",
    "\n",
    "india_vaccine_df = country_vaccine_df[country_vaccine_df['State'] == 'India']\n",
    "\n",
    "dose_df = india_vaccine_df[['Updated On', 'First Dose Administered', 'Second Dose Administered']]\n",
    "\n",
    "dose_df = pd.melt(dose_df, id_vars = 'Updated On', var_name = 'Dose')"
   ]
  },
  {
   "cell_type": "markdown",
   "id": "804a0c0e",
   "metadata": {},
   "source": [
    "### Area Chart"
   ]
  },
  {
   "cell_type": "code",
   "execution_count": 20,
   "id": "80f86516",
   "metadata": {},
   "outputs": [
    {
     "data": {
      "text/html": [
       "<div>\n",
       "<style scoped>\n",
       "    .dataframe tbody tr th:only-of-type {\n",
       "        vertical-align: middle;\n",
       "    }\n",
       "\n",
       "    .dataframe tbody tr th {\n",
       "        vertical-align: top;\n",
       "    }\n",
       "\n",
       "    .dataframe thead th {\n",
       "        text-align: right;\n",
       "    }\n",
       "</style>\n",
       "<table border=\"1\" class=\"dataframe\">\n",
       "  <thead>\n",
       "    <tr style=\"text-align: right;\">\n",
       "      <th></th>\n",
       "      <th>Updated On</th>\n",
       "      <th>Dose</th>\n",
       "      <th>value</th>\n",
       "    </tr>\n",
       "  </thead>\n",
       "  <tbody>\n",
       "    <tr>\n",
       "      <th>0</th>\n",
       "      <td>2021-01-16</td>\n",
       "      <td>First Dose Administered</td>\n",
       "      <td>48276.0</td>\n",
       "    </tr>\n",
       "    <tr>\n",
       "      <th>1</th>\n",
       "      <td>2021-01-17</td>\n",
       "      <td>First Dose Administered</td>\n",
       "      <td>58604.0</td>\n",
       "    </tr>\n",
       "    <tr>\n",
       "      <th>2</th>\n",
       "      <td>2021-01-18</td>\n",
       "      <td>First Dose Administered</td>\n",
       "      <td>99449.0</td>\n",
       "    </tr>\n",
       "    <tr>\n",
       "      <th>3</th>\n",
       "      <td>2021-01-19</td>\n",
       "      <td>First Dose Administered</td>\n",
       "      <td>195525.0</td>\n",
       "    </tr>\n",
       "    <tr>\n",
       "      <th>4</th>\n",
       "      <td>2021-01-20</td>\n",
       "      <td>First Dose Administered</td>\n",
       "      <td>251280.0</td>\n",
       "    </tr>\n",
       "  </tbody>\n",
       "</table>\n",
       "</div>"
      ],
      "text/plain": [
       "  Updated On                     Dose     value\n",
       "0 2021-01-16  First Dose Administered   48276.0\n",
       "1 2021-01-17  First Dose Administered   58604.0\n",
       "2 2021-01-18  First Dose Administered   99449.0\n",
       "3 2021-01-19  First Dose Administered  195525.0\n",
       "4 2021-01-20  First Dose Administered  251280.0"
      ]
     },
     "execution_count": 20,
     "metadata": {},
     "output_type": "execute_result"
    }
   ],
   "source": [
    "dose_df.head()"
   ]
  },
  {
   "cell_type": "code",
   "execution_count": 21,
   "id": "b715c5a3",
   "metadata": {},
   "outputs": [
    {
     "data": {
      "text/html": [
       "\n",
       "<div id=\"altair-viz-60aba7b19cfb4cd287336ecb3fbad1b0\"></div>\n",
       "<script type=\"text/javascript\">\n",
       "  (function(spec, embedOpt){\n",
       "    let outputDiv = document.currentScript.previousElementSibling;\n",
       "    if (outputDiv.id !== \"altair-viz-60aba7b19cfb4cd287336ecb3fbad1b0\") {\n",
       "      outputDiv = document.getElementById(\"altair-viz-60aba7b19cfb4cd287336ecb3fbad1b0\");\n",
       "    }\n",
       "    const paths = {\n",
       "      \"vega\": \"https://cdn.jsdelivr.net/npm//vega@5?noext\",\n",
       "      \"vega-lib\": \"https://cdn.jsdelivr.net/npm//vega-lib?noext\",\n",
       "      \"vega-lite\": \"https://cdn.jsdelivr.net/npm//vega-lite@4.8.1?noext\",\n",
       "      \"vega-embed\": \"https://cdn.jsdelivr.net/npm//vega-embed@6?noext\",\n",
       "    };\n",
       "\n",
       "    function loadScript(lib) {\n",
       "      return new Promise(function(resolve, reject) {\n",
       "        var s = document.createElement('script');\n",
       "        s.src = paths[lib];\n",
       "        s.async = true;\n",
       "        s.onload = () => resolve(paths[lib]);\n",
       "        s.onerror = () => reject(`Error loading script: ${paths[lib]}`);\n",
       "        document.getElementsByTagName(\"head\")[0].appendChild(s);\n",
       "      });\n",
       "    }\n",
       "\n",
       "    function showError(err) {\n",
       "      outputDiv.innerHTML = `<div class=\"error\" style=\"color:red;\">${err}</div>`;\n",
       "      throw err;\n",
       "    }\n",
       "\n",
       "    function displayChart(vegaEmbed) {\n",
       "      vegaEmbed(outputDiv, spec, embedOpt)\n",
       "        .catch(err => showError(`Javascript Error: ${err.message}<br>This usually means there's a typo in your chart specification. See the javascript console for the full traceback.`));\n",
       "    }\n",
       "\n",
       "    if(typeof define === \"function\" && define.amd) {\n",
       "      requirejs.config({paths});\n",
       "      require([\"vega-embed\"], displayChart, err => showError(`Error loading script: ${err.message}`));\n",
       "    } else if (typeof vegaEmbed === \"function\") {\n",
       "      displayChart(vegaEmbed);\n",
       "    } else {\n",
       "      loadScript(\"vega\")\n",
       "        .then(() => loadScript(\"vega-lite\"))\n",
       "        .then(() => loadScript(\"vega-embed\"))\n",
       "        .catch(showError)\n",
       "        .then(() => displayChart(vegaEmbed));\n",
       "    }\n",
       "  })({\"usermeta\": {\"embedOptions\": {\"theme\": \"dark\"}}, \"config\": {\"view\": {\"continuousWidth\": 400, \"continuousHeight\": 300}, \"background\": \"black\"}, \"data\": {\"name\": \"data-67b053e418ea73f1c25c5abcfc59315b\"}, \"mark\": \"area\", \"encoding\": {\"color\": {\"type\": \"nominal\", \"field\": \"Dose\", \"scale\": {\"scheme\": \"dark2\"}}, \"opacity\": {\"condition\": {\"value\": 1.0, \"selection\": \"selector006\"}, \"value\": 0.5}, \"x\": {\"type\": \"temporal\", \"field\": \"Updated On\"}, \"y\": {\"type\": \"quantitative\", \"aggregate\": \"sum\", \"axis\": {\"title\": \"vaccine dose\"}, \"field\": \"value\"}}, \"height\": 400, \"selection\": {\"selector006\": {\"type\": \"single\", \"on\": \"mouseover\"}}, \"width\": 600, \"$schema\": \"https://vega.github.io/schema/vega-lite/v4.8.1.json\", \"datasets\": {\"data-67b053e418ea73f1c25c5abcfc59315b\": [{\"Updated On\": \"2021-01-16T00:00:00\", \"Dose\": \"First Dose Administered\", \"value\": 48276.0}, {\"Updated On\": \"2021-01-17T00:00:00\", \"Dose\": \"First Dose Administered\", \"value\": 58604.0}, {\"Updated On\": \"2021-01-18T00:00:00\", \"Dose\": \"First Dose Administered\", \"value\": 99449.0}, {\"Updated On\": \"2021-01-19T00:00:00\", \"Dose\": \"First Dose Administered\", \"value\": 195525.0}, {\"Updated On\": \"2021-01-20T00:00:00\", \"Dose\": \"First Dose Administered\", \"value\": 251280.0}, {\"Updated On\": \"2021-01-21T00:00:00\", \"Dose\": \"First Dose Administered\", \"value\": 365965.0}, {\"Updated On\": \"2021-01-22T00:00:00\", \"Dose\": \"First Dose Administered\", \"value\": 549381.0}, {\"Updated On\": \"2021-01-23T00:00:00\", \"Dose\": \"First Dose Administered\", \"value\": 759008.0}, {\"Updated On\": \"2021-01-24T00:00:00\", \"Dose\": \"First Dose Administered\", \"value\": 835058.0}, {\"Updated On\": \"2021-01-25T00:00:00\", \"Dose\": \"First Dose Administered\", \"value\": 1277104.0}, {\"Updated On\": \"2021-01-26T00:00:00\", \"Dose\": \"First Dose Administered\", \"value\": 1293784.0}, {\"Updated On\": \"2021-01-27T00:00:00\", \"Dose\": \"First Dose Administered\", \"value\": 1726490.0}, {\"Updated On\": \"2021-01-28T00:00:00\", \"Dose\": \"First Dose Administered\", \"value\": 2295491.0}, {\"Updated On\": \"2021-01-29T00:00:00\", \"Dose\": \"First Dose Administered\", \"value\": 2814803.0}, {\"Updated On\": \"2021-01-30T00:00:00\", \"Dose\": \"First Dose Administered\", \"value\": 3067736.0}, {\"Updated On\": \"2021-01-31T00:00:00\", \"Dose\": \"First Dose Administered\", \"value\": 3127107.0}, {\"Updated On\": \"2021-02-01T00:00:00\", \"Dose\": \"First Dose Administered\", \"value\": 3350265.0}, {\"Updated On\": \"2021-02-02T00:00:00\", \"Dose\": \"First Dose Administered\", \"value\": 3527971.0}, {\"Updated On\": \"2021-02-03T00:00:00\", \"Dose\": \"First Dose Administered\", \"value\": 3825835.0}, {\"Updated On\": \"2021-02-04T00:00:00\", \"Dose\": \"First Dose Administered\", \"value\": 4314304.0}, {\"Updated On\": \"2021-02-05T00:00:00\", \"Dose\": \"First Dose Administered\", \"value\": 4765924.0}, {\"Updated On\": \"2021-02-06T00:00:00\", \"Dose\": \"First Dose Administered\", \"value\": 5111827.0}, {\"Updated On\": \"2021-02-07T00:00:00\", \"Dose\": \"First Dose Administered\", \"value\": 5168099.0}, {\"Updated On\": \"2021-02-08T00:00:00\", \"Dose\": \"First Dose Administered\", \"value\": 5615499.0}, {\"Updated On\": \"2021-02-09T00:00:00\", \"Dose\": \"First Dose Administered\", \"value\": 6002474.0}, {\"Updated On\": \"2021-02-10T00:00:00\", \"Dose\": \"First Dose Administered\", \"value\": 6462270.0}, {\"Updated On\": \"2021-02-11T00:00:00\", \"Dose\": \"First Dose Administered\", \"value\": 6958553.0}, {\"Updated On\": \"2021-02-12T00:00:00\", \"Dose\": \"First Dose Administered\", \"value\": 7423817.0}, {\"Updated On\": \"2021-02-13T00:00:00\", \"Dose\": \"First Dose Administered\", \"value\": 7687352.0}, {\"Updated On\": \"2021-02-14T00:00:00\", \"Dose\": \"First Dose Administered\", \"value\": 7710367.0}, {\"Updated On\": \"2021-02-15T00:00:00\", \"Dose\": \"First Dose Administered\", \"value\": 8111162.0}, {\"Updated On\": \"2021-02-16T00:00:00\", \"Dose\": \"First Dose Administered\", \"value\": 8337600.0}, {\"Updated On\": \"2021-02-17T00:00:00\", \"Dose\": \"First Dose Administered\", \"value\": 8704698.0}, {\"Updated On\": \"2021-02-18T00:00:00\", \"Dose\": \"First Dose Administered\", \"value\": 8862491.0}, {\"Updated On\": \"2021-02-19T00:00:00\", \"Dose\": \"First Dose Administered\", \"value\": 9523567.0}, {\"Updated On\": \"2021-02-20T00:00:00\", \"Dose\": \"First Dose Administered\", \"value\": 9734505.0}, {\"Updated On\": \"2021-02-21T00:00:00\", \"Dose\": \"First Dose Administered\", \"value\": 9757217.0}, {\"Updated On\": \"2021-02-22T00:00:00\", \"Dose\": \"First Dose Administered\", \"value\": 10069263.0}, {\"Updated On\": \"2021-02-23T00:00:00\", \"Dose\": \"First Dose Administered\", \"value\": 10288293.0}, {\"Updated On\": \"2021-02-24T00:00:00\", \"Dose\": \"First Dose Administered\", \"value\": 10517568.0}, {\"Updated On\": \"2021-02-25T00:00:00\", \"Dose\": \"First Dose Administered\", \"value\": 10846192.0}, {\"Updated On\": \"2021-02-26T00:00:00\", \"Dose\": \"First Dose Administered\", \"value\": 11141375.0}, {\"Updated On\": \"2021-02-27T00:00:00\", \"Dose\": \"First Dose Administered\", \"value\": 11141426.0}, {\"Updated On\": \"2021-02-28T00:00:00\", \"Dose\": \"First Dose Administered\", \"value\": 11141651.0}, {\"Updated On\": \"2021-03-01T00:00:00\", \"Dose\": \"First Dose Administered\", \"value\": 11141651.0}, {\"Updated On\": \"2021-03-02T00:00:00\", \"Dose\": \"First Dose Administered\", \"value\": 11886320.0}, {\"Updated On\": \"2021-03-03T00:00:00\", \"Dose\": \"First Dose Administered\", \"value\": 12553326.0}, {\"Updated On\": \"2021-03-04T00:00:00\", \"Dose\": \"First Dose Administered\", \"value\": 13393538.0}, {\"Updated On\": \"2021-03-05T00:00:00\", \"Dose\": \"First Dose Administered\", \"value\": 14415912.0}, {\"Updated On\": \"2021-03-06T00:00:00\", \"Dose\": \"First Dose Administered\", \"value\": 15438495.0}, {\"Updated On\": \"2021-03-07T00:00:00\", \"Dose\": \"First Dose Administered\", \"value\": 15541529.0}, {\"Updated On\": \"2021-03-08T00:00:00\", \"Dose\": \"First Dose Administered\", \"value\": 16976138.0}, {\"Updated On\": \"2021-03-09T00:00:00\", \"Dose\": \"First Dose Administered\", \"value\": 17984381.0}, {\"Updated On\": \"2021-03-10T00:00:00\", \"Dose\": \"First Dose Administered\", \"value\": 18944399.0}, {\"Updated On\": \"2021-03-11T00:00:00\", \"Dose\": \"First Dose Administered\", \"value\": 19213642.0}, {\"Updated On\": \"2021-03-12T00:00:00\", \"Dose\": \"First Dose Administered\", \"value\": 20727869.0}, {\"Updated On\": \"2021-03-13T00:00:00\", \"Dose\": \"First Dose Administered\", \"value\": 21883802.0}, {\"Updated On\": \"2021-03-14T00:00:00\", \"Dose\": \"First Dose Administered\", \"value\": 22029912.0}, {\"Updated On\": \"2021-03-15T00:00:00\", \"Dose\": \"First Dose Administered\", \"value\": 24049536.0}, {\"Updated On\": \"2021-03-16T00:00:00\", \"Dose\": \"First Dose Administered\", \"value\": 25684134.0}, {\"Updated On\": \"2021-03-17T00:00:00\", \"Dose\": \"First Dose Administered\", \"value\": 27299603.0}, {\"Updated On\": \"2021-03-18T00:00:00\", \"Dose\": \"First Dose Administered\", \"value\": 29093763.0}, {\"Updated On\": \"2021-03-19T00:00:00\", \"Dose\": \"First Dose Administered\", \"value\": 31109369.0}, {\"Updated On\": \"2021-03-20T00:00:00\", \"Dose\": \"First Dose Administered\", \"value\": 33244339.0}, {\"Updated On\": \"2021-03-21T00:00:00\", \"Dose\": \"First Dose Administered\", \"value\": 33954019.0}, {\"Updated On\": \"2021-03-22T00:00:00\", \"Dose\": \"First Dose Administered\", \"value\": 36082737.0}, {\"Updated On\": \"2021-03-23T00:00:00\", \"Dose\": \"First Dose Administered\", \"value\": 38442719.0}, {\"Updated On\": \"2021-03-24T00:00:00\", \"Dose\": \"First Dose Administered\", \"value\": 40414580.0}, {\"Updated On\": \"2021-03-25T00:00:00\", \"Dose\": \"First Dose Administered\", \"value\": 42415793.0}, {\"Updated On\": \"2021-03-26T00:00:00\", \"Dose\": \"First Dose Administered\", \"value\": 44551939.0}, {\"Updated On\": \"2021-03-27T00:00:00\", \"Dose\": \"First Dose Administered\", \"value\": 46506675.0}, {\"Updated On\": \"2021-03-28T00:00:00\", \"Dose\": \"First Dose Administered\", \"value\": 46803472.0}, {\"Updated On\": \"2021-03-29T00:00:00\", \"Dose\": \"First Dose Administered\", \"value\": 47318251.0}, {\"Updated On\": \"2021-03-30T00:00:00\", \"Dose\": \"First Dose Administered\", \"value\": 48810624.0}, {\"Updated On\": \"2021-03-31T00:00:00\", \"Dose\": \"First Dose Administered\", \"value\": 50448857.0}, {\"Updated On\": \"2021-04-01T00:00:00\", \"Dose\": \"First Dose Administered\", \"value\": 52637731.0}, {\"Updated On\": \"2021-04-02T00:00:00\", \"Dose\": \"First Dose Administered\", \"value\": 55674249.0}, {\"Updated On\": \"2021-04-03T00:00:00\", \"Dose\": \"First Dose Administered\", \"value\": 58219233.0}, {\"Updated On\": \"2021-04-04T00:00:00\", \"Dose\": \"First Dose Administered\", \"value\": 66838504.0}, {\"Updated On\": \"2021-04-05T00:00:00\", \"Dose\": \"First Dose Administered\", \"value\": 69620234.0}, {\"Updated On\": \"2021-04-06T00:00:00\", \"Dose\": \"First Dose Administered\", \"value\": 72035640.0}, {\"Updated On\": \"2021-04-07T00:00:00\", \"Dose\": \"First Dose Administered\", \"value\": 76671812.0}, {\"Updated On\": \"2021-04-08T00:00:00\", \"Dose\": \"First Dose Administered\", \"value\": 80998099.0}, {\"Updated On\": \"2021-04-09T00:00:00\", \"Dose\": \"First Dose Administered\", \"value\": 84296847.0}, {\"Updated On\": \"2021-04-10T00:00:00\", \"Dose\": \"First Dose Administered\", \"value\": 87411872.0}, {\"Updated On\": \"2021-04-11T00:00:00\", \"Dose\": \"First Dose Administered\", \"value\": 90111528.0}, {\"Updated On\": \"2021-04-12T00:00:00\", \"Dose\": \"First Dose Administered\", \"value\": 93559587.0}, {\"Updated On\": \"2021-04-13T00:00:00\", \"Dose\": \"First Dose Administered\", \"value\": 95823614.0}, {\"Updated On\": \"2021-04-14T00:00:00\", \"Dose\": \"First Dose Administered\", \"value\": 98703696.0}, {\"Updated On\": \"2021-04-15T00:00:00\", \"Dose\": \"First Dose Administered\", \"value\": 100853671.0}, {\"Updated On\": \"2021-04-16T00:00:00\", \"Dose\": \"First Dose Administered\", \"value\": 102927296.0}, {\"Updated On\": \"2021-04-17T00:00:00\", \"Dose\": \"First Dose Administered\", \"value\": 104950409.0}, {\"Updated On\": \"2021-04-18T00:00:00\", \"Dose\": \"First Dose Administered\", \"value\": 105896430.0}, {\"Updated On\": \"2021-04-19T00:00:00\", \"Dose\": \"First Dose Administered\", \"value\": 108178574.0}, {\"Updated On\": \"2021-04-20T00:00:00\", \"Dose\": \"First Dose Administered\", \"value\": 110165234.0}, {\"Updated On\": \"2021-04-21T00:00:00\", \"Dose\": \"First Dose Administered\", \"value\": 111673361.0}, {\"Updated On\": \"2021-04-22T00:00:00\", \"Dose\": \"First Dose Administered\", \"value\": 113584269.0}, {\"Updated On\": \"2021-04-23T00:00:00\", \"Dose\": \"First Dose Administered\", \"value\": 115461202.0}, {\"Updated On\": \"2021-04-24T00:00:00\", \"Dose\": \"First Dose Administered\", \"value\": 117105343.0}, {\"Updated On\": \"2021-04-25T00:00:00\", \"Dose\": \"First Dose Administered\", \"value\": 117795008.0}, {\"Updated On\": \"2021-04-26T00:00:00\", \"Dose\": \"First Dose Administered\", \"value\": 119886252.0}, {\"Updated On\": \"2021-04-27T00:00:00\", \"Dose\": \"First Dose Administered\", \"value\": 121263287.0}, {\"Updated On\": \"2021-04-28T00:00:00\", \"Dose\": \"First Dose Administered\", \"value\": 122538179.0}, {\"Updated On\": \"2021-04-29T00:00:00\", \"Dose\": \"First Dose Administered\", \"value\": 123811908.0}, {\"Updated On\": \"2021-04-30T00:00:00\", \"Dose\": \"First Dose Administered\", \"value\": 125376952.0}, {\"Updated On\": \"2021-01-16T00:00:00\", \"Dose\": \"Second Dose Administered\", \"value\": 0.0}, {\"Updated On\": \"2021-01-17T00:00:00\", \"Dose\": \"Second Dose Administered\", \"value\": 0.0}, {\"Updated On\": \"2021-01-18T00:00:00\", \"Dose\": \"Second Dose Administered\", \"value\": 0.0}, {\"Updated On\": \"2021-01-19T00:00:00\", \"Dose\": \"Second Dose Administered\", \"value\": 0.0}, {\"Updated On\": \"2021-01-20T00:00:00\", \"Dose\": \"Second Dose Administered\", \"value\": 0.0}, {\"Updated On\": \"2021-01-21T00:00:00\", \"Dose\": \"Second Dose Administered\", \"value\": 0.0}, {\"Updated On\": \"2021-01-22T00:00:00\", \"Dose\": \"Second Dose Administered\", \"value\": 0.0}, {\"Updated On\": \"2021-01-23T00:00:00\", \"Dose\": \"Second Dose Administered\", \"value\": 0.0}, {\"Updated On\": \"2021-01-24T00:00:00\", \"Dose\": \"Second Dose Administered\", \"value\": 0.0}, {\"Updated On\": \"2021-01-25T00:00:00\", \"Dose\": \"Second Dose Administered\", \"value\": 0.0}, {\"Updated On\": \"2021-01-26T00:00:00\", \"Dose\": \"Second Dose Administered\", \"value\": 0.0}, {\"Updated On\": \"2021-01-27T00:00:00\", \"Dose\": \"Second Dose Administered\", \"value\": 0.0}, {\"Updated On\": \"2021-01-28T00:00:00\", \"Dose\": \"Second Dose Administered\", \"value\": 0.0}, {\"Updated On\": \"2021-01-29T00:00:00\", \"Dose\": \"Second Dose Administered\", \"value\": 0.0}, {\"Updated On\": \"2021-01-30T00:00:00\", \"Dose\": \"Second Dose Administered\", \"value\": 0.0}, {\"Updated On\": \"2021-01-31T00:00:00\", \"Dose\": \"Second Dose Administered\", \"value\": 0.0}, {\"Updated On\": \"2021-02-01T00:00:00\", \"Dose\": \"Second Dose Administered\", \"value\": 0.0}, {\"Updated On\": \"2021-02-02T00:00:00\", \"Dose\": \"Second Dose Administered\", \"value\": 0.0}, {\"Updated On\": \"2021-02-03T00:00:00\", \"Dose\": \"Second Dose Administered\", \"value\": 0.0}, {\"Updated On\": \"2021-02-04T00:00:00\", \"Dose\": \"Second Dose Administered\", \"value\": 0.0}, {\"Updated On\": \"2021-02-05T00:00:00\", \"Dose\": \"Second Dose Administered\", \"value\": 0.0}, {\"Updated On\": \"2021-02-06T00:00:00\", \"Dose\": \"Second Dose Administered\", \"value\": 0.0}, {\"Updated On\": \"2021-02-07T00:00:00\", \"Dose\": \"Second Dose Administered\", \"value\": 0.0}, {\"Updated On\": \"2021-02-08T00:00:00\", \"Dose\": \"Second Dose Administered\", \"value\": 0.0}, {\"Updated On\": \"2021-02-09T00:00:00\", \"Dose\": \"Second Dose Administered\", \"value\": 0.0}, {\"Updated On\": \"2021-02-10T00:00:00\", \"Dose\": \"Second Dose Administered\", \"value\": 0.0}, {\"Updated On\": \"2021-02-11T00:00:00\", \"Dose\": \"Second Dose Administered\", \"value\": 0.0}, {\"Updated On\": \"2021-02-12T00:00:00\", \"Dose\": \"Second Dose Administered\", \"value\": 0.0}, {\"Updated On\": \"2021-02-13T00:00:00\", \"Dose\": \"Second Dose Administered\", \"value\": 20859.0}, {\"Updated On\": \"2021-02-14T00:00:00\", \"Dose\": \"Second Dose Administered\", \"value\": 21911.0}, {\"Updated On\": \"2021-02-15T00:00:00\", \"Dose\": \"Second Dose Administered\", \"value\": 142489.0}, {\"Updated On\": \"2021-02-16T00:00:00\", \"Dose\": \"Second Dose Administered\", \"value\": 239626.0}, {\"Updated On\": \"2021-02-17T00:00:00\", \"Dose\": \"Second Dose Administered\", \"value\": 318541.0}, {\"Updated On\": \"2021-02-18T00:00:00\", \"Dose\": \"Second Dose Administered\", \"value\": 475776.0}, {\"Updated On\": \"2021-02-19T00:00:00\", \"Dose\": \"Second Dose Administered\", \"value\": 717941.0}, {\"Updated On\": \"2021-02-20T00:00:00\", \"Dose\": \"Second Dose Administered\", \"value\": 884608.0}, {\"Updated On\": \"2021-02-21T00:00:00\", \"Dose\": \"Second Dose Administered\", \"value\": 893795.0}, {\"Updated On\": \"2021-02-22T00:00:00\", \"Dose\": \"Second Dose Administered\", \"value\": 1174416.0}, {\"Updated On\": \"2021-02-23T00:00:00\", \"Dose\": \"Second Dose Administered\", \"value\": 1309475.0}, {\"Updated On\": \"2021-02-24T00:00:00\", \"Dose\": \"Second Dose Administered\", \"value\": 1525390.0}, {\"Updated On\": \"2021-02-25T00:00:00\", \"Dose\": \"Second Dose Administered\", \"value\": 1972882.0}, {\"Updated On\": \"2021-02-26T00:00:00\", \"Dose\": \"Second Dose Administered\", \"value\": 2419557.0}, {\"Updated On\": \"2021-02-27T00:00:00\", \"Dose\": \"Second Dose Administered\", \"value\": 2419557.0}, {\"Updated On\": \"2021-02-28T00:00:00\", \"Dose\": \"Second Dose Administered\", \"value\": 2419557.0}, {\"Updated On\": \"2021-03-01T00:00:00\", \"Dose\": \"Second Dose Administered\", \"value\": 2419557.0}, {\"Updated On\": \"2021-03-02T00:00:00\", \"Dose\": \"Second Dose Administered\", \"value\": 2647634.0}, {\"Updated On\": \"2021-03-03T00:00:00\", \"Dose\": \"Second Dose Administered\", \"value\": 2830557.0}, {\"Updated On\": \"2021-03-04T00:00:00\", \"Dose\": \"Second Dose Administered\", \"value\": 3142165.0}, {\"Updated On\": \"2021-03-05T00:00:00\", \"Dose\": \"Second Dose Administered\", \"value\": 3455761.0}, {\"Updated On\": \"2021-03-06T00:00:00\", \"Dose\": \"Second Dose Administered\", \"value\": 3732333.0}, {\"Updated On\": \"2021-03-07T00:00:00\", \"Dose\": \"Second Dose Administered\", \"value\": 3747137.0}, {\"Updated On\": \"2021-03-08T00:00:00\", \"Dose\": \"Second Dose Administered\", \"value\": 4062362.0}, {\"Updated On\": \"2021-03-09T00:00:00\", \"Dose\": \"Second Dose Administered\", \"value\": 4372951.0}, {\"Updated On\": \"2021-03-10T00:00:00\", \"Dose\": \"Second Dose Administered\", \"value\": 4687288.0}, {\"Updated On\": \"2021-03-11T00:00:00\", \"Dose\": \"Second Dose Administered\", \"value\": 4749703.0}, {\"Updated On\": \"2021-03-12T00:00:00\", \"Dose\": \"Second Dose Administered\", \"value\": 5160291.0}, {\"Updated On\": \"2021-03-13T00:00:00\", \"Dose\": \"Second Dose Administered\", \"value\": 5461389.0}, {\"Updated On\": \"2021-03-14T00:00:00\", \"Dose\": \"Second Dose Administered\", \"value\": 5480732.0}, {\"Updated On\": \"2021-03-15T00:00:00\", \"Dose\": \"Second Dose Administered\", \"value\": 5852411.0}, {\"Updated On\": \"2021-03-16T00:00:00\", \"Dose\": \"Second Dose Administered\", \"value\": 6161333.0}, {\"Updated On\": \"2021-03-17T00:00:00\", \"Dose\": \"Second Dose Administered\", \"value\": 6484692.0}, {\"Updated On\": \"2021-03-18T00:00:00\", \"Dose\": \"Second Dose Administered\", \"value\": 6829737.0}, {\"Updated On\": \"2021-03-19T00:00:00\", \"Dose\": \"Second Dose Administered\", \"value\": 7080818.0}, {\"Updated On\": \"2021-03-20T00:00:00\", \"Dose\": \"Second Dose Administered\", \"value\": 7308863.0}, {\"Updated On\": \"2021-03-21T00:00:00\", \"Dose\": \"Second Dose Administered\", \"value\": 7341897.0}, {\"Updated On\": \"2021-03-22T00:00:00\", \"Dose\": \"Second Dose Administered\", \"value\": 7592002.0}, {\"Updated On\": \"2021-03-23T00:00:00\", \"Dose\": \"Second Dose Administered\", \"value\": 7824187.0}, {\"Updated On\": \"2021-03-24T00:00:00\", \"Dose\": \"Second Dose Administered\", \"value\": 7965930.0}, {\"Updated On\": \"2021-03-25T00:00:00\", \"Dose\": \"Second Dose Administered\", \"value\": 8134379.0}, {\"Updated On\": \"2021-03-26T00:00:00\", \"Dose\": \"Second Dose Administered\", \"value\": 8271738.0}, {\"Updated On\": \"2021-03-27T00:00:00\", \"Dose\": \"Second Dose Administered\", \"value\": 8370005.0}, {\"Updated On\": \"2021-03-28T00:00:00\", \"Dose\": \"Second Dose Administered\", \"value\": 8377403.0}, {\"Updated On\": \"2021-03-29T00:00:00\", \"Dose\": \"Second Dose Administered\", \"value\": 8408267.0}, {\"Updated On\": \"2021-03-30T00:00:00\", \"Dose\": \"Second Dose Administered\", \"value\": 8553238.0}, {\"Updated On\": \"2021-03-31T00:00:00\", \"Dose\": \"Second Dose Administered\", \"value\": 8727510.0}, {\"Updated On\": \"2021-04-01T00:00:00\", \"Dose\": \"Second Dose Administered\", \"value\": 8898263.0}, {\"Updated On\": \"2021-04-02T00:00:00\", \"Dose\": \"Second Dose Administered\", \"value\": 9105418.0}, {\"Updated On\": \"2021-04-03T00:00:00\", \"Dose\": \"Second Dose Administered\", \"value\": 9300230.0}, {\"Updated On\": \"2021-04-04T00:00:00\", \"Dose\": \"Second Dose Administered\", \"value\": 9567193.0}, {\"Updated On\": \"2021-04-05T00:00:00\", \"Dose\": \"Second Dose Administered\", \"value\": 9819655.0}, {\"Updated On\": \"2021-04-06T00:00:00\", \"Dose\": \"Second Dose Administered\", \"value\": 10029697.0}, {\"Updated On\": \"2021-04-07T00:00:00\", \"Dose\": \"Second Dose Administered\", \"value\": 10428815.0}, {\"Updated On\": \"2021-04-08T00:00:00\", \"Dose\": \"Second Dose Administered\", \"value\": 10883431.0}, {\"Updated On\": \"2021-04-09T00:00:00\", \"Dose\": \"Second Dose Administered\", \"value\": 11286572.0}, {\"Updated On\": \"2021-04-10T00:00:00\", \"Dose\": \"Second Dose Administered\", \"value\": 11657482.0}, {\"Updated On\": \"2021-04-11T00:00:00\", \"Dose\": \"Second Dose Administered\", \"value\": 11888873.0}, {\"Updated On\": \"2021-04-12T00:00:00\", \"Dose\": \"Second Dose Administered\", \"value\": 12410952.0}, {\"Updated On\": \"2021-04-13T00:00:00\", \"Dose\": \"Second Dose Administered\", \"value\": 12774675.0}, {\"Updated On\": \"2021-04-14T00:00:00\", \"Dose\": \"Second Dose Administered\", \"value\": 13209592.0}, {\"Updated On\": \"2021-04-15T00:00:00\", \"Dose\": \"Second Dose Administered\", \"value\": 13744355.0}, {\"Updated On\": \"2021-04-16T00:00:00\", \"Dose\": \"Second Dose Administered\", \"value\": 14378048.0}, {\"Updated On\": \"2021-04-17T00:00:00\", \"Dose\": \"Second Dose Administered\", \"value\": 15020960.0}, {\"Updated On\": \"2021-04-18T00:00:00\", \"Dose\": \"Second Dose Administered\", \"value\": 15310668.0}, {\"Updated On\": \"2021-04-19T00:00:00\", \"Dose\": \"Second Dose Administered\", \"value\": 16278588.0}, {\"Updated On\": \"2021-04-20T00:00:00\", \"Dose\": \"Second Dose Administered\", \"value\": 17263653.0}, {\"Updated On\": \"2021-04-21T00:00:00\", \"Dose\": \"Second Dose Administered\", \"value\": 17972744.0}, {\"Updated On\": \"2021-04-22T00:00:00\", \"Dose\": \"Second Dose Administered\", \"value\": 19170339.0}, {\"Updated On\": \"2021-04-23T00:00:00\", \"Dose\": \"Second Dose Administered\", \"value\": 20197122.0}, {\"Updated On\": \"2021-04-24T00:00:00\", \"Dose\": \"Second Dose Administered\", \"value\": 21080613.0}, {\"Updated On\": \"2021-04-25T00:00:00\", \"Dose\": \"Second Dose Administered\", \"value\": 21390165.0}, {\"Updated On\": \"2021-04-26T00:00:00\", \"Dose\": \"Second Dose Administered\", \"value\": 22638695.0}, {\"Updated On\": \"2021-04-27T00:00:00\", \"Dose\": \"Second Dose Administered\", \"value\": 23615946.0}, {\"Updated On\": \"2021-04-28T00:00:00\", \"Dose\": \"Second Dose Administered\", \"value\": 24515213.0}, {\"Updated On\": \"2021-04-29T00:00:00\", \"Dose\": \"Second Dose Administered\", \"value\": 25456864.0}, {\"Updated On\": \"2021-04-30T00:00:00\", \"Dose\": \"Second Dose Administered\", \"value\": 26621155.0}]}}, {\"mode\": \"vega-lite\"});\n",
       "</script>"
      ],
      "text/plain": [
       "alt.Chart(...)"
      ]
     },
     "execution_count": 21,
     "metadata": {},
     "output_type": "execute_result"
    }
   ],
   "source": [
    "hover = alt.selection_single(on='mouseover')\n",
    "\n",
    "alt.Chart(dose_df).mark_area().encode(\n",
    "alt.X('Updated On:T'),\n",
    "alt.Y('sum(value):Q', axis=alt.Axis(title='vaccine dose')),\n",
    "color=alt.Color('Dose:N',scale = alt.Scale(scheme='dark2')),\n",
    "    opacity=alt.condition(hover, alt.value(1.0), alt.value(0.5))\n",
    ").properties(\n",
    "    width=600,\n",
    "    height=400,\n",
    "    selection=hover\n",
    ").configure(background='black')"
   ]
  },
  {
   "cell_type": "code",
   "execution_count": 22,
   "id": "00bb4c76",
   "metadata": {},
   "outputs": [],
   "source": [
    "#head\n",
    "gender_vaccine_df = india_vaccine_df[['Male(Individuals Vaccinated)','Female(Individuals Vaccinated)', 'Transgender(Individuals Vaccinated)','Total Covaxin Administered','Total CoviShield Administered']]\n",
    "\n",
    "gender_vaccine_df.columns = ['Male','Female','Transgender','Covaxin','CoviShield']\n",
    "\n",
    "vaccine_total_df = gender_vaccine_df.sum(axis=0)\n",
    "\n",
    "vaccine_type_df= vaccine_total_df[['Covaxin','CoviShield']]\n",
    "\n",
    "vaccine_type_df =pd.DataFrame(vaccine_type_df)\n",
    "vaccine_type_df.reset_index(inplace=True)\n",
    "\n",
    "vaccine_type_df.columns = ['Vaccine','Doses']"
   ]
  },
  {
   "cell_type": "markdown",
   "id": "2a94e0fb",
   "metadata": {},
   "source": [
    "### Bart Chart"
   ]
  },
  {
   "cell_type": "code",
   "execution_count": 23,
   "id": "f593661b",
   "metadata": {},
   "outputs": [
    {
     "data": {
      "text/html": [
       "<div>\n",
       "<style scoped>\n",
       "    .dataframe tbody tr th:only-of-type {\n",
       "        vertical-align: middle;\n",
       "    }\n",
       "\n",
       "    .dataframe tbody tr th {\n",
       "        vertical-align: top;\n",
       "    }\n",
       "\n",
       "    .dataframe thead th {\n",
       "        text-align: right;\n",
       "    }\n",
       "</style>\n",
       "<table border=\"1\" class=\"dataframe\">\n",
       "  <thead>\n",
       "    <tr style=\"text-align: right;\">\n",
       "      <th></th>\n",
       "      <th>Vaccine</th>\n",
       "      <th>Doses</th>\n",
       "    </tr>\n",
       "  </thead>\n",
       "  <tbody>\n",
       "    <tr>\n",
       "      <th>0</th>\n",
       "      <td>Covaxin</td>\n",
       "      <td>3.976988e+08</td>\n",
       "    </tr>\n",
       "    <tr>\n",
       "      <th>1</th>\n",
       "      <td>CoviShield</td>\n",
       "      <td>4.058211e+09</td>\n",
       "    </tr>\n",
       "  </tbody>\n",
       "</table>\n",
       "</div>"
      ],
      "text/plain": [
       "      Vaccine         Doses\n",
       "0     Covaxin  3.976988e+08\n",
       "1  CoviShield  4.058211e+09"
      ]
     },
     "execution_count": 23,
     "metadata": {},
     "output_type": "execute_result"
    }
   ],
   "source": [
    "vaccine_type_df.head()"
   ]
  },
  {
   "cell_type": "code",
   "execution_count": 24,
   "id": "9fbdabc1",
   "metadata": {},
   "outputs": [
    {
     "data": {
      "text/html": [
       "\n",
       "<div id=\"altair-viz-4277301ddc6e4318b70e41e5fc343aa2\"></div>\n",
       "<script type=\"text/javascript\">\n",
       "  (function(spec, embedOpt){\n",
       "    let outputDiv = document.currentScript.previousElementSibling;\n",
       "    if (outputDiv.id !== \"altair-viz-4277301ddc6e4318b70e41e5fc343aa2\") {\n",
       "      outputDiv = document.getElementById(\"altair-viz-4277301ddc6e4318b70e41e5fc343aa2\");\n",
       "    }\n",
       "    const paths = {\n",
       "      \"vega\": \"https://cdn.jsdelivr.net/npm//vega@5?noext\",\n",
       "      \"vega-lib\": \"https://cdn.jsdelivr.net/npm//vega-lib?noext\",\n",
       "      \"vega-lite\": \"https://cdn.jsdelivr.net/npm//vega-lite@4.8.1?noext\",\n",
       "      \"vega-embed\": \"https://cdn.jsdelivr.net/npm//vega-embed@6?noext\",\n",
       "    };\n",
       "\n",
       "    function loadScript(lib) {\n",
       "      return new Promise(function(resolve, reject) {\n",
       "        var s = document.createElement('script');\n",
       "        s.src = paths[lib];\n",
       "        s.async = true;\n",
       "        s.onload = () => resolve(paths[lib]);\n",
       "        s.onerror = () => reject(`Error loading script: ${paths[lib]}`);\n",
       "        document.getElementsByTagName(\"head\")[0].appendChild(s);\n",
       "      });\n",
       "    }\n",
       "\n",
       "    function showError(err) {\n",
       "      outputDiv.innerHTML = `<div class=\"error\" style=\"color:red;\">${err}</div>`;\n",
       "      throw err;\n",
       "    }\n",
       "\n",
       "    function displayChart(vegaEmbed) {\n",
       "      vegaEmbed(outputDiv, spec, embedOpt)\n",
       "        .catch(err => showError(`Javascript Error: ${err.message}<br>This usually means there's a typo in your chart specification. See the javascript console for the full traceback.`));\n",
       "    }\n",
       "\n",
       "    if(typeof define === \"function\" && define.amd) {\n",
       "      requirejs.config({paths});\n",
       "      require([\"vega-embed\"], displayChart, err => showError(`Error loading script: ${err.message}`));\n",
       "    } else if (typeof vegaEmbed === \"function\") {\n",
       "      displayChart(vegaEmbed);\n",
       "    } else {\n",
       "      loadScript(\"vega\")\n",
       "        .then(() => loadScript(\"vega-lite\"))\n",
       "        .then(() => loadScript(\"vega-embed\"))\n",
       "        .catch(showError)\n",
       "        .then(() => displayChart(vegaEmbed));\n",
       "    }\n",
       "  })({\"usermeta\": {\"embedOptions\": {\"theme\": \"dark\"}}, \"config\": {\"view\": {\"continuousWidth\": 400, \"continuousHeight\": 300}, \"background\": \"black\"}, \"data\": {\"name\": \"data-71a104bd3d09054671f4add45efe8c51\"}, \"mark\": \"bar\", \"encoding\": {\"color\": {\"type\": \"nominal\", \"field\": \"Vaccine\", \"scale\": {\"scheme\": \"set2\"}}, \"x\": {\"type\": \"quantitative\", \"field\": \"Doses\"}, \"y\": {\"type\": \"nominal\", \"field\": \"Vaccine\"}}, \"height\": 100, \"width\": 600, \"$schema\": \"https://vega.github.io/schema/vega-lite/v4.8.1.json\", \"datasets\": {\"data-71a104bd3d09054671f4add45efe8c51\": [{\"Vaccine\": \"Covaxin\", \"Doses\": 397698815.0}, {\"Vaccine\": \"CoviShield\", \"Doses\": 4058211198.0}]}}, {\"mode\": \"vega-lite\"});\n",
       "</script>"
      ],
      "text/plain": [
       "alt.Chart(...)"
      ]
     },
     "execution_count": 24,
     "metadata": {},
     "output_type": "execute_result"
    }
   ],
   "source": [
    "alt.Chart(vaccine_type_df).mark_bar().encode(\n",
    "    x='Doses:Q',y='Vaccine:N',\n",
    "    color=alt.Color('Vaccine',scale=alt.Scale(scheme='set2'))\n",
    ").properties(height=100,width=600).configure(background='black')"
   ]
  },
  {
   "cell_type": "markdown",
   "id": "a16c2e92",
   "metadata": {},
   "source": [
    "I hope this walkthrough has piqued your interest as well in Altair to experiment on many other features present in Altair. :wink:"
   ]
  }
 ],
 "metadata": {
  "kernelspec": {
   "display_name": "Python 3",
   "language": "python",
   "name": "python3"
  },
  "language_info": {
   "codemirror_mode": {
    "name": "ipython",
    "version": 3
   },
   "file_extension": ".py",
   "mimetype": "text/x-python",
   "name": "python",
   "nbconvert_exporter": "python",
   "pygments_lexer": "ipython3",
   "version": "3.8.8"
  }
 },
 "nbformat": 4,
 "nbformat_minor": 5
}
